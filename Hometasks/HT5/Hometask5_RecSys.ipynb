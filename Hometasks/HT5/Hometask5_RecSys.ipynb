{
  "cells": [
    {
      "cell_type": "markdown",
      "metadata": {
        "id": "ef6180WvQbD-"
      },
      "source": [
        "# Введение\n",
        "\n",
        "В этом задании Вы продолжите работать с данными из семинара [Articles Sharing and Reading from CI&T Deskdrop](https://www.kaggle.com/gspmoreira/articles-sharing-reading-from-cit-deskdrop)."
      ]
    },
    {
      "cell_type": "markdown",
      "metadata": {
        "id": "nSV_mxD9TciM"
      },
      "source": [
        "# Загрузка и предобработка данных"
      ]
    },
    {
      "cell_type": "code",
      "execution_count": 210,
      "metadata": {
        "id": "M5mH3ZolSlcm"
      },
      "outputs": [],
      "source": [
        "import math\n",
        "\n",
        "import numpy as np\n",
        "import pandas as pd"
      ]
    },
    {
      "cell_type": "markdown",
      "metadata": {
        "id": "PRQVuRvER0hd"
      },
      "source": [
        "Загрузим данные и проведем предобработку данных как на семинаре."
      ]
    },
    {
      "cell_type": "code",
      "source": [
        "!mkdir -p ~/.kaggle # creating .kaggle folder where the key should be placed\n",
        "!cp kaggle.json ~/.kaggle/ # move the key to the folder"
      ],
      "metadata": {
        "id": "cBKi87ekd6Oc"
      },
      "execution_count": 211,
      "outputs": []
    },
    {
      "cell_type": "code",
      "execution_count": 256,
      "metadata": {
        "id": "8E837g9kQTbb",
        "colab": {
          "base_uri": "https://localhost:8080/"
        },
        "outputId": "d86e3c6f-5c81-49c0-ac62-48e1470aef7d"
      },
      "outputs": [
        {
          "output_type": "stream",
          "name": "stdout",
          "text": [
            "Warning: Your Kaggle API key is readable by other users on this system! To fix this, you can run 'chmod 600 /root/.kaggle/kaggle.json'\n",
            "Downloading articles-sharing-reading-from-cit-deskdrop.zip to /content\n",
            "  0% 0.00/8.20M [00:00<?, ?B/s]\n",
            "100% 8.20M/8.20M [00:00<00:00, 108MB/s]\n",
            "Archive:  articles-sharing-reading-from-cit-deskdrop.zip\n",
            "  inflating: articles/shared_articles.csv  \n",
            "  inflating: articles/users_interactions.csv  \n"
          ]
        }
      ],
      "source": [
        "!kaggle datasets download -d gspmoreira/articles-sharing-reading-from-cit-deskdrop\n",
        "!unzip articles-sharing-reading-from-cit-deskdrop.zip -d articles"
      ]
    },
    {
      "cell_type": "code",
      "execution_count": 423,
      "metadata": {
        "id": "hdM1xSchR9jt",
        "colab": {
          "base_uri": "https://localhost:8080/",
          "height": 436
        },
        "outputId": "13bca240-ba21-41c5-b229-d466247b7684"
      },
      "outputs": [
        {
          "output_type": "execute_result",
          "data": {
            "text/plain": [
              "    timestamp       eventType            contentId       authorPersonId  \\\n",
              "1  1459193988  CONTENT SHARED -4110354420726924665  4340306774493623681   \n",
              "2  1459194146  CONTENT SHARED -7292285110016212249  4340306774493623681   \n",
              "\n",
              "       authorSessionId authorUserAgent authorRegion authorCountry contentType  \\\n",
              "1  8940341205206233829             NaN          NaN           NaN        HTML   \n",
              "2  8940341205206233829             NaN          NaN           NaN        HTML   \n",
              "\n",
              "                                                 url  \\\n",
              "1  http://www.nytimes.com/2016/03/28/business/dea...   \n",
              "2  http://cointelegraph.com/news/bitcoin-future-w...   \n",
              "\n",
              "                                               title  \\\n",
              "1  Ethereum, a Virtual Currency, Enables Transact...   \n",
              "2  Bitcoin Future: When GBPcoin of Branson Wins O...   \n",
              "\n",
              "                                                text lang  \n",
              "1  All of this work is still very early. The firs...   en  \n",
              "2  The alarm clock wakes me at 8:00 with stream o...   en  "
            ],
            "text/html": [
              "\n",
              "  <div id=\"df-840e8d87-b48e-4bc5-9b50-9a98d01544be\">\n",
              "    <div class=\"colab-df-container\">\n",
              "      <div>\n",
              "<style scoped>\n",
              "    .dataframe tbody tr th:only-of-type {\n",
              "        vertical-align: middle;\n",
              "    }\n",
              "\n",
              "    .dataframe tbody tr th {\n",
              "        vertical-align: top;\n",
              "    }\n",
              "\n",
              "    .dataframe thead th {\n",
              "        text-align: right;\n",
              "    }\n",
              "</style>\n",
              "<table border=\"1\" class=\"dataframe\">\n",
              "  <thead>\n",
              "    <tr style=\"text-align: right;\">\n",
              "      <th></th>\n",
              "      <th>timestamp</th>\n",
              "      <th>eventType</th>\n",
              "      <th>contentId</th>\n",
              "      <th>authorPersonId</th>\n",
              "      <th>authorSessionId</th>\n",
              "      <th>authorUserAgent</th>\n",
              "      <th>authorRegion</th>\n",
              "      <th>authorCountry</th>\n",
              "      <th>contentType</th>\n",
              "      <th>url</th>\n",
              "      <th>title</th>\n",
              "      <th>text</th>\n",
              "      <th>lang</th>\n",
              "    </tr>\n",
              "  </thead>\n",
              "  <tbody>\n",
              "    <tr>\n",
              "      <th>1</th>\n",
              "      <td>1459193988</td>\n",
              "      <td>CONTENT SHARED</td>\n",
              "      <td>-4110354420726924665</td>\n",
              "      <td>4340306774493623681</td>\n",
              "      <td>8940341205206233829</td>\n",
              "      <td>NaN</td>\n",
              "      <td>NaN</td>\n",
              "      <td>NaN</td>\n",
              "      <td>HTML</td>\n",
              "      <td>http://www.nytimes.com/2016/03/28/business/dea...</td>\n",
              "      <td>Ethereum, a Virtual Currency, Enables Transact...</td>\n",
              "      <td>All of this work is still very early. The firs...</td>\n",
              "      <td>en</td>\n",
              "    </tr>\n",
              "    <tr>\n",
              "      <th>2</th>\n",
              "      <td>1459194146</td>\n",
              "      <td>CONTENT SHARED</td>\n",
              "      <td>-7292285110016212249</td>\n",
              "      <td>4340306774493623681</td>\n",
              "      <td>8940341205206233829</td>\n",
              "      <td>NaN</td>\n",
              "      <td>NaN</td>\n",
              "      <td>NaN</td>\n",
              "      <td>HTML</td>\n",
              "      <td>http://cointelegraph.com/news/bitcoin-future-w...</td>\n",
              "      <td>Bitcoin Future: When GBPcoin of Branson Wins O...</td>\n",
              "      <td>The alarm clock wakes me at 8:00 with stream o...</td>\n",
              "      <td>en</td>\n",
              "    </tr>\n",
              "  </tbody>\n",
              "</table>\n",
              "</div>\n",
              "      <button class=\"colab-df-convert\" onclick=\"convertToInteractive('df-840e8d87-b48e-4bc5-9b50-9a98d01544be')\"\n",
              "              title=\"Convert this dataframe to an interactive table.\"\n",
              "              style=\"display:none;\">\n",
              "        \n",
              "  <svg xmlns=\"http://www.w3.org/2000/svg\" height=\"24px\"viewBox=\"0 0 24 24\"\n",
              "       width=\"24px\">\n",
              "    <path d=\"M0 0h24v24H0V0z\" fill=\"none\"/>\n",
              "    <path d=\"M18.56 5.44l.94 2.06.94-2.06 2.06-.94-2.06-.94-.94-2.06-.94 2.06-2.06.94zm-11 1L8.5 8.5l.94-2.06 2.06-.94-2.06-.94L8.5 2.5l-.94 2.06-2.06.94zm10 10l.94 2.06.94-2.06 2.06-.94-2.06-.94-.94-2.06-.94 2.06-2.06.94z\"/><path d=\"M17.41 7.96l-1.37-1.37c-.4-.4-.92-.59-1.43-.59-.52 0-1.04.2-1.43.59L10.3 9.45l-7.72 7.72c-.78.78-.78 2.05 0 2.83L4 21.41c.39.39.9.59 1.41.59.51 0 1.02-.2 1.41-.59l7.78-7.78 2.81-2.81c.8-.78.8-2.07 0-2.86zM5.41 20L4 18.59l7.72-7.72 1.47 1.35L5.41 20z\"/>\n",
              "  </svg>\n",
              "      </button>\n",
              "      \n",
              "  <style>\n",
              "    .colab-df-container {\n",
              "      display:flex;\n",
              "      flex-wrap:wrap;\n",
              "      gap: 12px;\n",
              "    }\n",
              "\n",
              "    .colab-df-convert {\n",
              "      background-color: #E8F0FE;\n",
              "      border: none;\n",
              "      border-radius: 50%;\n",
              "      cursor: pointer;\n",
              "      display: none;\n",
              "      fill: #1967D2;\n",
              "      height: 32px;\n",
              "      padding: 0 0 0 0;\n",
              "      width: 32px;\n",
              "    }\n",
              "\n",
              "    .colab-df-convert:hover {\n",
              "      background-color: #E2EBFA;\n",
              "      box-shadow: 0px 1px 2px rgba(60, 64, 67, 0.3), 0px 1px 3px 1px rgba(60, 64, 67, 0.15);\n",
              "      fill: #174EA6;\n",
              "    }\n",
              "\n",
              "    [theme=dark] .colab-df-convert {\n",
              "      background-color: #3B4455;\n",
              "      fill: #D2E3FC;\n",
              "    }\n",
              "\n",
              "    [theme=dark] .colab-df-convert:hover {\n",
              "      background-color: #434B5C;\n",
              "      box-shadow: 0px 1px 3px 1px rgba(0, 0, 0, 0.15);\n",
              "      filter: drop-shadow(0px 1px 2px rgba(0, 0, 0, 0.3));\n",
              "      fill: #FFFFFF;\n",
              "    }\n",
              "  </style>\n",
              "\n",
              "      <script>\n",
              "        const buttonEl =\n",
              "          document.querySelector('#df-840e8d87-b48e-4bc5-9b50-9a98d01544be button.colab-df-convert');\n",
              "        buttonEl.style.display =\n",
              "          google.colab.kernel.accessAllowed ? 'block' : 'none';\n",
              "\n",
              "        async function convertToInteractive(key) {\n",
              "          const element = document.querySelector('#df-840e8d87-b48e-4bc5-9b50-9a98d01544be');\n",
              "          const dataTable =\n",
              "            await google.colab.kernel.invokeFunction('convertToInteractive',\n",
              "                                                     [key], {});\n",
              "          if (!dataTable) return;\n",
              "\n",
              "          const docLinkHtml = 'Like what you see? Visit the ' +\n",
              "            '<a target=\"_blank\" href=https://colab.research.google.com/notebooks/data_table.ipynb>data table notebook</a>'\n",
              "            + ' to learn more about interactive tables.';\n",
              "          element.innerHTML = '';\n",
              "          dataTable['output_type'] = 'display_data';\n",
              "          await google.colab.output.renderOutput(dataTable, element);\n",
              "          const docLink = document.createElement('div');\n",
              "          docLink.innerHTML = docLinkHtml;\n",
              "          element.appendChild(docLink);\n",
              "        }\n",
              "      </script>\n",
              "    </div>\n",
              "  </div>\n",
              "  "
            ]
          },
          "metadata": {},
          "execution_count": 423
        }
      ],
      "source": [
        "articles_df = pd.read_csv(\"articles/shared_articles.csv\")\n",
        "articles_df = articles_df[articles_df[\"eventType\"] == \"CONTENT SHARED\"]\n",
        "articles_df.head(2)"
      ]
    },
    {
      "cell_type": "code",
      "execution_count": 424,
      "metadata": {
        "id": "KK9wMAkvSjbk",
        "colab": {
          "base_uri": "https://localhost:8080/",
          "height": 208
        },
        "outputId": "79343b3c-ab80-4f10-d189-07f627ab54e7"
      },
      "outputs": [
        {
          "output_type": "execute_result",
          "data": {
            "text/plain": [
              "    timestamp eventType            contentId             personId  \\\n",
              "0  1465413032      VIEW -3499919498720038879 -8845298781299428018   \n",
              "1  1465412560      VIEW  8890720798209849691 -1032019229384696495   \n",
              "\n",
              "             sessionId                                          userAgent  \\\n",
              "0  1264196770339959068                                                NaN   \n",
              "1  3621737643587579081  Mozilla/5.0 (Macintosh; Intel Mac OS X 10_11_2...   \n",
              "\n",
              "  userRegion userCountry  \n",
              "0        NaN         NaN  \n",
              "1         NY          US  "
            ],
            "text/html": [
              "\n",
              "  <div id=\"df-cb996c4e-5a4c-4761-85de-daedabd09257\">\n",
              "    <div class=\"colab-df-container\">\n",
              "      <div>\n",
              "<style scoped>\n",
              "    .dataframe tbody tr th:only-of-type {\n",
              "        vertical-align: middle;\n",
              "    }\n",
              "\n",
              "    .dataframe tbody tr th {\n",
              "        vertical-align: top;\n",
              "    }\n",
              "\n",
              "    .dataframe thead th {\n",
              "        text-align: right;\n",
              "    }\n",
              "</style>\n",
              "<table border=\"1\" class=\"dataframe\">\n",
              "  <thead>\n",
              "    <tr style=\"text-align: right;\">\n",
              "      <th></th>\n",
              "      <th>timestamp</th>\n",
              "      <th>eventType</th>\n",
              "      <th>contentId</th>\n",
              "      <th>personId</th>\n",
              "      <th>sessionId</th>\n",
              "      <th>userAgent</th>\n",
              "      <th>userRegion</th>\n",
              "      <th>userCountry</th>\n",
              "    </tr>\n",
              "  </thead>\n",
              "  <tbody>\n",
              "    <tr>\n",
              "      <th>0</th>\n",
              "      <td>1465413032</td>\n",
              "      <td>VIEW</td>\n",
              "      <td>-3499919498720038879</td>\n",
              "      <td>-8845298781299428018</td>\n",
              "      <td>1264196770339959068</td>\n",
              "      <td>NaN</td>\n",
              "      <td>NaN</td>\n",
              "      <td>NaN</td>\n",
              "    </tr>\n",
              "    <tr>\n",
              "      <th>1</th>\n",
              "      <td>1465412560</td>\n",
              "      <td>VIEW</td>\n",
              "      <td>8890720798209849691</td>\n",
              "      <td>-1032019229384696495</td>\n",
              "      <td>3621737643587579081</td>\n",
              "      <td>Mozilla/5.0 (Macintosh; Intel Mac OS X 10_11_2...</td>\n",
              "      <td>NY</td>\n",
              "      <td>US</td>\n",
              "    </tr>\n",
              "  </tbody>\n",
              "</table>\n",
              "</div>\n",
              "      <button class=\"colab-df-convert\" onclick=\"convertToInteractive('df-cb996c4e-5a4c-4761-85de-daedabd09257')\"\n",
              "              title=\"Convert this dataframe to an interactive table.\"\n",
              "              style=\"display:none;\">\n",
              "        \n",
              "  <svg xmlns=\"http://www.w3.org/2000/svg\" height=\"24px\"viewBox=\"0 0 24 24\"\n",
              "       width=\"24px\">\n",
              "    <path d=\"M0 0h24v24H0V0z\" fill=\"none\"/>\n",
              "    <path d=\"M18.56 5.44l.94 2.06.94-2.06 2.06-.94-2.06-.94-.94-2.06-.94 2.06-2.06.94zm-11 1L8.5 8.5l.94-2.06 2.06-.94-2.06-.94L8.5 2.5l-.94 2.06-2.06.94zm10 10l.94 2.06.94-2.06 2.06-.94-2.06-.94-.94-2.06-.94 2.06-2.06.94z\"/><path d=\"M17.41 7.96l-1.37-1.37c-.4-.4-.92-.59-1.43-.59-.52 0-1.04.2-1.43.59L10.3 9.45l-7.72 7.72c-.78.78-.78 2.05 0 2.83L4 21.41c.39.39.9.59 1.41.59.51 0 1.02-.2 1.41-.59l7.78-7.78 2.81-2.81c.8-.78.8-2.07 0-2.86zM5.41 20L4 18.59l7.72-7.72 1.47 1.35L5.41 20z\"/>\n",
              "  </svg>\n",
              "      </button>\n",
              "      \n",
              "  <style>\n",
              "    .colab-df-container {\n",
              "      display:flex;\n",
              "      flex-wrap:wrap;\n",
              "      gap: 12px;\n",
              "    }\n",
              "\n",
              "    .colab-df-convert {\n",
              "      background-color: #E8F0FE;\n",
              "      border: none;\n",
              "      border-radius: 50%;\n",
              "      cursor: pointer;\n",
              "      display: none;\n",
              "      fill: #1967D2;\n",
              "      height: 32px;\n",
              "      padding: 0 0 0 0;\n",
              "      width: 32px;\n",
              "    }\n",
              "\n",
              "    .colab-df-convert:hover {\n",
              "      background-color: #E2EBFA;\n",
              "      box-shadow: 0px 1px 2px rgba(60, 64, 67, 0.3), 0px 1px 3px 1px rgba(60, 64, 67, 0.15);\n",
              "      fill: #174EA6;\n",
              "    }\n",
              "\n",
              "    [theme=dark] .colab-df-convert {\n",
              "      background-color: #3B4455;\n",
              "      fill: #D2E3FC;\n",
              "    }\n",
              "\n",
              "    [theme=dark] .colab-df-convert:hover {\n",
              "      background-color: #434B5C;\n",
              "      box-shadow: 0px 1px 3px 1px rgba(0, 0, 0, 0.15);\n",
              "      filter: drop-shadow(0px 1px 2px rgba(0, 0, 0, 0.3));\n",
              "      fill: #FFFFFF;\n",
              "    }\n",
              "  </style>\n",
              "\n",
              "      <script>\n",
              "        const buttonEl =\n",
              "          document.querySelector('#df-cb996c4e-5a4c-4761-85de-daedabd09257 button.colab-df-convert');\n",
              "        buttonEl.style.display =\n",
              "          google.colab.kernel.accessAllowed ? 'block' : 'none';\n",
              "\n",
              "        async function convertToInteractive(key) {\n",
              "          const element = document.querySelector('#df-cb996c4e-5a4c-4761-85de-daedabd09257');\n",
              "          const dataTable =\n",
              "            await google.colab.kernel.invokeFunction('convertToInteractive',\n",
              "                                                     [key], {});\n",
              "          if (!dataTable) return;\n",
              "\n",
              "          const docLinkHtml = 'Like what you see? Visit the ' +\n",
              "            '<a target=\"_blank\" href=https://colab.research.google.com/notebooks/data_table.ipynb>data table notebook</a>'\n",
              "            + ' to learn more about interactive tables.';\n",
              "          element.innerHTML = '';\n",
              "          dataTable['output_type'] = 'display_data';\n",
              "          await google.colab.output.renderOutput(dataTable, element);\n",
              "          const docLink = document.createElement('div');\n",
              "          docLink.innerHTML = docLinkHtml;\n",
              "          element.appendChild(docLink);\n",
              "        }\n",
              "      </script>\n",
              "    </div>\n",
              "  </div>\n",
              "  "
            ]
          },
          "metadata": {},
          "execution_count": 424
        }
      ],
      "source": [
        "interactions_df = pd.read_csv(\"articles/users_interactions.csv\")\n",
        "interactions_df.head(2)"
      ]
    },
    {
      "cell_type": "code",
      "execution_count": 425,
      "metadata": {
        "id": "5nQScdSTTzNG"
      },
      "outputs": [],
      "source": [
        "interactions_df.personId = interactions_df.personId.astype(str)\n",
        "interactions_df.contentId = interactions_df.contentId.astype(str)\n",
        "articles_df.contentId = articles_df.contentId.astype(str)"
      ]
    },
    {
      "cell_type": "code",
      "execution_count": 426,
      "metadata": {
        "id": "eu6R9rDQT2P4"
      },
      "outputs": [],
      "source": [
        "# зададим словарь определяющий силу взаимодействия\n",
        "event_type_strength = {\n",
        "    \"VIEW\": 1.0,\n",
        "    \"LIKE\": 2.0,\n",
        "    \"BOOKMARK\": 2.5,\n",
        "    \"FOLLOW\": 3.0,\n",
        "    \"COMMENT CREATED\": 4.0,\n",
        "}\n",
        "\n",
        "interactions_df[\"eventStrength\"] = interactions_df.eventType.apply(\n",
        "    lambda x: event_type_strength[x]\n",
        ")"
      ]
    },
    {
      "cell_type": "markdown",
      "metadata": {
        "id": "ATO5PRRwUkQ0"
      },
      "source": [
        "Оставляем только тех пользователей, которые произамодействовали более чем с пятью статьями."
      ]
    },
    {
      "cell_type": "code",
      "execution_count": 427,
      "metadata": {
        "id": "d-0HoboYUBm5",
        "colab": {
          "base_uri": "https://localhost:8080/"
        },
        "outputId": "422cea4c-35e2-474a-e6d7-b9b41d891287"
      },
      "outputs": [
        {
          "output_type": "stream",
          "name": "stdout",
          "text": [
            "# users: 1895\n",
            "# users with at least 5 interactions: 1140\n"
          ]
        }
      ],
      "source": [
        "users_interactions_count_df = (\n",
        "    interactions_df.groupby([\"personId\", \"contentId\"])\n",
        "    .first()\n",
        "    .reset_index()\n",
        "    .groupby(\"personId\")\n",
        "    .size()\n",
        ")\n",
        "print(\"# users:\", len(users_interactions_count_df))\n",
        "\n",
        "users_with_enough_interactions_df = users_interactions_count_df[\n",
        "    users_interactions_count_df >= 5\n",
        "].reset_index()[[\"personId\"]]\n",
        "print(\"# users with at least 5 interactions:\", len(users_with_enough_interactions_df))"
      ]
    },
    {
      "cell_type": "markdown",
      "metadata": {
        "id": "gQagI3DHUuX5"
      },
      "source": [
        "Оставляем только те взаимодействия, которые относятся к отфильтрованным пользователям."
      ]
    },
    {
      "cell_type": "code",
      "execution_count": 428,
      "metadata": {
        "id": "34rrdGdpUFgk"
      },
      "outputs": [],
      "source": [
        "interactions_from_selected_users_df = interactions_df.loc[\n",
        "    np.in1d(interactions_df.personId, users_with_enough_interactions_df)\n",
        "]"
      ]
    },
    {
      "cell_type": "code",
      "execution_count": 429,
      "metadata": {
        "id": "Hd3VS_BgU9HN",
        "colab": {
          "base_uri": "https://localhost:8080/"
        },
        "outputId": "608b3d2a-0026-46ad-8560-d81c0cba5bd9"
      },
      "outputs": [
        {
          "output_type": "stream",
          "name": "stdout",
          "text": [
            "# interactions before: (72312, 9)\n",
            "# interactions after: (69868, 9)\n"
          ]
        }
      ],
      "source": [
        "print(f\"# interactions before: {interactions_df.shape}\")\n",
        "print(f\"# interactions after: {interactions_from_selected_users_df.shape}\")"
      ]
    },
    {
      "cell_type": "markdown",
      "metadata": {
        "id": "FYpRiFkQVR6B"
      },
      "source": [
        "Объединяем все взаимодействия пользователя по каждой статье и сглаживаем полученный результат, взяв от него логарифм."
      ]
    },
    {
      "cell_type": "code",
      "execution_count": 430,
      "metadata": {
        "id": "mtPtAehKVEUu",
        "colab": {
          "base_uri": "https://localhost:8080/",
          "height": 206
        },
        "outputId": "ee138224-690d-403e-8986-8a665b441a61"
      },
      "outputs": [
        {
          "output_type": "execute_result",
          "data": {
            "text/plain": [
              "               personId             contentId  eventStrength  last_timestamp\n",
              "0  -1007001694607905623  -5065077552540450930       1.000000      1470395911\n",
              "1  -1007001694607905623  -6623581327558800021       1.000000      1487240080\n",
              "2  -1007001694607905623   -793729620925729327       1.000000      1472834892\n",
              "3  -1007001694607905623   1469580151036142903       1.000000      1487240062\n",
              "4  -1007001694607905623   7270966256391553686       1.584963      1485994324"
            ],
            "text/html": [
              "\n",
              "  <div id=\"df-fc33d3d0-dd0a-41d2-b62a-4a8e47ab44a6\">\n",
              "    <div class=\"colab-df-container\">\n",
              "      <div>\n",
              "<style scoped>\n",
              "    .dataframe tbody tr th:only-of-type {\n",
              "        vertical-align: middle;\n",
              "    }\n",
              "\n",
              "    .dataframe tbody tr th {\n",
              "        vertical-align: top;\n",
              "    }\n",
              "\n",
              "    .dataframe thead th {\n",
              "        text-align: right;\n",
              "    }\n",
              "</style>\n",
              "<table border=\"1\" class=\"dataframe\">\n",
              "  <thead>\n",
              "    <tr style=\"text-align: right;\">\n",
              "      <th></th>\n",
              "      <th>personId</th>\n",
              "      <th>contentId</th>\n",
              "      <th>eventStrength</th>\n",
              "      <th>last_timestamp</th>\n",
              "    </tr>\n",
              "  </thead>\n",
              "  <tbody>\n",
              "    <tr>\n",
              "      <th>0</th>\n",
              "      <td>-1007001694607905623</td>\n",
              "      <td>-5065077552540450930</td>\n",
              "      <td>1.000000</td>\n",
              "      <td>1470395911</td>\n",
              "    </tr>\n",
              "    <tr>\n",
              "      <th>1</th>\n",
              "      <td>-1007001694607905623</td>\n",
              "      <td>-6623581327558800021</td>\n",
              "      <td>1.000000</td>\n",
              "      <td>1487240080</td>\n",
              "    </tr>\n",
              "    <tr>\n",
              "      <th>2</th>\n",
              "      <td>-1007001694607905623</td>\n",
              "      <td>-793729620925729327</td>\n",
              "      <td>1.000000</td>\n",
              "      <td>1472834892</td>\n",
              "    </tr>\n",
              "    <tr>\n",
              "      <th>3</th>\n",
              "      <td>-1007001694607905623</td>\n",
              "      <td>1469580151036142903</td>\n",
              "      <td>1.000000</td>\n",
              "      <td>1487240062</td>\n",
              "    </tr>\n",
              "    <tr>\n",
              "      <th>4</th>\n",
              "      <td>-1007001694607905623</td>\n",
              "      <td>7270966256391553686</td>\n",
              "      <td>1.584963</td>\n",
              "      <td>1485994324</td>\n",
              "    </tr>\n",
              "  </tbody>\n",
              "</table>\n",
              "</div>\n",
              "      <button class=\"colab-df-convert\" onclick=\"convertToInteractive('df-fc33d3d0-dd0a-41d2-b62a-4a8e47ab44a6')\"\n",
              "              title=\"Convert this dataframe to an interactive table.\"\n",
              "              style=\"display:none;\">\n",
              "        \n",
              "  <svg xmlns=\"http://www.w3.org/2000/svg\" height=\"24px\"viewBox=\"0 0 24 24\"\n",
              "       width=\"24px\">\n",
              "    <path d=\"M0 0h24v24H0V0z\" fill=\"none\"/>\n",
              "    <path d=\"M18.56 5.44l.94 2.06.94-2.06 2.06-.94-2.06-.94-.94-2.06-.94 2.06-2.06.94zm-11 1L8.5 8.5l.94-2.06 2.06-.94-2.06-.94L8.5 2.5l-.94 2.06-2.06.94zm10 10l.94 2.06.94-2.06 2.06-.94-2.06-.94-.94-2.06-.94 2.06-2.06.94z\"/><path d=\"M17.41 7.96l-1.37-1.37c-.4-.4-.92-.59-1.43-.59-.52 0-1.04.2-1.43.59L10.3 9.45l-7.72 7.72c-.78.78-.78 2.05 0 2.83L4 21.41c.39.39.9.59 1.41.59.51 0 1.02-.2 1.41-.59l7.78-7.78 2.81-2.81c.8-.78.8-2.07 0-2.86zM5.41 20L4 18.59l7.72-7.72 1.47 1.35L5.41 20z\"/>\n",
              "  </svg>\n",
              "      </button>\n",
              "      \n",
              "  <style>\n",
              "    .colab-df-container {\n",
              "      display:flex;\n",
              "      flex-wrap:wrap;\n",
              "      gap: 12px;\n",
              "    }\n",
              "\n",
              "    .colab-df-convert {\n",
              "      background-color: #E8F0FE;\n",
              "      border: none;\n",
              "      border-radius: 50%;\n",
              "      cursor: pointer;\n",
              "      display: none;\n",
              "      fill: #1967D2;\n",
              "      height: 32px;\n",
              "      padding: 0 0 0 0;\n",
              "      width: 32px;\n",
              "    }\n",
              "\n",
              "    .colab-df-convert:hover {\n",
              "      background-color: #E2EBFA;\n",
              "      box-shadow: 0px 1px 2px rgba(60, 64, 67, 0.3), 0px 1px 3px 1px rgba(60, 64, 67, 0.15);\n",
              "      fill: #174EA6;\n",
              "    }\n",
              "\n",
              "    [theme=dark] .colab-df-convert {\n",
              "      background-color: #3B4455;\n",
              "      fill: #D2E3FC;\n",
              "    }\n",
              "\n",
              "    [theme=dark] .colab-df-convert:hover {\n",
              "      background-color: #434B5C;\n",
              "      box-shadow: 0px 1px 3px 1px rgba(0, 0, 0, 0.15);\n",
              "      filter: drop-shadow(0px 1px 2px rgba(0, 0, 0, 0.3));\n",
              "      fill: #FFFFFF;\n",
              "    }\n",
              "  </style>\n",
              "\n",
              "      <script>\n",
              "        const buttonEl =\n",
              "          document.querySelector('#df-fc33d3d0-dd0a-41d2-b62a-4a8e47ab44a6 button.colab-df-convert');\n",
              "        buttonEl.style.display =\n",
              "          google.colab.kernel.accessAllowed ? 'block' : 'none';\n",
              "\n",
              "        async function convertToInteractive(key) {\n",
              "          const element = document.querySelector('#df-fc33d3d0-dd0a-41d2-b62a-4a8e47ab44a6');\n",
              "          const dataTable =\n",
              "            await google.colab.kernel.invokeFunction('convertToInteractive',\n",
              "                                                     [key], {});\n",
              "          if (!dataTable) return;\n",
              "\n",
              "          const docLinkHtml = 'Like what you see? Visit the ' +\n",
              "            '<a target=\"_blank\" href=https://colab.research.google.com/notebooks/data_table.ipynb>data table notebook</a>'\n",
              "            + ' to learn more about interactive tables.';\n",
              "          element.innerHTML = '';\n",
              "          dataTable['output_type'] = 'display_data';\n",
              "          await google.colab.output.renderOutput(dataTable, element);\n",
              "          const docLink = document.createElement('div');\n",
              "          docLink.innerHTML = docLinkHtml;\n",
              "          element.appendChild(docLink);\n",
              "        }\n",
              "      </script>\n",
              "    </div>\n",
              "  </div>\n",
              "  "
            ]
          },
          "metadata": {},
          "execution_count": 430
        }
      ],
      "source": [
        "def smooth_user_preference(x):\n",
        "    return math.log(1 + x, 2)\n",
        "\n",
        "\n",
        "interactions_full_df = (\n",
        "    interactions_from_selected_users_df.groupby([\"personId\", \"contentId\"])\n",
        "    .eventStrength.sum()\n",
        "    .apply(smooth_user_preference)\n",
        "    .reset_index()\n",
        "    .set_index([\"personId\", \"contentId\"])\n",
        ")\n",
        "interactions_full_df[\"last_timestamp\"] = interactions_from_selected_users_df.groupby(\n",
        "    [\"personId\", \"contentId\"]\n",
        ")[\"timestamp\"].last()\n",
        "\n",
        "interactions_full_df = interactions_full_df.reset_index()\n",
        "interactions_full_df.head(5)"
      ]
    },
    {
      "cell_type": "markdown",
      "source": [
        "Почистим данные от не лишних статей"
      ],
      "metadata": {
        "id": "LmmuUMSpqkq2"
      }
    },
    {
      "cell_type": "code",
      "source": [
        "commonContentIds = set(interactions_full_df['contentId']) & set(articles_df['contentId'])"
      ],
      "metadata": {
        "id": "W-vulTFXn5_F"
      },
      "execution_count": 431,
      "outputs": []
    },
    {
      "cell_type": "code",
      "source": [
        "interactions_full_df.drop(interactions_full_df[~interactions_full_df['contentId'].isin(commonContentIds)].index, inplace=True)"
      ],
      "metadata": {
        "id": "el4WJtjbnqQR"
      },
      "execution_count": 432,
      "outputs": []
    },
    {
      "cell_type": "code",
      "source": [
        "articles_df.drop(articles_df[~articles_df['contentId'].isin(commonContentIds)].index, inplace=True)"
      ],
      "metadata": {
        "id": "HQPKn2ECqcj3"
      },
      "execution_count": 433,
      "outputs": []
    },
    {
      "cell_type": "markdown",
      "metadata": {
        "id": "ODJYMtnNWM5w"
      },
      "source": [
        "Разобьём выборку на обучение и контроль по времени."
      ]
    },
    {
      "cell_type": "code",
      "execution_count": 434,
      "metadata": {
        "id": "3F2CfAwoVrfo",
        "colab": {
          "base_uri": "https://localhost:8080/",
          "height": 459
        },
        "outputId": "ef864f82-5d29-4a83-dba2-03c8dea648d6"
      },
      "outputs": [
        {
          "output_type": "stream",
          "name": "stdout",
          "text": [
            "# interactions on Train set: 29302\n",
            "# interactions on Test set: 9777\n"
          ]
        },
        {
          "output_type": "execute_result",
          "data": {
            "text/plain": [
              "                   personId             contentId  eventStrength  \\\n",
              "0      -1007001694607905623  -5065077552540450930            1.0   \n",
              "2      -1007001694607905623   -793729620925729327            1.0   \n",
              "6      -1032019229384696495  -1006791494035379303            1.0   \n",
              "7      -1032019229384696495  -1039912738963181810            1.0   \n",
              "8      -1032019229384696495  -1081723567492738167            2.0   \n",
              "...                     ...                   ...            ...   \n",
              "39099    997469202936578234   9112765177685685246            2.0   \n",
              "39100    998688566268269815  -1255189867397298842            1.0   \n",
              "39101    998688566268269815   -401664538366009049            1.0   \n",
              "39103    998688566268269815   6881796783400625893            1.0   \n",
              "39105    998688566268269815    739747367187387064            1.0   \n",
              "\n",
              "       last_timestamp  \n",
              "0          1470395911  \n",
              "2          1472834892  \n",
              "6          1469129122  \n",
              "7          1459376415  \n",
              "8          1464054093  \n",
              "...               ...  \n",
              "39099      1472479493  \n",
              "39100      1474567164  \n",
              "39101      1474567449  \n",
              "39103      1474567675  \n",
              "39105      1474567514  \n",
              "\n",
              "[29302 rows x 4 columns]"
            ],
            "text/html": [
              "\n",
              "  <div id=\"df-4ca3fc82-f20d-4697-b566-c50a877a5d6d\">\n",
              "    <div class=\"colab-df-container\">\n",
              "      <div>\n",
              "<style scoped>\n",
              "    .dataframe tbody tr th:only-of-type {\n",
              "        vertical-align: middle;\n",
              "    }\n",
              "\n",
              "    .dataframe tbody tr th {\n",
              "        vertical-align: top;\n",
              "    }\n",
              "\n",
              "    .dataframe thead th {\n",
              "        text-align: right;\n",
              "    }\n",
              "</style>\n",
              "<table border=\"1\" class=\"dataframe\">\n",
              "  <thead>\n",
              "    <tr style=\"text-align: right;\">\n",
              "      <th></th>\n",
              "      <th>personId</th>\n",
              "      <th>contentId</th>\n",
              "      <th>eventStrength</th>\n",
              "      <th>last_timestamp</th>\n",
              "    </tr>\n",
              "  </thead>\n",
              "  <tbody>\n",
              "    <tr>\n",
              "      <th>0</th>\n",
              "      <td>-1007001694607905623</td>\n",
              "      <td>-5065077552540450930</td>\n",
              "      <td>1.0</td>\n",
              "      <td>1470395911</td>\n",
              "    </tr>\n",
              "    <tr>\n",
              "      <th>2</th>\n",
              "      <td>-1007001694607905623</td>\n",
              "      <td>-793729620925729327</td>\n",
              "      <td>1.0</td>\n",
              "      <td>1472834892</td>\n",
              "    </tr>\n",
              "    <tr>\n",
              "      <th>6</th>\n",
              "      <td>-1032019229384696495</td>\n",
              "      <td>-1006791494035379303</td>\n",
              "      <td>1.0</td>\n",
              "      <td>1469129122</td>\n",
              "    </tr>\n",
              "    <tr>\n",
              "      <th>7</th>\n",
              "      <td>-1032019229384696495</td>\n",
              "      <td>-1039912738963181810</td>\n",
              "      <td>1.0</td>\n",
              "      <td>1459376415</td>\n",
              "    </tr>\n",
              "    <tr>\n",
              "      <th>8</th>\n",
              "      <td>-1032019229384696495</td>\n",
              "      <td>-1081723567492738167</td>\n",
              "      <td>2.0</td>\n",
              "      <td>1464054093</td>\n",
              "    </tr>\n",
              "    <tr>\n",
              "      <th>...</th>\n",
              "      <td>...</td>\n",
              "      <td>...</td>\n",
              "      <td>...</td>\n",
              "      <td>...</td>\n",
              "    </tr>\n",
              "    <tr>\n",
              "      <th>39099</th>\n",
              "      <td>997469202936578234</td>\n",
              "      <td>9112765177685685246</td>\n",
              "      <td>2.0</td>\n",
              "      <td>1472479493</td>\n",
              "    </tr>\n",
              "    <tr>\n",
              "      <th>39100</th>\n",
              "      <td>998688566268269815</td>\n",
              "      <td>-1255189867397298842</td>\n",
              "      <td>1.0</td>\n",
              "      <td>1474567164</td>\n",
              "    </tr>\n",
              "    <tr>\n",
              "      <th>39101</th>\n",
              "      <td>998688566268269815</td>\n",
              "      <td>-401664538366009049</td>\n",
              "      <td>1.0</td>\n",
              "      <td>1474567449</td>\n",
              "    </tr>\n",
              "    <tr>\n",
              "      <th>39103</th>\n",
              "      <td>998688566268269815</td>\n",
              "      <td>6881796783400625893</td>\n",
              "      <td>1.0</td>\n",
              "      <td>1474567675</td>\n",
              "    </tr>\n",
              "    <tr>\n",
              "      <th>39105</th>\n",
              "      <td>998688566268269815</td>\n",
              "      <td>739747367187387064</td>\n",
              "      <td>1.0</td>\n",
              "      <td>1474567514</td>\n",
              "    </tr>\n",
              "  </tbody>\n",
              "</table>\n",
              "<p>29302 rows × 4 columns</p>\n",
              "</div>\n",
              "      <button class=\"colab-df-convert\" onclick=\"convertToInteractive('df-4ca3fc82-f20d-4697-b566-c50a877a5d6d')\"\n",
              "              title=\"Convert this dataframe to an interactive table.\"\n",
              "              style=\"display:none;\">\n",
              "        \n",
              "  <svg xmlns=\"http://www.w3.org/2000/svg\" height=\"24px\"viewBox=\"0 0 24 24\"\n",
              "       width=\"24px\">\n",
              "    <path d=\"M0 0h24v24H0V0z\" fill=\"none\"/>\n",
              "    <path d=\"M18.56 5.44l.94 2.06.94-2.06 2.06-.94-2.06-.94-.94-2.06-.94 2.06-2.06.94zm-11 1L8.5 8.5l.94-2.06 2.06-.94-2.06-.94L8.5 2.5l-.94 2.06-2.06.94zm10 10l.94 2.06.94-2.06 2.06-.94-2.06-.94-.94-2.06-.94 2.06-2.06.94z\"/><path d=\"M17.41 7.96l-1.37-1.37c-.4-.4-.92-.59-1.43-.59-.52 0-1.04.2-1.43.59L10.3 9.45l-7.72 7.72c-.78.78-.78 2.05 0 2.83L4 21.41c.39.39.9.59 1.41.59.51 0 1.02-.2 1.41-.59l7.78-7.78 2.81-2.81c.8-.78.8-2.07 0-2.86zM5.41 20L4 18.59l7.72-7.72 1.47 1.35L5.41 20z\"/>\n",
              "  </svg>\n",
              "      </button>\n",
              "      \n",
              "  <style>\n",
              "    .colab-df-container {\n",
              "      display:flex;\n",
              "      flex-wrap:wrap;\n",
              "      gap: 12px;\n",
              "    }\n",
              "\n",
              "    .colab-df-convert {\n",
              "      background-color: #E8F0FE;\n",
              "      border: none;\n",
              "      border-radius: 50%;\n",
              "      cursor: pointer;\n",
              "      display: none;\n",
              "      fill: #1967D2;\n",
              "      height: 32px;\n",
              "      padding: 0 0 0 0;\n",
              "      width: 32px;\n",
              "    }\n",
              "\n",
              "    .colab-df-convert:hover {\n",
              "      background-color: #E2EBFA;\n",
              "      box-shadow: 0px 1px 2px rgba(60, 64, 67, 0.3), 0px 1px 3px 1px rgba(60, 64, 67, 0.15);\n",
              "      fill: #174EA6;\n",
              "    }\n",
              "\n",
              "    [theme=dark] .colab-df-convert {\n",
              "      background-color: #3B4455;\n",
              "      fill: #D2E3FC;\n",
              "    }\n",
              "\n",
              "    [theme=dark] .colab-df-convert:hover {\n",
              "      background-color: #434B5C;\n",
              "      box-shadow: 0px 1px 3px 1px rgba(0, 0, 0, 0.15);\n",
              "      filter: drop-shadow(0px 1px 2px rgba(0, 0, 0, 0.3));\n",
              "      fill: #FFFFFF;\n",
              "    }\n",
              "  </style>\n",
              "\n",
              "      <script>\n",
              "        const buttonEl =\n",
              "          document.querySelector('#df-4ca3fc82-f20d-4697-b566-c50a877a5d6d button.colab-df-convert');\n",
              "        buttonEl.style.display =\n",
              "          google.colab.kernel.accessAllowed ? 'block' : 'none';\n",
              "\n",
              "        async function convertToInteractive(key) {\n",
              "          const element = document.querySelector('#df-4ca3fc82-f20d-4697-b566-c50a877a5d6d');\n",
              "          const dataTable =\n",
              "            await google.colab.kernel.invokeFunction('convertToInteractive',\n",
              "                                                     [key], {});\n",
              "          if (!dataTable) return;\n",
              "\n",
              "          const docLinkHtml = 'Like what you see? Visit the ' +\n",
              "            '<a target=\"_blank\" href=https://colab.research.google.com/notebooks/data_table.ipynb>data table notebook</a>'\n",
              "            + ' to learn more about interactive tables.';\n",
              "          element.innerHTML = '';\n",
              "          dataTable['output_type'] = 'display_data';\n",
              "          await google.colab.output.renderOutput(dataTable, element);\n",
              "          const docLink = document.createElement('div');\n",
              "          docLink.innerHTML = docLinkHtml;\n",
              "          element.appendChild(docLink);\n",
              "        }\n",
              "      </script>\n",
              "    </div>\n",
              "  </div>\n",
              "  "
            ]
          },
          "metadata": {},
          "execution_count": 434
        }
      ],
      "source": [
        "from sklearn.model_selection import train_test_split\n",
        "\n",
        "split_ts = 1475519530\n",
        "interactions_train_df = interactions_full_df.loc[\n",
        "    interactions_full_df.last_timestamp < split_ts\n",
        "].copy()\n",
        "interactions_test_df = interactions_full_df.loc[\n",
        "    interactions_full_df.last_timestamp >= split_ts\n",
        "].copy()\n",
        "\n",
        "print(f\"# interactions on Train set: {len(interactions_train_df)}\")\n",
        "print(f\"# interactions on Test set: {len(interactions_test_df)}\")\n",
        "\n",
        "interactions_train_df"
      ]
    },
    {
      "cell_type": "markdown",
      "source": [
        "Уберем пользователей которые есть в тесте, но нет в трейне, так как для них иначе будет холодный старт"
      ],
      "metadata": {
        "id": "4QsWlbO6rNrU"
      }
    },
    {
      "cell_type": "code",
      "source": [
        "interactions_test_df.drop(interactions_test_df[~interactions_test_df['personId'].isin(interactions_train_df['personId'])].index, inplace=True)"
      ],
      "metadata": {
        "id": "-brquSwAsIwZ"
      },
      "execution_count": 435,
      "outputs": []
    },
    {
      "cell_type": "markdown",
      "source": [
        "Сделаем маппинг id'шников (необходимо для предикта в LightFM)"
      ],
      "metadata": {
        "id": "uHsMknWdHN9a"
      }
    },
    {
      "cell_type": "code",
      "source": [
        "from sklearn.preprocessing import LabelEncoder\n",
        "\n",
        "labelencoder = LabelEncoder()\n",
        "\n",
        "interactions_train_df['personId_enc'] = labelencoder.fit_transform(interactions_train_df['personId'])\n",
        "interactions_test_df['personId_enc'] = labelencoder.transform(interactions_test_df['personId'])\n",
        "\n",
        "articles_df['contentId_enc'] = labelencoder.fit_transform(articles_df['contentId'])\n",
        "interactions_train_df['contentId_enc'] = labelencoder.transform(interactions_train_df['contentId'])\n",
        "interactions_test_df['contentId_enc'] = labelencoder.transform(interactions_test_df['contentId'])"
      ],
      "metadata": {
        "id": "1frL_Q1k6_Jh"
      },
      "execution_count": 439,
      "outputs": []
    },
    {
      "cell_type": "markdown",
      "metadata": {
        "id": "h5G3FTYOXLVg"
      },
      "source": [
        "Для удобства подсчёта качества запишем данные в формате, где строка соответствует пользователю, а столбцы будут истинными метками и предсказаниями в виде списков."
      ]
    },
    {
      "cell_type": "code",
      "execution_count": 440,
      "metadata": {
        "id": "RT-_toqfXOa2",
        "colab": {
          "base_uri": "https://localhost:8080/",
          "height": 112
        },
        "outputId": "b20755d1-dfc4-4b07-f63a-467832f42763"
      },
      "outputs": [
        {
          "output_type": "execute_result",
          "data": {
            "text/plain": [
              "               true_train                true_test\n",
              "personId_enc                                      \n",
              "0             [696, 1214]  [980, 1561, 2615, 2864]"
            ],
            "text/html": [
              "\n",
              "  <div id=\"df-3e9663e2-ca70-41e7-bf4c-33efcc2b8d80\">\n",
              "    <div class=\"colab-df-container\">\n",
              "      <div>\n",
              "<style scoped>\n",
              "    .dataframe tbody tr th:only-of-type {\n",
              "        vertical-align: middle;\n",
              "    }\n",
              "\n",
              "    .dataframe tbody tr th {\n",
              "        vertical-align: top;\n",
              "    }\n",
              "\n",
              "    .dataframe thead th {\n",
              "        text-align: right;\n",
              "    }\n",
              "</style>\n",
              "<table border=\"1\" class=\"dataframe\">\n",
              "  <thead>\n",
              "    <tr style=\"text-align: right;\">\n",
              "      <th></th>\n",
              "      <th>true_train</th>\n",
              "      <th>true_test</th>\n",
              "    </tr>\n",
              "    <tr>\n",
              "      <th>personId_enc</th>\n",
              "      <th></th>\n",
              "      <th></th>\n",
              "    </tr>\n",
              "  </thead>\n",
              "  <tbody>\n",
              "    <tr>\n",
              "      <th>0</th>\n",
              "      <td>[696, 1214]</td>\n",
              "      <td>[980, 1561, 2615, 2864]</td>\n",
              "    </tr>\n",
              "  </tbody>\n",
              "</table>\n",
              "</div>\n",
              "      <button class=\"colab-df-convert\" onclick=\"convertToInteractive('df-3e9663e2-ca70-41e7-bf4c-33efcc2b8d80')\"\n",
              "              title=\"Convert this dataframe to an interactive table.\"\n",
              "              style=\"display:none;\">\n",
              "        \n",
              "  <svg xmlns=\"http://www.w3.org/2000/svg\" height=\"24px\"viewBox=\"0 0 24 24\"\n",
              "       width=\"24px\">\n",
              "    <path d=\"M0 0h24v24H0V0z\" fill=\"none\"/>\n",
              "    <path d=\"M18.56 5.44l.94 2.06.94-2.06 2.06-.94-2.06-.94-.94-2.06-.94 2.06-2.06.94zm-11 1L8.5 8.5l.94-2.06 2.06-.94-2.06-.94L8.5 2.5l-.94 2.06-2.06.94zm10 10l.94 2.06.94-2.06 2.06-.94-2.06-.94-.94-2.06-.94 2.06-2.06.94z\"/><path d=\"M17.41 7.96l-1.37-1.37c-.4-.4-.92-.59-1.43-.59-.52 0-1.04.2-1.43.59L10.3 9.45l-7.72 7.72c-.78.78-.78 2.05 0 2.83L4 21.41c.39.39.9.59 1.41.59.51 0 1.02-.2 1.41-.59l7.78-7.78 2.81-2.81c.8-.78.8-2.07 0-2.86zM5.41 20L4 18.59l7.72-7.72 1.47 1.35L5.41 20z\"/>\n",
              "  </svg>\n",
              "      </button>\n",
              "      \n",
              "  <style>\n",
              "    .colab-df-container {\n",
              "      display:flex;\n",
              "      flex-wrap:wrap;\n",
              "      gap: 12px;\n",
              "    }\n",
              "\n",
              "    .colab-df-convert {\n",
              "      background-color: #E8F0FE;\n",
              "      border: none;\n",
              "      border-radius: 50%;\n",
              "      cursor: pointer;\n",
              "      display: none;\n",
              "      fill: #1967D2;\n",
              "      height: 32px;\n",
              "      padding: 0 0 0 0;\n",
              "      width: 32px;\n",
              "    }\n",
              "\n",
              "    .colab-df-convert:hover {\n",
              "      background-color: #E2EBFA;\n",
              "      box-shadow: 0px 1px 2px rgba(60, 64, 67, 0.3), 0px 1px 3px 1px rgba(60, 64, 67, 0.15);\n",
              "      fill: #174EA6;\n",
              "    }\n",
              "\n",
              "    [theme=dark] .colab-df-convert {\n",
              "      background-color: #3B4455;\n",
              "      fill: #D2E3FC;\n",
              "    }\n",
              "\n",
              "    [theme=dark] .colab-df-convert:hover {\n",
              "      background-color: #434B5C;\n",
              "      box-shadow: 0px 1px 3px 1px rgba(0, 0, 0, 0.15);\n",
              "      filter: drop-shadow(0px 1px 2px rgba(0, 0, 0, 0.3));\n",
              "      fill: #FFFFFF;\n",
              "    }\n",
              "  </style>\n",
              "\n",
              "      <script>\n",
              "        const buttonEl =\n",
              "          document.querySelector('#df-3e9663e2-ca70-41e7-bf4c-33efcc2b8d80 button.colab-df-convert');\n",
              "        buttonEl.style.display =\n",
              "          google.colab.kernel.accessAllowed ? 'block' : 'none';\n",
              "\n",
              "        async function convertToInteractive(key) {\n",
              "          const element = document.querySelector('#df-3e9663e2-ca70-41e7-bf4c-33efcc2b8d80');\n",
              "          const dataTable =\n",
              "            await google.colab.kernel.invokeFunction('convertToInteractive',\n",
              "                                                     [key], {});\n",
              "          if (!dataTable) return;\n",
              "\n",
              "          const docLinkHtml = 'Like what you see? Visit the ' +\n",
              "            '<a target=\"_blank\" href=https://colab.research.google.com/notebooks/data_table.ipynb>data table notebook</a>'\n",
              "            + ' to learn more about interactive tables.';\n",
              "          element.innerHTML = '';\n",
              "          dataTable['output_type'] = 'display_data';\n",
              "          await google.colab.output.renderOutput(dataTable, element);\n",
              "          const docLink = document.createElement('div');\n",
              "          docLink.innerHTML = docLinkHtml;\n",
              "          element.appendChild(docLink);\n",
              "        }\n",
              "      </script>\n",
              "    </div>\n",
              "  </div>\n",
              "  "
            ]
          },
          "metadata": {},
          "execution_count": 440
        }
      ],
      "source": [
        "interactions = (\n",
        "    interactions_train_df.groupby(\"personId_enc\")[\"contentId_enc\"]\n",
        "    .agg(lambda x: list(x))\n",
        "    .reset_index()\n",
        "    .rename(columns={\"contentId_enc\": \"true_train\"})\n",
        "    .set_index(\"personId_enc\")\n",
        ")\n",
        "\n",
        "interactions[\"true_test\"] = interactions_test_df.groupby(\"personId_enc\")[\"contentId_enc\"].agg(\n",
        "    lambda x: list(x)\n",
        ")\n",
        "\n",
        "# заполнение пропусков пустыми списками\n",
        "interactions.loc[pd.isnull(interactions.true_test), \"true_test\"] = [\n",
        "    \"\"\n",
        "    for x in range(\n",
        "        len(interactions.loc[pd.isnull(interactions.true_test), \"true_test\"])\n",
        "    )\n",
        "]\n",
        "\n",
        "interactions.head(1)"
      ]
    },
    {
      "cell_type": "markdown",
      "metadata": {
        "id": "-UWDyWKsamSa"
      },
      "source": [
        "# Библиотека LightFM"
      ]
    },
    {
      "cell_type": "markdown",
      "metadata": {
        "id": "L-iXjvdZa25Z"
      },
      "source": [
        "Для рекомендации Вы будете пользоваться библиотекой [LightFM](https://making.lyst.com/lightfm/docs/home.html), в которой реализованы популярные алгоритмы. Для оценивания качества рекомендации, как и на семинаре, будем пользоваться метрикой *precision@10*."
      ]
    },
    {
      "cell_type": "code",
      "execution_count": 226,
      "metadata": {
        "id": "GE_chrYN2lNw",
        "colab": {
          "base_uri": "https://localhost:8080/"
        },
        "outputId": "f62f4983-c0dc-466c-e94d-c561abe55710"
      },
      "outputs": [
        {
          "output_type": "stream",
          "name": "stdout",
          "text": [
            "Looking in indexes: https://pypi.org/simple, https://us-python.pkg.dev/colab-wheels/public/simple/\n",
            "Requirement already satisfied: lightfm in /usr/local/lib/python3.9/dist-packages (1.17)\n",
            "Requirement already satisfied: numpy in /usr/local/lib/python3.9/dist-packages (from lightfm) (1.22.4)\n",
            "Requirement already satisfied: scipy>=0.17.0 in /usr/local/lib/python3.9/dist-packages (from lightfm) (1.10.1)\n",
            "Requirement already satisfied: requests in /usr/local/lib/python3.9/dist-packages (from lightfm) (2.27.1)\n",
            "Requirement already satisfied: scikit-learn in /usr/local/lib/python3.9/dist-packages (from lightfm) (1.2.2)\n",
            "Requirement already satisfied: urllib3<1.27,>=1.21.1 in /usr/local/lib/python3.9/dist-packages (from requests->lightfm) (1.26.15)\n",
            "Requirement already satisfied: certifi>=2017.4.17 in /usr/local/lib/python3.9/dist-packages (from requests->lightfm) (2022.12.7)\n",
            "Requirement already satisfied: idna<4,>=2.5 in /usr/local/lib/python3.9/dist-packages (from requests->lightfm) (3.4)\n",
            "Requirement already satisfied: charset-normalizer~=2.0.0 in /usr/local/lib/python3.9/dist-packages (from requests->lightfm) (2.0.12)\n",
            "Requirement already satisfied: joblib>=1.1.1 in /usr/local/lib/python3.9/dist-packages (from scikit-learn->lightfm) (1.1.1)\n",
            "Requirement already satisfied: threadpoolctl>=2.0.0 in /usr/local/lib/python3.9/dist-packages (from scikit-learn->lightfm) (3.1.0)\n"
          ]
        }
      ],
      "source": [
        "!pip install lightfm"
      ]
    },
    {
      "cell_type": "code",
      "execution_count": 227,
      "metadata": {
        "id": "Qtyn38PZXPLf"
      },
      "outputs": [],
      "source": [
        "from lightfm import LightFM\n",
        "from lightfm.evaluation import precision_at_k"
      ]
    },
    {
      "cell_type": "markdown",
      "metadata": {
        "id": "0CjyGqulcZTf"
      },
      "source": [
        "## Задание 1 (1.5 балла)"
      ]
    },
    {
      "cell_type": "markdown",
      "metadata": {
        "id": "4Sof6V5Dd4h9"
      },
      "source": [
        "Модели в LightFM работают с разреженными матрицами. Создайте разреженные матрицы `data_train` и `data_test` (размером количество пользователей на количество статей), такие что на пересечении строки пользователя и столбца статьи стоит сила их взаимодействия, если взаимодействие было, и стоит ноль, если взаимодействия не было."
      ]
    },
    {
      "cell_type": "code",
      "source": [
        "from scipy.sparse import csr_matrix\n",
        "\n",
        "def create_sparse_matrix(interactions_df, n_users, n_articles):    \n",
        "    sparse_matrix = pd.DataFrame(0, index=n_users, columns=n_articles)\n",
        "    \n",
        "    \n",
        "    user_ids = interactions_df['personId_enc'].values\n",
        "    content_ids = interactions_df['contentId_enc'].values\n",
        "    eventStrengths = interactions_df['eventStrength'].values\n",
        "    \n",
        "    \n",
        "    for i in range(len(interactions_df)):\n",
        "        sparse_matrix.loc[user_ids[i], content_ids[i]] = eventStrengths[i] if eventStrengths[i] is not np.nan else 0\n",
        "    \n",
        "    return csr_matrix(sparse_matrix.values)"
      ],
      "metadata": {
        "id": "lyUglNxqfrLO"
      },
      "execution_count": 441,
      "outputs": []
    },
    {
      "cell_type": "code",
      "source": [
        "n_users = np.unique(interactions_train_df['personId_enc'])\n",
        "n_articles = np.unique(articles_df['contentId_enc'])"
      ],
      "metadata": {
        "id": "6-btra1ahwqX"
      },
      "execution_count": 442,
      "outputs": []
    },
    {
      "cell_type": "code",
      "execution_count": 443,
      "metadata": {
        "id": "1cLZ5ga4eIdg"
      },
      "outputs": [],
      "source": [
        "data_train = create_sparse_matrix(interactions_train_df, n_users, n_articles)\n",
        "data_test = create_sparse_matrix(interactions_test_df, n_users, n_articles)"
      ]
    },
    {
      "cell_type": "code",
      "source": [
        "data_train"
      ],
      "metadata": {
        "colab": {
          "base_uri": "https://localhost:8080/"
        },
        "id": "JV669Wlpq6_i",
        "outputId": "e9156374-45f8-4cac-941e-329688861981"
      },
      "execution_count": 444,
      "outputs": [
        {
          "output_type": "execute_result",
          "data": {
            "text/plain": [
              "<1112x2976 sparse matrix of type '<class 'numpy.float64'>'\n",
              "\twith 29302 stored elements in Compressed Sparse Row format>"
            ]
          },
          "metadata": {},
          "execution_count": 444
        }
      ]
    },
    {
      "cell_type": "code",
      "source": [
        "data_test"
      ],
      "metadata": {
        "colab": {
          "base_uri": "https://localhost:8080/"
        },
        "id": "x3AMI_bktg8b",
        "outputId": "86cb6ec6-991c-45df-ea55-06c5c21e479a"
      },
      "execution_count": 445,
      "outputs": [
        {
          "output_type": "execute_result",
          "data": {
            "text/plain": [
              "<1112x2976 sparse matrix of type '<class 'numpy.float64'>'\n",
              "\twith 9418 stored elements in Compressed Sparse Row format>"
            ]
          },
          "metadata": {},
          "execution_count": 445
        }
      ]
    },
    {
      "cell_type": "markdown",
      "metadata": {
        "id": "AiNGVzTveRXE"
      },
      "source": [
        "## Задание 2 (0.5 балла)"
      ]
    },
    {
      "cell_type": "markdown",
      "metadata": {
        "id": "ZPfVK3STeryM"
      },
      "source": [
        "Обучите модель LightFM с `loss=\"warp\"` и посчитайте *precision@10* на тесте."
      ]
    },
    {
      "cell_type": "code",
      "execution_count": 332,
      "metadata": {
        "id": "YFQxeHw8eVLz"
      },
      "outputs": [],
      "source": [
        "model = LightFM(loss='warp', random_state=42)\n",
        "model.fit(data_train, epochs=20);"
      ]
    },
    {
      "cell_type": "code",
      "source": [
        "precision_at_k(model, data_test, data_train, k=10).mean()"
      ],
      "metadata": {
        "colab": {
          "base_uri": "https://localhost:8080/"
        },
        "id": "eX2k-CbYJLy3",
        "outputId": "6fedbdde-9209-4c5b-9eb6-0ed0ab705ccd"
      },
      "execution_count": 333,
      "outputs": [
        {
          "output_type": "execute_result",
          "data": {
            "text/plain": [
              "0.0074423486"
            ]
          },
          "metadata": {},
          "execution_count": 333
        }
      ]
    },
    {
      "cell_type": "markdown",
      "source": [
        "Низкое качество"
      ],
      "metadata": {
        "id": "MSWiEgwTzBqj"
      }
    },
    {
      "cell_type": "markdown",
      "metadata": {
        "id": "qZDsG1iAfdrl"
      },
      "source": [
        "## Задание 3 (2 балла)"
      ]
    },
    {
      "cell_type": "markdown",
      "metadata": {
        "id": "F93chvtbgA9N"
      },
      "source": [
        "При вызове метода `fit` LightFM позволяет передавать в `item_features` признаковое описание объектов. Воспользуемся этим. Будем получать признаковое описание из текста статьи в виде [TF-IDF](https://ru.wikipedia.org/wiki/TF-IDF) (можно воспользоваться `TfidfVectorizer` из scikit-learn). Создайте матрицу `feat` размером количесвто статей на размер признакового описание и обучите LightFM с `loss=\"warp\"` и посчитайте precision@10 на тесте."
      ]
    },
    {
      "cell_type": "code",
      "source": [
        "# Склеим текст и заголовок\n",
        "feat = articles_df[['title', 'text']]\n",
        "feat.index = articles_df['contentId_enc']\n",
        "feat = feat.reindex(n_articles).fillna('')\n",
        "feat = feat.apply(lambda x: x['title'] + ' ' + x['text'], axis=1)\n",
        "feat\n"
      ],
      "metadata": {
        "colab": {
          "base_uri": "https://localhost:8080/"
        },
        "id": "FQ8LZr-m7ooX",
        "outputId": "cc1c2cb3-e361-4eea-9af2-ebea8a9c4b26"
      },
      "execution_count": 446,
      "outputs": [
        {
          "output_type": "execute_result",
          "data": {
            "text/plain": [
              "contentId_enc\n",
              "0       Google unleashes DeepMind on energy-hungry dat...\n",
              "1       Indústria 4.0: desafios e oportunidades *Igor ...\n",
              "2       12 JavaScript Hacks In this post I will share ...\n",
              "3       Australian Bitcoin Entrepreneur Launches Robo-...\n",
              "4       React Native v0.32.0-rc.0 released v0.32.0-rc....\n",
              "                              ...                        \n",
              "2971    Baidu abre laboratório de realidade aumentada ...\n",
              "2972    Better Exposed Filters  The Better Exposed Fil...\n",
              "2973    Elasticsearch: CSV exporter for Kibana Discove...\n",
              "2974    Quer reclamar? Desenvolvedores vencem hackatho...\n",
              "2975    Este é o melhor jeito de entender como as mulh...\n",
              "Length: 2976, dtype: object"
            ]
          },
          "metadata": {},
          "execution_count": 446
        }
      ]
    },
    {
      "cell_type": "code",
      "source": [
        "from sklearn.feature_extraction.text import TfidfVectorizer\n",
        "\n",
        "vectorizer = TfidfVectorizer()\n",
        "\n",
        "# учимся только на статьях из трейна\n",
        "vectorizer.fit(feat)\n",
        "\n",
        "feat_tranform = vectorizer.transform(feat)"
      ],
      "metadata": {
        "id": "bYmewAl08dsq"
      },
      "execution_count": 335,
      "outputs": []
    },
    {
      "cell_type": "code",
      "source": [
        "model.fit(data_train, item_features=feat_tranform, epochs=20);"
      ],
      "metadata": {
        "id": "u-1umgnk8slz"
      },
      "execution_count": 336,
      "outputs": []
    },
    {
      "cell_type": "code",
      "source": [
        "precision_at_k(model, data_test, data_train, k=10, item_features=feat_tranform).mean()"
      ],
      "metadata": {
        "colab": {
          "base_uri": "https://localhost:8080/"
        },
        "id": "1WVNhWwIAPGO",
        "outputId": "7216c1f3-fa73-43d9-c7cb-f416215b3ec2"
      },
      "execution_count": 337,
      "outputs": [
        {
          "output_type": "execute_result",
          "data": {
            "text/plain": [
              "0.0076519917"
            ]
          },
          "metadata": {},
          "execution_count": 337
        }
      ]
    },
    {
      "cell_type": "markdown",
      "source": [
        "Качество улучшилось"
      ],
      "metadata": {
        "id": "4OPvFIQ19cW1"
      }
    },
    {
      "cell_type": "markdown",
      "metadata": {
        "id": "8Lwuex6PpsFw"
      },
      "source": [
        "## Задание 4 (1.5 балла)"
      ]
    },
    {
      "cell_type": "markdown",
      "metadata": {
        "id": "5aZcHjSzp2cZ"
      },
      "source": [
        "В задании 3 мы использовали сырой текст статей. В этом задании необходимо сначала сделать предобработку текста (привести к нижнему регистру, убрать стоп слова, привести слова к номральной форме и т.д.), после чего обучите модель и оценить качество на тестовых данных."
      ]
    },
    {
      "cell_type": "code",
      "source": [
        "!pip install pymorphy2"
      ],
      "metadata": {
        "colab": {
          "base_uri": "https://localhost:8080/"
        },
        "id": "f35922UD_nk9",
        "outputId": "3276f725-1a9e-455c-de68-85830592ae35"
      },
      "execution_count": 338,
      "outputs": [
        {
          "output_type": "stream",
          "name": "stdout",
          "text": [
            "Looking in indexes: https://pypi.org/simple, https://us-python.pkg.dev/colab-wheels/public/simple/\n",
            "Requirement already satisfied: pymorphy2 in /usr/local/lib/python3.9/dist-packages (0.9.1)\n",
            "Requirement already satisfied: dawg-python>=0.7.1 in /usr/local/lib/python3.9/dist-packages (from pymorphy2) (0.7.2)\n",
            "Requirement already satisfied: pymorphy2-dicts-ru<3.0,>=2.4 in /usr/local/lib/python3.9/dist-packages (from pymorphy2) (2.4.417127.4579844)\n",
            "Requirement already satisfied: docopt>=0.6 in /usr/local/lib/python3.9/dist-packages (from pymorphy2) (0.6.2)\n"
          ]
        }
      ]
    },
    {
      "cell_type": "code",
      "source": [
        "import regex\n",
        "from pymorphy2 import MorphAnalyzer\n",
        "from functools import lru_cache\n",
        "from nltk.corpus import stopwords\n",
        "\n",
        "import nltk\n",
        "nltk.download('stopwords')"
      ],
      "metadata": {
        "colab": {
          "base_uri": "https://localhost:8080/"
        },
        "id": "qHVdept-_Vfr",
        "outputId": "f5c042f0-c6f4-4514-c1b8-2c59820922ea"
      },
      "execution_count": 339,
      "outputs": [
        {
          "output_type": "stream",
          "name": "stderr",
          "text": [
            "[nltk_data] Downloading package stopwords to /root/nltk_data...\n",
            "[nltk_data]   Package stopwords is already up-to-date!\n"
          ]
        },
        {
          "output_type": "execute_result",
          "data": {
            "text/plain": [
              "True"
            ]
          },
          "metadata": {},
          "execution_count": 339
        }
      ]
    },
    {
      "cell_type": "markdown",
      "source": [
        "Посмотрим какие есть языки"
      ],
      "metadata": {
        "id": "8VaMaiQE_wU7"
      }
    },
    {
      "cell_type": "code",
      "source": [
        "np.unique(articles_df['lang'], return_counts=True)"
      ],
      "metadata": {
        "colab": {
          "base_uri": "https://localhost:8080/"
        },
        "id": "5fuk9VzYC-H2",
        "outputId": "59e439e2-b786-4483-d75f-b7fe98a37393"
      },
      "execution_count": 340,
      "outputs": [
        {
          "output_type": "execute_result",
          "data": {
            "text/plain": [
              "(array(['en', 'es', 'ja', 'la', 'pt'], dtype=object),\n",
              " array([2148,    2,    2,    2,  822]))"
            ]
          },
          "metadata": {},
          "execution_count": 340
        }
      ]
    },
    {
      "cell_type": "code",
      "source": [
        "stopwords.fileids()"
      ],
      "metadata": {
        "colab": {
          "base_uri": "https://localhost:8080/"
        },
        "id": "zX7Ch3pxBHwN",
        "outputId": "98f07461-003f-4e1c-df56-2d40e8cd06f1"
      },
      "execution_count": 341,
      "outputs": [
        {
          "output_type": "execute_result",
          "data": {
            "text/plain": [
              "['arabic',\n",
              " 'azerbaijani',\n",
              " 'basque',\n",
              " 'bengali',\n",
              " 'catalan',\n",
              " 'chinese',\n",
              " 'danish',\n",
              " 'dutch',\n",
              " 'english',\n",
              " 'finnish',\n",
              " 'french',\n",
              " 'german',\n",
              " 'greek',\n",
              " 'hebrew',\n",
              " 'hinglish',\n",
              " 'hungarian',\n",
              " 'indonesian',\n",
              " 'italian',\n",
              " 'kazakh',\n",
              " 'nepali',\n",
              " 'norwegian',\n",
              " 'portuguese',\n",
              " 'romanian',\n",
              " 'russian',\n",
              " 'slovene',\n",
              " 'spanish',\n",
              " 'swedish',\n",
              " 'tajik',\n",
              " 'turkish']"
            ]
          },
          "metadata": {},
          "execution_count": 341
        }
      ]
    },
    {
      "cell_type": "markdown",
      "source": [
        "nltk предлагает возможность взять готовый набор стоп-слов для английского, португальского и испанского. Латынь и японский за неимением готового набора стоп-слов и малым количеством наблюдений остаются без стоп слов и очищаются только от пунктуации."
      ],
      "metadata": {
        "id": "QsMZ841_CrTk"
      }
    },
    {
      "cell_type": "code",
      "source": [
        "m = MorphAnalyzer()\n",
        "\n",
        "def words_only(text):\n",
        "    try:\n",
        "        return regex.findall(r'[\\p{L}]+', text.lower())\n",
        "    except:\n",
        "        return []\n",
        "\n",
        "@lru_cache(maxsize=128)\n",
        "def lemmatize_word(token, pymorphy=m):\n",
        "    return pymorphy.parse(token)[0].normal_form\n",
        "\n",
        "def lemmatize_text(text):\n",
        "    return [lemmatize_word(w) for w in text]\n",
        "\n",
        "def remove_stopwords(lemmas, stopwords):\n",
        "    return [w for w in lemmas if not w in stopwords]\n",
        "\n",
        "def clean_text(text, stopwords):\n",
        "    tokens = words_only(text)\n",
        "    lemmas = lemmatize_text(tokens)\n",
        "    \n",
        "    return ' '.join(remove_stopwords(lemmas, stopwords))"
      ],
      "metadata": {
        "id": "-r2dgGOc_HET"
      },
      "execution_count": 342,
      "outputs": []
    },
    {
      "cell_type": "code",
      "execution_count": 343,
      "metadata": {
        "id": "HDSaOLiJpdGj"
      },
      "outputs": [],
      "source": [
        "en_stopwords = stopwords.words('english')\n",
        "pt_stopwords = stopwords.words('portuguese')  \n",
        "es_stopwords = stopwords.words('spanish')"
      ]
    },
    {
      "cell_type": "code",
      "source": [
        "process_feat = {}\n",
        "\n",
        "for key in feat.keys():\n",
        "    info = articles_df[articles_df['contentId_enc'] == key].values\n",
        "\n",
        "    if (len(info) == 0):\n",
        "      process_feat[key] = ''\n",
        "      continue\n",
        "\n",
        "    lang = info[0][-1]\n",
        "\n",
        "    if lang == 'en':\n",
        "      process_feat[key] = clean_text(feat[key], en_stopwords)\n",
        "    elif lang == 'pt':\n",
        "      process_feat[key] = clean_text(feat[key], pt_stopwords)\n",
        "    elif lang == 'es':\n",
        "      process_feat[key] = clean_text(feat[key], es_stopwords)\n",
        "    else:\n",
        "      process_feat[key] = clean_text(feat[key], [])\n",
        "\n",
        "\n",
        "process_feat = pd.Series(process_feat)\n",
        "process_feat.index.name = 'contentId'"
      ],
      "metadata": {
        "id": "-mPZnEq8PcLp"
      },
      "execution_count": 447,
      "outputs": []
    },
    {
      "cell_type": "code",
      "source": [
        "process_feat"
      ],
      "metadata": {
        "id": "aa3mS20XUAYe",
        "outputId": "d5051240-5a3d-4c62-b55f-3bd7a0fe0760",
        "colab": {
          "base_uri": "https://localhost:8080/"
        }
      },
      "execution_count": 448,
      "outputs": [
        {
          "output_type": "execute_result",
          "data": {
            "text/plain": [
              "contentId\n",
              "0       google unleashes deepmind on energy hungry dat...\n",
              "1       indústria desafios e oportunidades igor schiew...\n",
              "2       javascript hacks in this post i will share ext...\n",
              "3       australian bitcoin entrepreneur launches robo ...\n",
              "4       react native v rc released v rc on github npm ...\n",
              "                              ...                        \n",
              "2971    baidu abre laboratório de realidade aumentada ...\n",
              "2972    better exposed filters the better exposed filt...\n",
              "2973    elasticsearch csv exporter for kibana discover...\n",
              "2974    quer reclamar desenvolvedores vencem hackathon...\n",
              "2975    este é o melhor jeito de entender como as mulh...\n",
              "Length: 2976, dtype: object"
            ]
          },
          "metadata": {},
          "execution_count": 448
        }
      ]
    },
    {
      "cell_type": "code",
      "source": [
        "vectorizer.fit(process_feat)\n",
        "\n",
        "process_feat_tranform = vectorizer.transform(process_feat)"
      ],
      "metadata": {
        "id": "QFY-vjMqVNzN"
      },
      "execution_count": 449,
      "outputs": []
    },
    {
      "cell_type": "code",
      "source": [
        "model.fit(data_train, item_features=process_feat_tranform, epochs=20);"
      ],
      "metadata": {
        "id": "ogUF68VPVXNB"
      },
      "execution_count": 450,
      "outputs": []
    },
    {
      "cell_type": "code",
      "source": [
        "precision_at_k(model, data_test, data_train, k=10, item_features=process_feat_tranform).mean()"
      ],
      "metadata": {
        "id": "Cw0dnskI2O4F",
        "outputId": "bfc45dc1-87d7-41bc-84b2-d632ffa0c7d7",
        "colab": {
          "base_uri": "https://localhost:8080/"
        }
      },
      "execution_count": 396,
      "outputs": [
        {
          "output_type": "execute_result",
          "data": {
            "text/plain": [
              "0.0077568134"
            ]
          },
          "metadata": {},
          "execution_count": 396
        }
      ]
    },
    {
      "cell_type": "markdown",
      "metadata": {
        "id": "VgayAPRpqn7L"
      },
      "source": [
        "Улучшилось ли качество предсказания?"
      ]
    },
    {
      "cell_type": "markdown",
      "source": [
        "Качество улучшилось"
      ],
      "metadata": {
        "id": "kURDIJQvWCOK"
      }
    },
    {
      "cell_type": "markdown",
      "metadata": {
        "id": "XKRzLLodq3gq"
      },
      "source": [
        "## Задание 5 (1.5 балла)"
      ]
    },
    {
      "cell_type": "markdown",
      "metadata": {
        "id": "brjHl49Aq8su"
      },
      "source": [
        "Подберите гиперпараметры модели LightFM (`n_components` и др.) для улучшения качества модели."
      ]
    },
    {
      "cell_type": "code",
      "source": [
        "!pip install bayesian-optimization"
      ],
      "metadata": {
        "colab": {
          "base_uri": "https://localhost:8080/"
        },
        "id": "Sd7R0jiXOhoO",
        "outputId": "ec3d61cf-2cd9-4888-d033-5f564776eb98"
      },
      "execution_count": 421,
      "outputs": [
        {
          "output_type": "stream",
          "name": "stdout",
          "text": [
            "Looking in indexes: https://pypi.org/simple, https://us-python.pkg.dev/colab-wheels/public/simple/\n",
            "Requirement already satisfied: bayesian-optimization in /usr/local/lib/python3.9/dist-packages (1.4.2)\n",
            "Requirement already satisfied: scikit-learn>=0.18.0 in /usr/local/lib/python3.9/dist-packages (from bayesian-optimization) (1.2.2)\n",
            "Requirement already satisfied: scipy>=1.0.0 in /usr/local/lib/python3.9/dist-packages (from bayesian-optimization) (1.10.1)\n",
            "Requirement already satisfied: colorama>=0.4.6 in /usr/local/lib/python3.9/dist-packages (from bayesian-optimization) (0.4.6)\n",
            "Requirement already satisfied: numpy>=1.9.0 in /usr/local/lib/python3.9/dist-packages (from bayesian-optimization) (1.22.4)\n",
            "Requirement already satisfied: threadpoolctl>=2.0.0 in /usr/local/lib/python3.9/dist-packages (from scikit-learn>=0.18.0->bayesian-optimization) (3.1.0)\n",
            "Requirement already satisfied: joblib>=1.1.1 in /usr/local/lib/python3.9/dist-packages (from scikit-learn>=0.18.0->bayesian-optimization) (1.1.1)\n"
          ]
        }
      ]
    },
    {
      "cell_type": "code",
      "source": [
        "from bayes_opt import BayesianOptimization\n",
        "\n",
        "parameters = {\n",
        "    'components_num': (20, 80),\n",
        "    'epoch_num': (5, 50),\n",
        "    'learning_rate': (0.01, 0.1)\n",
        "}\n",
        "\n",
        "\n",
        "def optimisation_func(components_num, epoch_num, learning_rate):\n",
        "    model = LightFM(learning_rate=learning_rate, loss='warp',\n",
        "                    no_components=int(components_num))\n",
        "    model.fit(data_train, item_features=process_feat_tranform,\n",
        "              epochs=int(epoch_num))\n",
        "\n",
        "    precision = precision_at_k(model, data_test, data_train,\n",
        "                               k=10, item_features=process_feat_tranform).mean()\n",
        "    \n",
        "    return precision\n",
        "  \n",
        "optimizer = BayesianOptimization(\n",
        "  f = optimisation_func,\n",
        "  pbounds = parameters,\n",
        "  verbose = 5,\n",
        "  random_state = 42, \n",
        ")\n",
        "\n",
        "optimizer.maximize(\n",
        "  init_points = 4,\n",
        "  n_iter = 3, \n",
        ")"
      ],
      "metadata": {
        "id": "vQgaJvnN-2r0",
        "outputId": "3f2600e4-9d3c-4d80-9e4f-4ec80ec822eb",
        "colab": {
          "base_uri": "https://localhost:8080/"
        }
      },
      "execution_count": null,
      "outputs": [
        {
          "output_type": "stream",
          "name": "stdout",
          "text": [
            "|   iter    |  target   | compon... | epoch_num | learni... |\n",
            "-------------------------------------------------------------\n"
          ]
        }
      ]
    },
    {
      "cell_type": "code",
      "execution_count": 73,
      "metadata": {
        "id": "PlwaeCiZqncD",
        "colab": {
          "base_uri": "https://localhost:8080/",
          "height": 550
        },
        "outputId": "af4dbca8-442f-4ca8-c915-2b3ba5a24df8"
      },
      "outputs": [
        {
          "output_type": "stream",
          "name": "stdout",
          "text": [
            "|   iter    |  target   | compon... | epoch_num | learni... |\n",
            "-------------------------------------------------------------\n",
            "| \u001b[0m1        \u001b[0m | \u001b[0m0.005804 \u001b[0m | \u001b[0m42.47    \u001b[0m | \u001b[0m47.78    \u001b[0m | \u001b[0m0.07588  \u001b[0m |\n",
            "| \u001b[95m2        \u001b[0m | \u001b[95m0.006721 \u001b[0m | \u001b[95m55.92    \u001b[0m | \u001b[95m12.02    \u001b[0m | \u001b[95m0.02404  \u001b[0m |\n",
            "| \u001b[95m3        \u001b[0m | \u001b[95m0.007332 \u001b[0m | \u001b[95m23.49    \u001b[0m | \u001b[95m43.98    \u001b[0m | \u001b[95m0.0641   \u001b[0m |\n",
            "| \u001b[0m4        \u001b[0m | \u001b[0m0.005804 \u001b[0m | \u001b[0m62.48    \u001b[0m | \u001b[0m5.926    \u001b[0m | \u001b[0m0.09729  \u001b[0m |\n",
            "| \u001b[0m5        \u001b[0m | \u001b[0m0.007026 \u001b[0m | \u001b[0m23.84    \u001b[0m | \u001b[0m43.81    \u001b[0m | \u001b[0m0.09653  \u001b[0m |\n",
            "| \u001b[0m6        \u001b[0m | \u001b[0m0.007026 \u001b[0m | \u001b[0m22.43    \u001b[0m | \u001b[0m43.6     \u001b[0m | \u001b[0m0.01249  \u001b[0m |\n"
          ]
        },
        {
          "output_type": "error",
          "ename": "KeyboardInterrupt",
          "evalue": "ignored",
          "traceback": [
            "\u001b[0;31m---------------------------------------------------------------------------\u001b[0m",
            "\u001b[0;31mKeyboardInterrupt\u001b[0m                         Traceback (most recent call last)",
            "\u001b[0;32m<ipython-input-73-b8f2524870d5>\u001b[0m in \u001b[0;36m<module>\u001b[0;34m\u001b[0m\n\u001b[1;32m     26\u001b[0m )\n\u001b[1;32m     27\u001b[0m \u001b[0;34m\u001b[0m\u001b[0m\n\u001b[0;32m---> 28\u001b[0;31m optimizer.maximize(\n\u001b[0m\u001b[1;32m     29\u001b[0m   \u001b[0minit_points\u001b[0m \u001b[0;34m=\u001b[0m \u001b[0;36m4\u001b[0m\u001b[0;34m,\u001b[0m\u001b[0;34m\u001b[0m\u001b[0;34m\u001b[0m\u001b[0m\n\u001b[1;32m     30\u001b[0m   \u001b[0mn_iter\u001b[0m \u001b[0;34m=\u001b[0m \u001b[0;36m3\u001b[0m\u001b[0;34m,\u001b[0m\u001b[0;34m\u001b[0m\u001b[0;34m\u001b[0m\u001b[0m\n",
            "\u001b[0;32m/usr/local/lib/python3.9/dist-packages/bayes_opt/bayesian_optimization.py\u001b[0m in \u001b[0;36mmaximize\u001b[0;34m(self, init_points, n_iter, acquisition_function, acq, kappa, kappa_decay, kappa_decay_delay, xi, **gp_params)\u001b[0m\n\u001b[1;32m    309\u001b[0m                 \u001b[0mx_probe\u001b[0m \u001b[0;34m=\u001b[0m \u001b[0mself\u001b[0m\u001b[0;34m.\u001b[0m\u001b[0msuggest\u001b[0m\u001b[0;34m(\u001b[0m\u001b[0mutil\u001b[0m\u001b[0;34m)\u001b[0m\u001b[0;34m\u001b[0m\u001b[0;34m\u001b[0m\u001b[0m\n\u001b[1;32m    310\u001b[0m                 \u001b[0miteration\u001b[0m \u001b[0;34m+=\u001b[0m \u001b[0;36m1\u001b[0m\u001b[0;34m\u001b[0m\u001b[0;34m\u001b[0m\u001b[0m\n\u001b[0;32m--> 311\u001b[0;31m             \u001b[0mself\u001b[0m\u001b[0;34m.\u001b[0m\u001b[0mprobe\u001b[0m\u001b[0;34m(\u001b[0m\u001b[0mx_probe\u001b[0m\u001b[0;34m,\u001b[0m \u001b[0mlazy\u001b[0m\u001b[0;34m=\u001b[0m\u001b[0;32mFalse\u001b[0m\u001b[0;34m)\u001b[0m\u001b[0;34m\u001b[0m\u001b[0;34m\u001b[0m\u001b[0m\n\u001b[0m\u001b[1;32m    312\u001b[0m \u001b[0;34m\u001b[0m\u001b[0m\n\u001b[1;32m    313\u001b[0m             \u001b[0;32mif\u001b[0m \u001b[0mself\u001b[0m\u001b[0;34m.\u001b[0m\u001b[0m_bounds_transformer\u001b[0m \u001b[0;32mand\u001b[0m \u001b[0miteration\u001b[0m \u001b[0;34m>\u001b[0m \u001b[0;36m0\u001b[0m\u001b[0;34m:\u001b[0m\u001b[0;34m\u001b[0m\u001b[0;34m\u001b[0m\u001b[0m\n",
            "\u001b[0;32m/usr/local/lib/python3.9/dist-packages/bayes_opt/bayesian_optimization.py\u001b[0m in \u001b[0;36mprobe\u001b[0;34m(self, params, lazy)\u001b[0m\n\u001b[1;32m    206\u001b[0m             \u001b[0mself\u001b[0m\u001b[0;34m.\u001b[0m\u001b[0m_queue\u001b[0m\u001b[0;34m.\u001b[0m\u001b[0madd\u001b[0m\u001b[0;34m(\u001b[0m\u001b[0mparams\u001b[0m\u001b[0;34m)\u001b[0m\u001b[0;34m\u001b[0m\u001b[0;34m\u001b[0m\u001b[0m\n\u001b[1;32m    207\u001b[0m         \u001b[0;32melse\u001b[0m\u001b[0;34m:\u001b[0m\u001b[0;34m\u001b[0m\u001b[0;34m\u001b[0m\u001b[0m\n\u001b[0;32m--> 208\u001b[0;31m             \u001b[0mself\u001b[0m\u001b[0;34m.\u001b[0m\u001b[0m_space\u001b[0m\u001b[0;34m.\u001b[0m\u001b[0mprobe\u001b[0m\u001b[0;34m(\u001b[0m\u001b[0mparams\u001b[0m\u001b[0;34m)\u001b[0m\u001b[0;34m\u001b[0m\u001b[0;34m\u001b[0m\u001b[0m\n\u001b[0m\u001b[1;32m    209\u001b[0m             \u001b[0mself\u001b[0m\u001b[0;34m.\u001b[0m\u001b[0mdispatch\u001b[0m\u001b[0;34m(\u001b[0m\u001b[0mEvents\u001b[0m\u001b[0;34m.\u001b[0m\u001b[0mOPTIMIZATION_STEP\u001b[0m\u001b[0;34m)\u001b[0m\u001b[0;34m\u001b[0m\u001b[0;34m\u001b[0m\u001b[0m\n\u001b[1;32m    210\u001b[0m \u001b[0;34m\u001b[0m\u001b[0m\n",
            "\u001b[0;32m/usr/local/lib/python3.9/dist-packages/bayes_opt/target_space.py\u001b[0m in \u001b[0;36mprobe\u001b[0;34m(self, params)\u001b[0m\n\u001b[1;32m    234\u001b[0m         \u001b[0mx\u001b[0m \u001b[0;34m=\u001b[0m \u001b[0mself\u001b[0m\u001b[0;34m.\u001b[0m\u001b[0m_as_array\u001b[0m\u001b[0;34m(\u001b[0m\u001b[0mparams\u001b[0m\u001b[0;34m)\u001b[0m\u001b[0;34m\u001b[0m\u001b[0;34m\u001b[0m\u001b[0m\n\u001b[1;32m    235\u001b[0m         \u001b[0mparams\u001b[0m \u001b[0;34m=\u001b[0m \u001b[0mdict\u001b[0m\u001b[0;34m(\u001b[0m\u001b[0mzip\u001b[0m\u001b[0;34m(\u001b[0m\u001b[0mself\u001b[0m\u001b[0;34m.\u001b[0m\u001b[0m_keys\u001b[0m\u001b[0;34m,\u001b[0m \u001b[0mx\u001b[0m\u001b[0;34m)\u001b[0m\u001b[0;34m)\u001b[0m\u001b[0;34m\u001b[0m\u001b[0;34m\u001b[0m\u001b[0m\n\u001b[0;32m--> 236\u001b[0;31m         \u001b[0mtarget\u001b[0m \u001b[0;34m=\u001b[0m \u001b[0mself\u001b[0m\u001b[0;34m.\u001b[0m\u001b[0mtarget_func\u001b[0m\u001b[0;34m(\u001b[0m\u001b[0;34m**\u001b[0m\u001b[0mparams\u001b[0m\u001b[0;34m)\u001b[0m\u001b[0;34m\u001b[0m\u001b[0;34m\u001b[0m\u001b[0m\n\u001b[0m\u001b[1;32m    237\u001b[0m \u001b[0;34m\u001b[0m\u001b[0m\n\u001b[1;32m    238\u001b[0m         \u001b[0;32mif\u001b[0m \u001b[0mself\u001b[0m\u001b[0;34m.\u001b[0m\u001b[0m_constraint\u001b[0m \u001b[0;32mis\u001b[0m \u001b[0;32mNone\u001b[0m\u001b[0;34m:\u001b[0m\u001b[0;34m\u001b[0m\u001b[0;34m\u001b[0m\u001b[0m\n",
            "\u001b[0;32m<ipython-input-73-b8f2524870d5>\u001b[0m in \u001b[0;36moptimisation_func\u001b[0;34m(components_num, epoch_num, learning_rate)\u001b[0m\n\u001b[1;32m     11\u001b[0m     model = LightFM(learning_rate=learning_rate, loss='warp',\n\u001b[1;32m     12\u001b[0m                     no_components=int(components_num))\n\u001b[0;32m---> 13\u001b[0;31m     model.fit(data_train, item_features=process_feat_tranform,\n\u001b[0m\u001b[1;32m     14\u001b[0m               epochs=int(epoch_num))\n\u001b[1;32m     15\u001b[0m \u001b[0;34m\u001b[0m\u001b[0m\n",
            "\u001b[0;32m/usr/local/lib/python3.9/dist-packages/lightfm/lightfm.py\u001b[0m in \u001b[0;36mfit\u001b[0;34m(self, interactions, user_features, item_features, sample_weight, epochs, num_threads, verbose)\u001b[0m\n\u001b[1;32m    548\u001b[0m         \u001b[0mself\u001b[0m\u001b[0;34m.\u001b[0m\u001b[0m_reset_state\u001b[0m\u001b[0;34m(\u001b[0m\u001b[0;34m)\u001b[0m\u001b[0;34m\u001b[0m\u001b[0;34m\u001b[0m\u001b[0m\n\u001b[1;32m    549\u001b[0m \u001b[0;34m\u001b[0m\u001b[0m\n\u001b[0;32m--> 550\u001b[0;31m         return self.fit_partial(\n\u001b[0m\u001b[1;32m    551\u001b[0m             \u001b[0minteractions\u001b[0m\u001b[0;34m,\u001b[0m\u001b[0;34m\u001b[0m\u001b[0;34m\u001b[0m\u001b[0m\n\u001b[1;32m    552\u001b[0m             \u001b[0muser_features\u001b[0m\u001b[0;34m=\u001b[0m\u001b[0muser_features\u001b[0m\u001b[0;34m,\u001b[0m\u001b[0;34m\u001b[0m\u001b[0;34m\u001b[0m\u001b[0m\n",
            "\u001b[0;32m/usr/local/lib/python3.9/dist-packages/lightfm/lightfm.py\u001b[0m in \u001b[0;36mfit_partial\u001b[0;34m(self, interactions, user_features, item_features, sample_weight, epochs, num_threads, verbose)\u001b[0m\n\u001b[1;32m    653\u001b[0m \u001b[0;34m\u001b[0m\u001b[0m\n\u001b[1;32m    654\u001b[0m         \u001b[0;32mfor\u001b[0m \u001b[0m_\u001b[0m \u001b[0;32min\u001b[0m \u001b[0mself\u001b[0m\u001b[0;34m.\u001b[0m\u001b[0m_progress\u001b[0m\u001b[0;34m(\u001b[0m\u001b[0mepochs\u001b[0m\u001b[0;34m,\u001b[0m \u001b[0mverbose\u001b[0m\u001b[0;34m=\u001b[0m\u001b[0mverbose\u001b[0m\u001b[0;34m)\u001b[0m\u001b[0;34m:\u001b[0m\u001b[0;34m\u001b[0m\u001b[0;34m\u001b[0m\u001b[0m\n\u001b[0;32m--> 655\u001b[0;31m             self._run_epoch(\n\u001b[0m\u001b[1;32m    656\u001b[0m                 \u001b[0mitem_features\u001b[0m\u001b[0;34m,\u001b[0m\u001b[0;34m\u001b[0m\u001b[0;34m\u001b[0m\u001b[0m\n\u001b[1;32m    657\u001b[0m                 \u001b[0muser_features\u001b[0m\u001b[0;34m,\u001b[0m\u001b[0;34m\u001b[0m\u001b[0;34m\u001b[0m\u001b[0m\n",
            "\u001b[0;32m/usr/local/lib/python3.9/dist-packages/lightfm/lightfm.py\u001b[0m in \u001b[0;36m_run_epoch\u001b[0;34m(self, item_features, user_features, interactions, sample_weight, num_threads, loss)\u001b[0m\n\u001b[1;32m    694\u001b[0m         \u001b[0;31m# Call the estimation routines.\u001b[0m\u001b[0;34m\u001b[0m\u001b[0;34m\u001b[0m\u001b[0m\n\u001b[1;32m    695\u001b[0m         \u001b[0;32mif\u001b[0m \u001b[0mloss\u001b[0m \u001b[0;34m==\u001b[0m \u001b[0;34m\"warp\"\u001b[0m\u001b[0;34m:\u001b[0m\u001b[0;34m\u001b[0m\u001b[0;34m\u001b[0m\u001b[0m\n\u001b[0;32m--> 696\u001b[0;31m             fit_warp(\n\u001b[0m\u001b[1;32m    697\u001b[0m                 \u001b[0mCSRMatrix\u001b[0m\u001b[0;34m(\u001b[0m\u001b[0mitem_features\u001b[0m\u001b[0;34m)\u001b[0m\u001b[0;34m,\u001b[0m\u001b[0;34m\u001b[0m\u001b[0;34m\u001b[0m\u001b[0m\n\u001b[1;32m    698\u001b[0m                 \u001b[0mCSRMatrix\u001b[0m\u001b[0;34m(\u001b[0m\u001b[0muser_features\u001b[0m\u001b[0;34m)\u001b[0m\u001b[0;34m,\u001b[0m\u001b[0;34m\u001b[0m\u001b[0;34m\u001b[0m\u001b[0m\n",
            "\u001b[0;31mKeyboardInterrupt\u001b[0m: "
          ]
        }
      ],
      "source": [
        "from bayes_opt import BayesianOptimization\n",
        "\n",
        "parameters = {\n",
        "    'components_num': (20, 80),\n",
        "    'epoch_num': (5, 50),\n",
        "    'learning_rate': (0.01, 0.1)\n",
        "}\n",
        "\n",
        "\n",
        "def optimisation_func(components_num, epoch_num, learning_rate):\n",
        "    model = LightFM(learning_rate=learning_rate, loss='warp',\n",
        "                    no_components=int(components_num))\n",
        "    model.fit(data_train, item_features=process_feat_tranform,\n",
        "              epochs=int(epoch_num))\n",
        "\n",
        "    precision = precision_at_k(model, data_test, data_train,\n",
        "                               k=10, item_features=process_feat_tranform).mean()\n",
        "    \n",
        "    return precision\n",
        "  \n",
        "optimizer = BayesianOptimization(\n",
        "  f = optimisation_func,\n",
        "  pbounds = parameters,\n",
        "  verbose = 5,\n",
        "  random_state = 42, \n",
        ")\n",
        "\n",
        "optimizer.maximize(\n",
        "  init_points = 4,\n",
        "  n_iter = 3, \n",
        ")"
      ]
    },
    {
      "cell_type": "markdown",
      "source": [
        "Попробуем обучить на лучшем результате \n",
        "\n",
        "| 3         | 0.007332  | 23.49     | 43.98     | 0.0641    "
      ],
      "metadata": {
        "id": "jmXrtQBEWct_"
      }
    },
    {
      "cell_type": "code",
      "source": [
        "best_model = LightFM(learning_rate=0.06, loss='warp', no_components=23)\n",
        "best_model.fit(data_train, item_features=process_feat_tranform, epochs=44);"
      ],
      "metadata": {
        "id": "zj8fFfhTXRFR"
      },
      "execution_count": 81,
      "outputs": []
    },
    {
      "cell_type": "code",
      "source": [
        "precision_at_k(best_model, data_test, data_train, k=10, item_features=process_feat_tranform).mean()"
      ],
      "metadata": {
        "colab": {
          "base_uri": "https://localhost:8080/"
        },
        "id": "hHYGkvMBXvQg",
        "outputId": "ebb4d33d-3957-4636-cc1f-5232e0a86a0a"
      },
      "execution_count": 82,
      "outputs": [
        {
          "output_type": "execute_result",
          "data": {
            "text/plain": [
              "0.007942974"
            ]
          },
          "metadata": {},
          "execution_count": 82
        }
      ]
    },
    {
      "cell_type": "markdown",
      "metadata": {
        "id": "xJA7v07NrYSF"
      },
      "source": [
        "## Задание 6 (1 балл)"
      ]
    },
    {
      "cell_type": "markdown",
      "metadata": {
        "id": "veLFUoVRrisk"
      },
      "source": [
        "Реализуйте функции для вычисления следующих метрик:\n",
        "* precision@k\n",
        "* recall@k\n",
        "* NDCG@k\n",
        "\n"
      ]
    },
    {
      "cell_type": "code",
      "source": [
        "def dcg_score(y_true, y_score, k=10, gains=\"exponential\"):\n",
        "    \"\"\"Discounted cumulative gain (DCG) at rank k\n",
        "    Parameters\n",
        "    ----------\n",
        "    y_true : array-like, shape = [n_samples]\n",
        "        Ground truth (true relevance labels).\n",
        "    y_score : array-like, shape = [n_samples]\n",
        "        Predicted scores.\n",
        "    k : int\n",
        "        Rank.\n",
        "    gains : str\n",
        "        Whether gains should be \"exponential\" (default) or \"linear\".\n",
        "    Returns\n",
        "    -------\n",
        "    DCG @k : float\n",
        "    \"\"\"\n",
        "    order = np.argsort(y_score)[::-1]\n",
        "    y_true = np.take(y_true, order[:k])\n",
        "\n",
        "    if gains == \"exponential\":\n",
        "        gains = 2 ** y_true - 1\n",
        "    elif gains == \"linear\":\n",
        "        gains = y_true\n",
        "    else:\n",
        "        raise ValueError(\"Invalid gains option.\")\n",
        "\n",
        "    # highest rank is 1 so +2 instead of +1\n",
        "    discounts = np.log2(np.arange(len(y_true)) + 2)\n",
        "    return np.sum(gains / discounts)\n",
        "\n",
        "\n",
        "def ndcg_score(y_true, y_score, k=10, gains=\"exponential\"):\n",
        "    \"\"\"Normalized discounted cumulative gain (NDCG) at rank k\n",
        "    Parameters\n",
        "    ----------\n",
        "    y_true : array-like, shape = [n_samples]\n",
        "        Ground truth (true relevance labels).\n",
        "    y_score : array-like, shape = [n_samples]\n",
        "        Predicted scores.\n",
        "    k : int\n",
        "        Rank.\n",
        "    gains : str\n",
        "        Whether gains should be \"exponential\" (default) or \"linear\".\n",
        "    Returns\n",
        "    -------\n",
        "    NDCG @k : float\n",
        "    \"\"\"\n",
        "    best = dcg_score(y_true, y_true, k, gains)\n",
        "    actual = dcg_score(y_true, y_score, k, gains)\n",
        "    return actual / best"
      ],
      "metadata": {
        "id": "EOG13So8WRcN"
      },
      "execution_count": 356,
      "outputs": []
    },
    {
      "cell_type": "markdown",
      "source": [
        "## Задание 7 (1 балл)"
      ],
      "metadata": {
        "id": "YE5L-ise3Bq_"
      }
    },
    {
      "cell_type": "markdown",
      "source": [
        "Вычислите значения реализованных метрик для $k=10$ для лучшей полученной модели в предыдущих шагах.\n",
        "\n",
        "Найдите уже реализованные варианты этих метрик в библиотеках lightfm и sklearn. Сравните полученные у вас значения метрик с результатами встроенных в библиотеки метрик."
      ],
      "metadata": {
        "id": "7bqmjJMH3DB7"
      }
    },
    {
      "cell_type": "code",
      "source": [
        "def pairs(a, b):\n",
        "  a_ = []\n",
        "\n",
        "  b_ = []\n",
        "  for i in a:\n",
        "    for j in b:\n",
        "      a_.append(i)\n",
        "      b_.append(j)\n",
        "\n",
        "  return a_, b_"
      ],
      "metadata": {
        "id": "4pcOsZFu8sLJ"
      },
      "execution_count": 455,
      "outputs": []
    },
    {
      "cell_type": "code",
      "source": [
        "a, b = pairs(n_users, n_articles)"
      ],
      "metadata": {
        "id": "8PR2P2Am89Oy"
      },
      "execution_count": 456,
      "outputs": []
    },
    {
      "cell_type": "code",
      "source": [
        "np.unique(data_test.toarray().reshape(-1))"
      ],
      "metadata": {
        "id": "aa6_ggcK-PGz",
        "outputId": "f754bbef-d435-4df8-8948-5676ddac3c85",
        "colab": {
          "base_uri": "https://localhost:8080/"
        }
      },
      "execution_count": 468,
      "outputs": [
        {
          "output_type": "execute_result",
          "data": {
            "text/plain": [
              "array([0.        , 1.        , 1.5849625 , 1.80735492, 2.        ,\n",
              "       2.169925  , 2.32192809, 2.45943162, 2.5849625 , 2.70043972,\n",
              "       2.80735492, 2.9068906 , 3.        , 3.08746284, 3.169925  ,\n",
              "       3.24792751, 3.32192809, 3.39231742, 3.45943162, 3.52356196,\n",
              "       3.5849625 , 3.64385619, 3.70043972, 3.7548875 , 3.80735492,\n",
              "       3.857981  , 3.9068906 , 3.95419631, 4.        , 4.04439412,\n",
              "       4.08746284, 4.12928302, 4.169925  , 4.20945337, 4.24792751,\n",
              "       4.32192809, 4.39231742, 4.42626475, 4.45943162, 4.52356196,\n",
              "       4.55458885, 4.5849625 , 4.64385619, 4.70043972, 4.78135971,\n",
              "       4.95419631, 5.169925  , 5.24792751, 5.33985   , 5.55458885,\n",
              "       5.59991284, 6.14974712])"
            ]
          },
          "metadata": {},
          "execution_count": 468
        }
      ]
    },
    {
      "cell_type": "code",
      "source": [
        "np.unique(model.predict(a, b))"
      ],
      "metadata": {
        "id": "N_D4I5BM-TP5",
        "outputId": "2d16123b-ec29-4c8d-9228-ce851cd1f4c1",
        "colab": {
          "base_uri": "https://localhost:8080/"
        }
      },
      "execution_count": 469,
      "outputs": [
        {
          "output_type": "execute_result",
          "data": {
            "text/plain": [
              "array([-12.014365 , -11.310612 , -11.289458 , ...,   1.1694937,\n",
              "         1.1875371,   1.3347977], dtype=float32)"
            ]
          },
          "metadata": {},
          "execution_count": 469
        }
      ]
    },
    {
      "cell_type": "code",
      "source": [
        "ndcg_score(data_test.toarray().reshape(-1), model.predict(a, b))"
      ],
      "metadata": {
        "id": "zSUMN4X09LR-",
        "outputId": "0b4be568-6d6f-4df6-cb95-77fb37782457",
        "colab": {
          "base_uri": "https://localhost:8080/"
        }
      },
      "execution_count": 467,
      "outputs": [
        {
          "output_type": "execute_result",
          "data": {
            "text/plain": [
              "0.0"
            ]
          },
          "metadata": {},
          "execution_count": 467
        }
      ]
    },
    {
      "cell_type": "code",
      "source": [
        "len(data_test.toarray().reshape(-1))"
      ],
      "metadata": {
        "id": "bn3Wld8B9rVO",
        "outputId": "2fca69dc-45c9-4629-b67a-1bb87d38db9c",
        "colab": {
          "base_uri": "https://localhost:8080/"
        }
      },
      "execution_count": 465,
      "outputs": [
        {
          "output_type": "execute_result",
          "data": {
            "text/plain": [
              "3309312"
            ]
          },
          "metadata": {},
          "execution_count": 465
        }
      ]
    },
    {
      "cell_type": "code",
      "source": [
        "len(model.predict(a, b))"
      ],
      "metadata": {
        "id": "AN1W9fJj8gVM",
        "outputId": "05f0224c-efad-48d5-99f7-1ddf761b0edc",
        "colab": {
          "base_uri": "https://localhost:8080/"
        }
      },
      "execution_count": 458,
      "outputs": [
        {
          "output_type": "execute_result",
          "data": {
            "text/plain": [
              "3309312"
            ]
          },
          "metadata": {},
          "execution_count": 458
        }
      ]
    },
    {
      "cell_type": "code",
      "source": [
        "precision_at_k(model, data_test, data_train, k=10, item_features=process_feat_tranform).mean()"
      ],
      "metadata": {
        "colab": {
          "base_uri": "https://localhost:8080/"
        },
        "id": "jsYjUAjOTISc",
        "outputId": "f54a1626-2701-43c8-aaa5-c5a0fda1bd8f"
      },
      "execution_count": 392,
      "outputs": [
        {
          "output_type": "execute_result",
          "data": {
            "text/plain": [
              "0.007756814"
            ]
          },
          "metadata": {},
          "execution_count": 392
        }
      ]
    },
    {
      "cell_type": "code",
      "source": [
        "from lightfm.evaluation import recall_at_k\n",
        "\n",
        "recall_at_k(model, data_test, data_train, k=10, item_features=process_feat_tranform).mean()"
      ],
      "metadata": {
        "colab": {
          "base_uri": "https://localhost:8080/"
        },
        "id": "1-fCSVLWTT3m",
        "outputId": "47895adf-c2a2-4984-cd62-a9ce91204a25"
      },
      "execution_count": 393,
      "outputs": [
        {
          "output_type": "execute_result",
          "data": {
            "text/plain": [
              "0.008983594493366904"
            ]
          },
          "metadata": {},
          "execution_count": 393
        }
      ]
    },
    {
      "cell_type": "markdown",
      "source": [
        "## Задание 8 (1 балл)\n",
        "\n",
        "Реализуйте алгоритм ALS и примените его для решения задачи ноутбука."
      ],
      "metadata": {
        "id": "t78oSTQz3Y6u"
      }
    },
    {
      "cell_type": "markdown",
      "source": [
        "**ALS**\n",
        "\n",
        "Итак, поставлена задача построения модели со скрытыми переменными (latent factor model) для коллаборативной фильтрации:\n",
        "\n",
        "$$ \\sum_{u,i} (r_{ui} - \\langle p_u, q_i \\rangle)^2 \\to \\min_{P,Q}$$\n",
        "\n",
        "Суммирование ведется по всем парам $(u, i),$ для которых известен рейтинг $r_{ui}$ (и только по ним), а $p_u, q_i$ – латентные представления пользователя~$u$ и товара $i$, соответственно, матрицы $P, Q$ получаются путем записывания по столбцам векторов $p_u, q_i$ соответственно.\n",
        "\n",
        "Подход ALS (Alternating Least Squares) решает задачу, попеременно фиксируя матрицы $P$ и $Q$, — оказывается, что, зафиксировав одну из матриц, можно выписать аналитическое решение задачи для другой.\n",
        "\n",
        "$$\\nabla_{p_u} \\bigg[ \\sum_{u,i} (r_{ui} - \\langle p_u, q_i \\rangle)^2 \\bigg] = \\sum_{i} 2(r_{ui} - \\langle p_u, q_i \\rangle)q_i = 0$$\n",
        "\n",
        "Воспользовавшись тем, что $a^Tbc = cb^Ta$, получим\n",
        "$$\\sum_{i} r_{ui}q_i - \\sum_i q_i q_i^T p_u = 0.$$\n",
        "\n",
        "Тогда окончательно каждый столбец матрицы $P$ можно найти по формуле\n",
        "$$p_u = \\bigg( \\sum_i q_i q_i^T\\bigg)^{-1}\\sum_ir_{ui}q_i \\;\\; \\forall u,$$\n",
        "\n",
        "аналогично для столбцов матрицы $Q$\n",
        "$$q_i = \\bigg( \\sum_u p_u p_u^T\\bigg)^{-1}\\sum_ur_{ui}p_u \\;\\; \\forall i.$$\n",
        "\n",
        "Таким образом мы можем решать оптимизационную задачу, поочередно фиксируя одну из матриц $P$ или $Q$ и проводя оптимизацию по второй.\n",
        "\n",
        "**Оригинальная статья c постановкой задачи для ALS на explicit feedback:**\n",
        "\n",
        "* Bell, R.M. and Koren, Y., 2007, October. Scalable collaborative filtering with jointly derived neighborhood interpolation weights. In Seventh IEEE international conference on data mining (ICDM 2007) (pp. 43-52). IEEE.\n",
        "\n",
        "**Оригинальная статья с ALS для implicit данных, которая стала более известной:**\n",
        "\n",
        "* Hu, Y., Koren, Y. and Volinsky, C., 2008, December. Collaborative filtering for implicit feedback datasets. In 2008 Eighth IEEE international conference on data mining (pp. 263-272). Ieee.\n"
      ],
      "metadata": {
        "id": "voZ9GsE54EZT"
      }
    },
    {
      "cell_type": "markdown",
      "source": [
        "Посмотрел последнюю статью + реализация к ней кода https://www.kaggle.com/code/shivendra91/recommendation-als"
      ],
      "metadata": {
        "id": "SFj-yaAWSg3N"
      }
    },
    {
      "cell_type": "code",
      "source": [
        "import scipy.sparse as sp\n",
        "from scipy.sparse import vstack\n",
        "from scipy import sparse\n",
        "from scipy.sparse.linalg import spsolve"
      ],
      "metadata": {
        "id": "ID5dXU02fy-y"
      },
      "execution_count": 357,
      "outputs": []
    },
    {
      "cell_type": "code",
      "source": [
        "def implicit_weighted_ALS(training_set, lambda_val = 0.1, alpha = 40, iterations = 10, rank_size = 20, seed = 42):   \n",
        "    '''\n",
        "    Implicit weighted ALS taken from Hu, Koren, and Volinsky 2008.\n",
        "    \n",
        "    Параметры:\n",
        "    \n",
        "    training_set - Наша матрица оценок имеет форму m x n, где m — количество пользователей, а n — количество товаров.\n",
        "    Должна быть разреженная матрица csr.\n",
        "\n",
        "    lambda_val - Используется для регуляризации при чередовании метода наименьших квадратов. Увеличение этого значения может увеличить смещение\n",
        "    но уменьшить дисперсию. По умолчанию 0,1.\n",
        "    \n",
        "    alpha - Параметр, связанный с матрицей достоверности, обсуждаемой в статье, где Cui = 1 + alpha*Rui.\n",
        "    В статье установлено, что значение по умолчанию, равное 40, является наиболее эффективным. Уменьшение этого значения уменьшит изменчивость достоверности между\n",
        "    различные рейтинги.\n",
        "\n",
        "    iterations - количество итераций, которое нужно чередовать между вектором характеристик пользователя и вектором характеристик товаров в\n",
        "    чередование наименьших квадратов. Больше итераций позволит улучшить сходимость за счет увеличения объема вычислений.\n",
        "    Авторы обнаружили, что 10 итераций было достаточно, но для сходимости может потребоваться больше.\n",
        "    \n",
        "    rank_size - количество латентных представлений в векторах функций пользователя/элемента. В статье рекомендуется варьировать это\n",
        "    между 20-200. Увеличение количества может привести к переобучению, но может уменьшить систематическую ошибку.\n",
        "    \n",
        "    seed - для воспроизводимости результатов\n",
        "\n",
        "\n",
        "    Результат:\n",
        "\n",
        "    Скалярное произведение векторов X, Y дает ожидаемый «рейтинг» в каждой паре исходной матрицы.\n",
        "    '''\n",
        "    conf = alpha * training_set\n",
        "    num_user = conf.shape[0]\n",
        "    num_item = conf.shape[1] \n",
        "    \n",
        "    # случайным образом инициализируем векторы признаков X и Y\n",
        "    rstate = np.random.RandomState(seed)\n",
        "    X = sparse.csr_matrix(rstate.normal(size = (num_user, rank_size)))\n",
        "    Y = sparse.csr_matrix(rstate.normal(size = (num_item, rank_size)))\n",
        "\n",
        "    X_eye = sparse.eye(num_user)\n",
        "    Y_eye = sparse.eye(num_item)\n",
        "\n",
        "    lambda_eye = lambda_val * sparse.eye(rank_size) # регуляризации lambda*I\n",
        "    \n",
        "    for iter_step in range(iterations):\n",
        "        yTy = Y.T.dot(Y)\n",
        "        xTx = X.T.dot(X)\n",
        "\n",
        "        # Итерация решения для X на основе фиксированного Y\n",
        "        for u in range(num_user):\n",
        "            conf_samp = conf[u,:].toarray() \n",
        "            pref = conf_samp.copy() \n",
        "            pref[pref != 0] = 1\n",
        "            CuI = sparse.diags(conf_samp, [0]) \n",
        "            yTCuIY = Y.T.dot(CuI).dot(Y) \n",
        "            yTCupu = Y.T.dot(CuI + Y_eye).dot(pref.T) \n",
        "            X[u] = spsolve(yTy + yTCuIY + lambda_eye, yTCupu) \n",
        "    \n",
        "        # Итерация решения для Y на основе фиксированного X\n",
        "        for i in range(num_item):\n",
        "            conf_samp = conf[:,i].T.toarray()\n",
        "            pref = conf_samp.copy()\n",
        "            pref[pref != 0] = 1 \n",
        "            CiI = sparse.diags(conf_samp, [0])\n",
        "            xTCiIX = X.T.dot(CiI).dot(X) \n",
        "            xTCiPi = X.T.dot(CiI + X_eye).dot(pref.T)\n",
        "            Y[i] = spsolve(xTx + xTCiIX + lambda_eye, xTCiPi)\n",
        "\n",
        "    return X, Y.T"
      ],
      "metadata": {
        "id": "7cDRmFLs4DnT"
      },
      "execution_count": 358,
      "outputs": []
    },
    {
      "cell_type": "code",
      "source": [
        "user_vecs, articles_vecs = implicit_weighted_ALS(data_train)"
      ],
      "metadata": {
        "id": "vXTv6pfRhrlN"
      },
      "execution_count": 359,
      "outputs": []
    },
    {
      "cell_type": "code",
      "source": [
        "pd.DataFrame.sparse.from_spmatrix(user_vecs.dot(articles_vecs))"
      ],
      "metadata": {
        "colab": {
          "base_uri": "https://localhost:8080/",
          "height": 488
        },
        "id": "ePoOLq3Li0nV",
        "outputId": "0783a2bb-f51a-4691-eb30-b4100747c48e"
      },
      "execution_count": 360,
      "outputs": [
        {
          "output_type": "execute_result",
          "data": {
            "text/plain": [
              "          0         1         2         3         4         5         6     \\\n",
              "0    -0.033819 -0.051754  0.289484 -0.104567  0.127782  0.341565 -0.050967   \n",
              "1     0.828852  0.017454  0.460150  0.466844  0.536716  0.534460  0.883315   \n",
              "2     1.225257 -0.133249 -0.818224 -0.070658 -0.284690  1.083036  1.103886   \n",
              "3     0.975221  0.321642 -0.601620  0.298723 -0.146851  0.400421 -0.252896   \n",
              "4     0.380571 -0.125150  0.209017 -0.224644  0.126809  0.150761 -0.019917   \n",
              "...        ...       ...       ...       ...       ...       ...       ...   \n",
              "1107  0.081986 -0.163746  0.083299 -0.173212 -0.077410  0.104096 -0.015497   \n",
              "1108  0.054252 -0.158545 -0.168217 -0.012307 -0.262017  0.183427 -0.170376   \n",
              "1109  0.113995  0.046530  0.441193  0.138395  0.120380 -0.037280 -0.274976   \n",
              "1110 -0.336625  0.317455  0.279168 -0.174551  0.241231  0.318668 -0.300534   \n",
              "1111  0.099472 -0.011009  0.047350  0.003874 -0.100171 -0.252103 -0.246887   \n",
              "\n",
              "          7         8         9     ...      2966      2967      2968  2969  \\\n",
              "0     0.064539 -0.183601 -0.053165  ... -0.127712 -0.063604  0.195922   0.0   \n",
              "1    -0.374976  0.580667  1.000496  ...  0.954280  0.676172  0.284992   0.0   \n",
              "2     0.092985  0.248321  0.422853  ...  0.752333  1.173604 -0.473461   0.0   \n",
              "3     0.112747 -0.220853  0.084852  ...  0.143466  1.086192 -0.047522   0.0   \n",
              "4     0.123571  0.016332 -0.348650  ... -0.003034 -0.077572 -0.041181   0.0   \n",
              "...        ...       ...       ...  ...       ...       ...       ...   ...   \n",
              "1107 -0.261523  0.035880 -0.049559  ... -0.069709  0.402890  0.046293   0.0   \n",
              "1108 -0.064096 -0.287177 -0.001490  ...  0.023115  0.160785 -0.059060   0.0   \n",
              "1109 -0.483721 -0.210232  0.289794  ...  0.104526  0.291366  0.583012   0.0   \n",
              "1110 -0.074034  0.139740  0.159578  ... -0.183422  0.036069  0.553433   0.0   \n",
              "1111 -0.011483 -0.059884 -0.130029  ... -0.010720  0.330734  0.029586   0.0   \n",
              "\n",
              "          2970  2971      2972      2973      2974  2975  \n",
              "0    -0.207078   0.0 -0.051404 -0.121037  0.141879   0.0  \n",
              "1     0.968526   0.0  0.787272  0.094800 -0.204800   0.0  \n",
              "2     1.018779   0.0  0.302377 -0.150401 -0.215762   0.0  \n",
              "3     0.085987   0.0  0.171423  0.160987  0.319865   0.0  \n",
              "4     0.022435   0.0 -0.193741 -0.014360  0.171383   0.0  \n",
              "...        ...   ...       ...       ...       ...   ...  \n",
              "1107 -0.198392   0.0 -0.112769  0.336942 -0.074343   0.0  \n",
              "1108  0.122481   0.0 -0.102468  0.089663  0.301837   0.0  \n",
              "1109  0.060636   0.0  0.061435  0.488738  0.438966   0.0  \n",
              "1110 -0.142966   0.0 -0.160011  0.678942 -0.047025   0.0  \n",
              "1111  0.085299   0.0  0.086532  0.267921  0.101037   0.0  \n",
              "\n",
              "[1112 rows x 2976 columns]"
            ],
            "text/html": [
              "\n",
              "  <div id=\"df-117a201e-d14d-4812-996b-49389e031d2c\">\n",
              "    <div class=\"colab-df-container\">\n",
              "      <div>\n",
              "<style scoped>\n",
              "    .dataframe tbody tr th:only-of-type {\n",
              "        vertical-align: middle;\n",
              "    }\n",
              "\n",
              "    .dataframe tbody tr th {\n",
              "        vertical-align: top;\n",
              "    }\n",
              "\n",
              "    .dataframe thead th {\n",
              "        text-align: right;\n",
              "    }\n",
              "</style>\n",
              "<table border=\"1\" class=\"dataframe\">\n",
              "  <thead>\n",
              "    <tr style=\"text-align: right;\">\n",
              "      <th></th>\n",
              "      <th>0</th>\n",
              "      <th>1</th>\n",
              "      <th>2</th>\n",
              "      <th>3</th>\n",
              "      <th>4</th>\n",
              "      <th>5</th>\n",
              "      <th>6</th>\n",
              "      <th>7</th>\n",
              "      <th>8</th>\n",
              "      <th>9</th>\n",
              "      <th>...</th>\n",
              "      <th>2966</th>\n",
              "      <th>2967</th>\n",
              "      <th>2968</th>\n",
              "      <th>2969</th>\n",
              "      <th>2970</th>\n",
              "      <th>2971</th>\n",
              "      <th>2972</th>\n",
              "      <th>2973</th>\n",
              "      <th>2974</th>\n",
              "      <th>2975</th>\n",
              "    </tr>\n",
              "  </thead>\n",
              "  <tbody>\n",
              "    <tr>\n",
              "      <th>0</th>\n",
              "      <td>-0.033819</td>\n",
              "      <td>-0.051754</td>\n",
              "      <td>0.289484</td>\n",
              "      <td>-0.104567</td>\n",
              "      <td>0.127782</td>\n",
              "      <td>0.341565</td>\n",
              "      <td>-0.050967</td>\n",
              "      <td>0.064539</td>\n",
              "      <td>-0.183601</td>\n",
              "      <td>-0.053165</td>\n",
              "      <td>...</td>\n",
              "      <td>-0.127712</td>\n",
              "      <td>-0.063604</td>\n",
              "      <td>0.195922</td>\n",
              "      <td>0.0</td>\n",
              "      <td>-0.207078</td>\n",
              "      <td>0.0</td>\n",
              "      <td>-0.051404</td>\n",
              "      <td>-0.121037</td>\n",
              "      <td>0.141879</td>\n",
              "      <td>0.0</td>\n",
              "    </tr>\n",
              "    <tr>\n",
              "      <th>1</th>\n",
              "      <td>0.828852</td>\n",
              "      <td>0.017454</td>\n",
              "      <td>0.460150</td>\n",
              "      <td>0.466844</td>\n",
              "      <td>0.536716</td>\n",
              "      <td>0.534460</td>\n",
              "      <td>0.883315</td>\n",
              "      <td>-0.374976</td>\n",
              "      <td>0.580667</td>\n",
              "      <td>1.000496</td>\n",
              "      <td>...</td>\n",
              "      <td>0.954280</td>\n",
              "      <td>0.676172</td>\n",
              "      <td>0.284992</td>\n",
              "      <td>0.0</td>\n",
              "      <td>0.968526</td>\n",
              "      <td>0.0</td>\n",
              "      <td>0.787272</td>\n",
              "      <td>0.094800</td>\n",
              "      <td>-0.204800</td>\n",
              "      <td>0.0</td>\n",
              "    </tr>\n",
              "    <tr>\n",
              "      <th>2</th>\n",
              "      <td>1.225257</td>\n",
              "      <td>-0.133249</td>\n",
              "      <td>-0.818224</td>\n",
              "      <td>-0.070658</td>\n",
              "      <td>-0.284690</td>\n",
              "      <td>1.083036</td>\n",
              "      <td>1.103886</td>\n",
              "      <td>0.092985</td>\n",
              "      <td>0.248321</td>\n",
              "      <td>0.422853</td>\n",
              "      <td>...</td>\n",
              "      <td>0.752333</td>\n",
              "      <td>1.173604</td>\n",
              "      <td>-0.473461</td>\n",
              "      <td>0.0</td>\n",
              "      <td>1.018779</td>\n",
              "      <td>0.0</td>\n",
              "      <td>0.302377</td>\n",
              "      <td>-0.150401</td>\n",
              "      <td>-0.215762</td>\n",
              "      <td>0.0</td>\n",
              "    </tr>\n",
              "    <tr>\n",
              "      <th>3</th>\n",
              "      <td>0.975221</td>\n",
              "      <td>0.321642</td>\n",
              "      <td>-0.601620</td>\n",
              "      <td>0.298723</td>\n",
              "      <td>-0.146851</td>\n",
              "      <td>0.400421</td>\n",
              "      <td>-0.252896</td>\n",
              "      <td>0.112747</td>\n",
              "      <td>-0.220853</td>\n",
              "      <td>0.084852</td>\n",
              "      <td>...</td>\n",
              "      <td>0.143466</td>\n",
              "      <td>1.086192</td>\n",
              "      <td>-0.047522</td>\n",
              "      <td>0.0</td>\n",
              "      <td>0.085987</td>\n",
              "      <td>0.0</td>\n",
              "      <td>0.171423</td>\n",
              "      <td>0.160987</td>\n",
              "      <td>0.319865</td>\n",
              "      <td>0.0</td>\n",
              "    </tr>\n",
              "    <tr>\n",
              "      <th>4</th>\n",
              "      <td>0.380571</td>\n",
              "      <td>-0.125150</td>\n",
              "      <td>0.209017</td>\n",
              "      <td>-0.224644</td>\n",
              "      <td>0.126809</td>\n",
              "      <td>0.150761</td>\n",
              "      <td>-0.019917</td>\n",
              "      <td>0.123571</td>\n",
              "      <td>0.016332</td>\n",
              "      <td>-0.348650</td>\n",
              "      <td>...</td>\n",
              "      <td>-0.003034</td>\n",
              "      <td>-0.077572</td>\n",
              "      <td>-0.041181</td>\n",
              "      <td>0.0</td>\n",
              "      <td>0.022435</td>\n",
              "      <td>0.0</td>\n",
              "      <td>-0.193741</td>\n",
              "      <td>-0.014360</td>\n",
              "      <td>0.171383</td>\n",
              "      <td>0.0</td>\n",
              "    </tr>\n",
              "    <tr>\n",
              "      <th>...</th>\n",
              "      <td>...</td>\n",
              "      <td>...</td>\n",
              "      <td>...</td>\n",
              "      <td>...</td>\n",
              "      <td>...</td>\n",
              "      <td>...</td>\n",
              "      <td>...</td>\n",
              "      <td>...</td>\n",
              "      <td>...</td>\n",
              "      <td>...</td>\n",
              "      <td>...</td>\n",
              "      <td>...</td>\n",
              "      <td>...</td>\n",
              "      <td>...</td>\n",
              "      <td>...</td>\n",
              "      <td>...</td>\n",
              "      <td>...</td>\n",
              "      <td>...</td>\n",
              "      <td>...</td>\n",
              "      <td>...</td>\n",
              "      <td>...</td>\n",
              "    </tr>\n",
              "    <tr>\n",
              "      <th>1107</th>\n",
              "      <td>0.081986</td>\n",
              "      <td>-0.163746</td>\n",
              "      <td>0.083299</td>\n",
              "      <td>-0.173212</td>\n",
              "      <td>-0.077410</td>\n",
              "      <td>0.104096</td>\n",
              "      <td>-0.015497</td>\n",
              "      <td>-0.261523</td>\n",
              "      <td>0.035880</td>\n",
              "      <td>-0.049559</td>\n",
              "      <td>...</td>\n",
              "      <td>-0.069709</td>\n",
              "      <td>0.402890</td>\n",
              "      <td>0.046293</td>\n",
              "      <td>0.0</td>\n",
              "      <td>-0.198392</td>\n",
              "      <td>0.0</td>\n",
              "      <td>-0.112769</td>\n",
              "      <td>0.336942</td>\n",
              "      <td>-0.074343</td>\n",
              "      <td>0.0</td>\n",
              "    </tr>\n",
              "    <tr>\n",
              "      <th>1108</th>\n",
              "      <td>0.054252</td>\n",
              "      <td>-0.158545</td>\n",
              "      <td>-0.168217</td>\n",
              "      <td>-0.012307</td>\n",
              "      <td>-0.262017</td>\n",
              "      <td>0.183427</td>\n",
              "      <td>-0.170376</td>\n",
              "      <td>-0.064096</td>\n",
              "      <td>-0.287177</td>\n",
              "      <td>-0.001490</td>\n",
              "      <td>...</td>\n",
              "      <td>0.023115</td>\n",
              "      <td>0.160785</td>\n",
              "      <td>-0.059060</td>\n",
              "      <td>0.0</td>\n",
              "      <td>0.122481</td>\n",
              "      <td>0.0</td>\n",
              "      <td>-0.102468</td>\n",
              "      <td>0.089663</td>\n",
              "      <td>0.301837</td>\n",
              "      <td>0.0</td>\n",
              "    </tr>\n",
              "    <tr>\n",
              "      <th>1109</th>\n",
              "      <td>0.113995</td>\n",
              "      <td>0.046530</td>\n",
              "      <td>0.441193</td>\n",
              "      <td>0.138395</td>\n",
              "      <td>0.120380</td>\n",
              "      <td>-0.037280</td>\n",
              "      <td>-0.274976</td>\n",
              "      <td>-0.483721</td>\n",
              "      <td>-0.210232</td>\n",
              "      <td>0.289794</td>\n",
              "      <td>...</td>\n",
              "      <td>0.104526</td>\n",
              "      <td>0.291366</td>\n",
              "      <td>0.583012</td>\n",
              "      <td>0.0</td>\n",
              "      <td>0.060636</td>\n",
              "      <td>0.0</td>\n",
              "      <td>0.061435</td>\n",
              "      <td>0.488738</td>\n",
              "      <td>0.438966</td>\n",
              "      <td>0.0</td>\n",
              "    </tr>\n",
              "    <tr>\n",
              "      <th>1110</th>\n",
              "      <td>-0.336625</td>\n",
              "      <td>0.317455</td>\n",
              "      <td>0.279168</td>\n",
              "      <td>-0.174551</td>\n",
              "      <td>0.241231</td>\n",
              "      <td>0.318668</td>\n",
              "      <td>-0.300534</td>\n",
              "      <td>-0.074034</td>\n",
              "      <td>0.139740</td>\n",
              "      <td>0.159578</td>\n",
              "      <td>...</td>\n",
              "      <td>-0.183422</td>\n",
              "      <td>0.036069</td>\n",
              "      <td>0.553433</td>\n",
              "      <td>0.0</td>\n",
              "      <td>-0.142966</td>\n",
              "      <td>0.0</td>\n",
              "      <td>-0.160011</td>\n",
              "      <td>0.678942</td>\n",
              "      <td>-0.047025</td>\n",
              "      <td>0.0</td>\n",
              "    </tr>\n",
              "    <tr>\n",
              "      <th>1111</th>\n",
              "      <td>0.099472</td>\n",
              "      <td>-0.011009</td>\n",
              "      <td>0.047350</td>\n",
              "      <td>0.003874</td>\n",
              "      <td>-0.100171</td>\n",
              "      <td>-0.252103</td>\n",
              "      <td>-0.246887</td>\n",
              "      <td>-0.011483</td>\n",
              "      <td>-0.059884</td>\n",
              "      <td>-0.130029</td>\n",
              "      <td>...</td>\n",
              "      <td>-0.010720</td>\n",
              "      <td>0.330734</td>\n",
              "      <td>0.029586</td>\n",
              "      <td>0.0</td>\n",
              "      <td>0.085299</td>\n",
              "      <td>0.0</td>\n",
              "      <td>0.086532</td>\n",
              "      <td>0.267921</td>\n",
              "      <td>0.101037</td>\n",
              "      <td>0.0</td>\n",
              "    </tr>\n",
              "  </tbody>\n",
              "</table>\n",
              "<p>1112 rows × 2976 columns</p>\n",
              "</div>\n",
              "      <button class=\"colab-df-convert\" onclick=\"convertToInteractive('df-117a201e-d14d-4812-996b-49389e031d2c')\"\n",
              "              title=\"Convert this dataframe to an interactive table.\"\n",
              "              style=\"display:none;\">\n",
              "        \n",
              "  <svg xmlns=\"http://www.w3.org/2000/svg\" height=\"24px\"viewBox=\"0 0 24 24\"\n",
              "       width=\"24px\">\n",
              "    <path d=\"M0 0h24v24H0V0z\" fill=\"none\"/>\n",
              "    <path d=\"M18.56 5.44l.94 2.06.94-2.06 2.06-.94-2.06-.94-.94-2.06-.94 2.06-2.06.94zm-11 1L8.5 8.5l.94-2.06 2.06-.94-2.06-.94L8.5 2.5l-.94 2.06-2.06.94zm10 10l.94 2.06.94-2.06 2.06-.94-2.06-.94-.94-2.06-.94 2.06-2.06.94z\"/><path d=\"M17.41 7.96l-1.37-1.37c-.4-.4-.92-.59-1.43-.59-.52 0-1.04.2-1.43.59L10.3 9.45l-7.72 7.72c-.78.78-.78 2.05 0 2.83L4 21.41c.39.39.9.59 1.41.59.51 0 1.02-.2 1.41-.59l7.78-7.78 2.81-2.81c.8-.78.8-2.07 0-2.86zM5.41 20L4 18.59l7.72-7.72 1.47 1.35L5.41 20z\"/>\n",
              "  </svg>\n",
              "      </button>\n",
              "      \n",
              "  <style>\n",
              "    .colab-df-container {\n",
              "      display:flex;\n",
              "      flex-wrap:wrap;\n",
              "      gap: 12px;\n",
              "    }\n",
              "\n",
              "    .colab-df-convert {\n",
              "      background-color: #E8F0FE;\n",
              "      border: none;\n",
              "      border-radius: 50%;\n",
              "      cursor: pointer;\n",
              "      display: none;\n",
              "      fill: #1967D2;\n",
              "      height: 32px;\n",
              "      padding: 0 0 0 0;\n",
              "      width: 32px;\n",
              "    }\n",
              "\n",
              "    .colab-df-convert:hover {\n",
              "      background-color: #E2EBFA;\n",
              "      box-shadow: 0px 1px 2px rgba(60, 64, 67, 0.3), 0px 1px 3px 1px rgba(60, 64, 67, 0.15);\n",
              "      fill: #174EA6;\n",
              "    }\n",
              "\n",
              "    [theme=dark] .colab-df-convert {\n",
              "      background-color: #3B4455;\n",
              "      fill: #D2E3FC;\n",
              "    }\n",
              "\n",
              "    [theme=dark] .colab-df-convert:hover {\n",
              "      background-color: #434B5C;\n",
              "      box-shadow: 0px 1px 3px 1px rgba(0, 0, 0, 0.15);\n",
              "      filter: drop-shadow(0px 1px 2px rgba(0, 0, 0, 0.3));\n",
              "      fill: #FFFFFF;\n",
              "    }\n",
              "  </style>\n",
              "\n",
              "      <script>\n",
              "        const buttonEl =\n",
              "          document.querySelector('#df-117a201e-d14d-4812-996b-49389e031d2c button.colab-df-convert');\n",
              "        buttonEl.style.display =\n",
              "          google.colab.kernel.accessAllowed ? 'block' : 'none';\n",
              "\n",
              "        async function convertToInteractive(key) {\n",
              "          const element = document.querySelector('#df-117a201e-d14d-4812-996b-49389e031d2c');\n",
              "          const dataTable =\n",
              "            await google.colab.kernel.invokeFunction('convertToInteractive',\n",
              "                                                     [key], {});\n",
              "          if (!dataTable) return;\n",
              "\n",
              "          const docLinkHtml = 'Like what you see? Visit the ' +\n",
              "            '<a target=\"_blank\" href=https://colab.research.google.com/notebooks/data_table.ipynb>data table notebook</a>'\n",
              "            + ' to learn more about interactive tables.';\n",
              "          element.innerHTML = '';\n",
              "          dataTable['output_type'] = 'display_data';\n",
              "          await google.colab.output.renderOutput(dataTable, element);\n",
              "          const docLink = document.createElement('div');\n",
              "          docLink.innerHTML = docLinkHtml;\n",
              "          element.appendChild(docLink);\n",
              "        }\n",
              "      </script>\n",
              "    </div>\n",
              "  </div>\n",
              "  "
            ]
          },
          "metadata": {},
          "execution_count": 360
        }
      ]
    }
  ],
  "metadata": {
    "colab": {
      "provenance": []
    },
    "kernelspec": {
      "display_name": "Python 3 (ipykernel)",
      "language": "python",
      "name": "python3"
    },
    "language_info": {
      "codemirror_mode": {
        "name": "ipython",
        "version": 3
      },
      "file_extension": ".py",
      "mimetype": "text/x-python",
      "name": "python",
      "nbconvert_exporter": "python",
      "pygments_lexer": "ipython3",
      "version": "3.9.10"
    }
  },
  "nbformat": 4,
  "nbformat_minor": 0
}