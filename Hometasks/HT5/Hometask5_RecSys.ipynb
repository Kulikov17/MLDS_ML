{
  "cells": [
    {
      "cell_type": "markdown",
      "metadata": {
        "id": "ef6180WvQbD-"
      },
      "source": [
        "# Введение\n",
        "\n",
        "В этом задании Вы продолжите работать с данными из семинара [Articles Sharing and Reading from CI&T Deskdrop](https://www.kaggle.com/gspmoreira/articles-sharing-reading-from-cit-deskdrop)."
      ]
    },
    {
      "cell_type": "markdown",
      "metadata": {
        "id": "nSV_mxD9TciM"
      },
      "source": [
        "# Загрузка и предобработка данных"
      ]
    },
    {
      "cell_type": "code",
      "execution_count": 3,
      "metadata": {
        "id": "M5mH3ZolSlcm"
      },
      "outputs": [],
      "source": [
        "import math\n",
        "\n",
        "import numpy as np\n",
        "import pandas as pd"
      ]
    },
    {
      "cell_type": "markdown",
      "metadata": {
        "id": "PRQVuRvER0hd"
      },
      "source": [
        "Загрузим данные и проведем предобработку данных как на семинаре."
      ]
    },
    {
      "cell_type": "code",
      "source": [
        "!mkdir -p ~/.kaggle # creating .kaggle folder where the key should be placed\n",
        "!cp kaggle.json ~/.kaggle/ # move the key to the folder"
      ],
      "metadata": {
        "id": "cBKi87ekd6Oc"
      },
      "execution_count": 4,
      "outputs": []
    },
    {
      "cell_type": "code",
      "execution_count": 5,
      "metadata": {
        "id": "8E837g9kQTbb",
        "colab": {
          "base_uri": "https://localhost:8080/"
        },
        "outputId": "a8a1b334-80dc-436c-de48-bd6d985d2cdd"
      },
      "outputs": [
        {
          "output_type": "stream",
          "name": "stdout",
          "text": [
            "Warning: Your Kaggle API key is readable by other users on this system! To fix this, you can run 'chmod 600 /root/.kaggle/kaggle.json'\n",
            "Downloading articles-sharing-reading-from-cit-deskdrop.zip to /content\n",
            " 61% 5.00M/8.20M [00:00<00:00, 49.4MB/s]\n",
            "100% 8.20M/8.20M [00:00<00:00, 68.5MB/s]\n",
            "Archive:  articles-sharing-reading-from-cit-deskdrop.zip\n",
            "  inflating: articles/shared_articles.csv  \n",
            "  inflating: articles/users_interactions.csv  \n"
          ]
        }
      ],
      "source": [
        "!kaggle datasets download -d gspmoreira/articles-sharing-reading-from-cit-deskdrop\n",
        "!unzip articles-sharing-reading-from-cit-deskdrop.zip -d articles"
      ]
    },
    {
      "cell_type": "code",
      "execution_count": 6,
      "metadata": {
        "id": "hdM1xSchR9jt",
        "colab": {
          "base_uri": "https://localhost:8080/",
          "height": 436
        },
        "outputId": "90e0e3bd-1a06-4523-f60b-34d85edf6232"
      },
      "outputs": [
        {
          "output_type": "execute_result",
          "data": {
            "text/plain": [
              "    timestamp       eventType            contentId       authorPersonId  \\\n",
              "1  1459193988  CONTENT SHARED -4110354420726924665  4340306774493623681   \n",
              "2  1459194146  CONTENT SHARED -7292285110016212249  4340306774493623681   \n",
              "\n",
              "       authorSessionId authorUserAgent authorRegion authorCountry contentType  \\\n",
              "1  8940341205206233829             NaN          NaN           NaN        HTML   \n",
              "2  8940341205206233829             NaN          NaN           NaN        HTML   \n",
              "\n",
              "                                                 url  \\\n",
              "1  http://www.nytimes.com/2016/03/28/business/dea...   \n",
              "2  http://cointelegraph.com/news/bitcoin-future-w...   \n",
              "\n",
              "                                               title  \\\n",
              "1  Ethereum, a Virtual Currency, Enables Transact...   \n",
              "2  Bitcoin Future: When GBPcoin of Branson Wins O...   \n",
              "\n",
              "                                                text lang  \n",
              "1  All of this work is still very early. The firs...   en  \n",
              "2  The alarm clock wakes me at 8:00 with stream o...   en  "
            ],
            "text/html": [
              "\n",
              "  <div id=\"df-31eb9844-a859-40dc-83fd-9215060be8fd\">\n",
              "    <div class=\"colab-df-container\">\n",
              "      <div>\n",
              "<style scoped>\n",
              "    .dataframe tbody tr th:only-of-type {\n",
              "        vertical-align: middle;\n",
              "    }\n",
              "\n",
              "    .dataframe tbody tr th {\n",
              "        vertical-align: top;\n",
              "    }\n",
              "\n",
              "    .dataframe thead th {\n",
              "        text-align: right;\n",
              "    }\n",
              "</style>\n",
              "<table border=\"1\" class=\"dataframe\">\n",
              "  <thead>\n",
              "    <tr style=\"text-align: right;\">\n",
              "      <th></th>\n",
              "      <th>timestamp</th>\n",
              "      <th>eventType</th>\n",
              "      <th>contentId</th>\n",
              "      <th>authorPersonId</th>\n",
              "      <th>authorSessionId</th>\n",
              "      <th>authorUserAgent</th>\n",
              "      <th>authorRegion</th>\n",
              "      <th>authorCountry</th>\n",
              "      <th>contentType</th>\n",
              "      <th>url</th>\n",
              "      <th>title</th>\n",
              "      <th>text</th>\n",
              "      <th>lang</th>\n",
              "    </tr>\n",
              "  </thead>\n",
              "  <tbody>\n",
              "    <tr>\n",
              "      <th>1</th>\n",
              "      <td>1459193988</td>\n",
              "      <td>CONTENT SHARED</td>\n",
              "      <td>-4110354420726924665</td>\n",
              "      <td>4340306774493623681</td>\n",
              "      <td>8940341205206233829</td>\n",
              "      <td>NaN</td>\n",
              "      <td>NaN</td>\n",
              "      <td>NaN</td>\n",
              "      <td>HTML</td>\n",
              "      <td>http://www.nytimes.com/2016/03/28/business/dea...</td>\n",
              "      <td>Ethereum, a Virtual Currency, Enables Transact...</td>\n",
              "      <td>All of this work is still very early. The firs...</td>\n",
              "      <td>en</td>\n",
              "    </tr>\n",
              "    <tr>\n",
              "      <th>2</th>\n",
              "      <td>1459194146</td>\n",
              "      <td>CONTENT SHARED</td>\n",
              "      <td>-7292285110016212249</td>\n",
              "      <td>4340306774493623681</td>\n",
              "      <td>8940341205206233829</td>\n",
              "      <td>NaN</td>\n",
              "      <td>NaN</td>\n",
              "      <td>NaN</td>\n",
              "      <td>HTML</td>\n",
              "      <td>http://cointelegraph.com/news/bitcoin-future-w...</td>\n",
              "      <td>Bitcoin Future: When GBPcoin of Branson Wins O...</td>\n",
              "      <td>The alarm clock wakes me at 8:00 with stream o...</td>\n",
              "      <td>en</td>\n",
              "    </tr>\n",
              "  </tbody>\n",
              "</table>\n",
              "</div>\n",
              "      <button class=\"colab-df-convert\" onclick=\"convertToInteractive('df-31eb9844-a859-40dc-83fd-9215060be8fd')\"\n",
              "              title=\"Convert this dataframe to an interactive table.\"\n",
              "              style=\"display:none;\">\n",
              "        \n",
              "  <svg xmlns=\"http://www.w3.org/2000/svg\" height=\"24px\"viewBox=\"0 0 24 24\"\n",
              "       width=\"24px\">\n",
              "    <path d=\"M0 0h24v24H0V0z\" fill=\"none\"/>\n",
              "    <path d=\"M18.56 5.44l.94 2.06.94-2.06 2.06-.94-2.06-.94-.94-2.06-.94 2.06-2.06.94zm-11 1L8.5 8.5l.94-2.06 2.06-.94-2.06-.94L8.5 2.5l-.94 2.06-2.06.94zm10 10l.94 2.06.94-2.06 2.06-.94-2.06-.94-.94-2.06-.94 2.06-2.06.94z\"/><path d=\"M17.41 7.96l-1.37-1.37c-.4-.4-.92-.59-1.43-.59-.52 0-1.04.2-1.43.59L10.3 9.45l-7.72 7.72c-.78.78-.78 2.05 0 2.83L4 21.41c.39.39.9.59 1.41.59.51 0 1.02-.2 1.41-.59l7.78-7.78 2.81-2.81c.8-.78.8-2.07 0-2.86zM5.41 20L4 18.59l7.72-7.72 1.47 1.35L5.41 20z\"/>\n",
              "  </svg>\n",
              "      </button>\n",
              "      \n",
              "  <style>\n",
              "    .colab-df-container {\n",
              "      display:flex;\n",
              "      flex-wrap:wrap;\n",
              "      gap: 12px;\n",
              "    }\n",
              "\n",
              "    .colab-df-convert {\n",
              "      background-color: #E8F0FE;\n",
              "      border: none;\n",
              "      border-radius: 50%;\n",
              "      cursor: pointer;\n",
              "      display: none;\n",
              "      fill: #1967D2;\n",
              "      height: 32px;\n",
              "      padding: 0 0 0 0;\n",
              "      width: 32px;\n",
              "    }\n",
              "\n",
              "    .colab-df-convert:hover {\n",
              "      background-color: #E2EBFA;\n",
              "      box-shadow: 0px 1px 2px rgba(60, 64, 67, 0.3), 0px 1px 3px 1px rgba(60, 64, 67, 0.15);\n",
              "      fill: #174EA6;\n",
              "    }\n",
              "\n",
              "    [theme=dark] .colab-df-convert {\n",
              "      background-color: #3B4455;\n",
              "      fill: #D2E3FC;\n",
              "    }\n",
              "\n",
              "    [theme=dark] .colab-df-convert:hover {\n",
              "      background-color: #434B5C;\n",
              "      box-shadow: 0px 1px 3px 1px rgba(0, 0, 0, 0.15);\n",
              "      filter: drop-shadow(0px 1px 2px rgba(0, 0, 0, 0.3));\n",
              "      fill: #FFFFFF;\n",
              "    }\n",
              "  </style>\n",
              "\n",
              "      <script>\n",
              "        const buttonEl =\n",
              "          document.querySelector('#df-31eb9844-a859-40dc-83fd-9215060be8fd button.colab-df-convert');\n",
              "        buttonEl.style.display =\n",
              "          google.colab.kernel.accessAllowed ? 'block' : 'none';\n",
              "\n",
              "        async function convertToInteractive(key) {\n",
              "          const element = document.querySelector('#df-31eb9844-a859-40dc-83fd-9215060be8fd');\n",
              "          const dataTable =\n",
              "            await google.colab.kernel.invokeFunction('convertToInteractive',\n",
              "                                                     [key], {});\n",
              "          if (!dataTable) return;\n",
              "\n",
              "          const docLinkHtml = 'Like what you see? Visit the ' +\n",
              "            '<a target=\"_blank\" href=https://colab.research.google.com/notebooks/data_table.ipynb>data table notebook</a>'\n",
              "            + ' to learn more about interactive tables.';\n",
              "          element.innerHTML = '';\n",
              "          dataTable['output_type'] = 'display_data';\n",
              "          await google.colab.output.renderOutput(dataTable, element);\n",
              "          const docLink = document.createElement('div');\n",
              "          docLink.innerHTML = docLinkHtml;\n",
              "          element.appendChild(docLink);\n",
              "        }\n",
              "      </script>\n",
              "    </div>\n",
              "  </div>\n",
              "  "
            ]
          },
          "metadata": {},
          "execution_count": 6
        }
      ],
      "source": [
        "articles_df = pd.read_csv(\"articles/shared_articles.csv\")\n",
        "articles_df = articles_df[articles_df[\"eventType\"] == \"CONTENT SHARED\"]\n",
        "articles_df.head(2)"
      ]
    },
    {
      "cell_type": "code",
      "execution_count": 7,
      "metadata": {
        "id": "KK9wMAkvSjbk",
        "colab": {
          "base_uri": "https://localhost:8080/",
          "height": 208
        },
        "outputId": "7ebf0aa3-7b63-49fd-b712-ec77d0456d9c"
      },
      "outputs": [
        {
          "output_type": "execute_result",
          "data": {
            "text/plain": [
              "    timestamp eventType            contentId             personId  \\\n",
              "0  1465413032      VIEW -3499919498720038879 -8845298781299428018   \n",
              "1  1465412560      VIEW  8890720798209849691 -1032019229384696495   \n",
              "\n",
              "             sessionId                                          userAgent  \\\n",
              "0  1264196770339959068                                                NaN   \n",
              "1  3621737643587579081  Mozilla/5.0 (Macintosh; Intel Mac OS X 10_11_2...   \n",
              "\n",
              "  userRegion userCountry  \n",
              "0        NaN         NaN  \n",
              "1         NY          US  "
            ],
            "text/html": [
              "\n",
              "  <div id=\"df-9e39ff57-e2b0-4517-9a8a-4117b6a748ce\">\n",
              "    <div class=\"colab-df-container\">\n",
              "      <div>\n",
              "<style scoped>\n",
              "    .dataframe tbody tr th:only-of-type {\n",
              "        vertical-align: middle;\n",
              "    }\n",
              "\n",
              "    .dataframe tbody tr th {\n",
              "        vertical-align: top;\n",
              "    }\n",
              "\n",
              "    .dataframe thead th {\n",
              "        text-align: right;\n",
              "    }\n",
              "</style>\n",
              "<table border=\"1\" class=\"dataframe\">\n",
              "  <thead>\n",
              "    <tr style=\"text-align: right;\">\n",
              "      <th></th>\n",
              "      <th>timestamp</th>\n",
              "      <th>eventType</th>\n",
              "      <th>contentId</th>\n",
              "      <th>personId</th>\n",
              "      <th>sessionId</th>\n",
              "      <th>userAgent</th>\n",
              "      <th>userRegion</th>\n",
              "      <th>userCountry</th>\n",
              "    </tr>\n",
              "  </thead>\n",
              "  <tbody>\n",
              "    <tr>\n",
              "      <th>0</th>\n",
              "      <td>1465413032</td>\n",
              "      <td>VIEW</td>\n",
              "      <td>-3499919498720038879</td>\n",
              "      <td>-8845298781299428018</td>\n",
              "      <td>1264196770339959068</td>\n",
              "      <td>NaN</td>\n",
              "      <td>NaN</td>\n",
              "      <td>NaN</td>\n",
              "    </tr>\n",
              "    <tr>\n",
              "      <th>1</th>\n",
              "      <td>1465412560</td>\n",
              "      <td>VIEW</td>\n",
              "      <td>8890720798209849691</td>\n",
              "      <td>-1032019229384696495</td>\n",
              "      <td>3621737643587579081</td>\n",
              "      <td>Mozilla/5.0 (Macintosh; Intel Mac OS X 10_11_2...</td>\n",
              "      <td>NY</td>\n",
              "      <td>US</td>\n",
              "    </tr>\n",
              "  </tbody>\n",
              "</table>\n",
              "</div>\n",
              "      <button class=\"colab-df-convert\" onclick=\"convertToInteractive('df-9e39ff57-e2b0-4517-9a8a-4117b6a748ce')\"\n",
              "              title=\"Convert this dataframe to an interactive table.\"\n",
              "              style=\"display:none;\">\n",
              "        \n",
              "  <svg xmlns=\"http://www.w3.org/2000/svg\" height=\"24px\"viewBox=\"0 0 24 24\"\n",
              "       width=\"24px\">\n",
              "    <path d=\"M0 0h24v24H0V0z\" fill=\"none\"/>\n",
              "    <path d=\"M18.56 5.44l.94 2.06.94-2.06 2.06-.94-2.06-.94-.94-2.06-.94 2.06-2.06.94zm-11 1L8.5 8.5l.94-2.06 2.06-.94-2.06-.94L8.5 2.5l-.94 2.06-2.06.94zm10 10l.94 2.06.94-2.06 2.06-.94-2.06-.94-.94-2.06-.94 2.06-2.06.94z\"/><path d=\"M17.41 7.96l-1.37-1.37c-.4-.4-.92-.59-1.43-.59-.52 0-1.04.2-1.43.59L10.3 9.45l-7.72 7.72c-.78.78-.78 2.05 0 2.83L4 21.41c.39.39.9.59 1.41.59.51 0 1.02-.2 1.41-.59l7.78-7.78 2.81-2.81c.8-.78.8-2.07 0-2.86zM5.41 20L4 18.59l7.72-7.72 1.47 1.35L5.41 20z\"/>\n",
              "  </svg>\n",
              "      </button>\n",
              "      \n",
              "  <style>\n",
              "    .colab-df-container {\n",
              "      display:flex;\n",
              "      flex-wrap:wrap;\n",
              "      gap: 12px;\n",
              "    }\n",
              "\n",
              "    .colab-df-convert {\n",
              "      background-color: #E8F0FE;\n",
              "      border: none;\n",
              "      border-radius: 50%;\n",
              "      cursor: pointer;\n",
              "      display: none;\n",
              "      fill: #1967D2;\n",
              "      height: 32px;\n",
              "      padding: 0 0 0 0;\n",
              "      width: 32px;\n",
              "    }\n",
              "\n",
              "    .colab-df-convert:hover {\n",
              "      background-color: #E2EBFA;\n",
              "      box-shadow: 0px 1px 2px rgba(60, 64, 67, 0.3), 0px 1px 3px 1px rgba(60, 64, 67, 0.15);\n",
              "      fill: #174EA6;\n",
              "    }\n",
              "\n",
              "    [theme=dark] .colab-df-convert {\n",
              "      background-color: #3B4455;\n",
              "      fill: #D2E3FC;\n",
              "    }\n",
              "\n",
              "    [theme=dark] .colab-df-convert:hover {\n",
              "      background-color: #434B5C;\n",
              "      box-shadow: 0px 1px 3px 1px rgba(0, 0, 0, 0.15);\n",
              "      filter: drop-shadow(0px 1px 2px rgba(0, 0, 0, 0.3));\n",
              "      fill: #FFFFFF;\n",
              "    }\n",
              "  </style>\n",
              "\n",
              "      <script>\n",
              "        const buttonEl =\n",
              "          document.querySelector('#df-9e39ff57-e2b0-4517-9a8a-4117b6a748ce button.colab-df-convert');\n",
              "        buttonEl.style.display =\n",
              "          google.colab.kernel.accessAllowed ? 'block' : 'none';\n",
              "\n",
              "        async function convertToInteractive(key) {\n",
              "          const element = document.querySelector('#df-9e39ff57-e2b0-4517-9a8a-4117b6a748ce');\n",
              "          const dataTable =\n",
              "            await google.colab.kernel.invokeFunction('convertToInteractive',\n",
              "                                                     [key], {});\n",
              "          if (!dataTable) return;\n",
              "\n",
              "          const docLinkHtml = 'Like what you see? Visit the ' +\n",
              "            '<a target=\"_blank\" href=https://colab.research.google.com/notebooks/data_table.ipynb>data table notebook</a>'\n",
              "            + ' to learn more about interactive tables.';\n",
              "          element.innerHTML = '';\n",
              "          dataTable['output_type'] = 'display_data';\n",
              "          await google.colab.output.renderOutput(dataTable, element);\n",
              "          const docLink = document.createElement('div');\n",
              "          docLink.innerHTML = docLinkHtml;\n",
              "          element.appendChild(docLink);\n",
              "        }\n",
              "      </script>\n",
              "    </div>\n",
              "  </div>\n",
              "  "
            ]
          },
          "metadata": {},
          "execution_count": 7
        }
      ],
      "source": [
        "interactions_df = pd.read_csv(\"articles/users_interactions.csv\")\n",
        "interactions_df.head(2)"
      ]
    },
    {
      "cell_type": "code",
      "execution_count": 8,
      "metadata": {
        "id": "5nQScdSTTzNG"
      },
      "outputs": [],
      "source": [
        "interactions_df.personId = interactions_df.personId.astype(str)\n",
        "interactions_df.contentId = interactions_df.contentId.astype(str)\n",
        "articles_df.contentId = articles_df.contentId.astype(str)"
      ]
    },
    {
      "cell_type": "code",
      "execution_count": 9,
      "metadata": {
        "id": "eu6R9rDQT2P4"
      },
      "outputs": [],
      "source": [
        "# зададим словарь определяющий силу взаимодействия\n",
        "event_type_strength = {\n",
        "    \"VIEW\": 1.0,\n",
        "    \"LIKE\": 2.0,\n",
        "    \"BOOKMARK\": 2.5,\n",
        "    \"FOLLOW\": 3.0,\n",
        "    \"COMMENT CREATED\": 4.0,\n",
        "}\n",
        "\n",
        "interactions_df[\"eventStrength\"] = interactions_df.eventType.apply(\n",
        "    lambda x: event_type_strength[x]\n",
        ")"
      ]
    },
    {
      "cell_type": "markdown",
      "metadata": {
        "id": "ATO5PRRwUkQ0"
      },
      "source": [
        "Оставляем только тех пользователей, которые произамодействовали более чем с пятью статьями."
      ]
    },
    {
      "cell_type": "code",
      "execution_count": 10,
      "metadata": {
        "id": "d-0HoboYUBm5",
        "colab": {
          "base_uri": "https://localhost:8080/"
        },
        "outputId": "f47350cd-5128-4dcc-ad69-bbe5c643aeec"
      },
      "outputs": [
        {
          "output_type": "stream",
          "name": "stdout",
          "text": [
            "# users: 1895\n",
            "# users with at least 5 interactions: 1140\n"
          ]
        }
      ],
      "source": [
        "users_interactions_count_df = (\n",
        "    interactions_df.groupby([\"personId\", \"contentId\"])\n",
        "    .first()\n",
        "    .reset_index()\n",
        "    .groupby(\"personId\")\n",
        "    .size()\n",
        ")\n",
        "print(\"# users:\", len(users_interactions_count_df))\n",
        "\n",
        "users_with_enough_interactions_df = users_interactions_count_df[\n",
        "    users_interactions_count_df >= 5\n",
        "].reset_index()[[\"personId\"]]\n",
        "print(\"# users with at least 5 interactions:\", len(users_with_enough_interactions_df))"
      ]
    },
    {
      "cell_type": "markdown",
      "metadata": {
        "id": "gQagI3DHUuX5"
      },
      "source": [
        "Оставляем только те взаимодействия, которые относятся к отфильтрованным пользователям."
      ]
    },
    {
      "cell_type": "code",
      "execution_count": 11,
      "metadata": {
        "id": "34rrdGdpUFgk"
      },
      "outputs": [],
      "source": [
        "interactions_from_selected_users_df = interactions_df.loc[\n",
        "    np.in1d(interactions_df.personId, users_with_enough_interactions_df)\n",
        "]"
      ]
    },
    {
      "cell_type": "code",
      "execution_count": 12,
      "metadata": {
        "id": "Hd3VS_BgU9HN",
        "colab": {
          "base_uri": "https://localhost:8080/"
        },
        "outputId": "201126c4-fcaf-4608-d34a-1affba450598"
      },
      "outputs": [
        {
          "output_type": "stream",
          "name": "stdout",
          "text": [
            "# interactions before: (72312, 9)\n",
            "# interactions after: (69868, 9)\n"
          ]
        }
      ],
      "source": [
        "print(f\"# interactions before: {interactions_df.shape}\")\n",
        "print(f\"# interactions after: {interactions_from_selected_users_df.shape}\")"
      ]
    },
    {
      "cell_type": "markdown",
      "metadata": {
        "id": "FYpRiFkQVR6B"
      },
      "source": [
        "Объединяем все взаимодействия пользователя по каждой статье и сглаживаем полученный результат, взяв от него логарифм."
      ]
    },
    {
      "cell_type": "code",
      "execution_count": 13,
      "metadata": {
        "id": "mtPtAehKVEUu",
        "colab": {
          "base_uri": "https://localhost:8080/",
          "height": 206
        },
        "outputId": "c4191e5c-6f7d-4614-ac93-758be12acd4b"
      },
      "outputs": [
        {
          "output_type": "execute_result",
          "data": {
            "text/plain": [
              "               personId             contentId  eventStrength  last_timestamp\n",
              "0  -1007001694607905623  -5065077552540450930       1.000000      1470395911\n",
              "1  -1007001694607905623  -6623581327558800021       1.000000      1487240080\n",
              "2  -1007001694607905623   -793729620925729327       1.000000      1472834892\n",
              "3  -1007001694607905623   1469580151036142903       1.000000      1487240062\n",
              "4  -1007001694607905623   7270966256391553686       1.584963      1485994324"
            ],
            "text/html": [
              "\n",
              "  <div id=\"df-2d80c623-c0d6-4e11-8cb7-ab8fa2e0cade\">\n",
              "    <div class=\"colab-df-container\">\n",
              "      <div>\n",
              "<style scoped>\n",
              "    .dataframe tbody tr th:only-of-type {\n",
              "        vertical-align: middle;\n",
              "    }\n",
              "\n",
              "    .dataframe tbody tr th {\n",
              "        vertical-align: top;\n",
              "    }\n",
              "\n",
              "    .dataframe thead th {\n",
              "        text-align: right;\n",
              "    }\n",
              "</style>\n",
              "<table border=\"1\" class=\"dataframe\">\n",
              "  <thead>\n",
              "    <tr style=\"text-align: right;\">\n",
              "      <th></th>\n",
              "      <th>personId</th>\n",
              "      <th>contentId</th>\n",
              "      <th>eventStrength</th>\n",
              "      <th>last_timestamp</th>\n",
              "    </tr>\n",
              "  </thead>\n",
              "  <tbody>\n",
              "    <tr>\n",
              "      <th>0</th>\n",
              "      <td>-1007001694607905623</td>\n",
              "      <td>-5065077552540450930</td>\n",
              "      <td>1.000000</td>\n",
              "      <td>1470395911</td>\n",
              "    </tr>\n",
              "    <tr>\n",
              "      <th>1</th>\n",
              "      <td>-1007001694607905623</td>\n",
              "      <td>-6623581327558800021</td>\n",
              "      <td>1.000000</td>\n",
              "      <td>1487240080</td>\n",
              "    </tr>\n",
              "    <tr>\n",
              "      <th>2</th>\n",
              "      <td>-1007001694607905623</td>\n",
              "      <td>-793729620925729327</td>\n",
              "      <td>1.000000</td>\n",
              "      <td>1472834892</td>\n",
              "    </tr>\n",
              "    <tr>\n",
              "      <th>3</th>\n",
              "      <td>-1007001694607905623</td>\n",
              "      <td>1469580151036142903</td>\n",
              "      <td>1.000000</td>\n",
              "      <td>1487240062</td>\n",
              "    </tr>\n",
              "    <tr>\n",
              "      <th>4</th>\n",
              "      <td>-1007001694607905623</td>\n",
              "      <td>7270966256391553686</td>\n",
              "      <td>1.584963</td>\n",
              "      <td>1485994324</td>\n",
              "    </tr>\n",
              "  </tbody>\n",
              "</table>\n",
              "</div>\n",
              "      <button class=\"colab-df-convert\" onclick=\"convertToInteractive('df-2d80c623-c0d6-4e11-8cb7-ab8fa2e0cade')\"\n",
              "              title=\"Convert this dataframe to an interactive table.\"\n",
              "              style=\"display:none;\">\n",
              "        \n",
              "  <svg xmlns=\"http://www.w3.org/2000/svg\" height=\"24px\"viewBox=\"0 0 24 24\"\n",
              "       width=\"24px\">\n",
              "    <path d=\"M0 0h24v24H0V0z\" fill=\"none\"/>\n",
              "    <path d=\"M18.56 5.44l.94 2.06.94-2.06 2.06-.94-2.06-.94-.94-2.06-.94 2.06-2.06.94zm-11 1L8.5 8.5l.94-2.06 2.06-.94-2.06-.94L8.5 2.5l-.94 2.06-2.06.94zm10 10l.94 2.06.94-2.06 2.06-.94-2.06-.94-.94-2.06-.94 2.06-2.06.94z\"/><path d=\"M17.41 7.96l-1.37-1.37c-.4-.4-.92-.59-1.43-.59-.52 0-1.04.2-1.43.59L10.3 9.45l-7.72 7.72c-.78.78-.78 2.05 0 2.83L4 21.41c.39.39.9.59 1.41.59.51 0 1.02-.2 1.41-.59l7.78-7.78 2.81-2.81c.8-.78.8-2.07 0-2.86zM5.41 20L4 18.59l7.72-7.72 1.47 1.35L5.41 20z\"/>\n",
              "  </svg>\n",
              "      </button>\n",
              "      \n",
              "  <style>\n",
              "    .colab-df-container {\n",
              "      display:flex;\n",
              "      flex-wrap:wrap;\n",
              "      gap: 12px;\n",
              "    }\n",
              "\n",
              "    .colab-df-convert {\n",
              "      background-color: #E8F0FE;\n",
              "      border: none;\n",
              "      border-radius: 50%;\n",
              "      cursor: pointer;\n",
              "      display: none;\n",
              "      fill: #1967D2;\n",
              "      height: 32px;\n",
              "      padding: 0 0 0 0;\n",
              "      width: 32px;\n",
              "    }\n",
              "\n",
              "    .colab-df-convert:hover {\n",
              "      background-color: #E2EBFA;\n",
              "      box-shadow: 0px 1px 2px rgba(60, 64, 67, 0.3), 0px 1px 3px 1px rgba(60, 64, 67, 0.15);\n",
              "      fill: #174EA6;\n",
              "    }\n",
              "\n",
              "    [theme=dark] .colab-df-convert {\n",
              "      background-color: #3B4455;\n",
              "      fill: #D2E3FC;\n",
              "    }\n",
              "\n",
              "    [theme=dark] .colab-df-convert:hover {\n",
              "      background-color: #434B5C;\n",
              "      box-shadow: 0px 1px 3px 1px rgba(0, 0, 0, 0.15);\n",
              "      filter: drop-shadow(0px 1px 2px rgba(0, 0, 0, 0.3));\n",
              "      fill: #FFFFFF;\n",
              "    }\n",
              "  </style>\n",
              "\n",
              "      <script>\n",
              "        const buttonEl =\n",
              "          document.querySelector('#df-2d80c623-c0d6-4e11-8cb7-ab8fa2e0cade button.colab-df-convert');\n",
              "        buttonEl.style.display =\n",
              "          google.colab.kernel.accessAllowed ? 'block' : 'none';\n",
              "\n",
              "        async function convertToInteractive(key) {\n",
              "          const element = document.querySelector('#df-2d80c623-c0d6-4e11-8cb7-ab8fa2e0cade');\n",
              "          const dataTable =\n",
              "            await google.colab.kernel.invokeFunction('convertToInteractive',\n",
              "                                                     [key], {});\n",
              "          if (!dataTable) return;\n",
              "\n",
              "          const docLinkHtml = 'Like what you see? Visit the ' +\n",
              "            '<a target=\"_blank\" href=https://colab.research.google.com/notebooks/data_table.ipynb>data table notebook</a>'\n",
              "            + ' to learn more about interactive tables.';\n",
              "          element.innerHTML = '';\n",
              "          dataTable['output_type'] = 'display_data';\n",
              "          await google.colab.output.renderOutput(dataTable, element);\n",
              "          const docLink = document.createElement('div');\n",
              "          docLink.innerHTML = docLinkHtml;\n",
              "          element.appendChild(docLink);\n",
              "        }\n",
              "      </script>\n",
              "    </div>\n",
              "  </div>\n",
              "  "
            ]
          },
          "metadata": {},
          "execution_count": 13
        }
      ],
      "source": [
        "def smooth_user_preference(x):\n",
        "    return math.log(1 + x, 2)\n",
        "\n",
        "\n",
        "interactions_full_df = (\n",
        "    interactions_from_selected_users_df.groupby([\"personId\", \"contentId\"])\n",
        "    .eventStrength.sum()\n",
        "    .apply(smooth_user_preference)\n",
        "    .reset_index()\n",
        "    .set_index([\"personId\", \"contentId\"])\n",
        ")\n",
        "interactions_full_df[\"last_timestamp\"] = interactions_from_selected_users_df.groupby(\n",
        "    [\"personId\", \"contentId\"]\n",
        ")[\"timestamp\"].last()\n",
        "\n",
        "interactions_full_df = interactions_full_df.reset_index()\n",
        "interactions_full_df.head(5)"
      ]
    },
    {
      "cell_type": "markdown",
      "source": [
        "Почистим данные от лишних статей"
      ],
      "metadata": {
        "id": "LmmuUMSpqkq2"
      }
    },
    {
      "cell_type": "code",
      "source": [
        "commonContentIds = set(interactions_full_df['contentId']) & set(articles_df['contentId'])"
      ],
      "metadata": {
        "id": "W-vulTFXn5_F"
      },
      "execution_count": 14,
      "outputs": []
    },
    {
      "cell_type": "code",
      "source": [
        "interactions_full_df.drop(interactions_full_df[~interactions_full_df['contentId'].isin(commonContentIds)].index, inplace=True)"
      ],
      "metadata": {
        "id": "el4WJtjbnqQR"
      },
      "execution_count": 15,
      "outputs": []
    },
    {
      "cell_type": "code",
      "source": [
        "articles_df.drop(articles_df[~articles_df['contentId'].isin(commonContentIds)].index, inplace=True)"
      ],
      "metadata": {
        "id": "HQPKn2ECqcj3"
      },
      "execution_count": 16,
      "outputs": []
    },
    {
      "cell_type": "markdown",
      "metadata": {
        "id": "ODJYMtnNWM5w"
      },
      "source": [
        "Разобьём выборку на обучение и контроль по времени."
      ]
    },
    {
      "cell_type": "code",
      "execution_count": 17,
      "metadata": {
        "id": "3F2CfAwoVrfo",
        "colab": {
          "base_uri": "https://localhost:8080/",
          "height": 459
        },
        "outputId": "a496d84f-935b-40da-a8fb-d80e0fe0d2fc"
      },
      "outputs": [
        {
          "output_type": "stream",
          "name": "stdout",
          "text": [
            "# interactions on Train set: 29302\n",
            "# interactions on Test set: 9777\n"
          ]
        },
        {
          "output_type": "execute_result",
          "data": {
            "text/plain": [
              "                   personId             contentId  eventStrength  \\\n",
              "0      -1007001694607905623  -5065077552540450930            1.0   \n",
              "2      -1007001694607905623   -793729620925729327            1.0   \n",
              "6      -1032019229384696495  -1006791494035379303            1.0   \n",
              "7      -1032019229384696495  -1039912738963181810            1.0   \n",
              "8      -1032019229384696495  -1081723567492738167            2.0   \n",
              "...                     ...                   ...            ...   \n",
              "39099    997469202936578234   9112765177685685246            2.0   \n",
              "39100    998688566268269815  -1255189867397298842            1.0   \n",
              "39101    998688566268269815   -401664538366009049            1.0   \n",
              "39103    998688566268269815   6881796783400625893            1.0   \n",
              "39105    998688566268269815    739747367187387064            1.0   \n",
              "\n",
              "       last_timestamp  \n",
              "0          1470395911  \n",
              "2          1472834892  \n",
              "6          1469129122  \n",
              "7          1459376415  \n",
              "8          1464054093  \n",
              "...               ...  \n",
              "39099      1472479493  \n",
              "39100      1474567164  \n",
              "39101      1474567449  \n",
              "39103      1474567675  \n",
              "39105      1474567514  \n",
              "\n",
              "[29302 rows x 4 columns]"
            ],
            "text/html": [
              "\n",
              "  <div id=\"df-7027b101-fb37-40a7-9283-a98dc3cdc802\">\n",
              "    <div class=\"colab-df-container\">\n",
              "      <div>\n",
              "<style scoped>\n",
              "    .dataframe tbody tr th:only-of-type {\n",
              "        vertical-align: middle;\n",
              "    }\n",
              "\n",
              "    .dataframe tbody tr th {\n",
              "        vertical-align: top;\n",
              "    }\n",
              "\n",
              "    .dataframe thead th {\n",
              "        text-align: right;\n",
              "    }\n",
              "</style>\n",
              "<table border=\"1\" class=\"dataframe\">\n",
              "  <thead>\n",
              "    <tr style=\"text-align: right;\">\n",
              "      <th></th>\n",
              "      <th>personId</th>\n",
              "      <th>contentId</th>\n",
              "      <th>eventStrength</th>\n",
              "      <th>last_timestamp</th>\n",
              "    </tr>\n",
              "  </thead>\n",
              "  <tbody>\n",
              "    <tr>\n",
              "      <th>0</th>\n",
              "      <td>-1007001694607905623</td>\n",
              "      <td>-5065077552540450930</td>\n",
              "      <td>1.0</td>\n",
              "      <td>1470395911</td>\n",
              "    </tr>\n",
              "    <tr>\n",
              "      <th>2</th>\n",
              "      <td>-1007001694607905623</td>\n",
              "      <td>-793729620925729327</td>\n",
              "      <td>1.0</td>\n",
              "      <td>1472834892</td>\n",
              "    </tr>\n",
              "    <tr>\n",
              "      <th>6</th>\n",
              "      <td>-1032019229384696495</td>\n",
              "      <td>-1006791494035379303</td>\n",
              "      <td>1.0</td>\n",
              "      <td>1469129122</td>\n",
              "    </tr>\n",
              "    <tr>\n",
              "      <th>7</th>\n",
              "      <td>-1032019229384696495</td>\n",
              "      <td>-1039912738963181810</td>\n",
              "      <td>1.0</td>\n",
              "      <td>1459376415</td>\n",
              "    </tr>\n",
              "    <tr>\n",
              "      <th>8</th>\n",
              "      <td>-1032019229384696495</td>\n",
              "      <td>-1081723567492738167</td>\n",
              "      <td>2.0</td>\n",
              "      <td>1464054093</td>\n",
              "    </tr>\n",
              "    <tr>\n",
              "      <th>...</th>\n",
              "      <td>...</td>\n",
              "      <td>...</td>\n",
              "      <td>...</td>\n",
              "      <td>...</td>\n",
              "    </tr>\n",
              "    <tr>\n",
              "      <th>39099</th>\n",
              "      <td>997469202936578234</td>\n",
              "      <td>9112765177685685246</td>\n",
              "      <td>2.0</td>\n",
              "      <td>1472479493</td>\n",
              "    </tr>\n",
              "    <tr>\n",
              "      <th>39100</th>\n",
              "      <td>998688566268269815</td>\n",
              "      <td>-1255189867397298842</td>\n",
              "      <td>1.0</td>\n",
              "      <td>1474567164</td>\n",
              "    </tr>\n",
              "    <tr>\n",
              "      <th>39101</th>\n",
              "      <td>998688566268269815</td>\n",
              "      <td>-401664538366009049</td>\n",
              "      <td>1.0</td>\n",
              "      <td>1474567449</td>\n",
              "    </tr>\n",
              "    <tr>\n",
              "      <th>39103</th>\n",
              "      <td>998688566268269815</td>\n",
              "      <td>6881796783400625893</td>\n",
              "      <td>1.0</td>\n",
              "      <td>1474567675</td>\n",
              "    </tr>\n",
              "    <tr>\n",
              "      <th>39105</th>\n",
              "      <td>998688566268269815</td>\n",
              "      <td>739747367187387064</td>\n",
              "      <td>1.0</td>\n",
              "      <td>1474567514</td>\n",
              "    </tr>\n",
              "  </tbody>\n",
              "</table>\n",
              "<p>29302 rows × 4 columns</p>\n",
              "</div>\n",
              "      <button class=\"colab-df-convert\" onclick=\"convertToInteractive('df-7027b101-fb37-40a7-9283-a98dc3cdc802')\"\n",
              "              title=\"Convert this dataframe to an interactive table.\"\n",
              "              style=\"display:none;\">\n",
              "        \n",
              "  <svg xmlns=\"http://www.w3.org/2000/svg\" height=\"24px\"viewBox=\"0 0 24 24\"\n",
              "       width=\"24px\">\n",
              "    <path d=\"M0 0h24v24H0V0z\" fill=\"none\"/>\n",
              "    <path d=\"M18.56 5.44l.94 2.06.94-2.06 2.06-.94-2.06-.94-.94-2.06-.94 2.06-2.06.94zm-11 1L8.5 8.5l.94-2.06 2.06-.94-2.06-.94L8.5 2.5l-.94 2.06-2.06.94zm10 10l.94 2.06.94-2.06 2.06-.94-2.06-.94-.94-2.06-.94 2.06-2.06.94z\"/><path d=\"M17.41 7.96l-1.37-1.37c-.4-.4-.92-.59-1.43-.59-.52 0-1.04.2-1.43.59L10.3 9.45l-7.72 7.72c-.78.78-.78 2.05 0 2.83L4 21.41c.39.39.9.59 1.41.59.51 0 1.02-.2 1.41-.59l7.78-7.78 2.81-2.81c.8-.78.8-2.07 0-2.86zM5.41 20L4 18.59l7.72-7.72 1.47 1.35L5.41 20z\"/>\n",
              "  </svg>\n",
              "      </button>\n",
              "      \n",
              "  <style>\n",
              "    .colab-df-container {\n",
              "      display:flex;\n",
              "      flex-wrap:wrap;\n",
              "      gap: 12px;\n",
              "    }\n",
              "\n",
              "    .colab-df-convert {\n",
              "      background-color: #E8F0FE;\n",
              "      border: none;\n",
              "      border-radius: 50%;\n",
              "      cursor: pointer;\n",
              "      display: none;\n",
              "      fill: #1967D2;\n",
              "      height: 32px;\n",
              "      padding: 0 0 0 0;\n",
              "      width: 32px;\n",
              "    }\n",
              "\n",
              "    .colab-df-convert:hover {\n",
              "      background-color: #E2EBFA;\n",
              "      box-shadow: 0px 1px 2px rgba(60, 64, 67, 0.3), 0px 1px 3px 1px rgba(60, 64, 67, 0.15);\n",
              "      fill: #174EA6;\n",
              "    }\n",
              "\n",
              "    [theme=dark] .colab-df-convert {\n",
              "      background-color: #3B4455;\n",
              "      fill: #D2E3FC;\n",
              "    }\n",
              "\n",
              "    [theme=dark] .colab-df-convert:hover {\n",
              "      background-color: #434B5C;\n",
              "      box-shadow: 0px 1px 3px 1px rgba(0, 0, 0, 0.15);\n",
              "      filter: drop-shadow(0px 1px 2px rgba(0, 0, 0, 0.3));\n",
              "      fill: #FFFFFF;\n",
              "    }\n",
              "  </style>\n",
              "\n",
              "      <script>\n",
              "        const buttonEl =\n",
              "          document.querySelector('#df-7027b101-fb37-40a7-9283-a98dc3cdc802 button.colab-df-convert');\n",
              "        buttonEl.style.display =\n",
              "          google.colab.kernel.accessAllowed ? 'block' : 'none';\n",
              "\n",
              "        async function convertToInteractive(key) {\n",
              "          const element = document.querySelector('#df-7027b101-fb37-40a7-9283-a98dc3cdc802');\n",
              "          const dataTable =\n",
              "            await google.colab.kernel.invokeFunction('convertToInteractive',\n",
              "                                                     [key], {});\n",
              "          if (!dataTable) return;\n",
              "\n",
              "          const docLinkHtml = 'Like what you see? Visit the ' +\n",
              "            '<a target=\"_blank\" href=https://colab.research.google.com/notebooks/data_table.ipynb>data table notebook</a>'\n",
              "            + ' to learn more about interactive tables.';\n",
              "          element.innerHTML = '';\n",
              "          dataTable['output_type'] = 'display_data';\n",
              "          await google.colab.output.renderOutput(dataTable, element);\n",
              "          const docLink = document.createElement('div');\n",
              "          docLink.innerHTML = docLinkHtml;\n",
              "          element.appendChild(docLink);\n",
              "        }\n",
              "      </script>\n",
              "    </div>\n",
              "  </div>\n",
              "  "
            ]
          },
          "metadata": {},
          "execution_count": 17
        }
      ],
      "source": [
        "from sklearn.model_selection import train_test_split\n",
        "\n",
        "split_ts = 1475519530\n",
        "interactions_train_df = interactions_full_df.loc[\n",
        "    interactions_full_df.last_timestamp < split_ts\n",
        "].copy()\n",
        "interactions_test_df = interactions_full_df.loc[\n",
        "    interactions_full_df.last_timestamp >= split_ts\n",
        "].copy()\n",
        "\n",
        "print(f\"# interactions on Train set: {len(interactions_train_df)}\")\n",
        "print(f\"# interactions on Test set: {len(interactions_test_df)}\")\n",
        "\n",
        "interactions_train_df"
      ]
    },
    {
      "cell_type": "markdown",
      "source": [
        "Уберем пользователей которые есть в тесте, но нет в трейне, так как для них иначе будет холодный старт"
      ],
      "metadata": {
        "id": "4QsWlbO6rNrU"
      }
    },
    {
      "cell_type": "code",
      "source": [
        "interactions_test_df.drop(interactions_test_df[~interactions_test_df['personId'].isin(interactions_train_df['personId'])].index, inplace=True)"
      ],
      "metadata": {
        "id": "-brquSwAsIwZ"
      },
      "execution_count": 18,
      "outputs": []
    },
    {
      "cell_type": "markdown",
      "source": [
        "Сделаем маппинг id'шников (необходимо для предикта в LightFM)"
      ],
      "metadata": {
        "id": "uHsMknWdHN9a"
      }
    },
    {
      "cell_type": "code",
      "source": [
        "from sklearn.preprocessing import LabelEncoder\n",
        "\n",
        "labelencoder = LabelEncoder()\n",
        "\n",
        "interactions_train_df['personId_enc'] = labelencoder.fit_transform(interactions_train_df['personId'])\n",
        "interactions_test_df['personId_enc'] = labelencoder.transform(interactions_test_df['personId'])\n",
        "\n",
        "articles_df['contentId_enc'] = labelencoder.fit_transform(articles_df['contentId'])\n",
        "interactions_train_df['contentId_enc'] = labelencoder.transform(interactions_train_df['contentId'])\n",
        "interactions_test_df['contentId_enc'] = labelencoder.transform(interactions_test_df['contentId'])"
      ],
      "metadata": {
        "id": "1frL_Q1k6_Jh"
      },
      "execution_count": 19,
      "outputs": []
    },
    {
      "cell_type": "markdown",
      "metadata": {
        "id": "h5G3FTYOXLVg"
      },
      "source": [
        "Для удобства подсчёта качества запишем данные в формате, где строка соответствует пользователю, а столбцы будут истинными метками и предсказаниями в виде списков."
      ]
    },
    {
      "cell_type": "code",
      "execution_count": 20,
      "metadata": {
        "id": "RT-_toqfXOa2",
        "colab": {
          "base_uri": "https://localhost:8080/",
          "height": 112
        },
        "outputId": "aec9282d-8d0f-4390-fc08-63ca1b243c49"
      },
      "outputs": [
        {
          "output_type": "execute_result",
          "data": {
            "text/plain": [
              "               true_train                true_test\n",
              "personId_enc                                      \n",
              "0             [696, 1214]  [980, 1561, 2615, 2864]"
            ],
            "text/html": [
              "\n",
              "  <div id=\"df-dc0c5991-191d-47c4-a6e5-dfbf5856e50b\">\n",
              "    <div class=\"colab-df-container\">\n",
              "      <div>\n",
              "<style scoped>\n",
              "    .dataframe tbody tr th:only-of-type {\n",
              "        vertical-align: middle;\n",
              "    }\n",
              "\n",
              "    .dataframe tbody tr th {\n",
              "        vertical-align: top;\n",
              "    }\n",
              "\n",
              "    .dataframe thead th {\n",
              "        text-align: right;\n",
              "    }\n",
              "</style>\n",
              "<table border=\"1\" class=\"dataframe\">\n",
              "  <thead>\n",
              "    <tr style=\"text-align: right;\">\n",
              "      <th></th>\n",
              "      <th>true_train</th>\n",
              "      <th>true_test</th>\n",
              "    </tr>\n",
              "    <tr>\n",
              "      <th>personId_enc</th>\n",
              "      <th></th>\n",
              "      <th></th>\n",
              "    </tr>\n",
              "  </thead>\n",
              "  <tbody>\n",
              "    <tr>\n",
              "      <th>0</th>\n",
              "      <td>[696, 1214]</td>\n",
              "      <td>[980, 1561, 2615, 2864]</td>\n",
              "    </tr>\n",
              "  </tbody>\n",
              "</table>\n",
              "</div>\n",
              "      <button class=\"colab-df-convert\" onclick=\"convertToInteractive('df-dc0c5991-191d-47c4-a6e5-dfbf5856e50b')\"\n",
              "              title=\"Convert this dataframe to an interactive table.\"\n",
              "              style=\"display:none;\">\n",
              "        \n",
              "  <svg xmlns=\"http://www.w3.org/2000/svg\" height=\"24px\"viewBox=\"0 0 24 24\"\n",
              "       width=\"24px\">\n",
              "    <path d=\"M0 0h24v24H0V0z\" fill=\"none\"/>\n",
              "    <path d=\"M18.56 5.44l.94 2.06.94-2.06 2.06-.94-2.06-.94-.94-2.06-.94 2.06-2.06.94zm-11 1L8.5 8.5l.94-2.06 2.06-.94-2.06-.94L8.5 2.5l-.94 2.06-2.06.94zm10 10l.94 2.06.94-2.06 2.06-.94-2.06-.94-.94-2.06-.94 2.06-2.06.94z\"/><path d=\"M17.41 7.96l-1.37-1.37c-.4-.4-.92-.59-1.43-.59-.52 0-1.04.2-1.43.59L10.3 9.45l-7.72 7.72c-.78.78-.78 2.05 0 2.83L4 21.41c.39.39.9.59 1.41.59.51 0 1.02-.2 1.41-.59l7.78-7.78 2.81-2.81c.8-.78.8-2.07 0-2.86zM5.41 20L4 18.59l7.72-7.72 1.47 1.35L5.41 20z\"/>\n",
              "  </svg>\n",
              "      </button>\n",
              "      \n",
              "  <style>\n",
              "    .colab-df-container {\n",
              "      display:flex;\n",
              "      flex-wrap:wrap;\n",
              "      gap: 12px;\n",
              "    }\n",
              "\n",
              "    .colab-df-convert {\n",
              "      background-color: #E8F0FE;\n",
              "      border: none;\n",
              "      border-radius: 50%;\n",
              "      cursor: pointer;\n",
              "      display: none;\n",
              "      fill: #1967D2;\n",
              "      height: 32px;\n",
              "      padding: 0 0 0 0;\n",
              "      width: 32px;\n",
              "    }\n",
              "\n",
              "    .colab-df-convert:hover {\n",
              "      background-color: #E2EBFA;\n",
              "      box-shadow: 0px 1px 2px rgba(60, 64, 67, 0.3), 0px 1px 3px 1px rgba(60, 64, 67, 0.15);\n",
              "      fill: #174EA6;\n",
              "    }\n",
              "\n",
              "    [theme=dark] .colab-df-convert {\n",
              "      background-color: #3B4455;\n",
              "      fill: #D2E3FC;\n",
              "    }\n",
              "\n",
              "    [theme=dark] .colab-df-convert:hover {\n",
              "      background-color: #434B5C;\n",
              "      box-shadow: 0px 1px 3px 1px rgba(0, 0, 0, 0.15);\n",
              "      filter: drop-shadow(0px 1px 2px rgba(0, 0, 0, 0.3));\n",
              "      fill: #FFFFFF;\n",
              "    }\n",
              "  </style>\n",
              "\n",
              "      <script>\n",
              "        const buttonEl =\n",
              "          document.querySelector('#df-dc0c5991-191d-47c4-a6e5-dfbf5856e50b button.colab-df-convert');\n",
              "        buttonEl.style.display =\n",
              "          google.colab.kernel.accessAllowed ? 'block' : 'none';\n",
              "\n",
              "        async function convertToInteractive(key) {\n",
              "          const element = document.querySelector('#df-dc0c5991-191d-47c4-a6e5-dfbf5856e50b');\n",
              "          const dataTable =\n",
              "            await google.colab.kernel.invokeFunction('convertToInteractive',\n",
              "                                                     [key], {});\n",
              "          if (!dataTable) return;\n",
              "\n",
              "          const docLinkHtml = 'Like what you see? Visit the ' +\n",
              "            '<a target=\"_blank\" href=https://colab.research.google.com/notebooks/data_table.ipynb>data table notebook</a>'\n",
              "            + ' to learn more about interactive tables.';\n",
              "          element.innerHTML = '';\n",
              "          dataTable['output_type'] = 'display_data';\n",
              "          await google.colab.output.renderOutput(dataTable, element);\n",
              "          const docLink = document.createElement('div');\n",
              "          docLink.innerHTML = docLinkHtml;\n",
              "          element.appendChild(docLink);\n",
              "        }\n",
              "      </script>\n",
              "    </div>\n",
              "  </div>\n",
              "  "
            ]
          },
          "metadata": {},
          "execution_count": 20
        }
      ],
      "source": [
        "interactions = (\n",
        "    interactions_train_df.groupby(\"personId_enc\")[\"contentId_enc\"]\n",
        "    .agg(lambda x: list(x))\n",
        "    .reset_index()\n",
        "    .rename(columns={\"contentId_enc\": \"true_train\"})\n",
        "    .set_index(\"personId_enc\")\n",
        ")\n",
        "\n",
        "interactions[\"true_test\"] = interactions_test_df.groupby(\"personId_enc\")[\"contentId_enc\"].agg(\n",
        "    lambda x: list(x)\n",
        ")\n",
        "\n",
        "# заполнение пропусков пустыми списками\n",
        "interactions.loc[pd.isnull(interactions.true_test), \"true_test\"] = [\n",
        "    \"\"\n",
        "    for x in range(\n",
        "        len(interactions.loc[pd.isnull(interactions.true_test), \"true_test\"])\n",
        "    )\n",
        "]\n",
        "\n",
        "interactions.head(1)"
      ]
    },
    {
      "cell_type": "markdown",
      "metadata": {
        "id": "-UWDyWKsamSa"
      },
      "source": [
        "# Библиотека LightFM"
      ]
    },
    {
      "cell_type": "markdown",
      "metadata": {
        "id": "L-iXjvdZa25Z"
      },
      "source": [
        "Для рекомендации Вы будете пользоваться библиотекой [LightFM](https://making.lyst.com/lightfm/docs/home.html), в которой реализованы популярные алгоритмы. Для оценивания качества рекомендации, как и на семинаре, будем пользоваться метрикой *precision@10*."
      ]
    },
    {
      "cell_type": "code",
      "execution_count": 21,
      "metadata": {
        "id": "GE_chrYN2lNw",
        "colab": {
          "base_uri": "https://localhost:8080/"
        },
        "outputId": "a80d3516-9052-4ff3-c291-21dc1d34cf2d"
      },
      "outputs": [
        {
          "output_type": "stream",
          "name": "stdout",
          "text": [
            "Looking in indexes: https://pypi.org/simple, https://us-python.pkg.dev/colab-wheels/public/simple/\n",
            "Collecting lightfm\n",
            "  Downloading lightfm-1.17.tar.gz (316 kB)\n",
            "\u001b[?25l     \u001b[90m━━━━━━━━━━━━━━━━━━━━━━━━━━━━━━━━━━━━━━━━\u001b[0m \u001b[32m0.0/316.4 KB\u001b[0m \u001b[31m?\u001b[0m eta \u001b[36m-:--:--\u001b[0m\r\u001b[2K     \u001b[90m━━━━━━━━━━━━━━━━━━━━━━━━━━━━━━━━━━━━━━\u001b[0m \u001b[32m316.4/316.4 KB\u001b[0m \u001b[31m18.4 MB/s\u001b[0m eta \u001b[36m0:00:00\u001b[0m\n",
            "\u001b[?25h  Preparing metadata (setup.py) ... \u001b[?25l\u001b[?25hdone\n",
            "Requirement already satisfied: numpy in /usr/local/lib/python3.9/dist-packages (from lightfm) (1.22.4)\n",
            "Requirement already satisfied: scipy>=0.17.0 in /usr/local/lib/python3.9/dist-packages (from lightfm) (1.10.1)\n",
            "Requirement already satisfied: requests in /usr/local/lib/python3.9/dist-packages (from lightfm) (2.27.1)\n",
            "Requirement already satisfied: scikit-learn in /usr/local/lib/python3.9/dist-packages (from lightfm) (1.2.2)\n",
            "Requirement already satisfied: charset-normalizer~=2.0.0 in /usr/local/lib/python3.9/dist-packages (from requests->lightfm) (2.0.12)\n",
            "Requirement already satisfied: certifi>=2017.4.17 in /usr/local/lib/python3.9/dist-packages (from requests->lightfm) (2022.12.7)\n",
            "Requirement already satisfied: idna<4,>=2.5 in /usr/local/lib/python3.9/dist-packages (from requests->lightfm) (3.4)\n",
            "Requirement already satisfied: urllib3<1.27,>=1.21.1 in /usr/local/lib/python3.9/dist-packages (from requests->lightfm) (1.26.15)\n",
            "Requirement already satisfied: joblib>=1.1.1 in /usr/local/lib/python3.9/dist-packages (from scikit-learn->lightfm) (1.1.1)\n",
            "Requirement already satisfied: threadpoolctl>=2.0.0 in /usr/local/lib/python3.9/dist-packages (from scikit-learn->lightfm) (3.1.0)\n",
            "Building wheels for collected packages: lightfm\n",
            "  Building wheel for lightfm (setup.py) ... \u001b[?25l\u001b[?25hdone\n",
            "  Created wheel for lightfm: filename=lightfm-1.17-cp39-cp39-linux_x86_64.whl size=875594 sha256=9d100628d9d508bd160972bce630706d592b7c5d4e5e6cd122ea0e6153f5c248\n",
            "  Stored in directory: /root/.cache/pip/wheels/d8/65/93/6ac8180274dc2e8f86ff326be62da1dfa55dc158fd45faba7d\n",
            "Successfully built lightfm\n",
            "Installing collected packages: lightfm\n",
            "Successfully installed lightfm-1.17\n"
          ]
        }
      ],
      "source": [
        "!pip install lightfm"
      ]
    },
    {
      "cell_type": "code",
      "execution_count": 22,
      "metadata": {
        "id": "Qtyn38PZXPLf"
      },
      "outputs": [],
      "source": [
        "from lightfm import LightFM\n",
        "from lightfm.evaluation import precision_at_k"
      ]
    },
    {
      "cell_type": "markdown",
      "metadata": {
        "id": "0CjyGqulcZTf"
      },
      "source": [
        "## Задание 1 (1.5 балла)"
      ]
    },
    {
      "cell_type": "markdown",
      "metadata": {
        "id": "4Sof6V5Dd4h9"
      },
      "source": [
        "Модели в LightFM работают с разреженными матрицами. Создайте разреженные матрицы `data_train` и `data_test` (размером количество пользователей на количество статей), такие что на пересечении строки пользователя и столбца статьи стоит сила их взаимодействия, если взаимодействие было, и стоит ноль, если взаимодействия не было."
      ]
    },
    {
      "cell_type": "code",
      "source": [
        "from scipy.sparse import csr_matrix\n",
        "\n",
        "def create_sparse_matrix(interactions_df, n_users, n_articles):    \n",
        "    sparse_matrix = pd.DataFrame(0, index=n_users, columns=n_articles)\n",
        "    \n",
        "    \n",
        "    user_ids = interactions_df['personId_enc'].values\n",
        "    content_ids = interactions_df['contentId_enc'].values\n",
        "    eventStrengths = interactions_df['eventStrength'].values\n",
        "    \n",
        "    \n",
        "    for i in range(len(interactions_df)):\n",
        "        sparse_matrix.loc[user_ids[i], content_ids[i]] = eventStrengths[i] if eventStrengths[i] is not np.nan else 0\n",
        "    \n",
        "    return csr_matrix(sparse_matrix.values)"
      ],
      "metadata": {
        "id": "lyUglNxqfrLO"
      },
      "execution_count": 23,
      "outputs": []
    },
    {
      "cell_type": "code",
      "source": [
        "n_users = np.unique(interactions_train_df['personId_enc'])\n",
        "n_articles = np.unique(articles_df['contentId_enc'])"
      ],
      "metadata": {
        "id": "6-btra1ahwqX"
      },
      "execution_count": 24,
      "outputs": []
    },
    {
      "cell_type": "code",
      "execution_count": 25,
      "metadata": {
        "id": "1cLZ5ga4eIdg"
      },
      "outputs": [],
      "source": [
        "data_train = create_sparse_matrix(interactions_train_df, n_users, n_articles)\n",
        "data_test = create_sparse_matrix(interactions_test_df, n_users, n_articles)"
      ]
    },
    {
      "cell_type": "code",
      "source": [
        "data_train"
      ],
      "metadata": {
        "colab": {
          "base_uri": "https://localhost:8080/"
        },
        "id": "JV669Wlpq6_i",
        "outputId": "26e3b7bc-419d-4eb9-ecbd-1f39e0de8585"
      },
      "execution_count": 26,
      "outputs": [
        {
          "output_type": "execute_result",
          "data": {
            "text/plain": [
              "<1112x2976 sparse matrix of type '<class 'numpy.float64'>'\n",
              "\twith 29302 stored elements in Compressed Sparse Row format>"
            ]
          },
          "metadata": {},
          "execution_count": 26
        }
      ]
    },
    {
      "cell_type": "code",
      "source": [
        "data_test"
      ],
      "metadata": {
        "colab": {
          "base_uri": "https://localhost:8080/"
        },
        "id": "x3AMI_bktg8b",
        "outputId": "64cd3a36-2c94-412b-ba29-e76419f12e30"
      },
      "execution_count": 27,
      "outputs": [
        {
          "output_type": "execute_result",
          "data": {
            "text/plain": [
              "<1112x2976 sparse matrix of type '<class 'numpy.float64'>'\n",
              "\twith 9418 stored elements in Compressed Sparse Row format>"
            ]
          },
          "metadata": {},
          "execution_count": 27
        }
      ]
    },
    {
      "cell_type": "markdown",
      "metadata": {
        "id": "AiNGVzTveRXE"
      },
      "source": [
        "## Задание 2 (0.5 балла)"
      ]
    },
    {
      "cell_type": "markdown",
      "metadata": {
        "id": "ZPfVK3STeryM"
      },
      "source": [
        "Обучите модель LightFM с `loss=\"warp\"` и посчитайте *precision@10* на тесте."
      ]
    },
    {
      "cell_type": "code",
      "execution_count": 47,
      "metadata": {
        "id": "YFQxeHw8eVLz"
      },
      "outputs": [],
      "source": [
        "model = LightFM(loss='warp', random_state=42)\n",
        "model.fit(data_train, epochs=20);"
      ]
    },
    {
      "cell_type": "code",
      "source": [
        "precision_at_k(model, data_test, data_train, k=10).mean()"
      ],
      "metadata": {
        "colab": {
          "base_uri": "https://localhost:8080/"
        },
        "id": "eX2k-CbYJLy3",
        "outputId": "6fedbdde-9209-4c5b-9eb6-0ed0ab705ccd"
      },
      "execution_count": 333,
      "outputs": [
        {
          "output_type": "execute_result",
          "data": {
            "text/plain": [
              "0.0074423486"
            ]
          },
          "metadata": {},
          "execution_count": 333
        }
      ]
    },
    {
      "cell_type": "markdown",
      "source": [
        "Низкое качество"
      ],
      "metadata": {
        "id": "MSWiEgwTzBqj"
      }
    },
    {
      "cell_type": "markdown",
      "metadata": {
        "id": "qZDsG1iAfdrl"
      },
      "source": [
        "## Задание 3 (2 балла)"
      ]
    },
    {
      "cell_type": "markdown",
      "metadata": {
        "id": "F93chvtbgA9N"
      },
      "source": [
        "При вызове метода `fit` LightFM позволяет передавать в `item_features` признаковое описание объектов. Воспользуемся этим. Будем получать признаковое описание из текста статьи в виде [TF-IDF](https://ru.wikipedia.org/wiki/TF-IDF) (можно воспользоваться `TfidfVectorizer` из scikit-learn). Создайте матрицу `feat` размером количесвто статей на размер признакового описание и обучите LightFM с `loss=\"warp\"` и посчитайте precision@10 на тесте."
      ]
    },
    {
      "cell_type": "code",
      "source": [
        "# Склеим текст и заголовок\n",
        "feat = articles_df[['title', 'text']]\n",
        "feat.index = articles_df['contentId_enc']\n",
        "feat = feat.reindex(n_articles).fillna('')\n",
        "feat = feat.apply(lambda x: x['title'] + ' ' + x['text'], axis=1)\n",
        "feat\n"
      ],
      "metadata": {
        "colab": {
          "base_uri": "https://localhost:8080/"
        },
        "id": "FQ8LZr-m7ooX",
        "outputId": "bdce3daf-dd77-4916-aaff-87752319e397"
      },
      "execution_count": 28,
      "outputs": [
        {
          "output_type": "execute_result",
          "data": {
            "text/plain": [
              "contentId_enc\n",
              "0       Google unleashes DeepMind on energy-hungry dat...\n",
              "1       Indústria 4.0: desafios e oportunidades *Igor ...\n",
              "2       12 JavaScript Hacks In this post I will share ...\n",
              "3       Australian Bitcoin Entrepreneur Launches Robo-...\n",
              "4       React Native v0.32.0-rc.0 released v0.32.0-rc....\n",
              "                              ...                        \n",
              "2971    Baidu abre laboratório de realidade aumentada ...\n",
              "2972    Better Exposed Filters  The Better Exposed Fil...\n",
              "2973    Elasticsearch: CSV exporter for Kibana Discove...\n",
              "2974    Quer reclamar? Desenvolvedores vencem hackatho...\n",
              "2975    Este é o melhor jeito de entender como as mulh...\n",
              "Length: 2976, dtype: object"
            ]
          },
          "metadata": {},
          "execution_count": 28
        }
      ]
    },
    {
      "cell_type": "code",
      "source": [
        "from sklearn.feature_extraction.text import TfidfVectorizer\n",
        "\n",
        "vectorizer = TfidfVectorizer()"
      ],
      "metadata": {
        "id": "R3EoN2muOKKG"
      },
      "execution_count": 38,
      "outputs": []
    },
    {
      "cell_type": "code",
      "source": [
        "# учимся только на статьях из трейна\n",
        "vectorizer.fit(feat)\n",
        "\n",
        "feat_tranform = vectorizer.transform(feat)"
      ],
      "metadata": {
        "id": "bYmewAl08dsq"
      },
      "execution_count": 335,
      "outputs": []
    },
    {
      "cell_type": "code",
      "source": [
        "model.fit(data_train, item_features=feat_tranform, epochs=20);"
      ],
      "metadata": {
        "id": "u-1umgnk8slz"
      },
      "execution_count": 336,
      "outputs": []
    },
    {
      "cell_type": "code",
      "source": [
        "precision_at_k(model, data_test, data_train, k=10, item_features=feat_tranform).mean()"
      ],
      "metadata": {
        "colab": {
          "base_uri": "https://localhost:8080/"
        },
        "id": "1WVNhWwIAPGO",
        "outputId": "7216c1f3-fa73-43d9-c7cb-f416215b3ec2"
      },
      "execution_count": 337,
      "outputs": [
        {
          "output_type": "execute_result",
          "data": {
            "text/plain": [
              "0.0076519917"
            ]
          },
          "metadata": {},
          "execution_count": 337
        }
      ]
    },
    {
      "cell_type": "markdown",
      "source": [
        "Качество улучшилось"
      ],
      "metadata": {
        "id": "4OPvFIQ19cW1"
      }
    },
    {
      "cell_type": "markdown",
      "metadata": {
        "id": "8Lwuex6PpsFw"
      },
      "source": [
        "## Задание 4 (1.5 балла)"
      ]
    },
    {
      "cell_type": "markdown",
      "metadata": {
        "id": "5aZcHjSzp2cZ"
      },
      "source": [
        "В задании 3 мы использовали сырой текст статей. В этом задании необходимо сначала сделать предобработку текста (привести к нижнему регистру, убрать стоп слова, привести слова к номральной форме и т.д.), после чего обучите модель и оценить качество на тестовых данных."
      ]
    },
    {
      "cell_type": "code",
      "source": [
        "!pip install pymorphy2"
      ],
      "metadata": {
        "colab": {
          "base_uri": "https://localhost:8080/"
        },
        "id": "f35922UD_nk9",
        "outputId": "0885ed9e-457b-4645-b5f4-8a05939cab4c"
      },
      "execution_count": 29,
      "outputs": [
        {
          "output_type": "stream",
          "name": "stdout",
          "text": [
            "Looking in indexes: https://pypi.org/simple, https://us-python.pkg.dev/colab-wheels/public/simple/\n",
            "Collecting pymorphy2\n",
            "  Downloading pymorphy2-0.9.1-py3-none-any.whl (55 kB)\n",
            "\u001b[2K     \u001b[90m━━━━━━━━━━━━━━━━━━━━━━━━━━━━━━━━━━━━━━━━\u001b[0m \u001b[32m55.5/55.5 KB\u001b[0m \u001b[31m3.8 MB/s\u001b[0m eta \u001b[36m0:00:00\u001b[0m\n",
            "\u001b[?25hCollecting pymorphy2-dicts-ru<3.0,>=2.4\n",
            "  Downloading pymorphy2_dicts_ru-2.4.417127.4579844-py2.py3-none-any.whl (8.2 MB)\n",
            "\u001b[2K     \u001b[90m━━━━━━━━━━━━━━━━━━━━━━━━━━━━━━━━━━━━━━━━\u001b[0m \u001b[32m8.2/8.2 MB\u001b[0m \u001b[31m45.7 MB/s\u001b[0m eta \u001b[36m0:00:00\u001b[0m\n",
            "\u001b[?25hCollecting docopt>=0.6\n",
            "  Downloading docopt-0.6.2.tar.gz (25 kB)\n",
            "  Preparing metadata (setup.py) ... \u001b[?25l\u001b[?25hdone\n",
            "Collecting dawg-python>=0.7.1\n",
            "  Downloading DAWG_Python-0.7.2-py2.py3-none-any.whl (11 kB)\n",
            "Building wheels for collected packages: docopt\n",
            "  Building wheel for docopt (setup.py) ... \u001b[?25l\u001b[?25hdone\n",
            "  Created wheel for docopt: filename=docopt-0.6.2-py2.py3-none-any.whl size=13721 sha256=c47e7b6e7d8b450efa9fec3fe9ea3af06717feab0b1ec927d67f56be8f67a1fc\n",
            "  Stored in directory: /root/.cache/pip/wheels/70/4a/46/1309fc853b8d395e60bafaf1b6df7845bdd82c95fd59dd8d2b\n",
            "Successfully built docopt\n",
            "Installing collected packages: pymorphy2-dicts-ru, docopt, dawg-python, pymorphy2\n",
            "Successfully installed dawg-python-0.7.2 docopt-0.6.2 pymorphy2-0.9.1 pymorphy2-dicts-ru-2.4.417127.4579844\n"
          ]
        }
      ]
    },
    {
      "cell_type": "code",
      "source": [
        "import regex\n",
        "from pymorphy2 import MorphAnalyzer\n",
        "from functools import lru_cache\n",
        "from nltk.corpus import stopwords\n",
        "\n",
        "import nltk\n",
        "nltk.download('stopwords')"
      ],
      "metadata": {
        "colab": {
          "base_uri": "https://localhost:8080/"
        },
        "id": "qHVdept-_Vfr",
        "outputId": "3aa0a38a-4c1e-463f-cba1-fa9a6f4ca195"
      },
      "execution_count": 30,
      "outputs": [
        {
          "output_type": "stream",
          "name": "stderr",
          "text": [
            "[nltk_data] Downloading package stopwords to /root/nltk_data...\n",
            "[nltk_data]   Unzipping corpora/stopwords.zip.\n"
          ]
        },
        {
          "output_type": "execute_result",
          "data": {
            "text/plain": [
              "True"
            ]
          },
          "metadata": {},
          "execution_count": 30
        }
      ]
    },
    {
      "cell_type": "markdown",
      "source": [
        "Посмотрим какие есть языки"
      ],
      "metadata": {
        "id": "8VaMaiQE_wU7"
      }
    },
    {
      "cell_type": "code",
      "source": [
        "np.unique(articles_df['lang'], return_counts=True)"
      ],
      "metadata": {
        "colab": {
          "base_uri": "https://localhost:8080/"
        },
        "id": "5fuk9VzYC-H2",
        "outputId": "207e1ce0-d109-4681-9c5e-34ee07ebe72e"
      },
      "execution_count": 31,
      "outputs": [
        {
          "output_type": "execute_result",
          "data": {
            "text/plain": [
              "(array(['en', 'es', 'ja', 'la', 'pt'], dtype=object),\n",
              " array([2148,    2,    2,    2,  822]))"
            ]
          },
          "metadata": {},
          "execution_count": 31
        }
      ]
    },
    {
      "cell_type": "code",
      "source": [
        "stopwords.fileids()"
      ],
      "metadata": {
        "colab": {
          "base_uri": "https://localhost:8080/"
        },
        "id": "zX7Ch3pxBHwN",
        "outputId": "3a945032-aecc-4286-dea7-d4f587f19960"
      },
      "execution_count": 32,
      "outputs": [
        {
          "output_type": "execute_result",
          "data": {
            "text/plain": [
              "['arabic',\n",
              " 'azerbaijani',\n",
              " 'basque',\n",
              " 'bengali',\n",
              " 'catalan',\n",
              " 'chinese',\n",
              " 'danish',\n",
              " 'dutch',\n",
              " 'english',\n",
              " 'finnish',\n",
              " 'french',\n",
              " 'german',\n",
              " 'greek',\n",
              " 'hebrew',\n",
              " 'hinglish',\n",
              " 'hungarian',\n",
              " 'indonesian',\n",
              " 'italian',\n",
              " 'kazakh',\n",
              " 'nepali',\n",
              " 'norwegian',\n",
              " 'portuguese',\n",
              " 'romanian',\n",
              " 'russian',\n",
              " 'slovene',\n",
              " 'spanish',\n",
              " 'swedish',\n",
              " 'tajik',\n",
              " 'turkish']"
            ]
          },
          "metadata": {},
          "execution_count": 32
        }
      ]
    },
    {
      "cell_type": "markdown",
      "source": [
        "nltk предлагает возможность взять готовый набор стоп-слов для английского, португальского и испанского. Латынь и японский за неимением готового набора стоп-слов и малым количеством наблюдений остаются без стоп слов и очищаются только от пунктуации."
      ],
      "metadata": {
        "id": "QsMZ841_CrTk"
      }
    },
    {
      "cell_type": "code",
      "source": [
        "m = MorphAnalyzer()\n",
        "\n",
        "def words_only(text):\n",
        "    try:\n",
        "        return regex.findall(r'[\\p{L}]+', text.lower())\n",
        "    except:\n",
        "        return []\n",
        "\n",
        "@lru_cache(maxsize=128)\n",
        "def lemmatize_word(token, pymorphy=m):\n",
        "    return pymorphy.parse(token)[0].normal_form\n",
        "\n",
        "def lemmatize_text(text):\n",
        "    return [lemmatize_word(w) for w in text]\n",
        "\n",
        "def remove_stopwords(lemmas, stopwords):\n",
        "    return [w for w in lemmas if not w in stopwords]\n",
        "\n",
        "def clean_text(text, stopwords):\n",
        "    tokens = words_only(text)\n",
        "    lemmas = lemmatize_text(tokens)\n",
        "    \n",
        "    return ' '.join(remove_stopwords(lemmas, stopwords))"
      ],
      "metadata": {
        "id": "-r2dgGOc_HET"
      },
      "execution_count": 33,
      "outputs": []
    },
    {
      "cell_type": "code",
      "execution_count": 34,
      "metadata": {
        "id": "HDSaOLiJpdGj"
      },
      "outputs": [],
      "source": [
        "en_stopwords = stopwords.words('english')\n",
        "pt_stopwords = stopwords.words('portuguese')  \n",
        "es_stopwords = stopwords.words('spanish')"
      ]
    },
    {
      "cell_type": "code",
      "source": [
        "process_feat = {}\n",
        "\n",
        "for key in feat.keys():\n",
        "    info = articles_df[articles_df['contentId_enc'] == key].values\n",
        "\n",
        "    if (len(info) == 0):\n",
        "      process_feat[key] = ''\n",
        "      continue\n",
        "\n",
        "    lang = info[0][-1]\n",
        "\n",
        "    if lang == 'en':\n",
        "      process_feat[key] = clean_text(feat[key], en_stopwords)\n",
        "    elif lang == 'pt':\n",
        "      process_feat[key] = clean_text(feat[key], pt_stopwords)\n",
        "    elif lang == 'es':\n",
        "      process_feat[key] = clean_text(feat[key], es_stopwords)\n",
        "    else:\n",
        "      process_feat[key] = clean_text(feat[key], [])\n",
        "\n",
        "\n",
        "process_feat = pd.Series(process_feat)\n",
        "process_feat.index.name = 'contentId'"
      ],
      "metadata": {
        "id": "-mPZnEq8PcLp"
      },
      "execution_count": 35,
      "outputs": []
    },
    {
      "cell_type": "code",
      "source": [
        "process_feat"
      ],
      "metadata": {
        "id": "aa3mS20XUAYe",
        "outputId": "dacfa498-87d2-4a2b-de11-da13d99c4d08",
        "colab": {
          "base_uri": "https://localhost:8080/"
        }
      },
      "execution_count": 36,
      "outputs": [
        {
          "output_type": "execute_result",
          "data": {
            "text/plain": [
              "contentId\n",
              "0       google unleashes deepmind on energy hungry dat...\n",
              "1       indústria desafios e oportunidades igor schiew...\n",
              "2       javascript hacks in this post i will share ext...\n",
              "3       australian bitcoin entrepreneur launches robo ...\n",
              "4       react native v rc released v rc on github npm ...\n",
              "                              ...                        \n",
              "2971    baidu abre laboratório de realidade aumentada ...\n",
              "2972    better exposed filters the better exposed filt...\n",
              "2973    elasticsearch csv exporter for kibana discover...\n",
              "2974    quer reclamar desenvolvedores vencem hackathon...\n",
              "2975    este é o melhor jeito de entender como as mulh...\n",
              "Length: 2976, dtype: object"
            ]
          },
          "metadata": {},
          "execution_count": 36
        }
      ]
    },
    {
      "cell_type": "code",
      "source": [
        "vectorizer.fit(process_feat)\n",
        "\n",
        "process_feat_tranform = vectorizer.transform(process_feat)"
      ],
      "metadata": {
        "id": "QFY-vjMqVNzN"
      },
      "execution_count": 39,
      "outputs": []
    },
    {
      "cell_type": "code",
      "source": [
        "model.fit(data_train, item_features=process_feat_tranform, epochs=20);"
      ],
      "metadata": {
        "id": "ogUF68VPVXNB"
      },
      "execution_count": 48,
      "outputs": []
    },
    {
      "cell_type": "code",
      "source": [
        "precision_at_k(model, data_test, data_train, k=10, item_features=process_feat_tranform).mean()"
      ],
      "metadata": {
        "colab": {
          "base_uri": "https://localhost:8080/"
        },
        "id": "Cw0dnskI2O4F",
        "outputId": "bfc45dc1-87d7-41bc-84b2-d632ffa0c7d7"
      },
      "execution_count": 396,
      "outputs": [
        {
          "output_type": "execute_result",
          "data": {
            "text/plain": [
              "0.0077568134"
            ]
          },
          "metadata": {},
          "execution_count": 396
        }
      ]
    },
    {
      "cell_type": "markdown",
      "metadata": {
        "id": "VgayAPRpqn7L"
      },
      "source": [
        "Улучшилось ли качество предсказания?"
      ]
    },
    {
      "cell_type": "markdown",
      "source": [
        "Качество улучшилось"
      ],
      "metadata": {
        "id": "kURDIJQvWCOK"
      }
    },
    {
      "cell_type": "markdown",
      "metadata": {
        "id": "XKRzLLodq3gq"
      },
      "source": [
        "## Задание 5 (1.5 балла)"
      ]
    },
    {
      "cell_type": "markdown",
      "metadata": {
        "id": "brjHl49Aq8su"
      },
      "source": [
        "Подберите гиперпараметры модели LightFM (`n_components` и др.) для улучшения качества модели."
      ]
    },
    {
      "cell_type": "code",
      "source": [
        "!pip install bayesian-optimization"
      ],
      "metadata": {
        "colab": {
          "base_uri": "https://localhost:8080/"
        },
        "id": "Sd7R0jiXOhoO",
        "outputId": "d78a881a-c369-4548-b296-c3e8cdfa7289"
      },
      "execution_count": 113,
      "outputs": [
        {
          "output_type": "stream",
          "name": "stdout",
          "text": [
            "Looking in indexes: https://pypi.org/simple, https://us-python.pkg.dev/colab-wheels/public/simple/\n",
            "Collecting bayesian-optimization\n",
            "  Downloading bayesian_optimization-1.4.2-py3-none-any.whl (17 kB)\n",
            "Requirement already satisfied: scipy>=1.0.0 in /usr/local/lib/python3.9/dist-packages (from bayesian-optimization) (1.10.1)\n",
            "Requirement already satisfied: scikit-learn>=0.18.0 in /usr/local/lib/python3.9/dist-packages (from bayesian-optimization) (1.2.2)\n",
            "Collecting colorama>=0.4.6\n",
            "  Downloading colorama-0.4.6-py2.py3-none-any.whl (25 kB)\n",
            "Requirement already satisfied: numpy>=1.9.0 in /usr/local/lib/python3.9/dist-packages (from bayesian-optimization) (1.22.4)\n",
            "Requirement already satisfied: joblib>=1.1.1 in /usr/local/lib/python3.9/dist-packages (from scikit-learn>=0.18.0->bayesian-optimization) (1.1.1)\n",
            "Requirement already satisfied: threadpoolctl>=2.0.0 in /usr/local/lib/python3.9/dist-packages (from scikit-learn>=0.18.0->bayesian-optimization) (3.1.0)\n",
            "Installing collected packages: colorama, bayesian-optimization\n",
            "Successfully installed bayesian-optimization-1.4.2 colorama-0.4.6\n"
          ]
        }
      ]
    },
    {
      "cell_type": "code",
      "source": [
        "from bayes_opt import BayesianOptimization\n",
        "\n",
        "parameters = {\n",
        "    'components_num': (20, 80),\n",
        "    'epoch_num': (5, 50),\n",
        "    'learning_rate': (0.01, 0.1)\n",
        "}\n",
        "\n",
        "\n",
        "def optimisation_func(components_num, epoch_num, learning_rate):\n",
        "    model = LightFM(learning_rate=learning_rate, loss='warp',\n",
        "                    no_components=int(components_num))\n",
        "    model.fit(data_train, item_features=process_feat_tranform,\n",
        "              epochs=int(epoch_num))\n",
        "\n",
        "    precision = precision_at_k(model, data_test, data_train,\n",
        "                               k=10, item_features=process_feat_tranform).mean()\n",
        "    \n",
        "    return precision\n",
        "  \n",
        "optimizer = BayesianOptimization(\n",
        "  f = optimisation_func,\n",
        "  pbounds = parameters,\n",
        "  verbose = 5,\n",
        "  random_state = 42, \n",
        ")\n",
        "\n",
        "optimizer.maximize(\n",
        "  init_points = 4,\n",
        "  n_iter = 3, \n",
        ")"
      ],
      "metadata": {
        "id": "X0tnxcdWddky",
        "outputId": "e5c93749-b779-45d5-b99a-3ecda8eae288",
        "colab": {
          "base_uri": "https://localhost:8080/"
        }
      },
      "execution_count": 114,
      "outputs": [
        {
          "output_type": "stream",
          "name": "stdout",
          "text": [
            "|   iter    |  target   | compon... | epoch_num | learni... |\n",
            "-------------------------------------------------------------\n",
            "| \u001b[0m1        \u001b[0m | \u001b[0m0.005346 \u001b[0m | \u001b[0m42.47    \u001b[0m | \u001b[0m47.78    \u001b[0m | \u001b[0m0.07588  \u001b[0m |\n",
            "| \u001b[95m2        \u001b[0m | \u001b[95m0.007652 \u001b[0m | \u001b[95m55.92    \u001b[0m | \u001b[95m12.02    \u001b[0m | \u001b[95m0.02404  \u001b[0m |\n",
            "| \u001b[95m3        \u001b[0m | \u001b[95m0.007862 \u001b[0m | \u001b[95m23.49    \u001b[0m | \u001b[95m43.98    \u001b[0m | \u001b[95m0.0641   \u001b[0m |\n",
            "| \u001b[0m4        \u001b[0m | \u001b[0m0.00587  \u001b[0m | \u001b[0m62.48    \u001b[0m | \u001b[0m5.926    \u001b[0m | \u001b[0m0.09729  \u001b[0m |\n",
            "| \u001b[95m5        \u001b[0m | \u001b[95m0.008281 \u001b[0m | \u001b[95m56.15    \u001b[0m | \u001b[95m12.34    \u001b[0m | \u001b[95m0.03104  \u001b[0m |\n",
            "| \u001b[0m6        \u001b[0m | \u001b[0m0.007233 \u001b[0m | \u001b[0m57.07    \u001b[0m | \u001b[0m12.82    \u001b[0m | \u001b[0m0.01674  \u001b[0m |\n",
            "| \u001b[0m7        \u001b[0m | \u001b[0m0.007233 \u001b[0m | \u001b[0m55.92    \u001b[0m | \u001b[0m13.07    \u001b[0m | \u001b[0m0.05259  \u001b[0m |\n",
            "=============================================================\n"
          ]
        }
      ]
    },
    {
      "cell_type": "markdown",
      "source": [
        "Попробуем обучить на лучшем результате"
      ],
      "metadata": {
        "id": "zFIESlP3M2Pn"
      }
    },
    {
      "cell_type": "code",
      "source": [
        "best_model = LightFM(learning_rate=0.03, loss='warp', no_components=56)\n",
        "best_model.fit(data_train, item_features=process_feat_tranform, epochs=12);"
      ],
      "metadata": {
        "id": "zj8fFfhTXRFR"
      },
      "execution_count": 125,
      "outputs": []
    },
    {
      "cell_type": "code",
      "source": [
        "precision_at_k(best_model, data_test, data_train, k=10, item_features=process_feat_tranform).mean()"
      ],
      "metadata": {
        "id": "8DW6exJYkQCc",
        "outputId": "c2e32da2-aaac-4406-b8c2-81634f9d70f5",
        "colab": {
          "base_uri": "https://localhost:8080/"
        }
      },
      "execution_count": 126,
      "outputs": [
        {
          "output_type": "execute_result",
          "data": {
            "text/plain": [
              "0.008385744"
            ]
          },
          "metadata": {},
          "execution_count": 126
        }
      ]
    },
    {
      "cell_type": "markdown",
      "source": [
        "Подбор параметров повысил качество"
      ],
      "metadata": {
        "id": "tY9uEG5vNF2Q"
      }
    },
    {
      "cell_type": "markdown",
      "source": [
        "Сохраним модель"
      ],
      "metadata": {
        "id": "q4peoJ-stXWD"
      }
    },
    {
      "cell_type": "code",
      "source": [
        "import pickle\n",
        "\n",
        "with open('lightFm.pkl', 'wb') as f:\n",
        "    pickle.dump(best_model, f)"
      ],
      "metadata": {
        "id": "lSFXOLn1tW_6"
      },
      "execution_count": 133,
      "outputs": []
    },
    {
      "cell_type": "markdown",
      "metadata": {
        "id": "xJA7v07NrYSF"
      },
      "source": [
        "## Задание 6 (1 балл)"
      ]
    },
    {
      "cell_type": "markdown",
      "metadata": {
        "id": "veLFUoVRrisk"
      },
      "source": [
        "Реализуйте функции для вычисления следующих метрик:\n",
        "* precision@k\n",
        "* recall@k\n",
        "* NDCG@k\n",
        "\n"
      ]
    },
    {
      "cell_type": "code",
      "source": [
        "def calc_precision(column):\n",
        "    return (\n",
        "        interactions\n",
        "        .apply(\n",
        "            lambda row:\n",
        "            len(set(row['true_test']).intersection(\n",
        "                set(row[column]))) /\n",
        "            min(len(row['true_test']) + 0.001, 10.0),\n",
        "            axis=1)).mean()"
      ],
      "metadata": {
        "id": "x7DDKnN_Ovh0"
      },
      "execution_count": 136,
      "outputs": []
    },
    {
      "cell_type": "code",
      "source": [
        "def calc_recall(column):\n",
        "    return (\n",
        "        interactions\n",
        "        .apply(\n",
        "            lambda row:\n",
        "            len(set(row['true_test']).intersection(\n",
        "                set(row[column]))) /\n",
        "            len(row[column]),\n",
        "            axis=1)).mean()"
      ],
      "metadata": {
        "id": "cyyvs3hXUV02"
      },
      "execution_count": 128,
      "outputs": []
    },
    {
      "cell_type": "code",
      "source": [
        "def dcg_score(y_true, y_score, k=10, gains=\"exponential\"):\n",
        "    \"\"\"Discounted cumulative gain (DCG) at rank k\n",
        "    Parameters\n",
        "    ----------\n",
        "    y_true : array-like, shape = [n_samples]\n",
        "        Ground truth (true relevance labels).\n",
        "    y_score : array-like, shape = [n_samples]\n",
        "        Predicted scores.\n",
        "    k : int\n",
        "        Rank.\n",
        "    gains : str\n",
        "        Whether gains should be \"exponential\" (default) or \"linear\".\n",
        "    Returns\n",
        "    -------\n",
        "    DCG @k : float\n",
        "    \"\"\"\n",
        "    order = np.argsort(y_score)[::-1]\n",
        "    y_true = np.take(y_true, order[:k])\n",
        "\n",
        "    if gains == \"exponential\":\n",
        "        gains = 2 ** y_true - 1\n",
        "    elif gains == \"linear\":\n",
        "        gains = y_true\n",
        "    else:\n",
        "        raise ValueError(\"Invalid gains option.\")\n",
        "\n",
        "    # highest rank is 1 so +2 instead of +1\n",
        "    discounts = np.log2(np.arange(len(y_true)) + 2)\n",
        "    return np.sum(gains / discounts)\n",
        "\n",
        "\n",
        "def ndcg_score(y_true, y_score, k=10, gains=\"exponential\"):\n",
        "    \"\"\"Normalized discounted cumulative gain (NDCG) at rank k\n",
        "    Parameters\n",
        "    ----------\n",
        "    y_true : array-like, shape = [n_samples]\n",
        "        Ground truth (true relevance labels).\n",
        "    y_score : array-like, shape = [n_samples]\n",
        "        Predicted scores.\n",
        "    k : int\n",
        "        Rank.\n",
        "    gains : str\n",
        "        Whether gains should be \"exponential\" (default) or \"linear\".\n",
        "    Returns\n",
        "    -------\n",
        "    NDCG @k : float\n",
        "    \"\"\"\n",
        "    best = dcg_score(y_true, y_true, k, gains)\n",
        "    actual = dcg_score(y_true, y_score, k, gains)\n",
        "    return actual / best"
      ],
      "metadata": {
        "id": "EOG13So8WRcN"
      },
      "execution_count": 129,
      "outputs": []
    },
    {
      "cell_type": "markdown",
      "source": [
        "## Задание 7 (1 балл)"
      ],
      "metadata": {
        "id": "YE5L-ise3Bq_"
      }
    },
    {
      "cell_type": "markdown",
      "source": [
        "Вычислите значения реализованных метрик для $k=10$ для лучшей полученной модели в предыдущих шагах.\n",
        "\n",
        "Найдите уже реализованные варианты этих метрик в библиотеках lightfm и sklearn. Сравните полученные у вас значения метрик с результатами встроенных в библиотеки метрик."
      ],
      "metadata": {
        "id": "7bqmjJMH3DB7"
      }
    },
    {
      "cell_type": "code",
      "source": [
        "with open('lightFm.pkl', 'rb') as f:\n",
        "    best_model = pickle.load(f)\n"
      ],
      "metadata": {
        "id": "dk5fWWCRt_Ki"
      },
      "execution_count": 134,
      "outputs": []
    },
    {
      "cell_type": "code",
      "source": [
        "def pairs(n_users, n_articles):\n",
        "  users_ids = []\n",
        "  articles_ids = []\n",
        "\n",
        "  for i in n_users:\n",
        "    for j in n_articles:\n",
        "      users_ids.append(i)\n",
        "      articles_ids.append(j)\n",
        "\n",
        "  return users_ids, articles_ids"
      ],
      "metadata": {
        "id": "4pcOsZFu8sLJ"
      },
      "execution_count": 137,
      "outputs": []
    },
    {
      "cell_type": "code",
      "source": [
        "users_ids, articles_ids = pairs(n_users, n_articles)"
      ],
      "metadata": {
        "id": "8PR2P2Am89Oy"
      },
      "execution_count": 138,
      "outputs": []
    },
    {
      "cell_type": "code",
      "source": [
        "predictions = best_model.predict(users_ids, articles_ids)"
      ],
      "metadata": {
        "id": "artDx4joQFEw"
      },
      "execution_count": 151,
      "outputs": []
    },
    {
      "cell_type": "code",
      "source": [
        "test = pd.DataFrame(data={'personId_enc': users_ids,\n",
        "                          'contentId_enc': articles_ids,\n",
        "                          'predictions': predictions})"
      ],
      "metadata": {
        "id": "0LiW6wiXTPgA"
      },
      "execution_count": 140,
      "outputs": []
    },
    {
      "cell_type": "code",
      "source": [
        "top_k = 10\n",
        "test = test.sort_values('predictions', ascending=False)\n",
        "predictions_ = test.groupby('personId_enc')['contentId_enc'].aggregate(list)\n",
        "tmp_predictions = []\n",
        "\n",
        "for personId in interactions.index:\n",
        "    prediction = np.array(predictions_.loc[personId])\n",
        "    \n",
        "    tmp_predictions.append(\n",
        "        list(prediction[~np.in1d(\n",
        "            prediction,\n",
        "            interactions.loc[personId, 'true_train'])])[:top_k])\n",
        "    \n",
        "interactions['prediction_content'] = tmp_predictions"
      ],
      "metadata": {
        "id": "T3Yyt-1MThrL"
      },
      "execution_count": 152,
      "outputs": []
    },
    {
      "cell_type": "code",
      "source": [
        "calc_precision('prediction_content')"
      ],
      "metadata": {
        "id": "7O0VlC_6T34N",
        "outputId": "9390cc00-11cf-4856-df2a-d1cc64f3ad50",
        "colab": {
          "base_uri": "https://localhost:8080/"
        }
      },
      "execution_count": 145,
      "outputs": [
        {
          "output_type": "execute_result",
          "data": {
            "text/plain": [
              "0.00522802281375267"
            ]
          },
          "metadata": {},
          "execution_count": 145
        }
      ]
    },
    {
      "cell_type": "code",
      "source": [
        "calc_recall('prediction_content')"
      ],
      "metadata": {
        "id": "OqskbsUzVjDC",
        "outputId": "9898d7e0-0ce3-4d92-a7c3-9814ba2e8273",
        "colab": {
          "base_uri": "https://localhost:8080/"
        }
      },
      "execution_count": 146,
      "outputs": [
        {
          "output_type": "execute_result",
          "data": {
            "text/plain": [
              "0.0034172661870503595"
            ]
          },
          "metadata": {},
          "execution_count": 146
        }
      ]
    },
    {
      "cell_type": "code",
      "source": [
        "precision_at_k(best_model, data_test, data_train, k=10, item_features=process_feat_tranform).mean()"
      ],
      "metadata": {
        "colab": {
          "base_uri": "https://localhost:8080/"
        },
        "id": "jsYjUAjOTISc",
        "outputId": "a60d5051-5d6c-49f9-e78b-7270cb3c2a9f"
      },
      "execution_count": 147,
      "outputs": [
        {
          "output_type": "execute_result",
          "data": {
            "text/plain": [
              "0.008385744"
            ]
          },
          "metadata": {},
          "execution_count": 147
        }
      ]
    },
    {
      "cell_type": "code",
      "source": [
        "from lightfm.evaluation import recall_at_k\n",
        "\n",
        "recall_at_k(best_model, data_test, data_train, k=10, item_features=process_feat_tranform).mean()"
      ],
      "metadata": {
        "colab": {
          "base_uri": "https://localhost:8080/"
        },
        "id": "1-fCSVLWTT3m",
        "outputId": "1ea5847b-0fdc-4683-d6c2-cfef09918c4f"
      },
      "execution_count": 148,
      "outputs": [
        {
          "output_type": "execute_result",
          "data": {
            "text/plain": [
              "0.009277481217449037"
            ]
          },
          "metadata": {},
          "execution_count": 148
        }
      ]
    },
    {
      "cell_type": "code",
      "source": [
        "from sklearn.metrics import ndcg_score\n",
        "\n",
        "ndcg_score([data_test.toarray().reshape(-1)], [predictions])"
      ],
      "metadata": {
        "id": "NHkTTZOYbagp",
        "outputId": "427988f2-a818-4d39-915b-b2950434e5ac",
        "colab": {
          "base_uri": "https://localhost:8080/"
        }
      },
      "execution_count": 156,
      "outputs": [
        {
          "output_type": "execute_result",
          "data": {
            "text/plain": [
              "0.505538644097635"
            ]
          },
          "metadata": {},
          "execution_count": 156
        }
      ]
    },
    {
      "cell_type": "markdown",
      "source": [
        "## Задание 8 (1 балл)\n",
        "\n",
        "Реализуйте алгоритм ALS и примените его для решения задачи ноутбука."
      ],
      "metadata": {
        "id": "t78oSTQz3Y6u"
      }
    },
    {
      "cell_type": "markdown",
      "source": [
        "**ALS**\n",
        "\n",
        "Итак, поставлена задача построения модели со скрытыми переменными (latent factor model) для коллаборативной фильтрации:\n",
        "\n",
        "$$ \\sum_{u,i} (r_{ui} - \\langle p_u, q_i \\rangle)^2 \\to \\min_{P,Q}$$\n",
        "\n",
        "Суммирование ведется по всем парам $(u, i),$ для которых известен рейтинг $r_{ui}$ (и только по ним), а $p_u, q_i$ – латентные представления пользователя~$u$ и товара $i$, соответственно, матрицы $P, Q$ получаются путем записывания по столбцам векторов $p_u, q_i$ соответственно.\n",
        "\n",
        "Подход ALS (Alternating Least Squares) решает задачу, попеременно фиксируя матрицы $P$ и $Q$, — оказывается, что, зафиксировав одну из матриц, можно выписать аналитическое решение задачи для другой.\n",
        "\n",
        "$$\\nabla_{p_u} \\bigg[ \\sum_{u,i} (r_{ui} - \\langle p_u, q_i \\rangle)^2 \\bigg] = \\sum_{i} 2(r_{ui} - \\langle p_u, q_i \\rangle)q_i = 0$$\n",
        "\n",
        "Воспользовавшись тем, что $a^Tbc = cb^Ta$, получим\n",
        "$$\\sum_{i} r_{ui}q_i - \\sum_i q_i q_i^T p_u = 0.$$\n",
        "\n",
        "Тогда окончательно каждый столбец матрицы $P$ можно найти по формуле\n",
        "$$p_u = \\bigg( \\sum_i q_i q_i^T\\bigg)^{-1}\\sum_ir_{ui}q_i \\;\\; \\forall u,$$\n",
        "\n",
        "аналогично для столбцов матрицы $Q$\n",
        "$$q_i = \\bigg( \\sum_u p_u p_u^T\\bigg)^{-1}\\sum_ur_{ui}p_u \\;\\; \\forall i.$$\n",
        "\n",
        "Таким образом мы можем решать оптимизационную задачу, поочередно фиксируя одну из матриц $P$ или $Q$ и проводя оптимизацию по второй.\n",
        "\n",
        "**Оригинальная статья c постановкой задачи для ALS на explicit feedback:**\n",
        "\n",
        "* Bell, R.M. and Koren, Y., 2007, October. Scalable collaborative filtering with jointly derived neighborhood interpolation weights. In Seventh IEEE international conference on data mining (ICDM 2007) (pp. 43-52). IEEE.\n",
        "\n",
        "**Оригинальная статья с ALS для implicit данных, которая стала более известной:**\n",
        "\n",
        "* Hu, Y., Koren, Y. and Volinsky, C., 2008, December. Collaborative filtering for implicit feedback datasets. In 2008 Eighth IEEE international conference on data mining (pp. 263-272). Ieee.\n"
      ],
      "metadata": {
        "id": "voZ9GsE54EZT"
      }
    },
    {
      "cell_type": "markdown",
      "source": [
        "Посмотрел последнюю статью + реализация к ней кода https://www.kaggle.com/code/shivendra91/recommendation-als"
      ],
      "metadata": {
        "id": "SFj-yaAWSg3N"
      }
    },
    {
      "cell_type": "code",
      "source": [
        "import scipy.sparse as sp\n",
        "from scipy.sparse import vstack\n",
        "from scipy import sparse\n",
        "from scipy.sparse.linalg import spsolve"
      ],
      "metadata": {
        "id": "ID5dXU02fy-y"
      },
      "execution_count": 357,
      "outputs": []
    },
    {
      "cell_type": "code",
      "source": [
        "def implicit_weighted_ALS(training_set, lambda_val = 0.1, alpha = 40, iterations = 10, rank_size = 20, seed = 42):   \n",
        "    '''\n",
        "    Implicit weighted ALS taken from Hu, Koren, and Volinsky 2008.\n",
        "    \n",
        "    Параметры:\n",
        "    \n",
        "    training_set - Наша матрица оценок имеет форму m x n, где m — количество пользователей, а n — количество товаров.\n",
        "    Должна быть разреженная матрица csr.\n",
        "\n",
        "    lambda_val - Используется для регуляризации при чередовании метода наименьших квадратов. Увеличение этого значения может увеличить смещение\n",
        "    но уменьшить дисперсию. По умолчанию 0,1.\n",
        "    \n",
        "    alpha - Параметр, связанный с матрицей достоверности, обсуждаемой в статье, где Cui = 1 + alpha*Rui.\n",
        "    В статье установлено, что значение по умолчанию, равное 40, является наиболее эффективным. Уменьшение этого значения уменьшит изменчивость достоверности между\n",
        "    различные рейтинги.\n",
        "\n",
        "    iterations - количество итераций, которое нужно чередовать между вектором характеристик пользователя и вектором характеристик товаров в\n",
        "    чередование наименьших квадратов. Больше итераций позволит улучшить сходимость за счет увеличения объема вычислений.\n",
        "    Авторы обнаружили, что 10 итераций было достаточно, но для сходимости может потребоваться больше.\n",
        "    \n",
        "    rank_size - количество латентных представлений в векторах функций пользователя/элемента. В статье рекомендуется варьировать это\n",
        "    между 20-200. Увеличение количества может привести к переобучению, но может уменьшить систематическую ошибку.\n",
        "    \n",
        "    seed - для воспроизводимости результатов\n",
        "\n",
        "\n",
        "    Результат:\n",
        "\n",
        "    Скалярное произведение векторов X, Y дает ожидаемый «рейтинг» в каждой паре исходной матрицы.\n",
        "    '''\n",
        "    conf = alpha * training_set\n",
        "    num_user = conf.shape[0]\n",
        "    num_item = conf.shape[1] \n",
        "    \n",
        "    # случайным образом инициализируем векторы признаков X и Y\n",
        "    rstate = np.random.RandomState(seed)\n",
        "    X = sparse.csr_matrix(rstate.normal(size = (num_user, rank_size)))\n",
        "    Y = sparse.csr_matrix(rstate.normal(size = (num_item, rank_size)))\n",
        "\n",
        "    X_eye = sparse.eye(num_user)\n",
        "    Y_eye = sparse.eye(num_item)\n",
        "\n",
        "    lambda_eye = lambda_val * sparse.eye(rank_size) # регуляризации lambda*I\n",
        "    \n",
        "    for iter_step in range(iterations):\n",
        "        yTy = Y.T.dot(Y)\n",
        "        xTx = X.T.dot(X)\n",
        "\n",
        "        # Итерация решения для X на основе фиксированного Y\n",
        "        for u in range(num_user):\n",
        "            conf_samp = conf[u,:].toarray() \n",
        "            pref = conf_samp.copy() \n",
        "            pref[pref != 0] = 1\n",
        "            CuI = sparse.diags(conf_samp, [0]) \n",
        "            yTCuIY = Y.T.dot(CuI).dot(Y) \n",
        "            yTCupu = Y.T.dot(CuI + Y_eye).dot(pref.T) \n",
        "            X[u] = spsolve(yTy + yTCuIY + lambda_eye, yTCupu) \n",
        "    \n",
        "        # Итерация решения для Y на основе фиксированного X\n",
        "        for i in range(num_item):\n",
        "            conf_samp = conf[:,i].T.toarray()\n",
        "            pref = conf_samp.copy()\n",
        "            pref[pref != 0] = 1 \n",
        "            CiI = sparse.diags(conf_samp, [0])\n",
        "            xTCiIX = X.T.dot(CiI).dot(X) \n",
        "            xTCiPi = X.T.dot(CiI + X_eye).dot(pref.T)\n",
        "            Y[i] = spsolve(xTx + xTCiIX + lambda_eye, xTCiPi)\n",
        "\n",
        "    return X, Y.T"
      ],
      "metadata": {
        "id": "7cDRmFLs4DnT"
      },
      "execution_count": 358,
      "outputs": []
    },
    {
      "cell_type": "code",
      "source": [
        "user_vecs, articles_vecs = implicit_weighted_ALS(data_train)"
      ],
      "metadata": {
        "id": "vXTv6pfRhrlN"
      },
      "execution_count": 359,
      "outputs": []
    },
    {
      "cell_type": "code",
      "source": [
        "pd.DataFrame.sparse.from_spmatrix(user_vecs.dot(articles_vecs))"
      ],
      "metadata": {
        "colab": {
          "base_uri": "https://localhost:8080/",
          "height": 488
        },
        "id": "ePoOLq3Li0nV",
        "outputId": "0783a2bb-f51a-4691-eb30-b4100747c48e"
      },
      "execution_count": 360,
      "outputs": [
        {
          "output_type": "execute_result",
          "data": {
            "text/plain": [
              "          0         1         2         3         4         5         6     \\\n",
              "0    -0.033819 -0.051754  0.289484 -0.104567  0.127782  0.341565 -0.050967   \n",
              "1     0.828852  0.017454  0.460150  0.466844  0.536716  0.534460  0.883315   \n",
              "2     1.225257 -0.133249 -0.818224 -0.070658 -0.284690  1.083036  1.103886   \n",
              "3     0.975221  0.321642 -0.601620  0.298723 -0.146851  0.400421 -0.252896   \n",
              "4     0.380571 -0.125150  0.209017 -0.224644  0.126809  0.150761 -0.019917   \n",
              "...        ...       ...       ...       ...       ...       ...       ...   \n",
              "1107  0.081986 -0.163746  0.083299 -0.173212 -0.077410  0.104096 -0.015497   \n",
              "1108  0.054252 -0.158545 -0.168217 -0.012307 -0.262017  0.183427 -0.170376   \n",
              "1109  0.113995  0.046530  0.441193  0.138395  0.120380 -0.037280 -0.274976   \n",
              "1110 -0.336625  0.317455  0.279168 -0.174551  0.241231  0.318668 -0.300534   \n",
              "1111  0.099472 -0.011009  0.047350  0.003874 -0.100171 -0.252103 -0.246887   \n",
              "\n",
              "          7         8         9     ...      2966      2967      2968  2969  \\\n",
              "0     0.064539 -0.183601 -0.053165  ... -0.127712 -0.063604  0.195922   0.0   \n",
              "1    -0.374976  0.580667  1.000496  ...  0.954280  0.676172  0.284992   0.0   \n",
              "2     0.092985  0.248321  0.422853  ...  0.752333  1.173604 -0.473461   0.0   \n",
              "3     0.112747 -0.220853  0.084852  ...  0.143466  1.086192 -0.047522   0.0   \n",
              "4     0.123571  0.016332 -0.348650  ... -0.003034 -0.077572 -0.041181   0.0   \n",
              "...        ...       ...       ...  ...       ...       ...       ...   ...   \n",
              "1107 -0.261523  0.035880 -0.049559  ... -0.069709  0.402890  0.046293   0.0   \n",
              "1108 -0.064096 -0.287177 -0.001490  ...  0.023115  0.160785 -0.059060   0.0   \n",
              "1109 -0.483721 -0.210232  0.289794  ...  0.104526  0.291366  0.583012   0.0   \n",
              "1110 -0.074034  0.139740  0.159578  ... -0.183422  0.036069  0.553433   0.0   \n",
              "1111 -0.011483 -0.059884 -0.130029  ... -0.010720  0.330734  0.029586   0.0   \n",
              "\n",
              "          2970  2971      2972      2973      2974  2975  \n",
              "0    -0.207078   0.0 -0.051404 -0.121037  0.141879   0.0  \n",
              "1     0.968526   0.0  0.787272  0.094800 -0.204800   0.0  \n",
              "2     1.018779   0.0  0.302377 -0.150401 -0.215762   0.0  \n",
              "3     0.085987   0.0  0.171423  0.160987  0.319865   0.0  \n",
              "4     0.022435   0.0 -0.193741 -0.014360  0.171383   0.0  \n",
              "...        ...   ...       ...       ...       ...   ...  \n",
              "1107 -0.198392   0.0 -0.112769  0.336942 -0.074343   0.0  \n",
              "1108  0.122481   0.0 -0.102468  0.089663  0.301837   0.0  \n",
              "1109  0.060636   0.0  0.061435  0.488738  0.438966   0.0  \n",
              "1110 -0.142966   0.0 -0.160011  0.678942 -0.047025   0.0  \n",
              "1111  0.085299   0.0  0.086532  0.267921  0.101037   0.0  \n",
              "\n",
              "[1112 rows x 2976 columns]"
            ],
            "text/html": [
              "\n",
              "  <div id=\"df-117a201e-d14d-4812-996b-49389e031d2c\">\n",
              "    <div class=\"colab-df-container\">\n",
              "      <div>\n",
              "<style scoped>\n",
              "    .dataframe tbody tr th:only-of-type {\n",
              "        vertical-align: middle;\n",
              "    }\n",
              "\n",
              "    .dataframe tbody tr th {\n",
              "        vertical-align: top;\n",
              "    }\n",
              "\n",
              "    .dataframe thead th {\n",
              "        text-align: right;\n",
              "    }\n",
              "</style>\n",
              "<table border=\"1\" class=\"dataframe\">\n",
              "  <thead>\n",
              "    <tr style=\"text-align: right;\">\n",
              "      <th></th>\n",
              "      <th>0</th>\n",
              "      <th>1</th>\n",
              "      <th>2</th>\n",
              "      <th>3</th>\n",
              "      <th>4</th>\n",
              "      <th>5</th>\n",
              "      <th>6</th>\n",
              "      <th>7</th>\n",
              "      <th>8</th>\n",
              "      <th>9</th>\n",
              "      <th>...</th>\n",
              "      <th>2966</th>\n",
              "      <th>2967</th>\n",
              "      <th>2968</th>\n",
              "      <th>2969</th>\n",
              "      <th>2970</th>\n",
              "      <th>2971</th>\n",
              "      <th>2972</th>\n",
              "      <th>2973</th>\n",
              "      <th>2974</th>\n",
              "      <th>2975</th>\n",
              "    </tr>\n",
              "  </thead>\n",
              "  <tbody>\n",
              "    <tr>\n",
              "      <th>0</th>\n",
              "      <td>-0.033819</td>\n",
              "      <td>-0.051754</td>\n",
              "      <td>0.289484</td>\n",
              "      <td>-0.104567</td>\n",
              "      <td>0.127782</td>\n",
              "      <td>0.341565</td>\n",
              "      <td>-0.050967</td>\n",
              "      <td>0.064539</td>\n",
              "      <td>-0.183601</td>\n",
              "      <td>-0.053165</td>\n",
              "      <td>...</td>\n",
              "      <td>-0.127712</td>\n",
              "      <td>-0.063604</td>\n",
              "      <td>0.195922</td>\n",
              "      <td>0.0</td>\n",
              "      <td>-0.207078</td>\n",
              "      <td>0.0</td>\n",
              "      <td>-0.051404</td>\n",
              "      <td>-0.121037</td>\n",
              "      <td>0.141879</td>\n",
              "      <td>0.0</td>\n",
              "    </tr>\n",
              "    <tr>\n",
              "      <th>1</th>\n",
              "      <td>0.828852</td>\n",
              "      <td>0.017454</td>\n",
              "      <td>0.460150</td>\n",
              "      <td>0.466844</td>\n",
              "      <td>0.536716</td>\n",
              "      <td>0.534460</td>\n",
              "      <td>0.883315</td>\n",
              "      <td>-0.374976</td>\n",
              "      <td>0.580667</td>\n",
              "      <td>1.000496</td>\n",
              "      <td>...</td>\n",
              "      <td>0.954280</td>\n",
              "      <td>0.676172</td>\n",
              "      <td>0.284992</td>\n",
              "      <td>0.0</td>\n",
              "      <td>0.968526</td>\n",
              "      <td>0.0</td>\n",
              "      <td>0.787272</td>\n",
              "      <td>0.094800</td>\n",
              "      <td>-0.204800</td>\n",
              "      <td>0.0</td>\n",
              "    </tr>\n",
              "    <tr>\n",
              "      <th>2</th>\n",
              "      <td>1.225257</td>\n",
              "      <td>-0.133249</td>\n",
              "      <td>-0.818224</td>\n",
              "      <td>-0.070658</td>\n",
              "      <td>-0.284690</td>\n",
              "      <td>1.083036</td>\n",
              "      <td>1.103886</td>\n",
              "      <td>0.092985</td>\n",
              "      <td>0.248321</td>\n",
              "      <td>0.422853</td>\n",
              "      <td>...</td>\n",
              "      <td>0.752333</td>\n",
              "      <td>1.173604</td>\n",
              "      <td>-0.473461</td>\n",
              "      <td>0.0</td>\n",
              "      <td>1.018779</td>\n",
              "      <td>0.0</td>\n",
              "      <td>0.302377</td>\n",
              "      <td>-0.150401</td>\n",
              "      <td>-0.215762</td>\n",
              "      <td>0.0</td>\n",
              "    </tr>\n",
              "    <tr>\n",
              "      <th>3</th>\n",
              "      <td>0.975221</td>\n",
              "      <td>0.321642</td>\n",
              "      <td>-0.601620</td>\n",
              "      <td>0.298723</td>\n",
              "      <td>-0.146851</td>\n",
              "      <td>0.400421</td>\n",
              "      <td>-0.252896</td>\n",
              "      <td>0.112747</td>\n",
              "      <td>-0.220853</td>\n",
              "      <td>0.084852</td>\n",
              "      <td>...</td>\n",
              "      <td>0.143466</td>\n",
              "      <td>1.086192</td>\n",
              "      <td>-0.047522</td>\n",
              "      <td>0.0</td>\n",
              "      <td>0.085987</td>\n",
              "      <td>0.0</td>\n",
              "      <td>0.171423</td>\n",
              "      <td>0.160987</td>\n",
              "      <td>0.319865</td>\n",
              "      <td>0.0</td>\n",
              "    </tr>\n",
              "    <tr>\n",
              "      <th>4</th>\n",
              "      <td>0.380571</td>\n",
              "      <td>-0.125150</td>\n",
              "      <td>0.209017</td>\n",
              "      <td>-0.224644</td>\n",
              "      <td>0.126809</td>\n",
              "      <td>0.150761</td>\n",
              "      <td>-0.019917</td>\n",
              "      <td>0.123571</td>\n",
              "      <td>0.016332</td>\n",
              "      <td>-0.348650</td>\n",
              "      <td>...</td>\n",
              "      <td>-0.003034</td>\n",
              "      <td>-0.077572</td>\n",
              "      <td>-0.041181</td>\n",
              "      <td>0.0</td>\n",
              "      <td>0.022435</td>\n",
              "      <td>0.0</td>\n",
              "      <td>-0.193741</td>\n",
              "      <td>-0.014360</td>\n",
              "      <td>0.171383</td>\n",
              "      <td>0.0</td>\n",
              "    </tr>\n",
              "    <tr>\n",
              "      <th>...</th>\n",
              "      <td>...</td>\n",
              "      <td>...</td>\n",
              "      <td>...</td>\n",
              "      <td>...</td>\n",
              "      <td>...</td>\n",
              "      <td>...</td>\n",
              "      <td>...</td>\n",
              "      <td>...</td>\n",
              "      <td>...</td>\n",
              "      <td>...</td>\n",
              "      <td>...</td>\n",
              "      <td>...</td>\n",
              "      <td>...</td>\n",
              "      <td>...</td>\n",
              "      <td>...</td>\n",
              "      <td>...</td>\n",
              "      <td>...</td>\n",
              "      <td>...</td>\n",
              "      <td>...</td>\n",
              "      <td>...</td>\n",
              "      <td>...</td>\n",
              "    </tr>\n",
              "    <tr>\n",
              "      <th>1107</th>\n",
              "      <td>0.081986</td>\n",
              "      <td>-0.163746</td>\n",
              "      <td>0.083299</td>\n",
              "      <td>-0.173212</td>\n",
              "      <td>-0.077410</td>\n",
              "      <td>0.104096</td>\n",
              "      <td>-0.015497</td>\n",
              "      <td>-0.261523</td>\n",
              "      <td>0.035880</td>\n",
              "      <td>-0.049559</td>\n",
              "      <td>...</td>\n",
              "      <td>-0.069709</td>\n",
              "      <td>0.402890</td>\n",
              "      <td>0.046293</td>\n",
              "      <td>0.0</td>\n",
              "      <td>-0.198392</td>\n",
              "      <td>0.0</td>\n",
              "      <td>-0.112769</td>\n",
              "      <td>0.336942</td>\n",
              "      <td>-0.074343</td>\n",
              "      <td>0.0</td>\n",
              "    </tr>\n",
              "    <tr>\n",
              "      <th>1108</th>\n",
              "      <td>0.054252</td>\n",
              "      <td>-0.158545</td>\n",
              "      <td>-0.168217</td>\n",
              "      <td>-0.012307</td>\n",
              "      <td>-0.262017</td>\n",
              "      <td>0.183427</td>\n",
              "      <td>-0.170376</td>\n",
              "      <td>-0.064096</td>\n",
              "      <td>-0.287177</td>\n",
              "      <td>-0.001490</td>\n",
              "      <td>...</td>\n",
              "      <td>0.023115</td>\n",
              "      <td>0.160785</td>\n",
              "      <td>-0.059060</td>\n",
              "      <td>0.0</td>\n",
              "      <td>0.122481</td>\n",
              "      <td>0.0</td>\n",
              "      <td>-0.102468</td>\n",
              "      <td>0.089663</td>\n",
              "      <td>0.301837</td>\n",
              "      <td>0.0</td>\n",
              "    </tr>\n",
              "    <tr>\n",
              "      <th>1109</th>\n",
              "      <td>0.113995</td>\n",
              "      <td>0.046530</td>\n",
              "      <td>0.441193</td>\n",
              "      <td>0.138395</td>\n",
              "      <td>0.120380</td>\n",
              "      <td>-0.037280</td>\n",
              "      <td>-0.274976</td>\n",
              "      <td>-0.483721</td>\n",
              "      <td>-0.210232</td>\n",
              "      <td>0.289794</td>\n",
              "      <td>...</td>\n",
              "      <td>0.104526</td>\n",
              "      <td>0.291366</td>\n",
              "      <td>0.583012</td>\n",
              "      <td>0.0</td>\n",
              "      <td>0.060636</td>\n",
              "      <td>0.0</td>\n",
              "      <td>0.061435</td>\n",
              "      <td>0.488738</td>\n",
              "      <td>0.438966</td>\n",
              "      <td>0.0</td>\n",
              "    </tr>\n",
              "    <tr>\n",
              "      <th>1110</th>\n",
              "      <td>-0.336625</td>\n",
              "      <td>0.317455</td>\n",
              "      <td>0.279168</td>\n",
              "      <td>-0.174551</td>\n",
              "      <td>0.241231</td>\n",
              "      <td>0.318668</td>\n",
              "      <td>-0.300534</td>\n",
              "      <td>-0.074034</td>\n",
              "      <td>0.139740</td>\n",
              "      <td>0.159578</td>\n",
              "      <td>...</td>\n",
              "      <td>-0.183422</td>\n",
              "      <td>0.036069</td>\n",
              "      <td>0.553433</td>\n",
              "      <td>0.0</td>\n",
              "      <td>-0.142966</td>\n",
              "      <td>0.0</td>\n",
              "      <td>-0.160011</td>\n",
              "      <td>0.678942</td>\n",
              "      <td>-0.047025</td>\n",
              "      <td>0.0</td>\n",
              "    </tr>\n",
              "    <tr>\n",
              "      <th>1111</th>\n",
              "      <td>0.099472</td>\n",
              "      <td>-0.011009</td>\n",
              "      <td>0.047350</td>\n",
              "      <td>0.003874</td>\n",
              "      <td>-0.100171</td>\n",
              "      <td>-0.252103</td>\n",
              "      <td>-0.246887</td>\n",
              "      <td>-0.011483</td>\n",
              "      <td>-0.059884</td>\n",
              "      <td>-0.130029</td>\n",
              "      <td>...</td>\n",
              "      <td>-0.010720</td>\n",
              "      <td>0.330734</td>\n",
              "      <td>0.029586</td>\n",
              "      <td>0.0</td>\n",
              "      <td>0.085299</td>\n",
              "      <td>0.0</td>\n",
              "      <td>0.086532</td>\n",
              "      <td>0.267921</td>\n",
              "      <td>0.101037</td>\n",
              "      <td>0.0</td>\n",
              "    </tr>\n",
              "  </tbody>\n",
              "</table>\n",
              "<p>1112 rows × 2976 columns</p>\n",
              "</div>\n",
              "      <button class=\"colab-df-convert\" onclick=\"convertToInteractive('df-117a201e-d14d-4812-996b-49389e031d2c')\"\n",
              "              title=\"Convert this dataframe to an interactive table.\"\n",
              "              style=\"display:none;\">\n",
              "        \n",
              "  <svg xmlns=\"http://www.w3.org/2000/svg\" height=\"24px\"viewBox=\"0 0 24 24\"\n",
              "       width=\"24px\">\n",
              "    <path d=\"M0 0h24v24H0V0z\" fill=\"none\"/>\n",
              "    <path d=\"M18.56 5.44l.94 2.06.94-2.06 2.06-.94-2.06-.94-.94-2.06-.94 2.06-2.06.94zm-11 1L8.5 8.5l.94-2.06 2.06-.94-2.06-.94L8.5 2.5l-.94 2.06-2.06.94zm10 10l.94 2.06.94-2.06 2.06-.94-2.06-.94-.94-2.06-.94 2.06-2.06.94z\"/><path d=\"M17.41 7.96l-1.37-1.37c-.4-.4-.92-.59-1.43-.59-.52 0-1.04.2-1.43.59L10.3 9.45l-7.72 7.72c-.78.78-.78 2.05 0 2.83L4 21.41c.39.39.9.59 1.41.59.51 0 1.02-.2 1.41-.59l7.78-7.78 2.81-2.81c.8-.78.8-2.07 0-2.86zM5.41 20L4 18.59l7.72-7.72 1.47 1.35L5.41 20z\"/>\n",
              "  </svg>\n",
              "      </button>\n",
              "      \n",
              "  <style>\n",
              "    .colab-df-container {\n",
              "      display:flex;\n",
              "      flex-wrap:wrap;\n",
              "      gap: 12px;\n",
              "    }\n",
              "\n",
              "    .colab-df-convert {\n",
              "      background-color: #E8F0FE;\n",
              "      border: none;\n",
              "      border-radius: 50%;\n",
              "      cursor: pointer;\n",
              "      display: none;\n",
              "      fill: #1967D2;\n",
              "      height: 32px;\n",
              "      padding: 0 0 0 0;\n",
              "      width: 32px;\n",
              "    }\n",
              "\n",
              "    .colab-df-convert:hover {\n",
              "      background-color: #E2EBFA;\n",
              "      box-shadow: 0px 1px 2px rgba(60, 64, 67, 0.3), 0px 1px 3px 1px rgba(60, 64, 67, 0.15);\n",
              "      fill: #174EA6;\n",
              "    }\n",
              "\n",
              "    [theme=dark] .colab-df-convert {\n",
              "      background-color: #3B4455;\n",
              "      fill: #D2E3FC;\n",
              "    }\n",
              "\n",
              "    [theme=dark] .colab-df-convert:hover {\n",
              "      background-color: #434B5C;\n",
              "      box-shadow: 0px 1px 3px 1px rgba(0, 0, 0, 0.15);\n",
              "      filter: drop-shadow(0px 1px 2px rgba(0, 0, 0, 0.3));\n",
              "      fill: #FFFFFF;\n",
              "    }\n",
              "  </style>\n",
              "\n",
              "      <script>\n",
              "        const buttonEl =\n",
              "          document.querySelector('#df-117a201e-d14d-4812-996b-49389e031d2c button.colab-df-convert');\n",
              "        buttonEl.style.display =\n",
              "          google.colab.kernel.accessAllowed ? 'block' : 'none';\n",
              "\n",
              "        async function convertToInteractive(key) {\n",
              "          const element = document.querySelector('#df-117a201e-d14d-4812-996b-49389e031d2c');\n",
              "          const dataTable =\n",
              "            await google.colab.kernel.invokeFunction('convertToInteractive',\n",
              "                                                     [key], {});\n",
              "          if (!dataTable) return;\n",
              "\n",
              "          const docLinkHtml = 'Like what you see? Visit the ' +\n",
              "            '<a target=\"_blank\" href=https://colab.research.google.com/notebooks/data_table.ipynb>data table notebook</a>'\n",
              "            + ' to learn more about interactive tables.';\n",
              "          element.innerHTML = '';\n",
              "          dataTable['output_type'] = 'display_data';\n",
              "          await google.colab.output.renderOutput(dataTable, element);\n",
              "          const docLink = document.createElement('div');\n",
              "          docLink.innerHTML = docLinkHtml;\n",
              "          element.appendChild(docLink);\n",
              "        }\n",
              "      </script>\n",
              "    </div>\n",
              "  </div>\n",
              "  "
            ]
          },
          "metadata": {},
          "execution_count": 360
        }
      ]
    }
  ],
  "metadata": {
    "colab": {
      "provenance": []
    },
    "kernelspec": {
      "display_name": "Python 3 (ipykernel)",
      "language": "python",
      "name": "python3"
    },
    "language_info": {
      "codemirror_mode": {
        "name": "ipython",
        "version": 3
      },
      "file_extension": ".py",
      "mimetype": "text/x-python",
      "name": "python",
      "nbconvert_exporter": "python",
      "pygments_lexer": "ipython3",
      "version": "3.9.10"
    }
  },
  "nbformat": 4,
  "nbformat_minor": 0
}