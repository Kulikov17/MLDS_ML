{
  "cells": [
    {
      "cell_type": "markdown",
      "metadata": {
        "id": "9hcI79Y3q8z8"
      },
      "source": [
        "# Домашнее задание \n",
        "\n",
        "В этом задании мы попрактикуемся в методах снижения размерности и кластеризации данных. \n",
        "\n",
        "## Задание 1. Кластеризация типов движений (5 баллов)\n",
        "\n",
        "В этой части задания мы будем работать с набором данных Samsung Human Activity Recognition. Скачайте данные по ссылке https://yadi.sk/d/_WFxgSIuBF06Rg. Данные поступают с акселерометров и гироскопов мобильных телефонов Samsung Galaxy S3, также известен вид активности человека с телефоном в кармане – ходил ли он, стоял, лежал, сидел или шел вверх/вниз по лестнице.\n",
        "\n",
        "Представим, что вид активности нам неизвестнен, и попробуем кластеризовать людей чисто на основе имеющихся признаков.\n",
        "\n",
        "Также есть методичка/овервью от sklearn:\n",
        "[Методичка](https://scikit-learn.org/stable/modules/clustering.html#clustering-performance-evaluation)"
      ]
    },
    {
      "cell_type": "code",
      "source": [
        "from google.colab import drive\n",
        "drive.mount('/content/gdrive')"
      ],
      "metadata": {
        "id": "ZiJ5jOcfGKfl",
        "outputId": "11e8d171-380f-4c40-8394-88691cf17541",
        "colab": {
          "base_uri": "https://localhost:8080/"
        }
      },
      "execution_count": 1,
      "outputs": [
        {
          "output_type": "stream",
          "name": "stdout",
          "text": [
            "Mounted at /content/gdrive\n"
          ]
        }
      ]
    },
    {
      "cell_type": "code",
      "source": [
        "root_path = 'gdrive/MyDrive/HSE_ML_HW4/'"
      ],
      "metadata": {
        "id": "Cpvr-DfCGkuE"
      },
      "execution_count": 2,
      "outputs": []
    },
    {
      "cell_type": "code",
      "execution_count": 3,
      "metadata": {
        "id": "NSpra8Wsq8z-"
      },
      "outputs": [],
      "source": [
        "import numpy as np\n",
        "import seaborn as sns\n",
        "import pandas as pd\n",
        "from matplotlib import pyplot as plt\n",
        "\n",
        "\n",
        "plt.style.use(['seaborn-darkgrid'])\n",
        "plt.rcParams['figure.figsize'] = (12, 9)\n",
        "plt.rcParams['font.family'] = 'DejaVu Sans'\n",
        "\n",
        "%matplotlib inline\n",
        "%config InlineBackend.figure_format=\"retina\"\n",
        "\n",
        "RANDOM_STATE = 42"
      ]
    },
    {
      "cell_type": "markdown",
      "metadata": {
        "id": "eT5k5ccnEj-0"
      },
      "source": [
        "### Задание 1.0 (0.1 балл)\n",
        "Прочитайте данные из файлов и объедните тестовую и обучающие выборки.\n",
        "\n",
        "В файлах ```..._labels``` лежат настоящие классы. Их также объедините, но в отдельную переменную (например ```y```). Данный вектор для кластеризации нам не нужен, но мы будем смотреть по нему метрики."
      ]
    },
    {
      "cell_type": "code",
      "source": [
        "def read_data(filename, cast_func):\n",
        "  with open(root_path + filename) as f:\n",
        "    file_data = f.readlines()\n",
        "\n",
        "    df = []\n",
        "    for line in file_data:\n",
        "      preprocess_line = line.replace('\\n', '').split(' ')\n",
        "      df.append([cast_func(x) for x in preprocess_line if x != ''])\n",
        "  \n",
        "  return df"
      ],
      "metadata": {
        "id": "WQ-SpRadNyrI"
      },
      "execution_count": 26,
      "outputs": []
    },
    {
      "cell_type": "code",
      "execution_count": 27,
      "metadata": {
        "id": "0JnL3R96q8z_"
      },
      "outputs": [],
      "source": [
        "X = read_data('samsung_train.txt', float) + read_data('samsung_test.txt', float)\n",
        "y = read_data('samsung_train_labels.txt', int) + read_data('samsung_test_labels.txt', int)"
      ]
    },
    {
      "cell_type": "code",
      "execution_count": 28,
      "metadata": {
        "id": "_OC0LAj-q80A",
        "outputId": "b03fb5c6-380e-4875-f6c7-7badb55e8707",
        "colab": {
          "base_uri": "https://localhost:8080/"
        }
      },
      "outputs": [
        {
          "output_type": "execute_result",
          "data": {
            "text/plain": [
              "array([1, 2, 3, 4, 5, 6])"
            ]
          },
          "metadata": {},
          "execution_count": 28
        }
      ],
      "source": [
        "np.unique(y)"
      ]
    },
    {
      "cell_type": "markdown",
      "metadata": {
        "id": "H-QT73HBq80A"
      },
      "source": [
        "Эти метки соответствуют:\n",
        "\n",
        "1 - ходьбе,\n",
        "2 - подъему вверх по лестнице,\n",
        "3 - спуску по лестнице,\n",
        "4 - сидению,\n",
        "5 - стоянию,\n",
        "6 - лежанию"
      ]
    },
    {
      "cell_type": "markdown",
      "metadata": {
        "id": "SPMFLWhZq80A"
      },
      "source": [
        "### Задание 1.1 (0.5 баллов)\n",
        "\n",
        "Отмасштабируйте выборку с помощью ```StandardScaler```.\n",
        "\n",
        "[Документация](https://scikit-learn.org/stable/modules/generated/sklearn.preprocessing.StandardScaler.html)"
      ]
    },
    {
      "cell_type": "code",
      "execution_count": 31,
      "metadata": {
        "id": "kIFweawCq80B"
      },
      "outputs": [],
      "source": [
        "from sklearn.preprocessing import StandardScaler\n",
        "\n",
        "scaler = StandardScaler()\n",
        "X_scaled = scaler.fit_transform(X)"
      ]
    },
    {
      "cell_type": "markdown",
      "metadata": {
        "id": "_8SD4JHOq80B"
      },
      "source": [
        "### Задание 1.2 (0.6 баллов)\n",
        "\n",
        "Понизьте размерность с помощью ```PCA```, оставляя столько компонент, сколько нужно для того, чтобы объяснить как минимум 90% дисперсии отмасштабированных данных. ```random_state``` используйте из объявленной в самом начале переменной ```RANDOM_STATE``` (42).\n",
        "\n",
        "[Документация](https://scikit-learn.org/stable/modules/generated/sklearn.decomposition.PCA.html)"
      ]
    },
    {
      "cell_type": "code",
      "execution_count": 43,
      "metadata": {
        "id": "l5mk8I0xq80B"
      },
      "outputs": [],
      "source": [
        "from sklearn.decomposition import PCA \n",
        "\n",
        "pca = PCA(n_components=0.90, svd_solver='full', random_state=RANDOM_STATE)\n",
        "X_pca = pca.fit_transform(X_scaled) "
      ]
    },
    {
      "cell_type": "code",
      "source": [
        "print(\"Components =\", pca.n_components_)\n",
        "print(\"Total explained variance =\", round(pca.explained_variance_ratio_.sum(),5))"
      ],
      "metadata": {
        "id": "K6NIJzu9Q3QF",
        "outputId": "3127e83a-e5b7-4612-bb45-01ee3132eecc",
        "colab": {
          "base_uri": "https://localhost:8080/"
        }
      },
      "execution_count": 44,
      "outputs": [
        {
          "output_type": "stream",
          "name": "stdout",
          "text": [
            "Components = 65\n",
            "Total explained variance = 0.90048\n"
          ]
        }
      ]
    },
    {
      "cell_type": "code",
      "source": [
        "X_pca[..., 0]"
      ],
      "metadata": {
        "id": "lp2pmVlHSIUH",
        "outputId": "aa269f58-7736-48a7-b3d7-609f80c56dc6",
        "colab": {
          "base_uri": "https://localhost:8080/"
        }
      },
      "execution_count": 52,
      "outputs": [
        {
          "output_type": "execute_result",
          "data": {
            "text/plain": [
              "array([-16.38097982, -15.58217328, -15.42398918, ...,  11.84685312,\n",
              "         8.20668637,   9.31117251])"
            ]
          },
          "metadata": {},
          "execution_count": 52
        }
      ]
    },
    {
      "cell_type": "markdown",
      "metadata": {
        "id": "aZqvT31Fq80B"
      },
      "source": [
        "### Задание 1.3 (0.3 баллов)\n",
        "\n",
        "Визуализируйте данные в проекции на первые две главные компоненты. Используйте ```cmap=\"virdis\"``` или любой другой, с которым будет красиво :)"
      ]
    },
    {
      "cell_type": "code",
      "execution_count": 55,
      "metadata": {
        "id": "kKSr2O1mq80B",
        "outputId": "bc52dce7-5fa6-4a2a-ff22-d7be8e26bf70",
        "colab": {
          "base_uri": "https://localhost:8080/",
          "height": 510
        }
      },
      "outputs": [
        {
          "output_type": "execute_result",
          "data": {
            "text/plain": [
              "Text(0, 0.5, 'y')"
            ]
          },
          "metadata": {},
          "execution_count": 55
        },
        {
          "output_type": "display_data",
          "data": {
            "text/plain": [
              "<Figure size 864x576 with 1 Axes>"
            ],
            "image/png": "[encoded data removed]"
          },
          "metadata": {
            "image/png": {
              "width": 722,
              "height": 475
            },
            "needs_background": "light"
          }
        }
      ],
      "source": [
        "plt.figure(figsize=(12,8))\n",
        "plt.scatter(X_pca[...,0], X_pca[...,1], cmap='viridis')\n",
        "plt.xlabel('x')\n",
        "plt.ylabel('y')"
      ]
    },
    {
      "cell_type": "markdown",
      "metadata": {
        "id": "WElfHfx-q80C"
      },
      "source": [
        "### Задание 1.4 (0.4 балла)\n",
        "\n",
        "Сделайте кластеризацию данных методом ```KMeans```, обучив модель на данных со сниженной за счет ```PCA```\n",
        "размерностью. В данном случае нужно искать 6 кластеров (изначально у нас 6 классов). Засеките время обучения и время инференса.\n",
        "\n",
        "Параметры:\n",
        "\n",
        "```n_clusters = 6``` (число уникальных меток целевого класса = 6)\n",
        "\n",
        "```n_init = 100```\n",
        "\n",
        "```random_state = RANDOM_STATE``` (для воспроизводимости результата, не забывайте указывать его и дальше!)\n",
        "\n",
        "[Документация](https://scikit-learn.org/stable/modules/generated/sklearn.cluster.KMeans.html)"
      ]
    },
    {
      "cell_type": "code",
      "execution_count": 57,
      "metadata": {
        "id": "Eku71hYyq80C",
        "outputId": "f3fcf39b-3635-4e69-c437-1c947a29746c",
        "colab": {
          "base_uri": "https://localhost:8080/"
        }
      },
      "outputs": [
        {
          "output_type": "stream",
          "name": "stdout",
          "text": [
            "[2 2 2 ... 0 0 0]\n"
          ]
        }
      ],
      "source": [
        "from sklearn.cluster import KMeans\n",
        "\n",
        "kmeans = KMeans(n_clusters=6, n_init=100, random_state=RANDOM_STATE)\n",
        "kmeans.fit(X)\n",
        "print(kmeans.labels_)"
      ]
    },
    {
      "cell_type": "markdown",
      "metadata": {
        "id": "qFw7iPlKq80C"
      },
      "source": [
        "### Задание 1.5 (0.2 балла)\n",
        "\n",
        "Визуализируйте данные в проекции на первые две главные компоненты. Раскрасьте точки в соответствии с полученными метками кластеров."
      ]
    },
    {
      "cell_type": "code",
      "execution_count": null,
      "metadata": {
        "id": "21hhZr3nq80C"
      },
      "outputs": [],
      "source": [
        "#your code here"
      ]
    },
    {
      "cell_type": "markdown",
      "metadata": {
        "id": "RtzNoY7Rq80D"
      },
      "source": [
        "### Задание 1.6 (0.3 баллов)\n",
        "\n",
        "Выберите какие-то метрики (минимум две) из известных вам или из методички (ссылка в начале дз, пункт 2.3.10), объясните ваш выбор.\n",
        "\n",
        "Выведите на экран значения метрик качества кластеризации и используйте их далее."
      ]
    },
    {
      "cell_type": "code",
      "execution_count": null,
      "metadata": {
        "id": "N2x6tnb9q80D"
      },
      "outputs": [],
      "source": [
        "#your code here"
      ]
    },
    {
      "cell_type": "markdown",
      "metadata": {
        "id": "fisy02mJEj-7"
      },
      "source": [
        "# your text here"
      ]
    },
    {
      "cell_type": "markdown",
      "metadata": {
        "id": "Bt6ctUgIq80D"
      },
      "source": [
        "### Задание 1.7 (0.8 баллов)\n",
        "Теперь попробуем сделать кластеризацию с помощью ```AgglomerativeClustering```.\n",
        "\n",
        "Вновь визуализируйте данные с раскраской по полученным меткам и выведите метрики. Засеките время обучения и время инференса. Сравните с ```KMeans```.\n",
        "\n",
        "Ответьте на следующие вопросы:\n",
        "* Стало ли лучше?\n",
        "* Почему?\n",
        "\n",
        "[Документация](https://scikit-learn.org/stable/modules/generated/sklearn.cluster.AgglomerativeClustering.html)"
      ]
    },
    {
      "cell_type": "code",
      "execution_count": null,
      "metadata": {
        "id": "PsvdCs97q80D"
      },
      "outputs": [],
      "source": [
        "#your code here"
      ]
    },
    {
      "cell_type": "markdown",
      "metadata": {
        "id": "l-DA7PC6Ej-8"
      },
      "source": [
        "# your text here"
      ]
    },
    {
      "cell_type": "markdown",
      "metadata": {
        "id": "TphYU7Zlq80D"
      },
      "source": [
        "### Задание 1.8 (0.8 баллов)\n",
        "\n",
        "Попробуйте применить другие методы кластеризации из sklearn.  Засеките время обучения и время инференса. Также вычислите метрики качества, визуализируйте результаты, после чего сделайте вывод о том, какой метод сработал лучше."
      ]
    },
    {
      "cell_type": "code",
      "execution_count": null,
      "metadata": {
        "id": "Pk-4S55Tq80E"
      },
      "outputs": [],
      "source": [
        "#your code here"
      ]
    },
    {
      "cell_type": "markdown",
      "metadata": {
        "id": "PZGtiFAbEj-9"
      },
      "source": [
        "# your text here"
      ]
    },
    {
      "cell_type": "markdown",
      "metadata": {
        "id": "rKkwnkkKq80E"
      },
      "source": [
        "### Задание 1.9 (1 балл)\n",
        "Для самой успешной из полученных кластеризаций попробуйте дать интерпретацию кластеров. Опишите характеристики объектов, попавших в каждый кластер. Для этого можете ответить на следующие вопросы:\n",
        "\n",
        "* Похожи ли объекты внутри каждого кластера на определенный тип активности человека?\n",
        "* В каких кластерах смешано несколько типов активности? С чем, на ваш взгляд, это может быть связано?\n",
        "* Качественная ли получилась кластеризация? На основании чего вы можете сделать такой вывод?"
      ]
    },
    {
      "cell_type": "markdown",
      "metadata": {
        "id": "XERRUtHoq80E"
      },
      "source": [
        "# your text here"
      ]
    },
    {
      "cell_type": "markdown",
      "metadata": {
        "id": "RYGi1cTrrWR4"
      },
      "source": [
        "## Задание 2. Разделение изображения на семантические компоненты (5 баллов)\n",
        "\n",
        "![RedPanda](http://imgur.com/6Aa52Lm.png)\n",
        "\n",
        "Алгоритмы кластеризации могут применяться в самых разных задачах. Например, в анализе изображений есть задача разделения изображения на семантические компоненты, которую можно решать в том числе с помощью алгоритмов кластеризации. \n",
        "\n",
        "Проверим их на ```duck.jpg``` и ```owls.jpg```"
      ]
    },
    {
      "cell_type": "markdown",
      "metadata": {
        "id": "4tAtf-VrEj--"
      },
      "source": [
        "### Задание 2.0 (0.1 балл)\n",
        "\n",
        "Откройте изображения, после чего визуализируйте их с помощью ```plt.imshow()```"
      ]
    },
    {
      "cell_type": "code",
      "execution_count": null,
      "metadata": {
        "id": "4QEdXlimrWR5"
      },
      "outputs": [],
      "source": [
        "from PIL import Image\n",
        "# or \n",
        "#import cv2"
      ]
    },
    {
      "cell_type": "markdown",
      "metadata": {
        "id": "i1qwWCoArWR5"
      },
      "source": [
        "### Задание 2.1 (1.5 балла)\n",
        "Для каждого изображения, используя кластеризацию ```KMeans```, выделите компоненты, охарактеризовав каждый пиксель следующим образом: $\\psi_i = [\\lambda x_i, \\lambda y_i, r_i, g_i, b_i]$, где \n",
        "$x_i$ и $y_i$ — координаты пикселя, $r_i, g_i, b_i$ — его цвет, $\\lambda$ — параметр, выражающий важность пространственной связности перед цветовой похожестью.\n",
        "\n",
        "Примените полученную функцию, взяв следующие $\\lambda$: 0.3 и 1.5 для ```duck.jpg``` и ```owls.jpg``` (или другие, но тогда с вас красивые результаты :) )\n",
        "\n",
        "Число кластеров подберите разумным образом на свой вкус (в качестве нулевого приближения можно взять 3)"
      ]
    },
    {
      "cell_type": "code",
      "execution_count": null,
      "metadata": {
        "id": "-eFJeAxXrWR5"
      },
      "outputs": [],
      "source": [
        "def find_components(image, lmbd, n_clusters):\n",
        "    #your code here"
      ]
    },
    {
      "cell_type": "markdown",
      "metadata": {
        "id": "WlHCAkoUrWR5"
      },
      "source": [
        "### Задание 2.2 (1.5 балла)\n",
        "Попробуйте выделить сегменты при помощи [спектральной кластеризации](http://scikit-learn.org/stable/modules/clustering.html#spectral-clustering). Обратите внимание на [пример в sklearn](http://scikit-learn.org/0.16/auto_examples/cluster/plot_lena_segmentation.html). Для ускорения работы алгоритма рекомендуется привести изображение к серому цвету. При необходимости можно сжать изображения в 2 раза.\n",
        "\n",
        "Подсказка: ```skimage``` с его ```color``` и ```transform``` в этом помогут :)\n",
        "\n",
        "Или же воспользуйтесь аналогичными средствами ```PIL``` или ```cv2``` "
      ]
    },
    {
      "cell_type": "code",
      "execution_count": null,
      "metadata": {
        "id": "Rq3hkFvgrWR5"
      },
      "outputs": [],
      "source": [
        "def spectral_segmentation(image, n_clusters, beta, eps):\n",
        "    #your code here"
      ]
    },
    {
      "cell_type": "markdown",
      "metadata": {
        "id": "FhNFR8y7rWR6"
      },
      "source": [
        "### Задание 2.3 (0.9 баллов)\n",
        "Визуализируйте результаты сегментации (аналогично рисунку в начале задания 2) для обоих методов."
      ]
    },
    {
      "cell_type": "code",
      "execution_count": null,
      "metadata": {
        "id": "YHZzvjq-rWR6"
      },
      "outputs": [],
      "source": [
        "#your code here"
      ]
    },
    {
      "cell_type": "markdown",
      "metadata": {
        "id": "Aju9qz_xrWR6"
      },
      "source": [
        "### Задание 2.4 (1 балл)\n",
        "Найдите интересную картинку милого животного и примените алгоритмы и к ней. Поэкспериментируйте с параметрами алгоритмов. Картинку нужно будет загрузить вместе с работой. Слишком большие лучше не брать - считаться будет долго. Не забудьте визуализировать!\n",
        "\n",
        "Сравните два подхода и сегментации, к которым они приводят.\n",
        "Для всех ли изображений в результате сегментации хорошо видны контуры объектов?"
      ]
    },
    {
      "cell_type": "code",
      "execution_count": null,
      "metadata": {
        "id": "CXvh26YZrWR6"
      },
      "outputs": [],
      "source": [
        "#your code here"
      ]
    },
    {
      "cell_type": "markdown",
      "metadata": {
        "id": "NKXgiph7rWR6"
      },
      "source": [
        "# your text here"
      ]
    },
    {
      "cell_type": "markdown",
      "metadata": {
        "id": "vFgJjkclEj_B"
      },
      "source": [
        "# Акция\n",
        "Повеселите проверяющего и вставьте смешной мем. Вдруг повысят балл! Или разместите ваше сообщение о продаже гаража здесь.\n",
        "\n",
        "[Методичка по мемам](https://www.youtube.com/watch?v=dQw4w9WgXcQ)"
      ]
    },
    {
      "cell_type": "markdown",
      "metadata": {
        "id": "9PUK2I6DEj_C"
      },
      "source": [
        "# your meme here"
      ]
    }
  ],
  "metadata": {
    "colab": {
      "provenance": []
    },
    "kernelspec": {
      "display_name": "Python 3 (ipykernel)",
      "language": "python",
      "name": "python3"
    },
    "language_info": {
      "codemirror_mode": {
        "name": "ipython",
        "version": 3
      },
      "file_extension": ".py",
      "mimetype": "text/x-python",
      "name": "python",
      "nbconvert_exporter": "python",
      "pygments_lexer": "ipython3",
      "version": "3.9.7"
    },
    "name": "lesson8_part1_kmeans.ipynb"
  },
  "nbformat": 4,
  "nbformat_minor": 0
}