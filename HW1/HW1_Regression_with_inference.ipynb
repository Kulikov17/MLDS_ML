{
  "nbformat": 4,
  "nbformat_minor": 0,
  "metadata": {
    "colab": {
      "provenance": []
    },
    "kernelspec": {
      "name": "python3",
      "display_name": "Python 3"
    },
    "language_info": {
      "name": "python"
    }
  },
  "cells": [
    {
      "cell_type": "markdown",
      "source": [
        "# Домашнее задание №1\n",
        "\n",
        "В этом домашнем задании вам предлагается обучить модель регрессии для предсказания стоимости автомобилей, а также реализовать веб-сервис для применения построенной модели на новых данных.\n",
        "\n",
        "> Оценка за домашку = min(ваш балл, 10)\n"
      ],
      "metadata": {
        "id": "IsPer4g5FgRB"
      }
    },
    {
      "cell_type": "markdown",
      "source": [
        "Задания, <font color='#9933CC'>выделенные фиолетовым</font>, требуют от вас написания кода.\n",
        "\n",
        "А вопросы, <font color='#FF6600'>выделенные оранжевым</font>, текстового ответа.\n",
        "\n",
        "Оцениваются как код, так и ответы на вопросы. Если нет одного и/или другого, то часть баллов за соответствующее задание без колебаний снимается."
      ],
      "metadata": {
        "id": "RBxaROjhnExd"
      }
    },
    {
      "cell_type": "code",
      "source": [
        "import pandas as pd\n",
        "import numpy as np\n",
        "import matplotlib.pyplot as plt\n",
        "import random\n",
        "import seaborn as sns\n",
        "\n",
        "random.seed(42)\n",
        "np.random.seed(42)"
      ],
      "metadata": {
        "id": "bKXD33FOsnGd"
      },
      "execution_count": 2,
      "outputs": []
    },
    {
      "cell_type": "markdown",
      "source": [
        "Ниже ответьте на вопрос <font color='#FF6600'>\n",
        "\"Для чего фиксируем сиды в домашках?\"</font>"
      ],
      "metadata": {
        "id": "GAzbEw1ctU4f"
      }
    },
    {
      "cell_type": "markdown",
      "source": [
        "Сиды фиксируем для того, чтобы организовать генератор псевдослучайных чисел (ГПСЧ), то есть чтобы мы могли повторять свои эксперименты с одной и той же сгенерированной последовательностью чисел и имели точную воспроизводимость результатов."
      ],
      "metadata": {
        "id": "iMxQ3jLvZrnB"
      }
    },
    {
      "cell_type": "markdown",
      "source": [
        "# Часть 1 (2.5 балла + 0.75) | EDA"
      ],
      "metadata": {
        "id": "ykzSVgN7q-xZ"
      }
    },
    {
      "cell_type": "markdown",
      "source": [
        "## Простейший EDA и обработка признаков (1.5 балла + 0.25)"
      ],
      "metadata": {
        "id": "e-4bM9CKAtCj"
      }
    },
    {
      "cell_type": "code",
      "execution_count": 3,
      "metadata": {
        "id": "FniH6eCGFSi_",
        "colab": {
          "base_uri": "https://localhost:8080/"
        },
        "outputId": "9e611d0e-c044-4dfe-a66d-05b26ef30b76"
      },
      "outputs": [
        {
          "output_type": "stream",
          "name": "stdout",
          "text": [
            "Train data shape: (6999, 13)\n",
            "Test data shape:  (1000, 13)\n"
          ]
        }
      ],
      "source": [
        "df_train = pd.read_csv('https://raw.githubusercontent.com/Murcha1990/MLDS_ML_2022/main/Hometasks/HT1/cars_train.csv')\n",
        "df_test = pd.read_csv('https://raw.githubusercontent.com/Murcha1990/MLDS_ML_2022/main/Hometasks/HT1/cars_test.csv')\n",
        "\n",
        "print(\"Train data shape:\", df_train.shape)\n",
        "print(\"Test data shape: \", df_test.shape)"
      ]
    },
    {
      "cell_type": "markdown",
      "source": [
        "(0.15 балла) <font color='#9933CC'>Отобразите 10 **случайных** строк тренировочного датасета</font>"
      ],
      "metadata": {
        "id": "spIXQ6zwxT9I"
      }
    },
    {
      "cell_type": "code",
      "source": [
        "df_train.sample(10)"
      ],
      "metadata": {
        "id": "Zesb2SG5xf_q",
        "colab": {
          "base_uri": "https://localhost:8080/",
          "height": 581
        },
        "outputId": "659acefe-519e-4bf2-d994-4588ed2a31b1"
      },
      "execution_count": 6,
      "outputs": [
        {
          "output_type": "execute_result",
          "data": {
            "text/plain": [
              "                                        name  year  selling_price  km_driven  \\\n",
              "6565        Renault KWID Climber 1.0 MT BSIV  2019         300000      35000   \n",
              "2943                      Maruti Wagon R LXI  2013         225000      58343   \n",
              "2024                    Hyundai i20 Asta 1.2  2013         360000      30000   \n",
              "263                     Hyundai i20 1.2 Asta  2010         300000      70000   \n",
              "4586        Skoda Octavia L and K 1.9 TDI MT  2005         250000     120000   \n",
              "4479                         Maruti Ciaz ZXi  2016         700000      20000   \n",
              "4881  Hyundai Grand i10 1.2 Kappa Magna BSIV  2017         445000      27000   \n",
              "3583          Ford Ecosport 1.5 DV5 MT Trend  2016         515000      68609   \n",
              "6361                  Hyundai Verna 1.4 VTVT  2014         500000      33400   \n",
              "4108                     Hyundai i20 Era 1.2  2015         490000      45900   \n",
              "\n",
              "        fuel       seller_type transmission         owner     mileage  \\\n",
              "6565  Petrol        Individual       Manual   First Owner  23.01 kmpl   \n",
              "2943  Petrol  Trustmark Dealer       Manual   First Owner  21.79 kmpl   \n",
              "2024  Petrol        Individual       Manual   First Owner   18.5 kmpl   \n",
              "263   Petrol        Individual       Manual   First Owner   17.0 kmpl   \n",
              "4586  Diesel        Individual       Manual   Third Owner   16.4 kmpl   \n",
              "4479  Petrol        Individual       Manual   First Owner  20.73 kmpl   \n",
              "4881  Petrol        Individual       Manual   First Owner   18.9 kmpl   \n",
              "3583  Diesel            Dealer       Manual   First Owner   22.7 kmpl   \n",
              "6361  Petrol        Individual       Manual   First Owner  17.43 kmpl   \n",
              "4108  Petrol        Individual       Manual  Second Owner   18.6 kmpl   \n",
              "\n",
              "       engine  max_power                 torque  seats  \n",
              "6565   999 CC     67 bhp          91Nm@ 4250rpm    5.0  \n",
              "2943   998 CC  67.05 bhp          90Nm@ 3500rpm    5.0  \n",
              "2024  1197 CC  82.85 bhp       113.7Nm@ 4000rpm    5.0  \n",
              "263   1197 CC     80 bhp  11.4 kgm at 4,000 rpm    5.0  \n",
              "4586  1896 CC     90 bhp  21.4@ 1,900(kgm@ rpm)    5.0  \n",
              "4479  1373 CC   91.1 bhp         130Nm@ 4000rpm    5.0  \n",
              "4881  1197 CC  81.86 bhp      113.75nm@ 4000rpm    5.0  \n",
              "3583  1498 CC  89.84 bhp    204Nm@ 2000-2750rpm    5.0  \n",
              "6361  1396 CC  105.5 bhp       135.3Nm@ 5000rpm    5.0  \n",
              "4108  1197 CC  81.83 bhp       114.7Nm@ 4000rpm    5.0  "
            ],
            "text/html": [
              "\n",
              "  <div id=\"df-4d05e586-3d73-420f-82f1-694f1f952628\">\n",
              "    <div class=\"colab-df-container\">\n",
              "      <div>\n",
              "<style scoped>\n",
              "    .dataframe tbody tr th:only-of-type {\n",
              "        vertical-align: middle;\n",
              "    }\n",
              "\n",
              "    .dataframe tbody tr th {\n",
              "        vertical-align: top;\n",
              "    }\n",
              "\n",
              "    .dataframe thead th {\n",
              "        text-align: right;\n",
              "    }\n",
              "</style>\n",
              "<table border=\"1\" class=\"dataframe\">\n",
              "  <thead>\n",
              "    <tr style=\"text-align: right;\">\n",
              "      <th></th>\n",
              "      <th>name</th>\n",
              "      <th>year</th>\n",
              "      <th>selling_price</th>\n",
              "      <th>km_driven</th>\n",
              "      <th>fuel</th>\n",
              "      <th>seller_type</th>\n",
              "      <th>transmission</th>\n",
              "      <th>owner</th>\n",
              "      <th>mileage</th>\n",
              "      <th>engine</th>\n",
              "      <th>max_power</th>\n",
              "      <th>torque</th>\n",
              "      <th>seats</th>\n",
              "    </tr>\n",
              "  </thead>\n",
              "  <tbody>\n",
              "    <tr>\n",
              "      <th>6565</th>\n",
              "      <td>Renault KWID Climber 1.0 MT BSIV</td>\n",
              "      <td>2019</td>\n",
              "      <td>300000</td>\n",
              "      <td>35000</td>\n",
              "      <td>Petrol</td>\n",
              "      <td>Individual</td>\n",
              "      <td>Manual</td>\n",
              "      <td>First Owner</td>\n",
              "      <td>23.01 kmpl</td>\n",
              "      <td>999 CC</td>\n",
              "      <td>67 bhp</td>\n",
              "      <td>91Nm@ 4250rpm</td>\n",
              "      <td>5.0</td>\n",
              "    </tr>\n",
              "    <tr>\n",
              "      <th>2943</th>\n",
              "      <td>Maruti Wagon R LXI</td>\n",
              "      <td>2013</td>\n",
              "      <td>225000</td>\n",
              "      <td>58343</td>\n",
              "      <td>Petrol</td>\n",
              "      <td>Trustmark Dealer</td>\n",
              "      <td>Manual</td>\n",
              "      <td>First Owner</td>\n",
              "      <td>21.79 kmpl</td>\n",
              "      <td>998 CC</td>\n",
              "      <td>67.05 bhp</td>\n",
              "      <td>90Nm@ 3500rpm</td>\n",
              "      <td>5.0</td>\n",
              "    </tr>\n",
              "    <tr>\n",
              "      <th>2024</th>\n",
              "      <td>Hyundai i20 Asta 1.2</td>\n",
              "      <td>2013</td>\n",
              "      <td>360000</td>\n",
              "      <td>30000</td>\n",
              "      <td>Petrol</td>\n",
              "      <td>Individual</td>\n",
              "      <td>Manual</td>\n",
              "      <td>First Owner</td>\n",
              "      <td>18.5 kmpl</td>\n",
              "      <td>1197 CC</td>\n",
              "      <td>82.85 bhp</td>\n",
              "      <td>113.7Nm@ 4000rpm</td>\n",
              "      <td>5.0</td>\n",
              "    </tr>\n",
              "    <tr>\n",
              "      <th>263</th>\n",
              "      <td>Hyundai i20 1.2 Asta</td>\n",
              "      <td>2010</td>\n",
              "      <td>300000</td>\n",
              "      <td>70000</td>\n",
              "      <td>Petrol</td>\n",
              "      <td>Individual</td>\n",
              "      <td>Manual</td>\n",
              "      <td>First Owner</td>\n",
              "      <td>17.0 kmpl</td>\n",
              "      <td>1197 CC</td>\n",
              "      <td>80 bhp</td>\n",
              "      <td>11.4 kgm at 4,000 rpm</td>\n",
              "      <td>5.0</td>\n",
              "    </tr>\n",
              "    <tr>\n",
              "      <th>4586</th>\n",
              "      <td>Skoda Octavia L and K 1.9 TDI MT</td>\n",
              "      <td>2005</td>\n",
              "      <td>250000</td>\n",
              "      <td>120000</td>\n",
              "      <td>Diesel</td>\n",
              "      <td>Individual</td>\n",
              "      <td>Manual</td>\n",
              "      <td>Third Owner</td>\n",
              "      <td>16.4 kmpl</td>\n",
              "      <td>1896 CC</td>\n",
              "      <td>90 bhp</td>\n",
              "      <td>21.4@ 1,900(kgm@ rpm)</td>\n",
              "      <td>5.0</td>\n",
              "    </tr>\n",
              "    <tr>\n",
              "      <th>4479</th>\n",
              "      <td>Maruti Ciaz ZXi</td>\n",
              "      <td>2016</td>\n",
              "      <td>700000</td>\n",
              "      <td>20000</td>\n",
              "      <td>Petrol</td>\n",
              "      <td>Individual</td>\n",
              "      <td>Manual</td>\n",
              "      <td>First Owner</td>\n",
              "      <td>20.73 kmpl</td>\n",
              "      <td>1373 CC</td>\n",
              "      <td>91.1 bhp</td>\n",
              "      <td>130Nm@ 4000rpm</td>\n",
              "      <td>5.0</td>\n",
              "    </tr>\n",
              "    <tr>\n",
              "      <th>4881</th>\n",
              "      <td>Hyundai Grand i10 1.2 Kappa Magna BSIV</td>\n",
              "      <td>2017</td>\n",
              "      <td>445000</td>\n",
              "      <td>27000</td>\n",
              "      <td>Petrol</td>\n",
              "      <td>Individual</td>\n",
              "      <td>Manual</td>\n",
              "      <td>First Owner</td>\n",
              "      <td>18.9 kmpl</td>\n",
              "      <td>1197 CC</td>\n",
              "      <td>81.86 bhp</td>\n",
              "      <td>113.75nm@ 4000rpm</td>\n",
              "      <td>5.0</td>\n",
              "    </tr>\n",
              "    <tr>\n",
              "      <th>3583</th>\n",
              "      <td>Ford Ecosport 1.5 DV5 MT Trend</td>\n",
              "      <td>2016</td>\n",
              "      <td>515000</td>\n",
              "      <td>68609</td>\n",
              "      <td>Diesel</td>\n",
              "      <td>Dealer</td>\n",
              "      <td>Manual</td>\n",
              "      <td>First Owner</td>\n",
              "      <td>22.7 kmpl</td>\n",
              "      <td>1498 CC</td>\n",
              "      <td>89.84 bhp</td>\n",
              "      <td>204Nm@ 2000-2750rpm</td>\n",
              "      <td>5.0</td>\n",
              "    </tr>\n",
              "    <tr>\n",
              "      <th>6361</th>\n",
              "      <td>Hyundai Verna 1.4 VTVT</td>\n",
              "      <td>2014</td>\n",
              "      <td>500000</td>\n",
              "      <td>33400</td>\n",
              "      <td>Petrol</td>\n",
              "      <td>Individual</td>\n",
              "      <td>Manual</td>\n",
              "      <td>First Owner</td>\n",
              "      <td>17.43 kmpl</td>\n",
              "      <td>1396 CC</td>\n",
              "      <td>105.5 bhp</td>\n",
              "      <td>135.3Nm@ 5000rpm</td>\n",
              "      <td>5.0</td>\n",
              "    </tr>\n",
              "    <tr>\n",
              "      <th>4108</th>\n",
              "      <td>Hyundai i20 Era 1.2</td>\n",
              "      <td>2015</td>\n",
              "      <td>490000</td>\n",
              "      <td>45900</td>\n",
              "      <td>Petrol</td>\n",
              "      <td>Individual</td>\n",
              "      <td>Manual</td>\n",
              "      <td>Second Owner</td>\n",
              "      <td>18.6 kmpl</td>\n",
              "      <td>1197 CC</td>\n",
              "      <td>81.83 bhp</td>\n",
              "      <td>114.7Nm@ 4000rpm</td>\n",
              "      <td>5.0</td>\n",
              "    </tr>\n",
              "  </tbody>\n",
              "</table>\n",
              "</div>\n",
              "      <button class=\"colab-df-convert\" onclick=\"convertToInteractive('df-4d05e586-3d73-420f-82f1-694f1f952628')\"\n",
              "              title=\"Convert this dataframe to an interactive table.\"\n",
              "              style=\"display:none;\">\n",
              "        \n",
              "  <svg xmlns=\"http://www.w3.org/2000/svg\" height=\"24px\"viewBox=\"0 0 24 24\"\n",
              "       width=\"24px\">\n",
              "    <path d=\"M0 0h24v24H0V0z\" fill=\"none\"/>\n",
              "    <path d=\"M18.56 5.44l.94 2.06.94-2.06 2.06-.94-2.06-.94-.94-2.06-.94 2.06-2.06.94zm-11 1L8.5 8.5l.94-2.06 2.06-.94-2.06-.94L8.5 2.5l-.94 2.06-2.06.94zm10 10l.94 2.06.94-2.06 2.06-.94-2.06-.94-.94-2.06-.94 2.06-2.06.94z\"/><path d=\"M17.41 7.96l-1.37-1.37c-.4-.4-.92-.59-1.43-.59-.52 0-1.04.2-1.43.59L10.3 9.45l-7.72 7.72c-.78.78-.78 2.05 0 2.83L4 21.41c.39.39.9.59 1.41.59.51 0 1.02-.2 1.41-.59l7.78-7.78 2.81-2.81c.8-.78.8-2.07 0-2.86zM5.41 20L4 18.59l7.72-7.72 1.47 1.35L5.41 20z\"/>\n",
              "  </svg>\n",
              "      </button>\n",
              "      \n",
              "  <style>\n",
              "    .colab-df-container {\n",
              "      display:flex;\n",
              "      flex-wrap:wrap;\n",
              "      gap: 12px;\n",
              "    }\n",
              "\n",
              "    .colab-df-convert {\n",
              "      background-color: #E8F0FE;\n",
              "      border: none;\n",
              "      border-radius: 50%;\n",
              "      cursor: pointer;\n",
              "      display: none;\n",
              "      fill: #1967D2;\n",
              "      height: 32px;\n",
              "      padding: 0 0 0 0;\n",
              "      width: 32px;\n",
              "    }\n",
              "\n",
              "    .colab-df-convert:hover {\n",
              "      background-color: #E2EBFA;\n",
              "      box-shadow: 0px 1px 2px rgba(60, 64, 67, 0.3), 0px 1px 3px 1px rgba(60, 64, 67, 0.15);\n",
              "      fill: #174EA6;\n",
              "    }\n",
              "\n",
              "    [theme=dark] .colab-df-convert {\n",
              "      background-color: #3B4455;\n",
              "      fill: #D2E3FC;\n",
              "    }\n",
              "\n",
              "    [theme=dark] .colab-df-convert:hover {\n",
              "      background-color: #434B5C;\n",
              "      box-shadow: 0px 1px 3px 1px rgba(0, 0, 0, 0.15);\n",
              "      filter: drop-shadow(0px 1px 2px rgba(0, 0, 0, 0.3));\n",
              "      fill: #FFFFFF;\n",
              "    }\n",
              "  </style>\n",
              "\n",
              "      <script>\n",
              "        const buttonEl =\n",
              "          document.querySelector('#df-4d05e586-3d73-420f-82f1-694f1f952628 button.colab-df-convert');\n",
              "        buttonEl.style.display =\n",
              "          google.colab.kernel.accessAllowed ? 'block' : 'none';\n",
              "\n",
              "        async function convertToInteractive(key) {\n",
              "          const element = document.querySelector('#df-4d05e586-3d73-420f-82f1-694f1f952628');\n",
              "          const dataTable =\n",
              "            await google.colab.kernel.invokeFunction('convertToInteractive',\n",
              "                                                     [key], {});\n",
              "          if (!dataTable) return;\n",
              "\n",
              "          const docLinkHtml = 'Like what you see? Visit the ' +\n",
              "            '<a target=\"_blank\" href=https://colab.research.google.com/notebooks/data_table.ipynb>data table notebook</a>'\n",
              "            + ' to learn more about interactive tables.';\n",
              "          element.innerHTML = '';\n",
              "          dataTable['output_type'] = 'display_data';\n",
              "          await google.colab.output.renderOutput(dataTable, element);\n",
              "          const docLink = document.createElement('div');\n",
              "          docLink.innerHTML = docLinkHtml;\n",
              "          element.appendChild(docLink);\n",
              "        }\n",
              "      </script>\n",
              "    </div>\n",
              "  </div>\n",
              "  "
            ]
          },
          "metadata": {},
          "execution_count": 6
        }
      ]
    },
    {
      "cell_type": "markdown",
      "source": [
        "(0.1 балла) <font color='#9933CC'>Отобразите первые 5 и последние 5 объектов тестового датасета</font>"
      ],
      "metadata": {
        "id": "c5UQKCGTxogp"
      }
    },
    {
      "cell_type": "code",
      "source": [
        "# первые 5 строк\n",
        "df_test.head(5)"
      ],
      "metadata": {
        "id": "-MueJLE4rO1g",
        "colab": {
          "base_uri": "https://localhost:8080/",
          "height": 337
        },
        "outputId": "54c49ae6-ea5d-4c05-8e64-dfe0d3db566d"
      },
      "execution_count": 7,
      "outputs": [
        {
          "output_type": "execute_result",
          "data": {
            "text/plain": [
              "                                     name  year  selling_price  km_driven  \\\n",
              "0                  Mahindra Xylo E4 BS IV  2010         229999     168000   \n",
              "1              Tata Nexon 1.5 Revotorq XE  2017         665000      25000   \n",
              "2                    Honda Civic 1.8 S AT  2007         175000     218463   \n",
              "3                    Honda City i DTEC VX  2015         635000     173000   \n",
              "4  Tata Indica Vista Aura 1.2 Safire BSIV  2011         130000      70000   \n",
              "\n",
              "     fuel seller_type transmission         owner    mileage   engine  \\\n",
              "0  Diesel  Individual       Manual   First Owner  14.0 kmpl  2498 CC   \n",
              "1  Diesel  Individual       Manual   First Owner  21.5 kmpl  1497 CC   \n",
              "2  Petrol  Individual    Automatic   First Owner  12.9 kmpl  1799 CC   \n",
              "3  Diesel  Individual       Manual   First Owner  25.1 kmpl  1498 CC   \n",
              "4  Petrol  Individual       Manual  Second Owner  16.5 kmpl  1172 CC   \n",
              "\n",
              "   max_power                   torque  seats  \n",
              "0    112 bhp  260 Nm at 1800-2200 rpm    7.0  \n",
              "1  108.5 bhp      260Nm@ 1500-2750rpm    5.0  \n",
              "2    130 bhp           172Nm@ 4300rpm    5.0  \n",
              "3   98.6 bhp           200Nm@ 1750rpm    5.0  \n",
              "4     65 bhp     96  Nm at 3000  rpm     5.0  "
            ],
            "text/html": [
              "\n",
              "  <div id=\"df-dabc9ab6-4fe1-484c-ae08-b45255d82ace\">\n",
              "    <div class=\"colab-df-container\">\n",
              "      <div>\n",
              "<style scoped>\n",
              "    .dataframe tbody tr th:only-of-type {\n",
              "        vertical-align: middle;\n",
              "    }\n",
              "\n",
              "    .dataframe tbody tr th {\n",
              "        vertical-align: top;\n",
              "    }\n",
              "\n",
              "    .dataframe thead th {\n",
              "        text-align: right;\n",
              "    }\n",
              "</style>\n",
              "<table border=\"1\" class=\"dataframe\">\n",
              "  <thead>\n",
              "    <tr style=\"text-align: right;\">\n",
              "      <th></th>\n",
              "      <th>name</th>\n",
              "      <th>year</th>\n",
              "      <th>selling_price</th>\n",
              "      <th>km_driven</th>\n",
              "      <th>fuel</th>\n",
              "      <th>seller_type</th>\n",
              "      <th>transmission</th>\n",
              "      <th>owner</th>\n",
              "      <th>mileage</th>\n",
              "      <th>engine</th>\n",
              "      <th>max_power</th>\n",
              "      <th>torque</th>\n",
              "      <th>seats</th>\n",
              "    </tr>\n",
              "  </thead>\n",
              "  <tbody>\n",
              "    <tr>\n",
              "      <th>0</th>\n",
              "      <td>Mahindra Xylo E4 BS IV</td>\n",
              "      <td>2010</td>\n",
              "      <td>229999</td>\n",
              "      <td>168000</td>\n",
              "      <td>Diesel</td>\n",
              "      <td>Individual</td>\n",
              "      <td>Manual</td>\n",
              "      <td>First Owner</td>\n",
              "      <td>14.0 kmpl</td>\n",
              "      <td>2498 CC</td>\n",
              "      <td>112 bhp</td>\n",
              "      <td>260 Nm at 1800-2200 rpm</td>\n",
              "      <td>7.0</td>\n",
              "    </tr>\n",
              "    <tr>\n",
              "      <th>1</th>\n",
              "      <td>Tata Nexon 1.5 Revotorq XE</td>\n",
              "      <td>2017</td>\n",
              "      <td>665000</td>\n",
              "      <td>25000</td>\n",
              "      <td>Diesel</td>\n",
              "      <td>Individual</td>\n",
              "      <td>Manual</td>\n",
              "      <td>First Owner</td>\n",
              "      <td>21.5 kmpl</td>\n",
              "      <td>1497 CC</td>\n",
              "      <td>108.5 bhp</td>\n",
              "      <td>260Nm@ 1500-2750rpm</td>\n",
              "      <td>5.0</td>\n",
              "    </tr>\n",
              "    <tr>\n",
              "      <th>2</th>\n",
              "      <td>Honda Civic 1.8 S AT</td>\n",
              "      <td>2007</td>\n",
              "      <td>175000</td>\n",
              "      <td>218463</td>\n",
              "      <td>Petrol</td>\n",
              "      <td>Individual</td>\n",
              "      <td>Automatic</td>\n",
              "      <td>First Owner</td>\n",
              "      <td>12.9 kmpl</td>\n",
              "      <td>1799 CC</td>\n",
              "      <td>130 bhp</td>\n",
              "      <td>172Nm@ 4300rpm</td>\n",
              "      <td>5.0</td>\n",
              "    </tr>\n",
              "    <tr>\n",
              "      <th>3</th>\n",
              "      <td>Honda City i DTEC VX</td>\n",
              "      <td>2015</td>\n",
              "      <td>635000</td>\n",
              "      <td>173000</td>\n",
              "      <td>Diesel</td>\n",
              "      <td>Individual</td>\n",
              "      <td>Manual</td>\n",
              "      <td>First Owner</td>\n",
              "      <td>25.1 kmpl</td>\n",
              "      <td>1498 CC</td>\n",
              "      <td>98.6 bhp</td>\n",
              "      <td>200Nm@ 1750rpm</td>\n",
              "      <td>5.0</td>\n",
              "    </tr>\n",
              "    <tr>\n",
              "      <th>4</th>\n",
              "      <td>Tata Indica Vista Aura 1.2 Safire BSIV</td>\n",
              "      <td>2011</td>\n",
              "      <td>130000</td>\n",
              "      <td>70000</td>\n",
              "      <td>Petrol</td>\n",
              "      <td>Individual</td>\n",
              "      <td>Manual</td>\n",
              "      <td>Second Owner</td>\n",
              "      <td>16.5 kmpl</td>\n",
              "      <td>1172 CC</td>\n",
              "      <td>65 bhp</td>\n",
              "      <td>96  Nm at 3000  rpm</td>\n",
              "      <td>5.0</td>\n",
              "    </tr>\n",
              "  </tbody>\n",
              "</table>\n",
              "</div>\n",
              "      <button class=\"colab-df-convert\" onclick=\"convertToInteractive('df-dabc9ab6-4fe1-484c-ae08-b45255d82ace')\"\n",
              "              title=\"Convert this dataframe to an interactive table.\"\n",
              "              style=\"display:none;\">\n",
              "        \n",
              "  <svg xmlns=\"http://www.w3.org/2000/svg\" height=\"24px\"viewBox=\"0 0 24 24\"\n",
              "       width=\"24px\">\n",
              "    <path d=\"M0 0h24v24H0V0z\" fill=\"none\"/>\n",
              "    <path d=\"M18.56 5.44l.94 2.06.94-2.06 2.06-.94-2.06-.94-.94-2.06-.94 2.06-2.06.94zm-11 1L8.5 8.5l.94-2.06 2.06-.94-2.06-.94L8.5 2.5l-.94 2.06-2.06.94zm10 10l.94 2.06.94-2.06 2.06-.94-2.06-.94-.94-2.06-.94 2.06-2.06.94z\"/><path d=\"M17.41 7.96l-1.37-1.37c-.4-.4-.92-.59-1.43-.59-.52 0-1.04.2-1.43.59L10.3 9.45l-7.72 7.72c-.78.78-.78 2.05 0 2.83L4 21.41c.39.39.9.59 1.41.59.51 0 1.02-.2 1.41-.59l7.78-7.78 2.81-2.81c.8-.78.8-2.07 0-2.86zM5.41 20L4 18.59l7.72-7.72 1.47 1.35L5.41 20z\"/>\n",
              "  </svg>\n",
              "      </button>\n",
              "      \n",
              "  <style>\n",
              "    .colab-df-container {\n",
              "      display:flex;\n",
              "      flex-wrap:wrap;\n",
              "      gap: 12px;\n",
              "    }\n",
              "\n",
              "    .colab-df-convert {\n",
              "      background-color: #E8F0FE;\n",
              "      border: none;\n",
              "      border-radius: 50%;\n",
              "      cursor: pointer;\n",
              "      display: none;\n",
              "      fill: #1967D2;\n",
              "      height: 32px;\n",
              "      padding: 0 0 0 0;\n",
              "      width: 32px;\n",
              "    }\n",
              "\n",
              "    .colab-df-convert:hover {\n",
              "      background-color: #E2EBFA;\n",
              "      box-shadow: 0px 1px 2px rgba(60, 64, 67, 0.3), 0px 1px 3px 1px rgba(60, 64, 67, 0.15);\n",
              "      fill: #174EA6;\n",
              "    }\n",
              "\n",
              "    [theme=dark] .colab-df-convert {\n",
              "      background-color: #3B4455;\n",
              "      fill: #D2E3FC;\n",
              "    }\n",
              "\n",
              "    [theme=dark] .colab-df-convert:hover {\n",
              "      background-color: #434B5C;\n",
              "      box-shadow: 0px 1px 3px 1px rgba(0, 0, 0, 0.15);\n",
              "      filter: drop-shadow(0px 1px 2px rgba(0, 0, 0, 0.3));\n",
              "      fill: #FFFFFF;\n",
              "    }\n",
              "  </style>\n",
              "\n",
              "      <script>\n",
              "        const buttonEl =\n",
              "          document.querySelector('#df-dabc9ab6-4fe1-484c-ae08-b45255d82ace button.colab-df-convert');\n",
              "        buttonEl.style.display =\n",
              "          google.colab.kernel.accessAllowed ? 'block' : 'none';\n",
              "\n",
              "        async function convertToInteractive(key) {\n",
              "          const element = document.querySelector('#df-dabc9ab6-4fe1-484c-ae08-b45255d82ace');\n",
              "          const dataTable =\n",
              "            await google.colab.kernel.invokeFunction('convertToInteractive',\n",
              "                                                     [key], {});\n",
              "          if (!dataTable) return;\n",
              "\n",
              "          const docLinkHtml = 'Like what you see? Visit the ' +\n",
              "            '<a target=\"_blank\" href=https://colab.research.google.com/notebooks/data_table.ipynb>data table notebook</a>'\n",
              "            + ' to learn more about interactive tables.';\n",
              "          element.innerHTML = '';\n",
              "          dataTable['output_type'] = 'display_data';\n",
              "          await google.colab.output.renderOutput(dataTable, element);\n",
              "          const docLink = document.createElement('div');\n",
              "          docLink.innerHTML = docLinkHtml;\n",
              "          element.appendChild(docLink);\n",
              "        }\n",
              "      </script>\n",
              "    </div>\n",
              "  </div>\n",
              "  "
            ]
          },
          "metadata": {},
          "execution_count": 7
        }
      ]
    },
    {
      "cell_type": "code",
      "source": [
        "# последние 5 строк\n",
        "df_test.tail(5)"
      ],
      "metadata": {
        "id": "HX51Gl7tcejX",
        "outputId": "6d72cf4b-e0b1-4f2f-a700-3e6063927803",
        "colab": {
          "base_uri": "https://localhost:8080/",
          "height": 337
        }
      },
      "execution_count": 8,
      "outputs": [
        {
          "output_type": "execute_result",
          "data": {
            "text/plain": [
              "                                 name  year  selling_price  km_driven    fuel  \\\n",
              "995            Hyundai i10 Magna 1.1L  2008         250000     100000  Petrol   \n",
              "996  Hyundai i20 2015-2017 Sportz 1.2  2017         440000      50000  Petrol   \n",
              "997            Hyundai i20 Era Diesel  2009         340000      40000  Diesel   \n",
              "998                  Hyundai i10 Asta  2012         350000      25000  Petrol   \n",
              "999              Honda City i DTec SV  2016         700000     110000  Diesel   \n",
              "\n",
              "    seller_type transmission         owner     mileage   engine  max_power  \\\n",
              "995  Individual       Manual  Second Owner  19.81 kmpl  1086 CC  68.05 bhp   \n",
              "996  Individual       Manual  Second Owner   18.6 kmpl  1197 CC  81.83 bhp   \n",
              "997  Individual       Manual   First Owner   23.0 kmpl  1396 CC     90 bhp   \n",
              "998  Individual       Manual   First Owner  20.36 kmpl  1197 CC   78.9 bhp   \n",
              "999  Individual       Manual   First Owner   26.0 kmpl  1498 CC   98.6 bhp   \n",
              "\n",
              "                       torque  seats  \n",
              "995          99.04Nm@ 4500rpm    5.0  \n",
              "996          114.7Nm@ 4000rpm    5.0  \n",
              "997  22.4 kgm at 1750-2750rpm    5.0  \n",
              "998          111.8Nm@ 4000rpm    5.0  \n",
              "999            200Nm@ 1750rpm    5.0  "
            ],
            "text/html": [
              "\n",
              "  <div id=\"df-e83be75e-b90e-4c9a-b76f-65173ca711f9\">\n",
              "    <div class=\"colab-df-container\">\n",
              "      <div>\n",
              "<style scoped>\n",
              "    .dataframe tbody tr th:only-of-type {\n",
              "        vertical-align: middle;\n",
              "    }\n",
              "\n",
              "    .dataframe tbody tr th {\n",
              "        vertical-align: top;\n",
              "    }\n",
              "\n",
              "    .dataframe thead th {\n",
              "        text-align: right;\n",
              "    }\n",
              "</style>\n",
              "<table border=\"1\" class=\"dataframe\">\n",
              "  <thead>\n",
              "    <tr style=\"text-align: right;\">\n",
              "      <th></th>\n",
              "      <th>name</th>\n",
              "      <th>year</th>\n",
              "      <th>selling_price</th>\n",
              "      <th>km_driven</th>\n",
              "      <th>fuel</th>\n",
              "      <th>seller_type</th>\n",
              "      <th>transmission</th>\n",
              "      <th>owner</th>\n",
              "      <th>mileage</th>\n",
              "      <th>engine</th>\n",
              "      <th>max_power</th>\n",
              "      <th>torque</th>\n",
              "      <th>seats</th>\n",
              "    </tr>\n",
              "  </thead>\n",
              "  <tbody>\n",
              "    <tr>\n",
              "      <th>995</th>\n",
              "      <td>Hyundai i10 Magna 1.1L</td>\n",
              "      <td>2008</td>\n",
              "      <td>250000</td>\n",
              "      <td>100000</td>\n",
              "      <td>Petrol</td>\n",
              "      <td>Individual</td>\n",
              "      <td>Manual</td>\n",
              "      <td>Second Owner</td>\n",
              "      <td>19.81 kmpl</td>\n",
              "      <td>1086 CC</td>\n",
              "      <td>68.05 bhp</td>\n",
              "      <td>99.04Nm@ 4500rpm</td>\n",
              "      <td>5.0</td>\n",
              "    </tr>\n",
              "    <tr>\n",
              "      <th>996</th>\n",
              "      <td>Hyundai i20 2015-2017 Sportz 1.2</td>\n",
              "      <td>2017</td>\n",
              "      <td>440000</td>\n",
              "      <td>50000</td>\n",
              "      <td>Petrol</td>\n",
              "      <td>Individual</td>\n",
              "      <td>Manual</td>\n",
              "      <td>Second Owner</td>\n",
              "      <td>18.6 kmpl</td>\n",
              "      <td>1197 CC</td>\n",
              "      <td>81.83 bhp</td>\n",
              "      <td>114.7Nm@ 4000rpm</td>\n",
              "      <td>5.0</td>\n",
              "    </tr>\n",
              "    <tr>\n",
              "      <th>997</th>\n",
              "      <td>Hyundai i20 Era Diesel</td>\n",
              "      <td>2009</td>\n",
              "      <td>340000</td>\n",
              "      <td>40000</td>\n",
              "      <td>Diesel</td>\n",
              "      <td>Individual</td>\n",
              "      <td>Manual</td>\n",
              "      <td>First Owner</td>\n",
              "      <td>23.0 kmpl</td>\n",
              "      <td>1396 CC</td>\n",
              "      <td>90 bhp</td>\n",
              "      <td>22.4 kgm at 1750-2750rpm</td>\n",
              "      <td>5.0</td>\n",
              "    </tr>\n",
              "    <tr>\n",
              "      <th>998</th>\n",
              "      <td>Hyundai i10 Asta</td>\n",
              "      <td>2012</td>\n",
              "      <td>350000</td>\n",
              "      <td>25000</td>\n",
              "      <td>Petrol</td>\n",
              "      <td>Individual</td>\n",
              "      <td>Manual</td>\n",
              "      <td>First Owner</td>\n",
              "      <td>20.36 kmpl</td>\n",
              "      <td>1197 CC</td>\n",
              "      <td>78.9 bhp</td>\n",
              "      <td>111.8Nm@ 4000rpm</td>\n",
              "      <td>5.0</td>\n",
              "    </tr>\n",
              "    <tr>\n",
              "      <th>999</th>\n",
              "      <td>Honda City i DTec SV</td>\n",
              "      <td>2016</td>\n",
              "      <td>700000</td>\n",
              "      <td>110000</td>\n",
              "      <td>Diesel</td>\n",
              "      <td>Individual</td>\n",
              "      <td>Manual</td>\n",
              "      <td>First Owner</td>\n",
              "      <td>26.0 kmpl</td>\n",
              "      <td>1498 CC</td>\n",
              "      <td>98.6 bhp</td>\n",
              "      <td>200Nm@ 1750rpm</td>\n",
              "      <td>5.0</td>\n",
              "    </tr>\n",
              "  </tbody>\n",
              "</table>\n",
              "</div>\n",
              "      <button class=\"colab-df-convert\" onclick=\"convertToInteractive('df-e83be75e-b90e-4c9a-b76f-65173ca711f9')\"\n",
              "              title=\"Convert this dataframe to an interactive table.\"\n",
              "              style=\"display:none;\">\n",
              "        \n",
              "  <svg xmlns=\"http://www.w3.org/2000/svg\" height=\"24px\"viewBox=\"0 0 24 24\"\n",
              "       width=\"24px\">\n",
              "    <path d=\"M0 0h24v24H0V0z\" fill=\"none\"/>\n",
              "    <path d=\"M18.56 5.44l.94 2.06.94-2.06 2.06-.94-2.06-.94-.94-2.06-.94 2.06-2.06.94zm-11 1L8.5 8.5l.94-2.06 2.06-.94-2.06-.94L8.5 2.5l-.94 2.06-2.06.94zm10 10l.94 2.06.94-2.06 2.06-.94-2.06-.94-.94-2.06-.94 2.06-2.06.94z\"/><path d=\"M17.41 7.96l-1.37-1.37c-.4-.4-.92-.59-1.43-.59-.52 0-1.04.2-1.43.59L10.3 9.45l-7.72 7.72c-.78.78-.78 2.05 0 2.83L4 21.41c.39.39.9.59 1.41.59.51 0 1.02-.2 1.41-.59l7.78-7.78 2.81-2.81c.8-.78.8-2.07 0-2.86zM5.41 20L4 18.59l7.72-7.72 1.47 1.35L5.41 20z\"/>\n",
              "  </svg>\n",
              "      </button>\n",
              "      \n",
              "  <style>\n",
              "    .colab-df-container {\n",
              "      display:flex;\n",
              "      flex-wrap:wrap;\n",
              "      gap: 12px;\n",
              "    }\n",
              "\n",
              "    .colab-df-convert {\n",
              "      background-color: #E8F0FE;\n",
              "      border: none;\n",
              "      border-radius: 50%;\n",
              "      cursor: pointer;\n",
              "      display: none;\n",
              "      fill: #1967D2;\n",
              "      height: 32px;\n",
              "      padding: 0 0 0 0;\n",
              "      width: 32px;\n",
              "    }\n",
              "\n",
              "    .colab-df-convert:hover {\n",
              "      background-color: #E2EBFA;\n",
              "      box-shadow: 0px 1px 2px rgba(60, 64, 67, 0.3), 0px 1px 3px 1px rgba(60, 64, 67, 0.15);\n",
              "      fill: #174EA6;\n",
              "    }\n",
              "\n",
              "    [theme=dark] .colab-df-convert {\n",
              "      background-color: #3B4455;\n",
              "      fill: #D2E3FC;\n",
              "    }\n",
              "\n",
              "    [theme=dark] .colab-df-convert:hover {\n",
              "      background-color: #434B5C;\n",
              "      box-shadow: 0px 1px 3px 1px rgba(0, 0, 0, 0.15);\n",
              "      filter: drop-shadow(0px 1px 2px rgba(0, 0, 0, 0.3));\n",
              "      fill: #FFFFFF;\n",
              "    }\n",
              "  </style>\n",
              "\n",
              "      <script>\n",
              "        const buttonEl =\n",
              "          document.querySelector('#df-e83be75e-b90e-4c9a-b76f-65173ca711f9 button.colab-df-convert');\n",
              "        buttonEl.style.display =\n",
              "          google.colab.kernel.accessAllowed ? 'block' : 'none';\n",
              "\n",
              "        async function convertToInteractive(key) {\n",
              "          const element = document.querySelector('#df-e83be75e-b90e-4c9a-b76f-65173ca711f9');\n",
              "          const dataTable =\n",
              "            await google.colab.kernel.invokeFunction('convertToInteractive',\n",
              "                                                     [key], {});\n",
              "          if (!dataTable) return;\n",
              "\n",
              "          const docLinkHtml = 'Like what you see? Visit the ' +\n",
              "            '<a target=\"_blank\" href=https://colab.research.google.com/notebooks/data_table.ipynb>data table notebook</a>'\n",
              "            + ' to learn more about interactive tables.';\n",
              "          element.innerHTML = '';\n",
              "          dataTable['output_type'] = 'display_data';\n",
              "          await google.colab.output.renderOutput(dataTable, element);\n",
              "          const docLink = document.createElement('div');\n",
              "          docLink.innerHTML = docLinkHtml;\n",
              "          element.appendChild(docLink);\n",
              "        }\n",
              "      </script>\n",
              "    </div>\n",
              "  </div>\n",
              "  "
            ]
          },
          "metadata": {},
          "execution_count": 8
        }
      ]
    },
    {
      "cell_type": "markdown",
      "source": [
        "(0.1 балла) <font color='#9933CC'>Посчитайте основные статистики как по числовым, так и по категориальным столбцам для трейна и теста</font>. \n",
        "> Подсказка: ``.describe()`` с нужным(и) аргументом(-ами)\n",
        "\n"
      ],
      "metadata": {
        "id": "6fAcrLkBygwE"
      }
    },
    {
      "cell_type": "code",
      "source": [
        "# основные статистиски для числовых признаков тренировочного датасета\n",
        "df_train.describe()"
      ],
      "metadata": {
        "id": "eaiIQCvMrPUb",
        "colab": {
          "base_uri": "https://localhost:8080/",
          "height": 300
        },
        "outputId": "cee6a287-0958-4aff-bf46-b6dd18ca0fb8"
      },
      "execution_count": 9,
      "outputs": [
        {
          "output_type": "execute_result",
          "data": {
            "text/plain": [
              "              year  selling_price     km_driven        seats\n",
              "count  6999.000000   6.999000e+03  6.999000e+03  6797.000000\n",
              "mean   2013.818403   6.395152e+05  6.958462e+04     5.419008\n",
              "std       4.053095   8.089419e+05  5.772400e+04     0.965767\n",
              "min    1983.000000   2.999900e+04  1.000000e+00     2.000000\n",
              "25%    2011.000000   2.549990e+05  3.500000e+04     5.000000\n",
              "50%    2015.000000   4.500000e+05  6.000000e+04     5.000000\n",
              "75%    2017.000000   6.750000e+05  9.700000e+04     5.000000\n",
              "max    2020.000000   1.000000e+07  2.360457e+06    14.000000"
            ],
            "text/html": [
              "\n",
              "  <div id=\"df-42cc8ccc-5e74-4234-890b-aa37d4390d47\">\n",
              "    <div class=\"colab-df-container\">\n",
              "      <div>\n",
              "<style scoped>\n",
              "    .dataframe tbody tr th:only-of-type {\n",
              "        vertical-align: middle;\n",
              "    }\n",
              "\n",
              "    .dataframe tbody tr th {\n",
              "        vertical-align: top;\n",
              "    }\n",
              "\n",
              "    .dataframe thead th {\n",
              "        text-align: right;\n",
              "    }\n",
              "</style>\n",
              "<table border=\"1\" class=\"dataframe\">\n",
              "  <thead>\n",
              "    <tr style=\"text-align: right;\">\n",
              "      <th></th>\n",
              "      <th>year</th>\n",
              "      <th>selling_price</th>\n",
              "      <th>km_driven</th>\n",
              "      <th>seats</th>\n",
              "    </tr>\n",
              "  </thead>\n",
              "  <tbody>\n",
              "    <tr>\n",
              "      <th>count</th>\n",
              "      <td>6999.000000</td>\n",
              "      <td>6.999000e+03</td>\n",
              "      <td>6.999000e+03</td>\n",
              "      <td>6797.000000</td>\n",
              "    </tr>\n",
              "    <tr>\n",
              "      <th>mean</th>\n",
              "      <td>2013.818403</td>\n",
              "      <td>6.395152e+05</td>\n",
              "      <td>6.958462e+04</td>\n",
              "      <td>5.419008</td>\n",
              "    </tr>\n",
              "    <tr>\n",
              "      <th>std</th>\n",
              "      <td>4.053095</td>\n",
              "      <td>8.089419e+05</td>\n",
              "      <td>5.772400e+04</td>\n",
              "      <td>0.965767</td>\n",
              "    </tr>\n",
              "    <tr>\n",
              "      <th>min</th>\n",
              "      <td>1983.000000</td>\n",
              "      <td>2.999900e+04</td>\n",
              "      <td>1.000000e+00</td>\n",
              "      <td>2.000000</td>\n",
              "    </tr>\n",
              "    <tr>\n",
              "      <th>25%</th>\n",
              "      <td>2011.000000</td>\n",
              "      <td>2.549990e+05</td>\n",
              "      <td>3.500000e+04</td>\n",
              "      <td>5.000000</td>\n",
              "    </tr>\n",
              "    <tr>\n",
              "      <th>50%</th>\n",
              "      <td>2015.000000</td>\n",
              "      <td>4.500000e+05</td>\n",
              "      <td>6.000000e+04</td>\n",
              "      <td>5.000000</td>\n",
              "    </tr>\n",
              "    <tr>\n",
              "      <th>75%</th>\n",
              "      <td>2017.000000</td>\n",
              "      <td>6.750000e+05</td>\n",
              "      <td>9.700000e+04</td>\n",
              "      <td>5.000000</td>\n",
              "    </tr>\n",
              "    <tr>\n",
              "      <th>max</th>\n",
              "      <td>2020.000000</td>\n",
              "      <td>1.000000e+07</td>\n",
              "      <td>2.360457e+06</td>\n",
              "      <td>14.000000</td>\n",
              "    </tr>\n",
              "  </tbody>\n",
              "</table>\n",
              "</div>\n",
              "      <button class=\"colab-df-convert\" onclick=\"convertToInteractive('df-42cc8ccc-5e74-4234-890b-aa37d4390d47')\"\n",
              "              title=\"Convert this dataframe to an interactive table.\"\n",
              "              style=\"display:none;\">\n",
              "        \n",
              "  <svg xmlns=\"http://www.w3.org/2000/svg\" height=\"24px\"viewBox=\"0 0 24 24\"\n",
              "       width=\"24px\">\n",
              "    <path d=\"M0 0h24v24H0V0z\" fill=\"none\"/>\n",
              "    <path d=\"M18.56 5.44l.94 2.06.94-2.06 2.06-.94-2.06-.94-.94-2.06-.94 2.06-2.06.94zm-11 1L8.5 8.5l.94-2.06 2.06-.94-2.06-.94L8.5 2.5l-.94 2.06-2.06.94zm10 10l.94 2.06.94-2.06 2.06-.94-2.06-.94-.94-2.06-.94 2.06-2.06.94z\"/><path d=\"M17.41 7.96l-1.37-1.37c-.4-.4-.92-.59-1.43-.59-.52 0-1.04.2-1.43.59L10.3 9.45l-7.72 7.72c-.78.78-.78 2.05 0 2.83L4 21.41c.39.39.9.59 1.41.59.51 0 1.02-.2 1.41-.59l7.78-7.78 2.81-2.81c.8-.78.8-2.07 0-2.86zM5.41 20L4 18.59l7.72-7.72 1.47 1.35L5.41 20z\"/>\n",
              "  </svg>\n",
              "      </button>\n",
              "      \n",
              "  <style>\n",
              "    .colab-df-container {\n",
              "      display:flex;\n",
              "      flex-wrap:wrap;\n",
              "      gap: 12px;\n",
              "    }\n",
              "\n",
              "    .colab-df-convert {\n",
              "      background-color: #E8F0FE;\n",
              "      border: none;\n",
              "      border-radius: 50%;\n",
              "      cursor: pointer;\n",
              "      display: none;\n",
              "      fill: #1967D2;\n",
              "      height: 32px;\n",
              "      padding: 0 0 0 0;\n",
              "      width: 32px;\n",
              "    }\n",
              "\n",
              "    .colab-df-convert:hover {\n",
              "      background-color: #E2EBFA;\n",
              "      box-shadow: 0px 1px 2px rgba(60, 64, 67, 0.3), 0px 1px 3px 1px rgba(60, 64, 67, 0.15);\n",
              "      fill: #174EA6;\n",
              "    }\n",
              "\n",
              "    [theme=dark] .colab-df-convert {\n",
              "      background-color: #3B4455;\n",
              "      fill: #D2E3FC;\n",
              "    }\n",
              "\n",
              "    [theme=dark] .colab-df-convert:hover {\n",
              "      background-color: #434B5C;\n",
              "      box-shadow: 0px 1px 3px 1px rgba(0, 0, 0, 0.15);\n",
              "      filter: drop-shadow(0px 1px 2px rgba(0, 0, 0, 0.3));\n",
              "      fill: #FFFFFF;\n",
              "    }\n",
              "  </style>\n",
              "\n",
              "      <script>\n",
              "        const buttonEl =\n",
              "          document.querySelector('#df-42cc8ccc-5e74-4234-890b-aa37d4390d47 button.colab-df-convert');\n",
              "        buttonEl.style.display =\n",
              "          google.colab.kernel.accessAllowed ? 'block' : 'none';\n",
              "\n",
              "        async function convertToInteractive(key) {\n",
              "          const element = document.querySelector('#df-42cc8ccc-5e74-4234-890b-aa37d4390d47');\n",
              "          const dataTable =\n",
              "            await google.colab.kernel.invokeFunction('convertToInteractive',\n",
              "                                                     [key], {});\n",
              "          if (!dataTable) return;\n",
              "\n",
              "          const docLinkHtml = 'Like what you see? Visit the ' +\n",
              "            '<a target=\"_blank\" href=https://colab.research.google.com/notebooks/data_table.ipynb>data table notebook</a>'\n",
              "            + ' to learn more about interactive tables.';\n",
              "          element.innerHTML = '';\n",
              "          dataTable['output_type'] = 'display_data';\n",
              "          await google.colab.output.renderOutput(dataTable, element);\n",
              "          const docLink = document.createElement('div');\n",
              "          docLink.innerHTML = docLinkHtml;\n",
              "          element.appendChild(docLink);\n",
              "        }\n",
              "      </script>\n",
              "    </div>\n",
              "  </div>\n",
              "  "
            ]
          },
          "metadata": {},
          "execution_count": 9
        }
      ]
    },
    {
      "cell_type": "code",
      "source": [
        "# основные статистиски для нечисловых признаков тренировочного датасета\n",
        "df_train.describe(include = ['object'])"
      ],
      "metadata": {
        "id": "x7WAXjj3dnP1",
        "outputId": "11c191f9-ada6-4693-afc8-cae9ab2ebd6f",
        "colab": {
          "base_uri": "https://localhost:8080/",
          "height": 175
        }
      },
      "execution_count": 10,
      "outputs": [
        {
          "output_type": "execute_result",
          "data": {
            "text/plain": [
              "                          name    fuel seller_type transmission        owner  \\\n",
              "count                     6999    6999        6999         6999         6999   \n",
              "unique                    1924       4           3            2            5   \n",
              "top     Maruti Swift Dzire VDI  Diesel  Individual       Manual  First Owner   \n",
              "freq                       116    3793        5826         6095         4587   \n",
              "\n",
              "          mileage   engine max_power          torque  \n",
              "count        6797     6797      6803            6796  \n",
              "unique        386      120       316             419  \n",
              "top     18.9 kmpl  1248 CC    74 bhp  190Nm@ 2000rpm  \n",
              "freq          197      885       330             468  "
            ],
            "text/html": [
              "\n",
              "  <div id=\"df-a16dfc8d-288a-413b-bd2b-b7cd4b26bc19\">\n",
              "    <div class=\"colab-df-container\">\n",
              "      <div>\n",
              "<style scoped>\n",
              "    .dataframe tbody tr th:only-of-type {\n",
              "        vertical-align: middle;\n",
              "    }\n",
              "\n",
              "    .dataframe tbody tr th {\n",
              "        vertical-align: top;\n",
              "    }\n",
              "\n",
              "    .dataframe thead th {\n",
              "        text-align: right;\n",
              "    }\n",
              "</style>\n",
              "<table border=\"1\" class=\"dataframe\">\n",
              "  <thead>\n",
              "    <tr style=\"text-align: right;\">\n",
              "      <th></th>\n",
              "      <th>name</th>\n",
              "      <th>fuel</th>\n",
              "      <th>seller_type</th>\n",
              "      <th>transmission</th>\n",
              "      <th>owner</th>\n",
              "      <th>mileage</th>\n",
              "      <th>engine</th>\n",
              "      <th>max_power</th>\n",
              "      <th>torque</th>\n",
              "    </tr>\n",
              "  </thead>\n",
              "  <tbody>\n",
              "    <tr>\n",
              "      <th>count</th>\n",
              "      <td>6999</td>\n",
              "      <td>6999</td>\n",
              "      <td>6999</td>\n",
              "      <td>6999</td>\n",
              "      <td>6999</td>\n",
              "      <td>6797</td>\n",
              "      <td>6797</td>\n",
              "      <td>6803</td>\n",
              "      <td>6796</td>\n",
              "    </tr>\n",
              "    <tr>\n",
              "      <th>unique</th>\n",
              "      <td>1924</td>\n",
              "      <td>4</td>\n",
              "      <td>3</td>\n",
              "      <td>2</td>\n",
              "      <td>5</td>\n",
              "      <td>386</td>\n",
              "      <td>120</td>\n",
              "      <td>316</td>\n",
              "      <td>419</td>\n",
              "    </tr>\n",
              "    <tr>\n",
              "      <th>top</th>\n",
              "      <td>Maruti Swift Dzire VDI</td>\n",
              "      <td>Diesel</td>\n",
              "      <td>Individual</td>\n",
              "      <td>Manual</td>\n",
              "      <td>First Owner</td>\n",
              "      <td>18.9 kmpl</td>\n",
              "      <td>1248 CC</td>\n",
              "      <td>74 bhp</td>\n",
              "      <td>190Nm@ 2000rpm</td>\n",
              "    </tr>\n",
              "    <tr>\n",
              "      <th>freq</th>\n",
              "      <td>116</td>\n",
              "      <td>3793</td>\n",
              "      <td>5826</td>\n",
              "      <td>6095</td>\n",
              "      <td>4587</td>\n",
              "      <td>197</td>\n",
              "      <td>885</td>\n",
              "      <td>330</td>\n",
              "      <td>468</td>\n",
              "    </tr>\n",
              "  </tbody>\n",
              "</table>\n",
              "</div>\n",
              "      <button class=\"colab-df-convert\" onclick=\"convertToInteractive('df-a16dfc8d-288a-413b-bd2b-b7cd4b26bc19')\"\n",
              "              title=\"Convert this dataframe to an interactive table.\"\n",
              "              style=\"display:none;\">\n",
              "        \n",
              "  <svg xmlns=\"http://www.w3.org/2000/svg\" height=\"24px\"viewBox=\"0 0 24 24\"\n",
              "       width=\"24px\">\n",
              "    <path d=\"M0 0h24v24H0V0z\" fill=\"none\"/>\n",
              "    <path d=\"M18.56 5.44l.94 2.06.94-2.06 2.06-.94-2.06-.94-.94-2.06-.94 2.06-2.06.94zm-11 1L8.5 8.5l.94-2.06 2.06-.94-2.06-.94L8.5 2.5l-.94 2.06-2.06.94zm10 10l.94 2.06.94-2.06 2.06-.94-2.06-.94-.94-2.06-.94 2.06-2.06.94z\"/><path d=\"M17.41 7.96l-1.37-1.37c-.4-.4-.92-.59-1.43-.59-.52 0-1.04.2-1.43.59L10.3 9.45l-7.72 7.72c-.78.78-.78 2.05 0 2.83L4 21.41c.39.39.9.59 1.41.59.51 0 1.02-.2 1.41-.59l7.78-7.78 2.81-2.81c.8-.78.8-2.07 0-2.86zM5.41 20L4 18.59l7.72-7.72 1.47 1.35L5.41 20z\"/>\n",
              "  </svg>\n",
              "      </button>\n",
              "      \n",
              "  <style>\n",
              "    .colab-df-container {\n",
              "      display:flex;\n",
              "      flex-wrap:wrap;\n",
              "      gap: 12px;\n",
              "    }\n",
              "\n",
              "    .colab-df-convert {\n",
              "      background-color: #E8F0FE;\n",
              "      border: none;\n",
              "      border-radius: 50%;\n",
              "      cursor: pointer;\n",
              "      display: none;\n",
              "      fill: #1967D2;\n",
              "      height: 32px;\n",
              "      padding: 0 0 0 0;\n",
              "      width: 32px;\n",
              "    }\n",
              "\n",
              "    .colab-df-convert:hover {\n",
              "      background-color: #E2EBFA;\n",
              "      box-shadow: 0px 1px 2px rgba(60, 64, 67, 0.3), 0px 1px 3px 1px rgba(60, 64, 67, 0.15);\n",
              "      fill: #174EA6;\n",
              "    }\n",
              "\n",
              "    [theme=dark] .colab-df-convert {\n",
              "      background-color: #3B4455;\n",
              "      fill: #D2E3FC;\n",
              "    }\n",
              "\n",
              "    [theme=dark] .colab-df-convert:hover {\n",
              "      background-color: #434B5C;\n",
              "      box-shadow: 0px 1px 3px 1px rgba(0, 0, 0, 0.15);\n",
              "      filter: drop-shadow(0px 1px 2px rgba(0, 0, 0, 0.3));\n",
              "      fill: #FFFFFF;\n",
              "    }\n",
              "  </style>\n",
              "\n",
              "      <script>\n",
              "        const buttonEl =\n",
              "          document.querySelector('#df-a16dfc8d-288a-413b-bd2b-b7cd4b26bc19 button.colab-df-convert');\n",
              "        buttonEl.style.display =\n",
              "          google.colab.kernel.accessAllowed ? 'block' : 'none';\n",
              "\n",
              "        async function convertToInteractive(key) {\n",
              "          const element = document.querySelector('#df-a16dfc8d-288a-413b-bd2b-b7cd4b26bc19');\n",
              "          const dataTable =\n",
              "            await google.colab.kernel.invokeFunction('convertToInteractive',\n",
              "                                                     [key], {});\n",
              "          if (!dataTable) return;\n",
              "\n",
              "          const docLinkHtml = 'Like what you see? Visit the ' +\n",
              "            '<a target=\"_blank\" href=https://colab.research.google.com/notebooks/data_table.ipynb>data table notebook</a>'\n",
              "            + ' to learn more about interactive tables.';\n",
              "          element.innerHTML = '';\n",
              "          dataTable['output_type'] = 'display_data';\n",
              "          await google.colab.output.renderOutput(dataTable, element);\n",
              "          const docLink = document.createElement('div');\n",
              "          docLink.innerHTML = docLinkHtml;\n",
              "          element.appendChild(docLink);\n",
              "        }\n",
              "      </script>\n",
              "    </div>\n",
              "  </div>\n",
              "  "
            ]
          },
          "metadata": {},
          "execution_count": 10
        }
      ]
    },
    {
      "cell_type": "code",
      "source": [
        "# основные статистиски для числовых признаков тестового датасета\n",
        "df_test.describe()"
      ],
      "metadata": {
        "id": "aEDthJMIeWAg",
        "outputId": "34f2da9d-bbfe-4f60-fe07-68ce574e0704",
        "colab": {
          "base_uri": "https://localhost:8080/",
          "height": 300
        }
      },
      "execution_count": 11,
      "outputs": [
        {
          "output_type": "execute_result",
          "data": {
            "text/plain": [
              "              year  selling_price      km_driven       seats\n",
              "count  1000.000000   1.000000e+03    1000.000000  981.000000\n",
              "mean   2013.681000   6.179010e+05   71393.341000    5.410805\n",
              "std       4.012149   7.585539e+05   48486.218662    0.919985\n",
              "min    1995.000000   3.100000e+04    1303.000000    4.000000\n",
              "25%    2011.000000   2.500000e+05   37000.000000    5.000000\n",
              "50%    2014.000000   4.349990e+05   61500.000000    5.000000\n",
              "75%    2017.000000   6.700000e+05  100000.000000    5.000000\n",
              "max    2020.000000   6.000000e+06  375000.000000    9.000000"
            ],
            "text/html": [
              "\n",
              "  <div id=\"df-cb39de52-a86e-4183-a5a8-6e706a22c1ed\">\n",
              "    <div class=\"colab-df-container\">\n",
              "      <div>\n",
              "<style scoped>\n",
              "    .dataframe tbody tr th:only-of-type {\n",
              "        vertical-align: middle;\n",
              "    }\n",
              "\n",
              "    .dataframe tbody tr th {\n",
              "        vertical-align: top;\n",
              "    }\n",
              "\n",
              "    .dataframe thead th {\n",
              "        text-align: right;\n",
              "    }\n",
              "</style>\n",
              "<table border=\"1\" class=\"dataframe\">\n",
              "  <thead>\n",
              "    <tr style=\"text-align: right;\">\n",
              "      <th></th>\n",
              "      <th>year</th>\n",
              "      <th>selling_price</th>\n",
              "      <th>km_driven</th>\n",
              "      <th>seats</th>\n",
              "    </tr>\n",
              "  </thead>\n",
              "  <tbody>\n",
              "    <tr>\n",
              "      <th>count</th>\n",
              "      <td>1000.000000</td>\n",
              "      <td>1.000000e+03</td>\n",
              "      <td>1000.000000</td>\n",
              "      <td>981.000000</td>\n",
              "    </tr>\n",
              "    <tr>\n",
              "      <th>mean</th>\n",
              "      <td>2013.681000</td>\n",
              "      <td>6.179010e+05</td>\n",
              "      <td>71393.341000</td>\n",
              "      <td>5.410805</td>\n",
              "    </tr>\n",
              "    <tr>\n",
              "      <th>std</th>\n",
              "      <td>4.012149</td>\n",
              "      <td>7.585539e+05</td>\n",
              "      <td>48486.218662</td>\n",
              "      <td>0.919985</td>\n",
              "    </tr>\n",
              "    <tr>\n",
              "      <th>min</th>\n",
              "      <td>1995.000000</td>\n",
              "      <td>3.100000e+04</td>\n",
              "      <td>1303.000000</td>\n",
              "      <td>4.000000</td>\n",
              "    </tr>\n",
              "    <tr>\n",
              "      <th>25%</th>\n",
              "      <td>2011.000000</td>\n",
              "      <td>2.500000e+05</td>\n",
              "      <td>37000.000000</td>\n",
              "      <td>5.000000</td>\n",
              "    </tr>\n",
              "    <tr>\n",
              "      <th>50%</th>\n",
              "      <td>2014.000000</td>\n",
              "      <td>4.349990e+05</td>\n",
              "      <td>61500.000000</td>\n",
              "      <td>5.000000</td>\n",
              "    </tr>\n",
              "    <tr>\n",
              "      <th>75%</th>\n",
              "      <td>2017.000000</td>\n",
              "      <td>6.700000e+05</td>\n",
              "      <td>100000.000000</td>\n",
              "      <td>5.000000</td>\n",
              "    </tr>\n",
              "    <tr>\n",
              "      <th>max</th>\n",
              "      <td>2020.000000</td>\n",
              "      <td>6.000000e+06</td>\n",
              "      <td>375000.000000</td>\n",
              "      <td>9.000000</td>\n",
              "    </tr>\n",
              "  </tbody>\n",
              "</table>\n",
              "</div>\n",
              "      <button class=\"colab-df-convert\" onclick=\"convertToInteractive('df-cb39de52-a86e-4183-a5a8-6e706a22c1ed')\"\n",
              "              title=\"Convert this dataframe to an interactive table.\"\n",
              "              style=\"display:none;\">\n",
              "        \n",
              "  <svg xmlns=\"http://www.w3.org/2000/svg\" height=\"24px\"viewBox=\"0 0 24 24\"\n",
              "       width=\"24px\">\n",
              "    <path d=\"M0 0h24v24H0V0z\" fill=\"none\"/>\n",
              "    <path d=\"M18.56 5.44l.94 2.06.94-2.06 2.06-.94-2.06-.94-.94-2.06-.94 2.06-2.06.94zm-11 1L8.5 8.5l.94-2.06 2.06-.94-2.06-.94L8.5 2.5l-.94 2.06-2.06.94zm10 10l.94 2.06.94-2.06 2.06-.94-2.06-.94-.94-2.06-.94 2.06-2.06.94z\"/><path d=\"M17.41 7.96l-1.37-1.37c-.4-.4-.92-.59-1.43-.59-.52 0-1.04.2-1.43.59L10.3 9.45l-7.72 7.72c-.78.78-.78 2.05 0 2.83L4 21.41c.39.39.9.59 1.41.59.51 0 1.02-.2 1.41-.59l7.78-7.78 2.81-2.81c.8-.78.8-2.07 0-2.86zM5.41 20L4 18.59l7.72-7.72 1.47 1.35L5.41 20z\"/>\n",
              "  </svg>\n",
              "      </button>\n",
              "      \n",
              "  <style>\n",
              "    .colab-df-container {\n",
              "      display:flex;\n",
              "      flex-wrap:wrap;\n",
              "      gap: 12px;\n",
              "    }\n",
              "\n",
              "    .colab-df-convert {\n",
              "      background-color: #E8F0FE;\n",
              "      border: none;\n",
              "      border-radius: 50%;\n",
              "      cursor: pointer;\n",
              "      display: none;\n",
              "      fill: #1967D2;\n",
              "      height: 32px;\n",
              "      padding: 0 0 0 0;\n",
              "      width: 32px;\n",
              "    }\n",
              "\n",
              "    .colab-df-convert:hover {\n",
              "      background-color: #E2EBFA;\n",
              "      box-shadow: 0px 1px 2px rgba(60, 64, 67, 0.3), 0px 1px 3px 1px rgba(60, 64, 67, 0.15);\n",
              "      fill: #174EA6;\n",
              "    }\n",
              "\n",
              "    [theme=dark] .colab-df-convert {\n",
              "      background-color: #3B4455;\n",
              "      fill: #D2E3FC;\n",
              "    }\n",
              "\n",
              "    [theme=dark] .colab-df-convert:hover {\n",
              "      background-color: #434B5C;\n",
              "      box-shadow: 0px 1px 3px 1px rgba(0, 0, 0, 0.15);\n",
              "      filter: drop-shadow(0px 1px 2px rgba(0, 0, 0, 0.3));\n",
              "      fill: #FFFFFF;\n",
              "    }\n",
              "  </style>\n",
              "\n",
              "      <script>\n",
              "        const buttonEl =\n",
              "          document.querySelector('#df-cb39de52-a86e-4183-a5a8-6e706a22c1ed button.colab-df-convert');\n",
              "        buttonEl.style.display =\n",
              "          google.colab.kernel.accessAllowed ? 'block' : 'none';\n",
              "\n",
              "        async function convertToInteractive(key) {\n",
              "          const element = document.querySelector('#df-cb39de52-a86e-4183-a5a8-6e706a22c1ed');\n",
              "          const dataTable =\n",
              "            await google.colab.kernel.invokeFunction('convertToInteractive',\n",
              "                                                     [key], {});\n",
              "          if (!dataTable) return;\n",
              "\n",
              "          const docLinkHtml = 'Like what you see? Visit the ' +\n",
              "            '<a target=\"_blank\" href=https://colab.research.google.com/notebooks/data_table.ipynb>data table notebook</a>'\n",
              "            + ' to learn more about interactive tables.';\n",
              "          element.innerHTML = '';\n",
              "          dataTable['output_type'] = 'display_data';\n",
              "          await google.colab.output.renderOutput(dataTable, element);\n",
              "          const docLink = document.createElement('div');\n",
              "          docLink.innerHTML = docLinkHtml;\n",
              "          element.appendChild(docLink);\n",
              "        }\n",
              "      </script>\n",
              "    </div>\n",
              "  </div>\n",
              "  "
            ]
          },
          "metadata": {},
          "execution_count": 11
        }
      ]
    },
    {
      "cell_type": "code",
      "source": [
        "# основные статистиски для нечисловых признаков тестового датасета\n",
        "df_test.describe(include = ['object'])"
      ],
      "metadata": {
        "id": "J8k6eu0yeeGK",
        "outputId": "667d9b81-f14c-494a-cdcd-a041ccade0d6",
        "colab": {
          "base_uri": "https://localhost:8080/",
          "height": 175
        }
      },
      "execution_count": 12,
      "outputs": [
        {
          "output_type": "execute_result",
          "data": {
            "text/plain": [
              "                       name    fuel seller_type transmission        owner  \\\n",
              "count                  1000    1000        1000         1000         1000   \n",
              "unique                  621       4           3            2            5   \n",
              "top     Maruti Alto 800 LXI  Diesel  Individual       Manual  First Owner   \n",
              "freq                     15     534         837          877          623   \n",
              "\n",
              "          mileage   engine max_power          torque  \n",
              "count         981      981       981             981  \n",
              "unique        237       88       182             226  \n",
              "top     18.6 kmpl  1248 CC    74 bhp  200Nm@ 1750rpm  \n",
              "freq           23      116        43              57  "
            ],
            "text/html": [
              "\n",
              "  <div id=\"df-1ea219aa-01d6-4517-a4c5-51976abf72bf\">\n",
              "    <div class=\"colab-df-container\">\n",
              "      <div>\n",
              "<style scoped>\n",
              "    .dataframe tbody tr th:only-of-type {\n",
              "        vertical-align: middle;\n",
              "    }\n",
              "\n",
              "    .dataframe tbody tr th {\n",
              "        vertical-align: top;\n",
              "    }\n",
              "\n",
              "    .dataframe thead th {\n",
              "        text-align: right;\n",
              "    }\n",
              "</style>\n",
              "<table border=\"1\" class=\"dataframe\">\n",
              "  <thead>\n",
              "    <tr style=\"text-align: right;\">\n",
              "      <th></th>\n",
              "      <th>name</th>\n",
              "      <th>fuel</th>\n",
              "      <th>seller_type</th>\n",
              "      <th>transmission</th>\n",
              "      <th>owner</th>\n",
              "      <th>mileage</th>\n",
              "      <th>engine</th>\n",
              "      <th>max_power</th>\n",
              "      <th>torque</th>\n",
              "    </tr>\n",
              "  </thead>\n",
              "  <tbody>\n",
              "    <tr>\n",
              "      <th>count</th>\n",
              "      <td>1000</td>\n",
              "      <td>1000</td>\n",
              "      <td>1000</td>\n",
              "      <td>1000</td>\n",
              "      <td>1000</td>\n",
              "      <td>981</td>\n",
              "      <td>981</td>\n",
              "      <td>981</td>\n",
              "      <td>981</td>\n",
              "    </tr>\n",
              "    <tr>\n",
              "      <th>unique</th>\n",
              "      <td>621</td>\n",
              "      <td>4</td>\n",
              "      <td>3</td>\n",
              "      <td>2</td>\n",
              "      <td>5</td>\n",
              "      <td>237</td>\n",
              "      <td>88</td>\n",
              "      <td>182</td>\n",
              "      <td>226</td>\n",
              "    </tr>\n",
              "    <tr>\n",
              "      <th>top</th>\n",
              "      <td>Maruti Alto 800 LXI</td>\n",
              "      <td>Diesel</td>\n",
              "      <td>Individual</td>\n",
              "      <td>Manual</td>\n",
              "      <td>First Owner</td>\n",
              "      <td>18.6 kmpl</td>\n",
              "      <td>1248 CC</td>\n",
              "      <td>74 bhp</td>\n",
              "      <td>200Nm@ 1750rpm</td>\n",
              "    </tr>\n",
              "    <tr>\n",
              "      <th>freq</th>\n",
              "      <td>15</td>\n",
              "      <td>534</td>\n",
              "      <td>837</td>\n",
              "      <td>877</td>\n",
              "      <td>623</td>\n",
              "      <td>23</td>\n",
              "      <td>116</td>\n",
              "      <td>43</td>\n",
              "      <td>57</td>\n",
              "    </tr>\n",
              "  </tbody>\n",
              "</table>\n",
              "</div>\n",
              "      <button class=\"colab-df-convert\" onclick=\"convertToInteractive('df-1ea219aa-01d6-4517-a4c5-51976abf72bf')\"\n",
              "              title=\"Convert this dataframe to an interactive table.\"\n",
              "              style=\"display:none;\">\n",
              "        \n",
              "  <svg xmlns=\"http://www.w3.org/2000/svg\" height=\"24px\"viewBox=\"0 0 24 24\"\n",
              "       width=\"24px\">\n",
              "    <path d=\"M0 0h24v24H0V0z\" fill=\"none\"/>\n",
              "    <path d=\"M18.56 5.44l.94 2.06.94-2.06 2.06-.94-2.06-.94-.94-2.06-.94 2.06-2.06.94zm-11 1L8.5 8.5l.94-2.06 2.06-.94-2.06-.94L8.5 2.5l-.94 2.06-2.06.94zm10 10l.94 2.06.94-2.06 2.06-.94-2.06-.94-.94-2.06-.94 2.06-2.06.94z\"/><path d=\"M17.41 7.96l-1.37-1.37c-.4-.4-.92-.59-1.43-.59-.52 0-1.04.2-1.43.59L10.3 9.45l-7.72 7.72c-.78.78-.78 2.05 0 2.83L4 21.41c.39.39.9.59 1.41.59.51 0 1.02-.2 1.41-.59l7.78-7.78 2.81-2.81c.8-.78.8-2.07 0-2.86zM5.41 20L4 18.59l7.72-7.72 1.47 1.35L5.41 20z\"/>\n",
              "  </svg>\n",
              "      </button>\n",
              "      \n",
              "  <style>\n",
              "    .colab-df-container {\n",
              "      display:flex;\n",
              "      flex-wrap:wrap;\n",
              "      gap: 12px;\n",
              "    }\n",
              "\n",
              "    .colab-df-convert {\n",
              "      background-color: #E8F0FE;\n",
              "      border: none;\n",
              "      border-radius: 50%;\n",
              "      cursor: pointer;\n",
              "      display: none;\n",
              "      fill: #1967D2;\n",
              "      height: 32px;\n",
              "      padding: 0 0 0 0;\n",
              "      width: 32px;\n",
              "    }\n",
              "\n",
              "    .colab-df-convert:hover {\n",
              "      background-color: #E2EBFA;\n",
              "      box-shadow: 0px 1px 2px rgba(60, 64, 67, 0.3), 0px 1px 3px 1px rgba(60, 64, 67, 0.15);\n",
              "      fill: #174EA6;\n",
              "    }\n",
              "\n",
              "    [theme=dark] .colab-df-convert {\n",
              "      background-color: #3B4455;\n",
              "      fill: #D2E3FC;\n",
              "    }\n",
              "\n",
              "    [theme=dark] .colab-df-convert:hover {\n",
              "      background-color: #434B5C;\n",
              "      box-shadow: 0px 1px 3px 1px rgba(0, 0, 0, 0.15);\n",
              "      filter: drop-shadow(0px 1px 2px rgba(0, 0, 0, 0.3));\n",
              "      fill: #FFFFFF;\n",
              "    }\n",
              "  </style>\n",
              "\n",
              "      <script>\n",
              "        const buttonEl =\n",
              "          document.querySelector('#df-1ea219aa-01d6-4517-a4c5-51976abf72bf button.colab-df-convert');\n",
              "        buttonEl.style.display =\n",
              "          google.colab.kernel.accessAllowed ? 'block' : 'none';\n",
              "\n",
              "        async function convertToInteractive(key) {\n",
              "          const element = document.querySelector('#df-1ea219aa-01d6-4517-a4c5-51976abf72bf');\n",
              "          const dataTable =\n",
              "            await google.colab.kernel.invokeFunction('convertToInteractive',\n",
              "                                                     [key], {});\n",
              "          if (!dataTable) return;\n",
              "\n",
              "          const docLinkHtml = 'Like what you see? Visit the ' +\n",
              "            '<a target=\"_blank\" href=https://colab.research.google.com/notebooks/data_table.ipynb>data table notebook</a>'\n",
              "            + ' to learn more about interactive tables.';\n",
              "          element.innerHTML = '';\n",
              "          dataTable['output_type'] = 'display_data';\n",
              "          await google.colab.output.renderOutput(dataTable, element);\n",
              "          const docLink = document.createElement('div');\n",
              "          docLink.innerHTML = docLinkHtml;\n",
              "          element.appendChild(docLink);\n",
              "        }\n",
              "      </script>\n",
              "    </div>\n",
              "  </div>\n",
              "  "
            ]
          },
          "metadata": {},
          "execution_count": 12
        }
      ]
    },
    {
      "cell_type": "markdown",
      "source": [
        "(0.15 балла) <font color='#9933CC'>Посмотрите, есть ли в датасете пропуски.</font>\n",
        "\n",
        "<font color='#FF6600'>Если есть, то в каких колонках?</font>"
      ],
      "metadata": {
        "id": "1X5_FzDOhjuh"
      }
    },
    {
      "cell_type": "code",
      "source": [
        "df_train.isna().sum()"
      ],
      "metadata": {
        "id": "67KXN7Fj0Chz",
        "colab": {
          "base_uri": "https://localhost:8080/"
        },
        "outputId": "01779706-b97e-4c86-f064-614914acb870"
      },
      "execution_count": 13,
      "outputs": [
        {
          "output_type": "execute_result",
          "data": {
            "text/plain": [
              "name               0\n",
              "year               0\n",
              "selling_price      0\n",
              "km_driven          0\n",
              "fuel               0\n",
              "seller_type        0\n",
              "transmission       0\n",
              "owner              0\n",
              "mileage          202\n",
              "engine           202\n",
              "max_power        196\n",
              "torque           203\n",
              "seats            202\n",
              "dtype: int64"
            ]
          },
          "metadata": {},
          "execution_count": 13
        }
      ]
    },
    {
      "cell_type": "markdown",
      "source": [
        "В тренировочном датасете есть пропуски в mileage, engine, max_power, torque, seats."
      ],
      "metadata": {
        "id": "nqHt3CkWgsOB"
      }
    },
    {
      "cell_type": "code",
      "source": [
        "df_test.isna().sum()"
      ],
      "metadata": {
        "id": "WGVVmTw6g3MP",
        "outputId": "150c58a8-e132-4770-b6c3-b42568ce2e73",
        "colab": {
          "base_uri": "https://localhost:8080/"
        }
      },
      "execution_count": 14,
      "outputs": [
        {
          "output_type": "execute_result",
          "data": {
            "text/plain": [
              "name              0\n",
              "year              0\n",
              "selling_price     0\n",
              "km_driven         0\n",
              "fuel              0\n",
              "seller_type       0\n",
              "transmission      0\n",
              "owner             0\n",
              "mileage          19\n",
              "engine           19\n",
              "max_power        19\n",
              "torque           19\n",
              "seats            19\n",
              "dtype: int64"
            ]
          },
          "metadata": {},
          "execution_count": 14
        }
      ]
    },
    {
      "cell_type": "markdown",
      "source": [
        "В тестовым датасете есть пропуски в mileage, engine, max_power, torque, seats."
      ],
      "metadata": {
        "id": "Y5nBkZqKg8w6"
      }
    },
    {
      "cell_type": "markdown",
      "source": [
        "(0.1 балла) <font color='#9933CC'>Посмотрите, есть ли в трейне объекты с одинаковым признаковым описанием</font> (целевую переменную следует исключить). Если есть, то сколько?"
      ],
      "metadata": {
        "id": "B9KR76Uzjvqa"
      }
    },
    {
      "cell_type": "code",
      "source": [
        "df_train_not_price = df_train.drop('selling_price', axis=1)\n",
        "dup_rows = df_train_not_price[df_train_not_price.duplicated()]\n",
        "\n",
        "print(\"Количество повторяющихся строк: \", dup_rows.shape[0])\n"
      ],
      "metadata": {
        "id": "J3Y-5Vyijys-",
        "colab": {
          "base_uri": "https://localhost:8080/"
        },
        "outputId": "1145ff2d-7ccc-47ab-a630-0b4c51b5080e"
      },
      "execution_count": 15,
      "outputs": [
        {
          "output_type": "stream",
          "name": "stdout",
          "text": [
            "Количество повторяющихся строк:  1159\n"
          ]
        }
      ]
    },
    {
      "cell_type": "markdown",
      "source": [
        "(0.15 балла) <font color='#9933CC'>Отобразите такие объекты</font>"
      ],
      "metadata": {
        "id": "UAwmwOwhlQmA"
      }
    },
    {
      "cell_type": "code",
      "source": [
        "dup_rows"
      ],
      "metadata": {
        "id": "nSg0g13Ylgsh",
        "colab": {
          "base_uri": "https://localhost:8080/",
          "height": 468
        },
        "outputId": "3305b8bb-c183-478b-ae49-2dba61ddee72"
      },
      "execution_count": 16,
      "outputs": [
        {
          "output_type": "execute_result",
          "data": {
            "text/plain": [
              "                                          name  year  km_driven    fuel  \\\n",
              "254                   Hyundai Grand i10 Sportz  2017      35000  Petrol   \n",
              "258                           Maruti Swift VXI  2012      50000  Petrol   \n",
              "268                     Maruti Swift Dzire VXI  2014      70000  Petrol   \n",
              "324   Jaguar XE 2016-2019 2.0L Diesel Prestige  2017       9000  Diesel   \n",
              "325                              Lexus ES 300h  2019      20000  Petrol   \n",
              "...                                        ...   ...        ...     ...   \n",
              "6947                    Chevrolet Spark 1.0 LS  2010      60000  Petrol   \n",
              "6984  Ford Freestyle Titanium Plus Diesel BSIV  2018      24000  Diesel   \n",
              "6989                    Maruti Swift Dzire VDI  2015      50000  Diesel   \n",
              "6997                           Tata Indigo CR4  2013      25000  Diesel   \n",
              "6998                           Tata Indigo CR4  2013      25000  Diesel   \n",
              "\n",
              "     seller_type transmission         owner     mileage   engine   max_power  \\\n",
              "254   Individual       Manual   First Owner   18.9 kmpl  1197 CC      82 bhp   \n",
              "258   Individual       Manual  Second Owner   18.6 kmpl  1197 CC    85.8 bhp   \n",
              "268   Individual       Manual  Second Owner   19.1 kmpl  1197 CC    85.8 bhp   \n",
              "324       Dealer    Automatic   First Owner   13.6 kmpl  1999 CC     177 bhp   \n",
              "325       Dealer    Automatic   First Owner  22.37 kmpl  2487 CC  214.56 bhp   \n",
              "...          ...          ...           ...         ...      ...         ...   \n",
              "6947  Individual       Manual  Second Owner   18.0 kmpl   995 CC      62 bhp   \n",
              "6984  Individual       Manual   First Owner   24.4 kmpl  1498 CC   98.63 bhp   \n",
              "6989  Individual       Manual   First Owner  26.59 kmpl  1248 CC      74 bhp   \n",
              "6997  Individual       Manual   First Owner  23.57 kmpl  1396 CC      70 bhp   \n",
              "6998  Individual       Manual   First Owner  23.57 kmpl  1396 CC      70 bhp   \n",
              "\n",
              "                   torque  seats  \n",
              "254        114Nm@ 4000rpm    5.0  \n",
              "258        114Nm@ 4000rpm    5.0  \n",
              "268        114Nm@ 4000rpm    5.0  \n",
              "324   430Nm@ 1750-2500rpm    5.0  \n",
              "325   202Nm@ 3600-5200rpm    5.0  \n",
              "...                   ...    ...  \n",
              "6947      90.3Nm@ 4200rpm    5.0  \n",
              "6984  215Nm@ 1750-3000rpm    5.0  \n",
              "6989       190Nm@ 2000rpm    5.0  \n",
              "6997  140Nm@ 1800-3000rpm    5.0  \n",
              "6998  140Nm@ 1800-3000rpm    5.0  \n",
              "\n",
              "[1159 rows x 12 columns]"
            ],
            "text/html": [
              "\n",
              "  <div id=\"df-25b40b27-525a-492a-a48f-325dcd95617e\">\n",
              "    <div class=\"colab-df-container\">\n",
              "      <div>\n",
              "<style scoped>\n",
              "    .dataframe tbody tr th:only-of-type {\n",
              "        vertical-align: middle;\n",
              "    }\n",
              "\n",
              "    .dataframe tbody tr th {\n",
              "        vertical-align: top;\n",
              "    }\n",
              "\n",
              "    .dataframe thead th {\n",
              "        text-align: right;\n",
              "    }\n",
              "</style>\n",
              "<table border=\"1\" class=\"dataframe\">\n",
              "  <thead>\n",
              "    <tr style=\"text-align: right;\">\n",
              "      <th></th>\n",
              "      <th>name</th>\n",
              "      <th>year</th>\n",
              "      <th>km_driven</th>\n",
              "      <th>fuel</th>\n",
              "      <th>seller_type</th>\n",
              "      <th>transmission</th>\n",
              "      <th>owner</th>\n",
              "      <th>mileage</th>\n",
              "      <th>engine</th>\n",
              "      <th>max_power</th>\n",
              "      <th>torque</th>\n",
              "      <th>seats</th>\n",
              "    </tr>\n",
              "  </thead>\n",
              "  <tbody>\n",
              "    <tr>\n",
              "      <th>254</th>\n",
              "      <td>Hyundai Grand i10 Sportz</td>\n",
              "      <td>2017</td>\n",
              "      <td>35000</td>\n",
              "      <td>Petrol</td>\n",
              "      <td>Individual</td>\n",
              "      <td>Manual</td>\n",
              "      <td>First Owner</td>\n",
              "      <td>18.9 kmpl</td>\n",
              "      <td>1197 CC</td>\n",
              "      <td>82 bhp</td>\n",
              "      <td>114Nm@ 4000rpm</td>\n",
              "      <td>5.0</td>\n",
              "    </tr>\n",
              "    <tr>\n",
              "      <th>258</th>\n",
              "      <td>Maruti Swift VXI</td>\n",
              "      <td>2012</td>\n",
              "      <td>50000</td>\n",
              "      <td>Petrol</td>\n",
              "      <td>Individual</td>\n",
              "      <td>Manual</td>\n",
              "      <td>Second Owner</td>\n",
              "      <td>18.6 kmpl</td>\n",
              "      <td>1197 CC</td>\n",
              "      <td>85.8 bhp</td>\n",
              "      <td>114Nm@ 4000rpm</td>\n",
              "      <td>5.0</td>\n",
              "    </tr>\n",
              "    <tr>\n",
              "      <th>268</th>\n",
              "      <td>Maruti Swift Dzire VXI</td>\n",
              "      <td>2014</td>\n",
              "      <td>70000</td>\n",
              "      <td>Petrol</td>\n",
              "      <td>Individual</td>\n",
              "      <td>Manual</td>\n",
              "      <td>Second Owner</td>\n",
              "      <td>19.1 kmpl</td>\n",
              "      <td>1197 CC</td>\n",
              "      <td>85.8 bhp</td>\n",
              "      <td>114Nm@ 4000rpm</td>\n",
              "      <td>5.0</td>\n",
              "    </tr>\n",
              "    <tr>\n",
              "      <th>324</th>\n",
              "      <td>Jaguar XE 2016-2019 2.0L Diesel Prestige</td>\n",
              "      <td>2017</td>\n",
              "      <td>9000</td>\n",
              "      <td>Diesel</td>\n",
              "      <td>Dealer</td>\n",
              "      <td>Automatic</td>\n",
              "      <td>First Owner</td>\n",
              "      <td>13.6 kmpl</td>\n",
              "      <td>1999 CC</td>\n",
              "      <td>177 bhp</td>\n",
              "      <td>430Nm@ 1750-2500rpm</td>\n",
              "      <td>5.0</td>\n",
              "    </tr>\n",
              "    <tr>\n",
              "      <th>325</th>\n",
              "      <td>Lexus ES 300h</td>\n",
              "      <td>2019</td>\n",
              "      <td>20000</td>\n",
              "      <td>Petrol</td>\n",
              "      <td>Dealer</td>\n",
              "      <td>Automatic</td>\n",
              "      <td>First Owner</td>\n",
              "      <td>22.37 kmpl</td>\n",
              "      <td>2487 CC</td>\n",
              "      <td>214.56 bhp</td>\n",
              "      <td>202Nm@ 3600-5200rpm</td>\n",
              "      <td>5.0</td>\n",
              "    </tr>\n",
              "    <tr>\n",
              "      <th>...</th>\n",
              "      <td>...</td>\n",
              "      <td>...</td>\n",
              "      <td>...</td>\n",
              "      <td>...</td>\n",
              "      <td>...</td>\n",
              "      <td>...</td>\n",
              "      <td>...</td>\n",
              "      <td>...</td>\n",
              "      <td>...</td>\n",
              "      <td>...</td>\n",
              "      <td>...</td>\n",
              "      <td>...</td>\n",
              "    </tr>\n",
              "    <tr>\n",
              "      <th>6947</th>\n",
              "      <td>Chevrolet Spark 1.0 LS</td>\n",
              "      <td>2010</td>\n",
              "      <td>60000</td>\n",
              "      <td>Petrol</td>\n",
              "      <td>Individual</td>\n",
              "      <td>Manual</td>\n",
              "      <td>Second Owner</td>\n",
              "      <td>18.0 kmpl</td>\n",
              "      <td>995 CC</td>\n",
              "      <td>62 bhp</td>\n",
              "      <td>90.3Nm@ 4200rpm</td>\n",
              "      <td>5.0</td>\n",
              "    </tr>\n",
              "    <tr>\n",
              "      <th>6984</th>\n",
              "      <td>Ford Freestyle Titanium Plus Diesel BSIV</td>\n",
              "      <td>2018</td>\n",
              "      <td>24000</td>\n",
              "      <td>Diesel</td>\n",
              "      <td>Individual</td>\n",
              "      <td>Manual</td>\n",
              "      <td>First Owner</td>\n",
              "      <td>24.4 kmpl</td>\n",
              "      <td>1498 CC</td>\n",
              "      <td>98.63 bhp</td>\n",
              "      <td>215Nm@ 1750-3000rpm</td>\n",
              "      <td>5.0</td>\n",
              "    </tr>\n",
              "    <tr>\n",
              "      <th>6989</th>\n",
              "      <td>Maruti Swift Dzire VDI</td>\n",
              "      <td>2015</td>\n",
              "      <td>50000</td>\n",
              "      <td>Diesel</td>\n",
              "      <td>Individual</td>\n",
              "      <td>Manual</td>\n",
              "      <td>First Owner</td>\n",
              "      <td>26.59 kmpl</td>\n",
              "      <td>1248 CC</td>\n",
              "      <td>74 bhp</td>\n",
              "      <td>190Nm@ 2000rpm</td>\n",
              "      <td>5.0</td>\n",
              "    </tr>\n",
              "    <tr>\n",
              "      <th>6997</th>\n",
              "      <td>Tata Indigo CR4</td>\n",
              "      <td>2013</td>\n",
              "      <td>25000</td>\n",
              "      <td>Diesel</td>\n",
              "      <td>Individual</td>\n",
              "      <td>Manual</td>\n",
              "      <td>First Owner</td>\n",
              "      <td>23.57 kmpl</td>\n",
              "      <td>1396 CC</td>\n",
              "      <td>70 bhp</td>\n",
              "      <td>140Nm@ 1800-3000rpm</td>\n",
              "      <td>5.0</td>\n",
              "    </tr>\n",
              "    <tr>\n",
              "      <th>6998</th>\n",
              "      <td>Tata Indigo CR4</td>\n",
              "      <td>2013</td>\n",
              "      <td>25000</td>\n",
              "      <td>Diesel</td>\n",
              "      <td>Individual</td>\n",
              "      <td>Manual</td>\n",
              "      <td>First Owner</td>\n",
              "      <td>23.57 kmpl</td>\n",
              "      <td>1396 CC</td>\n",
              "      <td>70 bhp</td>\n",
              "      <td>140Nm@ 1800-3000rpm</td>\n",
              "      <td>5.0</td>\n",
              "    </tr>\n",
              "  </tbody>\n",
              "</table>\n",
              "<p>1159 rows × 12 columns</p>\n",
              "</div>\n",
              "      <button class=\"colab-df-convert\" onclick=\"convertToInteractive('df-25b40b27-525a-492a-a48f-325dcd95617e')\"\n",
              "              title=\"Convert this dataframe to an interactive table.\"\n",
              "              style=\"display:none;\">\n",
              "        \n",
              "  <svg xmlns=\"http://www.w3.org/2000/svg\" height=\"24px\"viewBox=\"0 0 24 24\"\n",
              "       width=\"24px\">\n",
              "    <path d=\"M0 0h24v24H0V0z\" fill=\"none\"/>\n",
              "    <path d=\"M18.56 5.44l.94 2.06.94-2.06 2.06-.94-2.06-.94-.94-2.06-.94 2.06-2.06.94zm-11 1L8.5 8.5l.94-2.06 2.06-.94-2.06-.94L8.5 2.5l-.94 2.06-2.06.94zm10 10l.94 2.06.94-2.06 2.06-.94-2.06-.94-.94-2.06-.94 2.06-2.06.94z\"/><path d=\"M17.41 7.96l-1.37-1.37c-.4-.4-.92-.59-1.43-.59-.52 0-1.04.2-1.43.59L10.3 9.45l-7.72 7.72c-.78.78-.78 2.05 0 2.83L4 21.41c.39.39.9.59 1.41.59.51 0 1.02-.2 1.41-.59l7.78-7.78 2.81-2.81c.8-.78.8-2.07 0-2.86zM5.41 20L4 18.59l7.72-7.72 1.47 1.35L5.41 20z\"/>\n",
              "  </svg>\n",
              "      </button>\n",
              "      \n",
              "  <style>\n",
              "    .colab-df-container {\n",
              "      display:flex;\n",
              "      flex-wrap:wrap;\n",
              "      gap: 12px;\n",
              "    }\n",
              "\n",
              "    .colab-df-convert {\n",
              "      background-color: #E8F0FE;\n",
              "      border: none;\n",
              "      border-radius: 50%;\n",
              "      cursor: pointer;\n",
              "      display: none;\n",
              "      fill: #1967D2;\n",
              "      height: 32px;\n",
              "      padding: 0 0 0 0;\n",
              "      width: 32px;\n",
              "    }\n",
              "\n",
              "    .colab-df-convert:hover {\n",
              "      background-color: #E2EBFA;\n",
              "      box-shadow: 0px 1px 2px rgba(60, 64, 67, 0.3), 0px 1px 3px 1px rgba(60, 64, 67, 0.15);\n",
              "      fill: #174EA6;\n",
              "    }\n",
              "\n",
              "    [theme=dark] .colab-df-convert {\n",
              "      background-color: #3B4455;\n",
              "      fill: #D2E3FC;\n",
              "    }\n",
              "\n",
              "    [theme=dark] .colab-df-convert:hover {\n",
              "      background-color: #434B5C;\n",
              "      box-shadow: 0px 1px 3px 1px rgba(0, 0, 0, 0.15);\n",
              "      filter: drop-shadow(0px 1px 2px rgba(0, 0, 0, 0.3));\n",
              "      fill: #FFFFFF;\n",
              "    }\n",
              "  </style>\n",
              "\n",
              "      <script>\n",
              "        const buttonEl =\n",
              "          document.querySelector('#df-25b40b27-525a-492a-a48f-325dcd95617e button.colab-df-convert');\n",
              "        buttonEl.style.display =\n",
              "          google.colab.kernel.accessAllowed ? 'block' : 'none';\n",
              "\n",
              "        async function convertToInteractive(key) {\n",
              "          const element = document.querySelector('#df-25b40b27-525a-492a-a48f-325dcd95617e');\n",
              "          const dataTable =\n",
              "            await google.colab.kernel.invokeFunction('convertToInteractive',\n",
              "                                                     [key], {});\n",
              "          if (!dataTable) return;\n",
              "\n",
              "          const docLinkHtml = 'Like what you see? Visit the ' +\n",
              "            '<a target=\"_blank\" href=https://colab.research.google.com/notebooks/data_table.ipynb>data table notebook</a>'\n",
              "            + ' to learn more about interactive tables.';\n",
              "          element.innerHTML = '';\n",
              "          dataTable['output_type'] = 'display_data';\n",
              "          await google.colab.output.renderOutput(dataTable, element);\n",
              "          const docLink = document.createElement('div');\n",
              "          docLink.innerHTML = docLinkHtml;\n",
              "          element.appendChild(docLink);\n",
              "        }\n",
              "      </script>\n",
              "    </div>\n",
              "  </div>\n",
              "  "
            ]
          },
          "metadata": {},
          "execution_count": 16
        }
      ]
    },
    {
      "cell_type": "markdown",
      "source": [
        "(0.15 балла) <font color='#9933CC'>Удалите повторяющиеся строки</font>. Если при одинаковом признаковом описании цены на автомобили отличаются, то оставьте первую строку по этому автомобилю"
      ],
      "metadata": {
        "id": "156jDf_Yj64l"
      }
    },
    {
      "cell_type": "code",
      "source": [
        "# из исходной таблицы уберем строки дубликатов\n",
        "df_train = df_train[~df_train.index.isin(dup_rows.index)]\n",
        "\n",
        "df_train"
      ],
      "metadata": {
        "id": "NQi6DpNmuGaX",
        "outputId": "44ede1bb-ba0d-474d-f20c-09147225f426",
        "colab": {
          "base_uri": "https://localhost:8080/",
          "height": 641
        }
      },
      "execution_count": 17,
      "outputs": [
        {
          "output_type": "execute_result",
          "data": {
            "text/plain": [
              "                                   name  year  selling_price  km_driven  \\\n",
              "0                Maruti Swift Dzire VDI  2014         450000     145500   \n",
              "1          Skoda Rapid 1.5 TDI Ambition  2014         370000     120000   \n",
              "2             Hyundai i20 Sportz Diesel  2010         225000     127000   \n",
              "3                Maruti Swift VXI BSIII  2007         130000     120000   \n",
              "4         Hyundai Xcent 1.2 VTVT E Plus  2017         440000      45000   \n",
              "...                                 ...   ...            ...        ...   \n",
              "6992            Hyundai Santro Xing GLS  2008         120000     191000   \n",
              "6993  Maruti Wagon R VXI BS IV with ABS  2013         260000      50000   \n",
              "6994                  Hyundai i20 Magna  2013         320000     110000   \n",
              "6995              Hyundai Verna CRDi SX  2007         135000     119000   \n",
              "6996             Maruti Swift Dzire ZDi  2009         382000     120000   \n",
              "\n",
              "        fuel seller_type transmission                 owner     mileage  \\\n",
              "0     Diesel  Individual       Manual           First Owner   23.4 kmpl   \n",
              "1     Diesel  Individual       Manual          Second Owner  21.14 kmpl   \n",
              "2     Diesel  Individual       Manual           First Owner   23.0 kmpl   \n",
              "3     Petrol  Individual       Manual           First Owner   16.1 kmpl   \n",
              "4     Petrol  Individual       Manual           First Owner  20.14 kmpl   \n",
              "...      ...         ...          ...                   ...         ...   \n",
              "6992  Petrol  Individual       Manual           First Owner  17.92 kmpl   \n",
              "6993  Petrol  Individual       Manual          Second Owner   18.9 kmpl   \n",
              "6994  Petrol  Individual       Manual           First Owner   18.5 kmpl   \n",
              "6995  Diesel  Individual       Manual  Fourth & Above Owner   16.8 kmpl   \n",
              "6996  Diesel  Individual       Manual           First Owner   19.3 kmpl   \n",
              "\n",
              "       engine   max_power                     torque  seats  \n",
              "0     1248 CC      74 bhp             190Nm@ 2000rpm    5.0  \n",
              "1     1498 CC  103.52 bhp        250Nm@ 1500-2500rpm    5.0  \n",
              "2     1396 CC      90 bhp   22.4 kgm at 1750-2750rpm    5.0  \n",
              "3     1298 CC    88.2 bhp      11.5@ 4,500(kgm@ rpm)    5.0  \n",
              "4     1197 CC   81.86 bhp          113.75nm@ 4000rpm    5.0  \n",
              "...       ...         ...                        ...    ...  \n",
              "6992  1086 CC    62.1 bhp            96.1Nm@ 3000rpm    5.0  \n",
              "6993   998 CC    67.1 bhp              90Nm@ 3500rpm    5.0  \n",
              "6994  1197 CC   82.85 bhp           113.7Nm@ 4000rpm    5.0  \n",
              "6995  1493 CC     110 bhp  24@ 1,900-2,750(kgm@ rpm)    5.0  \n",
              "6996  1248 CC    73.9 bhp             190Nm@ 2000rpm    5.0  \n",
              "\n",
              "[5840 rows x 13 columns]"
            ],
            "text/html": [
              "\n",
              "  <div id=\"df-f436eb26-0d98-480b-b936-a4686d0781ce\">\n",
              "    <div class=\"colab-df-container\">\n",
              "      <div>\n",
              "<style scoped>\n",
              "    .dataframe tbody tr th:only-of-type {\n",
              "        vertical-align: middle;\n",
              "    }\n",
              "\n",
              "    .dataframe tbody tr th {\n",
              "        vertical-align: top;\n",
              "    }\n",
              "\n",
              "    .dataframe thead th {\n",
              "        text-align: right;\n",
              "    }\n",
              "</style>\n",
              "<table border=\"1\" class=\"dataframe\">\n",
              "  <thead>\n",
              "    <tr style=\"text-align: right;\">\n",
              "      <th></th>\n",
              "      <th>name</th>\n",
              "      <th>year</th>\n",
              "      <th>selling_price</th>\n",
              "      <th>km_driven</th>\n",
              "      <th>fuel</th>\n",
              "      <th>seller_type</th>\n",
              "      <th>transmission</th>\n",
              "      <th>owner</th>\n",
              "      <th>mileage</th>\n",
              "      <th>engine</th>\n",
              "      <th>max_power</th>\n",
              "      <th>torque</th>\n",
              "      <th>seats</th>\n",
              "    </tr>\n",
              "  </thead>\n",
              "  <tbody>\n",
              "    <tr>\n",
              "      <th>0</th>\n",
              "      <td>Maruti Swift Dzire VDI</td>\n",
              "      <td>2014</td>\n",
              "      <td>450000</td>\n",
              "      <td>145500</td>\n",
              "      <td>Diesel</td>\n",
              "      <td>Individual</td>\n",
              "      <td>Manual</td>\n",
              "      <td>First Owner</td>\n",
              "      <td>23.4 kmpl</td>\n",
              "      <td>1248 CC</td>\n",
              "      <td>74 bhp</td>\n",
              "      <td>190Nm@ 2000rpm</td>\n",
              "      <td>5.0</td>\n",
              "    </tr>\n",
              "    <tr>\n",
              "      <th>1</th>\n",
              "      <td>Skoda Rapid 1.5 TDI Ambition</td>\n",
              "      <td>2014</td>\n",
              "      <td>370000</td>\n",
              "      <td>120000</td>\n",
              "      <td>Diesel</td>\n",
              "      <td>Individual</td>\n",
              "      <td>Manual</td>\n",
              "      <td>Second Owner</td>\n",
              "      <td>21.14 kmpl</td>\n",
              "      <td>1498 CC</td>\n",
              "      <td>103.52 bhp</td>\n",
              "      <td>250Nm@ 1500-2500rpm</td>\n",
              "      <td>5.0</td>\n",
              "    </tr>\n",
              "    <tr>\n",
              "      <th>2</th>\n",
              "      <td>Hyundai i20 Sportz Diesel</td>\n",
              "      <td>2010</td>\n",
              "      <td>225000</td>\n",
              "      <td>127000</td>\n",
              "      <td>Diesel</td>\n",
              "      <td>Individual</td>\n",
              "      <td>Manual</td>\n",
              "      <td>First Owner</td>\n",
              "      <td>23.0 kmpl</td>\n",
              "      <td>1396 CC</td>\n",
              "      <td>90 bhp</td>\n",
              "      <td>22.4 kgm at 1750-2750rpm</td>\n",
              "      <td>5.0</td>\n",
              "    </tr>\n",
              "    <tr>\n",
              "      <th>3</th>\n",
              "      <td>Maruti Swift VXI BSIII</td>\n",
              "      <td>2007</td>\n",
              "      <td>130000</td>\n",
              "      <td>120000</td>\n",
              "      <td>Petrol</td>\n",
              "      <td>Individual</td>\n",
              "      <td>Manual</td>\n",
              "      <td>First Owner</td>\n",
              "      <td>16.1 kmpl</td>\n",
              "      <td>1298 CC</td>\n",
              "      <td>88.2 bhp</td>\n",
              "      <td>11.5@ 4,500(kgm@ rpm)</td>\n",
              "      <td>5.0</td>\n",
              "    </tr>\n",
              "    <tr>\n",
              "      <th>4</th>\n",
              "      <td>Hyundai Xcent 1.2 VTVT E Plus</td>\n",
              "      <td>2017</td>\n",
              "      <td>440000</td>\n",
              "      <td>45000</td>\n",
              "      <td>Petrol</td>\n",
              "      <td>Individual</td>\n",
              "      <td>Manual</td>\n",
              "      <td>First Owner</td>\n",
              "      <td>20.14 kmpl</td>\n",
              "      <td>1197 CC</td>\n",
              "      <td>81.86 bhp</td>\n",
              "      <td>113.75nm@ 4000rpm</td>\n",
              "      <td>5.0</td>\n",
              "    </tr>\n",
              "    <tr>\n",
              "      <th>...</th>\n",
              "      <td>...</td>\n",
              "      <td>...</td>\n",
              "      <td>...</td>\n",
              "      <td>...</td>\n",
              "      <td>...</td>\n",
              "      <td>...</td>\n",
              "      <td>...</td>\n",
              "      <td>...</td>\n",
              "      <td>...</td>\n",
              "      <td>...</td>\n",
              "      <td>...</td>\n",
              "      <td>...</td>\n",
              "      <td>...</td>\n",
              "    </tr>\n",
              "    <tr>\n",
              "      <th>6992</th>\n",
              "      <td>Hyundai Santro Xing GLS</td>\n",
              "      <td>2008</td>\n",
              "      <td>120000</td>\n",
              "      <td>191000</td>\n",
              "      <td>Petrol</td>\n",
              "      <td>Individual</td>\n",
              "      <td>Manual</td>\n",
              "      <td>First Owner</td>\n",
              "      <td>17.92 kmpl</td>\n",
              "      <td>1086 CC</td>\n",
              "      <td>62.1 bhp</td>\n",
              "      <td>96.1Nm@ 3000rpm</td>\n",
              "      <td>5.0</td>\n",
              "    </tr>\n",
              "    <tr>\n",
              "      <th>6993</th>\n",
              "      <td>Maruti Wagon R VXI BS IV with ABS</td>\n",
              "      <td>2013</td>\n",
              "      <td>260000</td>\n",
              "      <td>50000</td>\n",
              "      <td>Petrol</td>\n",
              "      <td>Individual</td>\n",
              "      <td>Manual</td>\n",
              "      <td>Second Owner</td>\n",
              "      <td>18.9 kmpl</td>\n",
              "      <td>998 CC</td>\n",
              "      <td>67.1 bhp</td>\n",
              "      <td>90Nm@ 3500rpm</td>\n",
              "      <td>5.0</td>\n",
              "    </tr>\n",
              "    <tr>\n",
              "      <th>6994</th>\n",
              "      <td>Hyundai i20 Magna</td>\n",
              "      <td>2013</td>\n",
              "      <td>320000</td>\n",
              "      <td>110000</td>\n",
              "      <td>Petrol</td>\n",
              "      <td>Individual</td>\n",
              "      <td>Manual</td>\n",
              "      <td>First Owner</td>\n",
              "      <td>18.5 kmpl</td>\n",
              "      <td>1197 CC</td>\n",
              "      <td>82.85 bhp</td>\n",
              "      <td>113.7Nm@ 4000rpm</td>\n",
              "      <td>5.0</td>\n",
              "    </tr>\n",
              "    <tr>\n",
              "      <th>6995</th>\n",
              "      <td>Hyundai Verna CRDi SX</td>\n",
              "      <td>2007</td>\n",
              "      <td>135000</td>\n",
              "      <td>119000</td>\n",
              "      <td>Diesel</td>\n",
              "      <td>Individual</td>\n",
              "      <td>Manual</td>\n",
              "      <td>Fourth &amp; Above Owner</td>\n",
              "      <td>16.8 kmpl</td>\n",
              "      <td>1493 CC</td>\n",
              "      <td>110 bhp</td>\n",
              "      <td>24@ 1,900-2,750(kgm@ rpm)</td>\n",
              "      <td>5.0</td>\n",
              "    </tr>\n",
              "    <tr>\n",
              "      <th>6996</th>\n",
              "      <td>Maruti Swift Dzire ZDi</td>\n",
              "      <td>2009</td>\n",
              "      <td>382000</td>\n",
              "      <td>120000</td>\n",
              "      <td>Diesel</td>\n",
              "      <td>Individual</td>\n",
              "      <td>Manual</td>\n",
              "      <td>First Owner</td>\n",
              "      <td>19.3 kmpl</td>\n",
              "      <td>1248 CC</td>\n",
              "      <td>73.9 bhp</td>\n",
              "      <td>190Nm@ 2000rpm</td>\n",
              "      <td>5.0</td>\n",
              "    </tr>\n",
              "  </tbody>\n",
              "</table>\n",
              "<p>5840 rows × 13 columns</p>\n",
              "</div>\n",
              "      <button class=\"colab-df-convert\" onclick=\"convertToInteractive('df-f436eb26-0d98-480b-b936-a4686d0781ce')\"\n",
              "              title=\"Convert this dataframe to an interactive table.\"\n",
              "              style=\"display:none;\">\n",
              "        \n",
              "  <svg xmlns=\"http://www.w3.org/2000/svg\" height=\"24px\"viewBox=\"0 0 24 24\"\n",
              "       width=\"24px\">\n",
              "    <path d=\"M0 0h24v24H0V0z\" fill=\"none\"/>\n",
              "    <path d=\"M18.56 5.44l.94 2.06.94-2.06 2.06-.94-2.06-.94-.94-2.06-.94 2.06-2.06.94zm-11 1L8.5 8.5l.94-2.06 2.06-.94-2.06-.94L8.5 2.5l-.94 2.06-2.06.94zm10 10l.94 2.06.94-2.06 2.06-.94-2.06-.94-.94-2.06-.94 2.06-2.06.94z\"/><path d=\"M17.41 7.96l-1.37-1.37c-.4-.4-.92-.59-1.43-.59-.52 0-1.04.2-1.43.59L10.3 9.45l-7.72 7.72c-.78.78-.78 2.05 0 2.83L4 21.41c.39.39.9.59 1.41.59.51 0 1.02-.2 1.41-.59l7.78-7.78 2.81-2.81c.8-.78.8-2.07 0-2.86zM5.41 20L4 18.59l7.72-7.72 1.47 1.35L5.41 20z\"/>\n",
              "  </svg>\n",
              "      </button>\n",
              "      \n",
              "  <style>\n",
              "    .colab-df-container {\n",
              "      display:flex;\n",
              "      flex-wrap:wrap;\n",
              "      gap: 12px;\n",
              "    }\n",
              "\n",
              "    .colab-df-convert {\n",
              "      background-color: #E8F0FE;\n",
              "      border: none;\n",
              "      border-radius: 50%;\n",
              "      cursor: pointer;\n",
              "      display: none;\n",
              "      fill: #1967D2;\n",
              "      height: 32px;\n",
              "      padding: 0 0 0 0;\n",
              "      width: 32px;\n",
              "    }\n",
              "\n",
              "    .colab-df-convert:hover {\n",
              "      background-color: #E2EBFA;\n",
              "      box-shadow: 0px 1px 2px rgba(60, 64, 67, 0.3), 0px 1px 3px 1px rgba(60, 64, 67, 0.15);\n",
              "      fill: #174EA6;\n",
              "    }\n",
              "\n",
              "    [theme=dark] .colab-df-convert {\n",
              "      background-color: #3B4455;\n",
              "      fill: #D2E3FC;\n",
              "    }\n",
              "\n",
              "    [theme=dark] .colab-df-convert:hover {\n",
              "      background-color: #434B5C;\n",
              "      box-shadow: 0px 1px 3px 1px rgba(0, 0, 0, 0.15);\n",
              "      filter: drop-shadow(0px 1px 2px rgba(0, 0, 0, 0.3));\n",
              "      fill: #FFFFFF;\n",
              "    }\n",
              "  </style>\n",
              "\n",
              "      <script>\n",
              "        const buttonEl =\n",
              "          document.querySelector('#df-f436eb26-0d98-480b-b936-a4686d0781ce button.colab-df-convert');\n",
              "        buttonEl.style.display =\n",
              "          google.colab.kernel.accessAllowed ? 'block' : 'none';\n",
              "\n",
              "        async function convertToInteractive(key) {\n",
              "          const element = document.querySelector('#df-f436eb26-0d98-480b-b936-a4686d0781ce');\n",
              "          const dataTable =\n",
              "            await google.colab.kernel.invokeFunction('convertToInteractive',\n",
              "                                                     [key], {});\n",
              "          if (!dataTable) return;\n",
              "\n",
              "          const docLinkHtml = 'Like what you see? Visit the ' +\n",
              "            '<a target=\"_blank\" href=https://colab.research.google.com/notebooks/data_table.ipynb>data table notebook</a>'\n",
              "            + ' to learn more about interactive tables.';\n",
              "          element.innerHTML = '';\n",
              "          dataTable['output_type'] = 'display_data';\n",
              "          await google.colab.output.renderOutput(dataTable, element);\n",
              "          const docLink = document.createElement('div');\n",
              "          docLink.innerHTML = docLinkHtml;\n",
              "          element.appendChild(docLink);\n",
              "        }\n",
              "      </script>\n",
              "    </div>\n",
              "  </div>\n",
              "  "
            ]
          },
          "metadata": {},
          "execution_count": 17
        }
      ]
    },
    {
      "cell_type": "code",
      "source": [
        "assert df_train.shape == (5840, 13)"
      ],
      "metadata": {
        "id": "vF0yfzMOkEn8"
      },
      "execution_count": 18,
      "outputs": []
    },
    {
      "cell_type": "markdown",
      "source": [
        "(0.1 балла) Чтоб все было по красоте, <font color='#9933CC'>обновите индексы строк таким образом, чтобы они шли от 0 без пропусков</font>"
      ],
      "metadata": {
        "id": "_SglCDNUkMTa"
      }
    },
    {
      "cell_type": "code",
      "source": [
        "# your code here\n",
        "df_train.reset_index(drop=True , inplace=True)\n",
        "\n",
        "df_train"
      ],
      "metadata": {
        "id": "4RxpM81kkgsX",
        "colab": {
          "base_uri": "https://localhost:8080/",
          "height": 641
        },
        "outputId": "a699441c-aaba-434b-d9a9-0296ec3d6c55"
      },
      "execution_count": 19,
      "outputs": [
        {
          "output_type": "execute_result",
          "data": {
            "text/plain": [
              "                                   name  year  selling_price  km_driven  \\\n",
              "0                Maruti Swift Dzire VDI  2014         450000     145500   \n",
              "1          Skoda Rapid 1.5 TDI Ambition  2014         370000     120000   \n",
              "2             Hyundai i20 Sportz Diesel  2010         225000     127000   \n",
              "3                Maruti Swift VXI BSIII  2007         130000     120000   \n",
              "4         Hyundai Xcent 1.2 VTVT E Plus  2017         440000      45000   \n",
              "...                                 ...   ...            ...        ...   \n",
              "5835            Hyundai Santro Xing GLS  2008         120000     191000   \n",
              "5836  Maruti Wagon R VXI BS IV with ABS  2013         260000      50000   \n",
              "5837                  Hyundai i20 Magna  2013         320000     110000   \n",
              "5838              Hyundai Verna CRDi SX  2007         135000     119000   \n",
              "5839             Maruti Swift Dzire ZDi  2009         382000     120000   \n",
              "\n",
              "        fuel seller_type transmission                 owner     mileage  \\\n",
              "0     Diesel  Individual       Manual           First Owner   23.4 kmpl   \n",
              "1     Diesel  Individual       Manual          Second Owner  21.14 kmpl   \n",
              "2     Diesel  Individual       Manual           First Owner   23.0 kmpl   \n",
              "3     Petrol  Individual       Manual           First Owner   16.1 kmpl   \n",
              "4     Petrol  Individual       Manual           First Owner  20.14 kmpl   \n",
              "...      ...         ...          ...                   ...         ...   \n",
              "5835  Petrol  Individual       Manual           First Owner  17.92 kmpl   \n",
              "5836  Petrol  Individual       Manual          Second Owner   18.9 kmpl   \n",
              "5837  Petrol  Individual       Manual           First Owner   18.5 kmpl   \n",
              "5838  Diesel  Individual       Manual  Fourth & Above Owner   16.8 kmpl   \n",
              "5839  Diesel  Individual       Manual           First Owner   19.3 kmpl   \n",
              "\n",
              "       engine   max_power                     torque  seats  \n",
              "0     1248 CC      74 bhp             190Nm@ 2000rpm    5.0  \n",
              "1     1498 CC  103.52 bhp        250Nm@ 1500-2500rpm    5.0  \n",
              "2     1396 CC      90 bhp   22.4 kgm at 1750-2750rpm    5.0  \n",
              "3     1298 CC    88.2 bhp      11.5@ 4,500(kgm@ rpm)    5.0  \n",
              "4     1197 CC   81.86 bhp          113.75nm@ 4000rpm    5.0  \n",
              "...       ...         ...                        ...    ...  \n",
              "5835  1086 CC    62.1 bhp            96.1Nm@ 3000rpm    5.0  \n",
              "5836   998 CC    67.1 bhp              90Nm@ 3500rpm    5.0  \n",
              "5837  1197 CC   82.85 bhp           113.7Nm@ 4000rpm    5.0  \n",
              "5838  1493 CC     110 bhp  24@ 1,900-2,750(kgm@ rpm)    5.0  \n",
              "5839  1248 CC    73.9 bhp             190Nm@ 2000rpm    5.0  \n",
              "\n",
              "[5840 rows x 13 columns]"
            ],
            "text/html": [
              "\n",
              "  <div id=\"df-105c1dd4-1309-4b24-9d17-70c9319c1248\">\n",
              "    <div class=\"colab-df-container\">\n",
              "      <div>\n",
              "<style scoped>\n",
              "    .dataframe tbody tr th:only-of-type {\n",
              "        vertical-align: middle;\n",
              "    }\n",
              "\n",
              "    .dataframe tbody tr th {\n",
              "        vertical-align: top;\n",
              "    }\n",
              "\n",
              "    .dataframe thead th {\n",
              "        text-align: right;\n",
              "    }\n",
              "</style>\n",
              "<table border=\"1\" class=\"dataframe\">\n",
              "  <thead>\n",
              "    <tr style=\"text-align: right;\">\n",
              "      <th></th>\n",
              "      <th>name</th>\n",
              "      <th>year</th>\n",
              "      <th>selling_price</th>\n",
              "      <th>km_driven</th>\n",
              "      <th>fuel</th>\n",
              "      <th>seller_type</th>\n",
              "      <th>transmission</th>\n",
              "      <th>owner</th>\n",
              "      <th>mileage</th>\n",
              "      <th>engine</th>\n",
              "      <th>max_power</th>\n",
              "      <th>torque</th>\n",
              "      <th>seats</th>\n",
              "    </tr>\n",
              "  </thead>\n",
              "  <tbody>\n",
              "    <tr>\n",
              "      <th>0</th>\n",
              "      <td>Maruti Swift Dzire VDI</td>\n",
              "      <td>2014</td>\n",
              "      <td>450000</td>\n",
              "      <td>145500</td>\n",
              "      <td>Diesel</td>\n",
              "      <td>Individual</td>\n",
              "      <td>Manual</td>\n",
              "      <td>First Owner</td>\n",
              "      <td>23.4 kmpl</td>\n",
              "      <td>1248 CC</td>\n",
              "      <td>74 bhp</td>\n",
              "      <td>190Nm@ 2000rpm</td>\n",
              "      <td>5.0</td>\n",
              "    </tr>\n",
              "    <tr>\n",
              "      <th>1</th>\n",
              "      <td>Skoda Rapid 1.5 TDI Ambition</td>\n",
              "      <td>2014</td>\n",
              "      <td>370000</td>\n",
              "      <td>120000</td>\n",
              "      <td>Diesel</td>\n",
              "      <td>Individual</td>\n",
              "      <td>Manual</td>\n",
              "      <td>Second Owner</td>\n",
              "      <td>21.14 kmpl</td>\n",
              "      <td>1498 CC</td>\n",
              "      <td>103.52 bhp</td>\n",
              "      <td>250Nm@ 1500-2500rpm</td>\n",
              "      <td>5.0</td>\n",
              "    </tr>\n",
              "    <tr>\n",
              "      <th>2</th>\n",
              "      <td>Hyundai i20 Sportz Diesel</td>\n",
              "      <td>2010</td>\n",
              "      <td>225000</td>\n",
              "      <td>127000</td>\n",
              "      <td>Diesel</td>\n",
              "      <td>Individual</td>\n",
              "      <td>Manual</td>\n",
              "      <td>First Owner</td>\n",
              "      <td>23.0 kmpl</td>\n",
              "      <td>1396 CC</td>\n",
              "      <td>90 bhp</td>\n",
              "      <td>22.4 kgm at 1750-2750rpm</td>\n",
              "      <td>5.0</td>\n",
              "    </tr>\n",
              "    <tr>\n",
              "      <th>3</th>\n",
              "      <td>Maruti Swift VXI BSIII</td>\n",
              "      <td>2007</td>\n",
              "      <td>130000</td>\n",
              "      <td>120000</td>\n",
              "      <td>Petrol</td>\n",
              "      <td>Individual</td>\n",
              "      <td>Manual</td>\n",
              "      <td>First Owner</td>\n",
              "      <td>16.1 kmpl</td>\n",
              "      <td>1298 CC</td>\n",
              "      <td>88.2 bhp</td>\n",
              "      <td>11.5@ 4,500(kgm@ rpm)</td>\n",
              "      <td>5.0</td>\n",
              "    </tr>\n",
              "    <tr>\n",
              "      <th>4</th>\n",
              "      <td>Hyundai Xcent 1.2 VTVT E Plus</td>\n",
              "      <td>2017</td>\n",
              "      <td>440000</td>\n",
              "      <td>45000</td>\n",
              "      <td>Petrol</td>\n",
              "      <td>Individual</td>\n",
              "      <td>Manual</td>\n",
              "      <td>First Owner</td>\n",
              "      <td>20.14 kmpl</td>\n",
              "      <td>1197 CC</td>\n",
              "      <td>81.86 bhp</td>\n",
              "      <td>113.75nm@ 4000rpm</td>\n",
              "      <td>5.0</td>\n",
              "    </tr>\n",
              "    <tr>\n",
              "      <th>...</th>\n",
              "      <td>...</td>\n",
              "      <td>...</td>\n",
              "      <td>...</td>\n",
              "      <td>...</td>\n",
              "      <td>...</td>\n",
              "      <td>...</td>\n",
              "      <td>...</td>\n",
              "      <td>...</td>\n",
              "      <td>...</td>\n",
              "      <td>...</td>\n",
              "      <td>...</td>\n",
              "      <td>...</td>\n",
              "      <td>...</td>\n",
              "    </tr>\n",
              "    <tr>\n",
              "      <th>5835</th>\n",
              "      <td>Hyundai Santro Xing GLS</td>\n",
              "      <td>2008</td>\n",
              "      <td>120000</td>\n",
              "      <td>191000</td>\n",
              "      <td>Petrol</td>\n",
              "      <td>Individual</td>\n",
              "      <td>Manual</td>\n",
              "      <td>First Owner</td>\n",
              "      <td>17.92 kmpl</td>\n",
              "      <td>1086 CC</td>\n",
              "      <td>62.1 bhp</td>\n",
              "      <td>96.1Nm@ 3000rpm</td>\n",
              "      <td>5.0</td>\n",
              "    </tr>\n",
              "    <tr>\n",
              "      <th>5836</th>\n",
              "      <td>Maruti Wagon R VXI BS IV with ABS</td>\n",
              "      <td>2013</td>\n",
              "      <td>260000</td>\n",
              "      <td>50000</td>\n",
              "      <td>Petrol</td>\n",
              "      <td>Individual</td>\n",
              "      <td>Manual</td>\n",
              "      <td>Second Owner</td>\n",
              "      <td>18.9 kmpl</td>\n",
              "      <td>998 CC</td>\n",
              "      <td>67.1 bhp</td>\n",
              "      <td>90Nm@ 3500rpm</td>\n",
              "      <td>5.0</td>\n",
              "    </tr>\n",
              "    <tr>\n",
              "      <th>5837</th>\n",
              "      <td>Hyundai i20 Magna</td>\n",
              "      <td>2013</td>\n",
              "      <td>320000</td>\n",
              "      <td>110000</td>\n",
              "      <td>Petrol</td>\n",
              "      <td>Individual</td>\n",
              "      <td>Manual</td>\n",
              "      <td>First Owner</td>\n",
              "      <td>18.5 kmpl</td>\n",
              "      <td>1197 CC</td>\n",
              "      <td>82.85 bhp</td>\n",
              "      <td>113.7Nm@ 4000rpm</td>\n",
              "      <td>5.0</td>\n",
              "    </tr>\n",
              "    <tr>\n",
              "      <th>5838</th>\n",
              "      <td>Hyundai Verna CRDi SX</td>\n",
              "      <td>2007</td>\n",
              "      <td>135000</td>\n",
              "      <td>119000</td>\n",
              "      <td>Diesel</td>\n",
              "      <td>Individual</td>\n",
              "      <td>Manual</td>\n",
              "      <td>Fourth &amp; Above Owner</td>\n",
              "      <td>16.8 kmpl</td>\n",
              "      <td>1493 CC</td>\n",
              "      <td>110 bhp</td>\n",
              "      <td>24@ 1,900-2,750(kgm@ rpm)</td>\n",
              "      <td>5.0</td>\n",
              "    </tr>\n",
              "    <tr>\n",
              "      <th>5839</th>\n",
              "      <td>Maruti Swift Dzire ZDi</td>\n",
              "      <td>2009</td>\n",
              "      <td>382000</td>\n",
              "      <td>120000</td>\n",
              "      <td>Diesel</td>\n",
              "      <td>Individual</td>\n",
              "      <td>Manual</td>\n",
              "      <td>First Owner</td>\n",
              "      <td>19.3 kmpl</td>\n",
              "      <td>1248 CC</td>\n",
              "      <td>73.9 bhp</td>\n",
              "      <td>190Nm@ 2000rpm</td>\n",
              "      <td>5.0</td>\n",
              "    </tr>\n",
              "  </tbody>\n",
              "</table>\n",
              "<p>5840 rows × 13 columns</p>\n",
              "</div>\n",
              "      <button class=\"colab-df-convert\" onclick=\"convertToInteractive('df-105c1dd4-1309-4b24-9d17-70c9319c1248')\"\n",
              "              title=\"Convert this dataframe to an interactive table.\"\n",
              "              style=\"display:none;\">\n",
              "        \n",
              "  <svg xmlns=\"http://www.w3.org/2000/svg\" height=\"24px\"viewBox=\"0 0 24 24\"\n",
              "       width=\"24px\">\n",
              "    <path d=\"M0 0h24v24H0V0z\" fill=\"none\"/>\n",
              "    <path d=\"M18.56 5.44l.94 2.06.94-2.06 2.06-.94-2.06-.94-.94-2.06-.94 2.06-2.06.94zm-11 1L8.5 8.5l.94-2.06 2.06-.94-2.06-.94L8.5 2.5l-.94 2.06-2.06.94zm10 10l.94 2.06.94-2.06 2.06-.94-2.06-.94-.94-2.06-.94 2.06-2.06.94z\"/><path d=\"M17.41 7.96l-1.37-1.37c-.4-.4-.92-.59-1.43-.59-.52 0-1.04.2-1.43.59L10.3 9.45l-7.72 7.72c-.78.78-.78 2.05 0 2.83L4 21.41c.39.39.9.59 1.41.59.51 0 1.02-.2 1.41-.59l7.78-7.78 2.81-2.81c.8-.78.8-2.07 0-2.86zM5.41 20L4 18.59l7.72-7.72 1.47 1.35L5.41 20z\"/>\n",
              "  </svg>\n",
              "      </button>\n",
              "      \n",
              "  <style>\n",
              "    .colab-df-container {\n",
              "      display:flex;\n",
              "      flex-wrap:wrap;\n",
              "      gap: 12px;\n",
              "    }\n",
              "\n",
              "    .colab-df-convert {\n",
              "      background-color: #E8F0FE;\n",
              "      border: none;\n",
              "      border-radius: 50%;\n",
              "      cursor: pointer;\n",
              "      display: none;\n",
              "      fill: #1967D2;\n",
              "      height: 32px;\n",
              "      padding: 0 0 0 0;\n",
              "      width: 32px;\n",
              "    }\n",
              "\n",
              "    .colab-df-convert:hover {\n",
              "      background-color: #E2EBFA;\n",
              "      box-shadow: 0px 1px 2px rgba(60, 64, 67, 0.3), 0px 1px 3px 1px rgba(60, 64, 67, 0.15);\n",
              "      fill: #174EA6;\n",
              "    }\n",
              "\n",
              "    [theme=dark] .colab-df-convert {\n",
              "      background-color: #3B4455;\n",
              "      fill: #D2E3FC;\n",
              "    }\n",
              "\n",
              "    [theme=dark] .colab-df-convert:hover {\n",
              "      background-color: #434B5C;\n",
              "      box-shadow: 0px 1px 3px 1px rgba(0, 0, 0, 0.15);\n",
              "      filter: drop-shadow(0px 1px 2px rgba(0, 0, 0, 0.3));\n",
              "      fill: #FFFFFF;\n",
              "    }\n",
              "  </style>\n",
              "\n",
              "      <script>\n",
              "        const buttonEl =\n",
              "          document.querySelector('#df-105c1dd4-1309-4b24-9d17-70c9319c1248 button.colab-df-convert');\n",
              "        buttonEl.style.display =\n",
              "          google.colab.kernel.accessAllowed ? 'block' : 'none';\n",
              "\n",
              "        async function convertToInteractive(key) {\n",
              "          const element = document.querySelector('#df-105c1dd4-1309-4b24-9d17-70c9319c1248');\n",
              "          const dataTable =\n",
              "            await google.colab.kernel.invokeFunction('convertToInteractive',\n",
              "                                                     [key], {});\n",
              "          if (!dataTable) return;\n",
              "\n",
              "          const docLinkHtml = 'Like what you see? Visit the ' +\n",
              "            '<a target=\"_blank\" href=https://colab.research.google.com/notebooks/data_table.ipynb>data table notebook</a>'\n",
              "            + ' to learn more about interactive tables.';\n",
              "          element.innerHTML = '';\n",
              "          dataTable['output_type'] = 'display_data';\n",
              "          await google.colab.output.renderOutput(dataTable, element);\n",
              "          const docLink = document.createElement('div');\n",
              "          docLink.innerHTML = docLinkHtml;\n",
              "          element.appendChild(docLink);\n",
              "        }\n",
              "      </script>\n",
              "    </div>\n",
              "  </div>\n",
              "  "
            ]
          },
          "metadata": {},
          "execution_count": 19
        }
      ]
    },
    {
      "cell_type": "markdown",
      "source": [
        "Вы могли заметить, что с признаками ``mileage, engine, max_power и torque`` всё не слава богу. Давайте починим.\n",
        "\n",
        "(0.25 балла) Задача такая: \n",
        "<font color='#9933CC'>\n",
        "* убрать единицы измерения для признаков ``mileage, engine, max_power``. \n",
        "* кастануть эти столбцы столбцы к ``float``.\n",
        "* удалить столбец ``torque``\n",
        "</font>\n",
        "\n",
        "> Все действия нужно производить над обоими датасетами\n",
        "\n",
        "---\n",
        "**Доп (0.25 балла):**\n",
        "* <font color='#9933CC'>Вместо удаления признак `torque` разделите на два: собственно `torque` и `max_torque_rpm`.</font> Учтите единицы измерения. Они разные ☹"
      ],
      "metadata": {
        "id": "CzYgx2wJzLxN"
      }
    },
    {
      "cell_type": "code",
      "source": [
        "df_train['mileage'] = df_train['mileage'].str.extract(r'([0-9]*[.,]?[0-9]+)').apply(pd.to_numeric)\n",
        "df_train['engine'] = df_train['engine'].str.extract(r'([0-9]*[.,]?[0-9]+)').apply(pd.to_numeric)\n",
        "df_train['max_power'] = df_train['max_power'].str.extract(r'([0-9]*[.,]?[0-9]+)').apply(pd.to_numeric)\n",
        "\n",
        "df_test['mileage'] = df_test['mileage'].str.extract(r'([0-9]*[.,]?[0-9]+)').apply(pd.to_numeric)\n",
        "df_test['engine'] = df_test['engine'].str.extract(r'([0-9]*[.,]?[0-9]+)').apply(pd.to_numeric)\n",
        "df_test['max_power'] = df_test['max_power'].str.extract(r'([0-9]*[.,]?[0-9]+)').apply(pd.to_numeric)"
      ],
      "metadata": {
        "id": "njamVk3A1dVM"
      },
      "execution_count": 23,
      "outputs": []
    },
    {
      "cell_type": "code",
      "source": [
        "df_train = df_train.drop('torque', axis=1)\n",
        "df_test = df_test.drop('torque', axis=1)"
      ],
      "metadata": {
        "id": "BabW7dtFg-UG"
      },
      "execution_count": 25,
      "outputs": []
    },
    {
      "cell_type": "code",
      "source": [
        "df_train"
      ],
      "metadata": {
        "colab": {
          "base_uri": "https://localhost:8080/",
          "height": 424
        },
        "id": "jJ4pbeJCh_7l",
        "outputId": "bda3b107-4833-4338-edc4-2d18cbe9dc0a"
      },
      "execution_count": 26,
      "outputs": [
        {
          "output_type": "execute_result",
          "data": {
            "text/plain": [
              "                                   name  year  selling_price  km_driven  \\\n",
              "0                Maruti Swift Dzire VDI  2014         450000     145500   \n",
              "1          Skoda Rapid 1.5 TDI Ambition  2014         370000     120000   \n",
              "2             Hyundai i20 Sportz Diesel  2010         225000     127000   \n",
              "3                Maruti Swift VXI BSIII  2007         130000     120000   \n",
              "4         Hyundai Xcent 1.2 VTVT E Plus  2017         440000      45000   \n",
              "...                                 ...   ...            ...        ...   \n",
              "5835            Hyundai Santro Xing GLS  2008         120000     191000   \n",
              "5836  Maruti Wagon R VXI BS IV with ABS  2013         260000      50000   \n",
              "5837                  Hyundai i20 Magna  2013         320000     110000   \n",
              "5838              Hyundai Verna CRDi SX  2007         135000     119000   \n",
              "5839             Maruti Swift Dzire ZDi  2009         382000     120000   \n",
              "\n",
              "        fuel seller_type transmission                 owner  mileage  engine  \\\n",
              "0     Diesel  Individual       Manual           First Owner    23.40  1248.0   \n",
              "1     Diesel  Individual       Manual          Second Owner    21.14  1498.0   \n",
              "2     Diesel  Individual       Manual           First Owner    23.00  1396.0   \n",
              "3     Petrol  Individual       Manual           First Owner    16.10  1298.0   \n",
              "4     Petrol  Individual       Manual           First Owner    20.14  1197.0   \n",
              "...      ...         ...          ...                   ...      ...     ...   \n",
              "5835  Petrol  Individual       Manual           First Owner    17.92  1086.0   \n",
              "5836  Petrol  Individual       Manual          Second Owner    18.90   998.0   \n",
              "5837  Petrol  Individual       Manual           First Owner    18.50  1197.0   \n",
              "5838  Diesel  Individual       Manual  Fourth & Above Owner    16.80  1493.0   \n",
              "5839  Diesel  Individual       Manual           First Owner    19.30  1248.0   \n",
              "\n",
              "      max_power  seats  \n",
              "0         74.00    5.0  \n",
              "1        103.52    5.0  \n",
              "2         90.00    5.0  \n",
              "3         88.20    5.0  \n",
              "4         81.86    5.0  \n",
              "...         ...    ...  \n",
              "5835      62.10    5.0  \n",
              "5836      67.10    5.0  \n",
              "5837      82.85    5.0  \n",
              "5838     110.00    5.0  \n",
              "5839      73.90    5.0  \n",
              "\n",
              "[5840 rows x 12 columns]"
            ],
            "text/html": [
              "\n",
              "  <div id=\"df-5c1a6ddb-6c40-446a-888d-e28f039ef887\">\n",
              "    <div class=\"colab-df-container\">\n",
              "      <div>\n",
              "<style scoped>\n",
              "    .dataframe tbody tr th:only-of-type {\n",
              "        vertical-align: middle;\n",
              "    }\n",
              "\n",
              "    .dataframe tbody tr th {\n",
              "        vertical-align: top;\n",
              "    }\n",
              "\n",
              "    .dataframe thead th {\n",
              "        text-align: right;\n",
              "    }\n",
              "</style>\n",
              "<table border=\"1\" class=\"dataframe\">\n",
              "  <thead>\n",
              "    <tr style=\"text-align: right;\">\n",
              "      <th></th>\n",
              "      <th>name</th>\n",
              "      <th>year</th>\n",
              "      <th>selling_price</th>\n",
              "      <th>km_driven</th>\n",
              "      <th>fuel</th>\n",
              "      <th>seller_type</th>\n",
              "      <th>transmission</th>\n",
              "      <th>owner</th>\n",
              "      <th>mileage</th>\n",
              "      <th>engine</th>\n",
              "      <th>max_power</th>\n",
              "      <th>seats</th>\n",
              "    </tr>\n",
              "  </thead>\n",
              "  <tbody>\n",
              "    <tr>\n",
              "      <th>0</th>\n",
              "      <td>Maruti Swift Dzire VDI</td>\n",
              "      <td>2014</td>\n",
              "      <td>450000</td>\n",
              "      <td>145500</td>\n",
              "      <td>Diesel</td>\n",
              "      <td>Individual</td>\n",
              "      <td>Manual</td>\n",
              "      <td>First Owner</td>\n",
              "      <td>23.40</td>\n",
              "      <td>1248.0</td>\n",
              "      <td>74.00</td>\n",
              "      <td>5.0</td>\n",
              "    </tr>\n",
              "    <tr>\n",
              "      <th>1</th>\n",
              "      <td>Skoda Rapid 1.5 TDI Ambition</td>\n",
              "      <td>2014</td>\n",
              "      <td>370000</td>\n",
              "      <td>120000</td>\n",
              "      <td>Diesel</td>\n",
              "      <td>Individual</td>\n",
              "      <td>Manual</td>\n",
              "      <td>Second Owner</td>\n",
              "      <td>21.14</td>\n",
              "      <td>1498.0</td>\n",
              "      <td>103.52</td>\n",
              "      <td>5.0</td>\n",
              "    </tr>\n",
              "    <tr>\n",
              "      <th>2</th>\n",
              "      <td>Hyundai i20 Sportz Diesel</td>\n",
              "      <td>2010</td>\n",
              "      <td>225000</td>\n",
              "      <td>127000</td>\n",
              "      <td>Diesel</td>\n",
              "      <td>Individual</td>\n",
              "      <td>Manual</td>\n",
              "      <td>First Owner</td>\n",
              "      <td>23.00</td>\n",
              "      <td>1396.0</td>\n",
              "      <td>90.00</td>\n",
              "      <td>5.0</td>\n",
              "    </tr>\n",
              "    <tr>\n",
              "      <th>3</th>\n",
              "      <td>Maruti Swift VXI BSIII</td>\n",
              "      <td>2007</td>\n",
              "      <td>130000</td>\n",
              "      <td>120000</td>\n",
              "      <td>Petrol</td>\n",
              "      <td>Individual</td>\n",
              "      <td>Manual</td>\n",
              "      <td>First Owner</td>\n",
              "      <td>16.10</td>\n",
              "      <td>1298.0</td>\n",
              "      <td>88.20</td>\n",
              "      <td>5.0</td>\n",
              "    </tr>\n",
              "    <tr>\n",
              "      <th>4</th>\n",
              "      <td>Hyundai Xcent 1.2 VTVT E Plus</td>\n",
              "      <td>2017</td>\n",
              "      <td>440000</td>\n",
              "      <td>45000</td>\n",
              "      <td>Petrol</td>\n",
              "      <td>Individual</td>\n",
              "      <td>Manual</td>\n",
              "      <td>First Owner</td>\n",
              "      <td>20.14</td>\n",
              "      <td>1197.0</td>\n",
              "      <td>81.86</td>\n",
              "      <td>5.0</td>\n",
              "    </tr>\n",
              "    <tr>\n",
              "      <th>...</th>\n",
              "      <td>...</td>\n",
              "      <td>...</td>\n",
              "      <td>...</td>\n",
              "      <td>...</td>\n",
              "      <td>...</td>\n",
              "      <td>...</td>\n",
              "      <td>...</td>\n",
              "      <td>...</td>\n",
              "      <td>...</td>\n",
              "      <td>...</td>\n",
              "      <td>...</td>\n",
              "      <td>...</td>\n",
              "    </tr>\n",
              "    <tr>\n",
              "      <th>5835</th>\n",
              "      <td>Hyundai Santro Xing GLS</td>\n",
              "      <td>2008</td>\n",
              "      <td>120000</td>\n",
              "      <td>191000</td>\n",
              "      <td>Petrol</td>\n",
              "      <td>Individual</td>\n",
              "      <td>Manual</td>\n",
              "      <td>First Owner</td>\n",
              "      <td>17.92</td>\n",
              "      <td>1086.0</td>\n",
              "      <td>62.10</td>\n",
              "      <td>5.0</td>\n",
              "    </tr>\n",
              "    <tr>\n",
              "      <th>5836</th>\n",
              "      <td>Maruti Wagon R VXI BS IV with ABS</td>\n",
              "      <td>2013</td>\n",
              "      <td>260000</td>\n",
              "      <td>50000</td>\n",
              "      <td>Petrol</td>\n",
              "      <td>Individual</td>\n",
              "      <td>Manual</td>\n",
              "      <td>Second Owner</td>\n",
              "      <td>18.90</td>\n",
              "      <td>998.0</td>\n",
              "      <td>67.10</td>\n",
              "      <td>5.0</td>\n",
              "    </tr>\n",
              "    <tr>\n",
              "      <th>5837</th>\n",
              "      <td>Hyundai i20 Magna</td>\n",
              "      <td>2013</td>\n",
              "      <td>320000</td>\n",
              "      <td>110000</td>\n",
              "      <td>Petrol</td>\n",
              "      <td>Individual</td>\n",
              "      <td>Manual</td>\n",
              "      <td>First Owner</td>\n",
              "      <td>18.50</td>\n",
              "      <td>1197.0</td>\n",
              "      <td>82.85</td>\n",
              "      <td>5.0</td>\n",
              "    </tr>\n",
              "    <tr>\n",
              "      <th>5838</th>\n",
              "      <td>Hyundai Verna CRDi SX</td>\n",
              "      <td>2007</td>\n",
              "      <td>135000</td>\n",
              "      <td>119000</td>\n",
              "      <td>Diesel</td>\n",
              "      <td>Individual</td>\n",
              "      <td>Manual</td>\n",
              "      <td>Fourth &amp; Above Owner</td>\n",
              "      <td>16.80</td>\n",
              "      <td>1493.0</td>\n",
              "      <td>110.00</td>\n",
              "      <td>5.0</td>\n",
              "    </tr>\n",
              "    <tr>\n",
              "      <th>5839</th>\n",
              "      <td>Maruti Swift Dzire ZDi</td>\n",
              "      <td>2009</td>\n",
              "      <td>382000</td>\n",
              "      <td>120000</td>\n",
              "      <td>Diesel</td>\n",
              "      <td>Individual</td>\n",
              "      <td>Manual</td>\n",
              "      <td>First Owner</td>\n",
              "      <td>19.30</td>\n",
              "      <td>1248.0</td>\n",
              "      <td>73.90</td>\n",
              "      <td>5.0</td>\n",
              "    </tr>\n",
              "  </tbody>\n",
              "</table>\n",
              "<p>5840 rows × 12 columns</p>\n",
              "</div>\n",
              "      <button class=\"colab-df-convert\" onclick=\"convertToInteractive('df-5c1a6ddb-6c40-446a-888d-e28f039ef887')\"\n",
              "              title=\"Convert this dataframe to an interactive table.\"\n",
              "              style=\"display:none;\">\n",
              "        \n",
              "  <svg xmlns=\"http://www.w3.org/2000/svg\" height=\"24px\"viewBox=\"0 0 24 24\"\n",
              "       width=\"24px\">\n",
              "    <path d=\"M0 0h24v24H0V0z\" fill=\"none\"/>\n",
              "    <path d=\"M18.56 5.44l.94 2.06.94-2.06 2.06-.94-2.06-.94-.94-2.06-.94 2.06-2.06.94zm-11 1L8.5 8.5l.94-2.06 2.06-.94-2.06-.94L8.5 2.5l-.94 2.06-2.06.94zm10 10l.94 2.06.94-2.06 2.06-.94-2.06-.94-.94-2.06-.94 2.06-2.06.94z\"/><path d=\"M17.41 7.96l-1.37-1.37c-.4-.4-.92-.59-1.43-.59-.52 0-1.04.2-1.43.59L10.3 9.45l-7.72 7.72c-.78.78-.78 2.05 0 2.83L4 21.41c.39.39.9.59 1.41.59.51 0 1.02-.2 1.41-.59l7.78-7.78 2.81-2.81c.8-.78.8-2.07 0-2.86zM5.41 20L4 18.59l7.72-7.72 1.47 1.35L5.41 20z\"/>\n",
              "  </svg>\n",
              "      </button>\n",
              "      \n",
              "  <style>\n",
              "    .colab-df-container {\n",
              "      display:flex;\n",
              "      flex-wrap:wrap;\n",
              "      gap: 12px;\n",
              "    }\n",
              "\n",
              "    .colab-df-convert {\n",
              "      background-color: #E8F0FE;\n",
              "      border: none;\n",
              "      border-radius: 50%;\n",
              "      cursor: pointer;\n",
              "      display: none;\n",
              "      fill: #1967D2;\n",
              "      height: 32px;\n",
              "      padding: 0 0 0 0;\n",
              "      width: 32px;\n",
              "    }\n",
              "\n",
              "    .colab-df-convert:hover {\n",
              "      background-color: #E2EBFA;\n",
              "      box-shadow: 0px 1px 2px rgba(60, 64, 67, 0.3), 0px 1px 3px 1px rgba(60, 64, 67, 0.15);\n",
              "      fill: #174EA6;\n",
              "    }\n",
              "\n",
              "    [theme=dark] .colab-df-convert {\n",
              "      background-color: #3B4455;\n",
              "      fill: #D2E3FC;\n",
              "    }\n",
              "\n",
              "    [theme=dark] .colab-df-convert:hover {\n",
              "      background-color: #434B5C;\n",
              "      box-shadow: 0px 1px 3px 1px rgba(0, 0, 0, 0.15);\n",
              "      filter: drop-shadow(0px 1px 2px rgba(0, 0, 0, 0.3));\n",
              "      fill: #FFFFFF;\n",
              "    }\n",
              "  </style>\n",
              "\n",
              "      <script>\n",
              "        const buttonEl =\n",
              "          document.querySelector('#df-5c1a6ddb-6c40-446a-888d-e28f039ef887 button.colab-df-convert');\n",
              "        buttonEl.style.display =\n",
              "          google.colab.kernel.accessAllowed ? 'block' : 'none';\n",
              "\n",
              "        async function convertToInteractive(key) {\n",
              "          const element = document.querySelector('#df-5c1a6ddb-6c40-446a-888d-e28f039ef887');\n",
              "          const dataTable =\n",
              "            await google.colab.kernel.invokeFunction('convertToInteractive',\n",
              "                                                     [key], {});\n",
              "          if (!dataTable) return;\n",
              "\n",
              "          const docLinkHtml = 'Like what you see? Visit the ' +\n",
              "            '<a target=\"_blank\" href=https://colab.research.google.com/notebooks/data_table.ipynb>data table notebook</a>'\n",
              "            + ' to learn more about interactive tables.';\n",
              "          element.innerHTML = '';\n",
              "          dataTable['output_type'] = 'display_data';\n",
              "          await google.colab.output.renderOutput(dataTable, element);\n",
              "          const docLink = document.createElement('div');\n",
              "          docLink.innerHTML = docLinkHtml;\n",
              "          element.appendChild(docLink);\n",
              "        }\n",
              "      </script>\n",
              "    </div>\n",
              "  </div>\n",
              "  "
            ]
          },
          "metadata": {},
          "execution_count": 26
        }
      ]
    },
    {
      "cell_type": "markdown",
      "source": [
        "(0.15 балла) <font color='#9933CC'>Заполните пропуски в столбцах медианами. Убедитесь, что после заполнения пропусков не осталось</font>\n",
        "\n",
        "> Обратите внимание, что, по уму, нужно посчитать медиану по трейну и этим средним заполнять пропуски в тесте. Так же делаем, если, например, стандартизируем признаки.\n",
        "\n"
      ],
      "metadata": {
        "id": "nyEtp7jsRNms"
      }
    },
    {
      "cell_type": "code",
      "source": [
        "train_median = df_train.median()\n",
        "\n",
        "\n",
        "df_train = df_train.fillna(train_median)\n",
        "df_test = df_test.fillna(train_median)"
      ],
      "metadata": {
        "id": "M9H15wvXRYQF",
        "colab": {
          "base_uri": "https://localhost:8080/"
        },
        "outputId": "ea745c70-a4c7-4897-df4d-768c75bda491"
      },
      "execution_count": 30,
      "outputs": [
        {
          "output_type": "stream",
          "name": "stderr",
          "text": [
            "/usr/local/lib/python3.7/dist-packages/ipykernel_launcher.py:1: FutureWarning: Dropping of nuisance columns in DataFrame reductions (with 'numeric_only=None') is deprecated; in a future version this will raise TypeError.  Select only valid columns before calling the reduction.\n",
            "  \"\"\"Entry point for launching an IPython kernel.\n"
          ]
        }
      ]
    },
    {
      "cell_type": "code",
      "source": [
        "df_train.isna().sum()"
      ],
      "metadata": {
        "colab": {
          "base_uri": "https://localhost:8080/"
        },
        "id": "IkP7_Nm6jzPe",
        "outputId": "28363b93-8c02-4119-fd9b-33ff743782ff"
      },
      "execution_count": 31,
      "outputs": [
        {
          "output_type": "execute_result",
          "data": {
            "text/plain": [
              "name             0\n",
              "year             0\n",
              "selling_price    0\n",
              "km_driven        0\n",
              "fuel             0\n",
              "seller_type      0\n",
              "transmission     0\n",
              "owner            0\n",
              "mileage          0\n",
              "engine           0\n",
              "max_power        0\n",
              "seats            0\n",
              "dtype: int64"
            ]
          },
          "metadata": {},
          "execution_count": 31
        }
      ]
    },
    {
      "cell_type": "code",
      "source": [
        "df_test.isna().sum()"
      ],
      "metadata": {
        "colab": {
          "base_uri": "https://localhost:8080/"
        },
        "id": "RlK5j7wmj6vm",
        "outputId": "f3f04c00-1616-4b8f-e38c-1aae1f58780d"
      },
      "execution_count": 32,
      "outputs": [
        {
          "output_type": "execute_result",
          "data": {
            "text/plain": [
              "name             0\n",
              "year             0\n",
              "selling_price    0\n",
              "km_driven        0\n",
              "fuel             0\n",
              "seller_type      0\n",
              "transmission     0\n",
              "owner            0\n",
              "mileage          0\n",
              "engine           0\n",
              "max_power        0\n",
              "seats            0\n",
              "dtype: int64"
            ]
          },
          "metadata": {},
          "execution_count": 32
        }
      ]
    },
    {
      "cell_type": "markdown",
      "source": [
        "\n",
        "(0.1 балла) Теперь, когда не осталось пропусков, можно <font color='#9933CC'>преобразовать столбцы к более подходящим типам (``engnine`` и ``seats`` к int)\n",
        "</font>\n",
        "\n",
        "Ниже ответьте, <font color='#FF6600'>почему (хоть мы этого и не делаем) ``seats``, возможно, лучше сделать переменной категориальной, а не целочисленной.</font>"
      ],
      "metadata": {
        "id": "RuKxfXCaXeHr"
      }
    },
    {
      "cell_type": "code",
      "source": [
        "print(\"<Место для ответа на вопрос про seats>\")"
      ],
      "metadata": {
        "colab": {
          "base_uri": "https://localhost:8080/"
        },
        "id": "gVi9BPC-YLMi",
        "outputId": "aa889364-c725-4fd2-8551-4b5d2086ad4b"
      },
      "execution_count": null,
      "outputs": [
        {
          "output_type": "stream",
          "name": "stdout",
          "text": [
            "<Место для ответа на вопрос про seats>\n"
          ]
        }
      ]
    },
    {
      "cell_type": "code",
      "source": [
        "df_train['engine'] = df_train['engine'].astype(int)\n",
        "df_train['seats'] = df_train['seats'].astype(int)\n",
        "\n",
        "df_test['engine'] = df_test['engine'].astype(int)\n",
        "df_test['seats'] = df_test['seats'].astype(int)"
      ],
      "metadata": {
        "id": "kYKWyjsLYQuz"
      },
      "execution_count": 34,
      "outputs": []
    },
    {
      "cell_type": "code",
      "source": [
        "df_train"
      ],
      "metadata": {
        "colab": {
          "base_uri": "https://localhost:8080/",
          "height": 424
        },
        "id": "c1ZmU8D4kq9x",
        "outputId": "1f1cad79-095d-4c07-ceb8-09c3be39af90"
      },
      "execution_count": 35,
      "outputs": [
        {
          "output_type": "execute_result",
          "data": {
            "text/plain": [
              "                                   name  year  selling_price  km_driven  \\\n",
              "0                Maruti Swift Dzire VDI  2014         450000     145500   \n",
              "1          Skoda Rapid 1.5 TDI Ambition  2014         370000     120000   \n",
              "2             Hyundai i20 Sportz Diesel  2010         225000     127000   \n",
              "3                Maruti Swift VXI BSIII  2007         130000     120000   \n",
              "4         Hyundai Xcent 1.2 VTVT E Plus  2017         440000      45000   \n",
              "...                                 ...   ...            ...        ...   \n",
              "5835            Hyundai Santro Xing GLS  2008         120000     191000   \n",
              "5836  Maruti Wagon R VXI BS IV with ABS  2013         260000      50000   \n",
              "5837                  Hyundai i20 Magna  2013         320000     110000   \n",
              "5838              Hyundai Verna CRDi SX  2007         135000     119000   \n",
              "5839             Maruti Swift Dzire ZDi  2009         382000     120000   \n",
              "\n",
              "        fuel seller_type transmission                 owner  mileage  engine  \\\n",
              "0     Diesel  Individual       Manual           First Owner    23.40    1248   \n",
              "1     Diesel  Individual       Manual          Second Owner    21.14    1498   \n",
              "2     Diesel  Individual       Manual           First Owner    23.00    1396   \n",
              "3     Petrol  Individual       Manual           First Owner    16.10    1298   \n",
              "4     Petrol  Individual       Manual           First Owner    20.14    1197   \n",
              "...      ...         ...          ...                   ...      ...     ...   \n",
              "5835  Petrol  Individual       Manual           First Owner    17.92    1086   \n",
              "5836  Petrol  Individual       Manual          Second Owner    18.90     998   \n",
              "5837  Petrol  Individual       Manual           First Owner    18.50    1197   \n",
              "5838  Diesel  Individual       Manual  Fourth & Above Owner    16.80    1493   \n",
              "5839  Diesel  Individual       Manual           First Owner    19.30    1248   \n",
              "\n",
              "      max_power  seats  \n",
              "0         74.00      5  \n",
              "1        103.52      5  \n",
              "2         90.00      5  \n",
              "3         88.20      5  \n",
              "4         81.86      5  \n",
              "...         ...    ...  \n",
              "5835      62.10      5  \n",
              "5836      67.10      5  \n",
              "5837      82.85      5  \n",
              "5838     110.00      5  \n",
              "5839      73.90      5  \n",
              "\n",
              "[5840 rows x 12 columns]"
            ],
            "text/html": [
              "\n",
              "  <div id=\"df-da73d1f6-d5a4-4bcd-bb40-4b1364d467c3\">\n",
              "    <div class=\"colab-df-container\">\n",
              "      <div>\n",
              "<style scoped>\n",
              "    .dataframe tbody tr th:only-of-type {\n",
              "        vertical-align: middle;\n",
              "    }\n",
              "\n",
              "    .dataframe tbody tr th {\n",
              "        vertical-align: top;\n",
              "    }\n",
              "\n",
              "    .dataframe thead th {\n",
              "        text-align: right;\n",
              "    }\n",
              "</style>\n",
              "<table border=\"1\" class=\"dataframe\">\n",
              "  <thead>\n",
              "    <tr style=\"text-align: right;\">\n",
              "      <th></th>\n",
              "      <th>name</th>\n",
              "      <th>year</th>\n",
              "      <th>selling_price</th>\n",
              "      <th>km_driven</th>\n",
              "      <th>fuel</th>\n",
              "      <th>seller_type</th>\n",
              "      <th>transmission</th>\n",
              "      <th>owner</th>\n",
              "      <th>mileage</th>\n",
              "      <th>engine</th>\n",
              "      <th>max_power</th>\n",
              "      <th>seats</th>\n",
              "    </tr>\n",
              "  </thead>\n",
              "  <tbody>\n",
              "    <tr>\n",
              "      <th>0</th>\n",
              "      <td>Maruti Swift Dzire VDI</td>\n",
              "      <td>2014</td>\n",
              "      <td>450000</td>\n",
              "      <td>145500</td>\n",
              "      <td>Diesel</td>\n",
              "      <td>Individual</td>\n",
              "      <td>Manual</td>\n",
              "      <td>First Owner</td>\n",
              "      <td>23.40</td>\n",
              "      <td>1248</td>\n",
              "      <td>74.00</td>\n",
              "      <td>5</td>\n",
              "    </tr>\n",
              "    <tr>\n",
              "      <th>1</th>\n",
              "      <td>Skoda Rapid 1.5 TDI Ambition</td>\n",
              "      <td>2014</td>\n",
              "      <td>370000</td>\n",
              "      <td>120000</td>\n",
              "      <td>Diesel</td>\n",
              "      <td>Individual</td>\n",
              "      <td>Manual</td>\n",
              "      <td>Second Owner</td>\n",
              "      <td>21.14</td>\n",
              "      <td>1498</td>\n",
              "      <td>103.52</td>\n",
              "      <td>5</td>\n",
              "    </tr>\n",
              "    <tr>\n",
              "      <th>2</th>\n",
              "      <td>Hyundai i20 Sportz Diesel</td>\n",
              "      <td>2010</td>\n",
              "      <td>225000</td>\n",
              "      <td>127000</td>\n",
              "      <td>Diesel</td>\n",
              "      <td>Individual</td>\n",
              "      <td>Manual</td>\n",
              "      <td>First Owner</td>\n",
              "      <td>23.00</td>\n",
              "      <td>1396</td>\n",
              "      <td>90.00</td>\n",
              "      <td>5</td>\n",
              "    </tr>\n",
              "    <tr>\n",
              "      <th>3</th>\n",
              "      <td>Maruti Swift VXI BSIII</td>\n",
              "      <td>2007</td>\n",
              "      <td>130000</td>\n",
              "      <td>120000</td>\n",
              "      <td>Petrol</td>\n",
              "      <td>Individual</td>\n",
              "      <td>Manual</td>\n",
              "      <td>First Owner</td>\n",
              "      <td>16.10</td>\n",
              "      <td>1298</td>\n",
              "      <td>88.20</td>\n",
              "      <td>5</td>\n",
              "    </tr>\n",
              "    <tr>\n",
              "      <th>4</th>\n",
              "      <td>Hyundai Xcent 1.2 VTVT E Plus</td>\n",
              "      <td>2017</td>\n",
              "      <td>440000</td>\n",
              "      <td>45000</td>\n",
              "      <td>Petrol</td>\n",
              "      <td>Individual</td>\n",
              "      <td>Manual</td>\n",
              "      <td>First Owner</td>\n",
              "      <td>20.14</td>\n",
              "      <td>1197</td>\n",
              "      <td>81.86</td>\n",
              "      <td>5</td>\n",
              "    </tr>\n",
              "    <tr>\n",
              "      <th>...</th>\n",
              "      <td>...</td>\n",
              "      <td>...</td>\n",
              "      <td>...</td>\n",
              "      <td>...</td>\n",
              "      <td>...</td>\n",
              "      <td>...</td>\n",
              "      <td>...</td>\n",
              "      <td>...</td>\n",
              "      <td>...</td>\n",
              "      <td>...</td>\n",
              "      <td>...</td>\n",
              "      <td>...</td>\n",
              "    </tr>\n",
              "    <tr>\n",
              "      <th>5835</th>\n",
              "      <td>Hyundai Santro Xing GLS</td>\n",
              "      <td>2008</td>\n",
              "      <td>120000</td>\n",
              "      <td>191000</td>\n",
              "      <td>Petrol</td>\n",
              "      <td>Individual</td>\n",
              "      <td>Manual</td>\n",
              "      <td>First Owner</td>\n",
              "      <td>17.92</td>\n",
              "      <td>1086</td>\n",
              "      <td>62.10</td>\n",
              "      <td>5</td>\n",
              "    </tr>\n",
              "    <tr>\n",
              "      <th>5836</th>\n",
              "      <td>Maruti Wagon R VXI BS IV with ABS</td>\n",
              "      <td>2013</td>\n",
              "      <td>260000</td>\n",
              "      <td>50000</td>\n",
              "      <td>Petrol</td>\n",
              "      <td>Individual</td>\n",
              "      <td>Manual</td>\n",
              "      <td>Second Owner</td>\n",
              "      <td>18.90</td>\n",
              "      <td>998</td>\n",
              "      <td>67.10</td>\n",
              "      <td>5</td>\n",
              "    </tr>\n",
              "    <tr>\n",
              "      <th>5837</th>\n",
              "      <td>Hyundai i20 Magna</td>\n",
              "      <td>2013</td>\n",
              "      <td>320000</td>\n",
              "      <td>110000</td>\n",
              "      <td>Petrol</td>\n",
              "      <td>Individual</td>\n",
              "      <td>Manual</td>\n",
              "      <td>First Owner</td>\n",
              "      <td>18.50</td>\n",
              "      <td>1197</td>\n",
              "      <td>82.85</td>\n",
              "      <td>5</td>\n",
              "    </tr>\n",
              "    <tr>\n",
              "      <th>5838</th>\n",
              "      <td>Hyundai Verna CRDi SX</td>\n",
              "      <td>2007</td>\n",
              "      <td>135000</td>\n",
              "      <td>119000</td>\n",
              "      <td>Diesel</td>\n",
              "      <td>Individual</td>\n",
              "      <td>Manual</td>\n",
              "      <td>Fourth &amp; Above Owner</td>\n",
              "      <td>16.80</td>\n",
              "      <td>1493</td>\n",
              "      <td>110.00</td>\n",
              "      <td>5</td>\n",
              "    </tr>\n",
              "    <tr>\n",
              "      <th>5839</th>\n",
              "      <td>Maruti Swift Dzire ZDi</td>\n",
              "      <td>2009</td>\n",
              "      <td>382000</td>\n",
              "      <td>120000</td>\n",
              "      <td>Diesel</td>\n",
              "      <td>Individual</td>\n",
              "      <td>Manual</td>\n",
              "      <td>First Owner</td>\n",
              "      <td>19.30</td>\n",
              "      <td>1248</td>\n",
              "      <td>73.90</td>\n",
              "      <td>5</td>\n",
              "    </tr>\n",
              "  </tbody>\n",
              "</table>\n",
              "<p>5840 rows × 12 columns</p>\n",
              "</div>\n",
              "      <button class=\"colab-df-convert\" onclick=\"convertToInteractive('df-da73d1f6-d5a4-4bcd-bb40-4b1364d467c3')\"\n",
              "              title=\"Convert this dataframe to an interactive table.\"\n",
              "              style=\"display:none;\">\n",
              "        \n",
              "  <svg xmlns=\"http://www.w3.org/2000/svg\" height=\"24px\"viewBox=\"0 0 24 24\"\n",
              "       width=\"24px\">\n",
              "    <path d=\"M0 0h24v24H0V0z\" fill=\"none\"/>\n",
              "    <path d=\"M18.56 5.44l.94 2.06.94-2.06 2.06-.94-2.06-.94-.94-2.06-.94 2.06-2.06.94zm-11 1L8.5 8.5l.94-2.06 2.06-.94-2.06-.94L8.5 2.5l-.94 2.06-2.06.94zm10 10l.94 2.06.94-2.06 2.06-.94-2.06-.94-.94-2.06-.94 2.06-2.06.94z\"/><path d=\"M17.41 7.96l-1.37-1.37c-.4-.4-.92-.59-1.43-.59-.52 0-1.04.2-1.43.59L10.3 9.45l-7.72 7.72c-.78.78-.78 2.05 0 2.83L4 21.41c.39.39.9.59 1.41.59.51 0 1.02-.2 1.41-.59l7.78-7.78 2.81-2.81c.8-.78.8-2.07 0-2.86zM5.41 20L4 18.59l7.72-7.72 1.47 1.35L5.41 20z\"/>\n",
              "  </svg>\n",
              "      </button>\n",
              "      \n",
              "  <style>\n",
              "    .colab-df-container {\n",
              "      display:flex;\n",
              "      flex-wrap:wrap;\n",
              "      gap: 12px;\n",
              "    }\n",
              "\n",
              "    .colab-df-convert {\n",
              "      background-color: #E8F0FE;\n",
              "      border: none;\n",
              "      border-radius: 50%;\n",
              "      cursor: pointer;\n",
              "      display: none;\n",
              "      fill: #1967D2;\n",
              "      height: 32px;\n",
              "      padding: 0 0 0 0;\n",
              "      width: 32px;\n",
              "    }\n",
              "\n",
              "    .colab-df-convert:hover {\n",
              "      background-color: #E2EBFA;\n",
              "      box-shadow: 0px 1px 2px rgba(60, 64, 67, 0.3), 0px 1px 3px 1px rgba(60, 64, 67, 0.15);\n",
              "      fill: #174EA6;\n",
              "    }\n",
              "\n",
              "    [theme=dark] .colab-df-convert {\n",
              "      background-color: #3B4455;\n",
              "      fill: #D2E3FC;\n",
              "    }\n",
              "\n",
              "    [theme=dark] .colab-df-convert:hover {\n",
              "      background-color: #434B5C;\n",
              "      box-shadow: 0px 1px 3px 1px rgba(0, 0, 0, 0.15);\n",
              "      filter: drop-shadow(0px 1px 2px rgba(0, 0, 0, 0.3));\n",
              "      fill: #FFFFFF;\n",
              "    }\n",
              "  </style>\n",
              "\n",
              "      <script>\n",
              "        const buttonEl =\n",
              "          document.querySelector('#df-da73d1f6-d5a4-4bcd-bb40-4b1364d467c3 button.colab-df-convert');\n",
              "        buttonEl.style.display =\n",
              "          google.colab.kernel.accessAllowed ? 'block' : 'none';\n",
              "\n",
              "        async function convertToInteractive(key) {\n",
              "          const element = document.querySelector('#df-da73d1f6-d5a4-4bcd-bb40-4b1364d467c3');\n",
              "          const dataTable =\n",
              "            await google.colab.kernel.invokeFunction('convertToInteractive',\n",
              "                                                     [key], {});\n",
              "          if (!dataTable) return;\n",
              "\n",
              "          const docLinkHtml = 'Like what you see? Visit the ' +\n",
              "            '<a target=\"_blank\" href=https://colab.research.google.com/notebooks/data_table.ipynb>data table notebook</a>'\n",
              "            + ' to learn more about interactive tables.';\n",
              "          element.innerHTML = '';\n",
              "          dataTable['output_type'] = 'display_data';\n",
              "          await google.colab.output.renderOutput(dataTable, element);\n",
              "          const docLink = document.createElement('div');\n",
              "          docLink.innerHTML = docLinkHtml;\n",
              "          element.appendChild(docLink);\n",
              "        }\n",
              "      </script>\n",
              "    </div>\n",
              "  </div>\n",
              "  "
            ]
          },
          "metadata": {},
          "execution_count": 35
        }
      ]
    },
    {
      "cell_type": "markdown",
      "source": [
        "## Визуализации (1 балл + 0.5)"
      ],
      "metadata": {
        "id": "OmV784QWZOpO"
      }
    },
    {
      "cell_type": "markdown",
      "source": [
        "Визуализировать нам надо не так уж и много. Во-первых, хотелось бы, в принципе, увидеть как распределены значения признаков. Также хотелось бы понять, насколько признаки скоррелированы между собой и с целевой переменной. А ещё неплохо бы посмотреть, не оказалось ли так, что тестовые данные распределены иначе, чем трейн.\n",
        "\n",
        "Этим всем и предлагаем вам заняться."
      ],
      "metadata": {
        "id": "6p2L60ngZueT"
      }
    },
    {
      "cell_type": "markdown",
      "source": [
        "(0.25 балла) <font color='#9933CC'>Посторойте попарные распределения всех числовых признаков для трейна.</font>\n",
        "\n",
        "> ``sns.paiplot()`` позволяет сделать это в одну строчку"
      ],
      "metadata": {
        "id": "IJpEKkFfaQoC"
      }
    },
    {
      "cell_type": "code",
      "source": [
        "# your code here"
      ],
      "metadata": {
        "id": "0car89hFaby1"
      },
      "execution_count": null,
      "outputs": []
    },
    {
      "cell_type": "markdown",
      "source": [
        "Этот график не такой информативный, как можно было бы построить, беря признаки по отдельности. Но он позволяет сделать некоторые (возможно, далеко идущие) выводы. Впрочем, со многими из них (если не со всеми) вы бы справились умозрительно. Однако всегда приятно делать выводы, основываясь на данных.\n",
        "\n",
        "\n",
        "\n",
        "* <font color='#FF6600'> Что можно сказать о связи предикторов с целевой переменной?\n",
        "* А о корреляциях признаков? </font>"
      ],
      "metadata": {
        "id": "Vf4NE1-WboFG"
      }
    },
    {
      "cell_type": "markdown",
      "source": [
        "(0.25 балла) <font color='#9933CC'>Постройте pairplot по тестовым данным</font> и ответьте на вопрос <font color='#FF6600'>\"Похожими ли оказались совокупности при разделении на трейн и тест?\"</font>"
      ],
      "metadata": {
        "id": "m0Y8VOCceH_3"
      }
    },
    {
      "cell_type": "code",
      "source": [
        "# your code here"
      ],
      "metadata": {
        "id": "NK9l6SrAeHK1"
      },
      "execution_count": null,
      "outputs": []
    },
    {
      "cell_type": "markdown",
      "source": [
        "(0.25 балла) <font color='#9933CC'>Для трейна давайте построим тепловую карту (heatmap из библиотеки seaborn) попарных корреляций числовых колонок</font>"
      ],
      "metadata": {
        "id": "Gnn7pDcrfEvN"
      }
    },
    {
      "cell_type": "code",
      "source": [
        "# your code here"
      ],
      "metadata": {
        "id": "E99LVAN2fMVH"
      },
      "execution_count": null,
      "outputs": []
    },
    {
      "cell_type": "markdown",
      "source": [
        "Ответьте, пожалуйста, на вопросы: \n",
        "* <font color='#FF6600'>Какие 2 признака наименее скоррелированы между собой?</font>\n",
        "* <font color='#FF6600'>Между какими наблюдается довольно сильная положительная линейная зависимость?</font>\n",
        "* <font color='#FF6600'>Правильно ли, опираясь на данные, утверждать, что чем меньше год, тем, скорее всего, больше километров проехала машина к дате продажи.</font>"
      ],
      "metadata": {
        "id": "w24a_oXqf12H"
      }
    },
    {
      "cell_type": "markdown",
      "source": [
        "(0.25 балла) <font color='#9933CC'> Отобразите диаграммe рассеяния для наиболее скореллированной пары **признаков** (на трейне) </font>"
      ],
      "metadata": {
        "id": "DZXV-FI9lO5V"
      }
    },
    {
      "cell_type": "code",
      "source": [
        "# your code here"
      ],
      "metadata": {
        "id": "6RtM_zkDlON9"
      },
      "execution_count": null,
      "outputs": []
    },
    {
      "cell_type": "markdown",
      "source": [
        "### Дополнительные визуализации (бонус 0.5 балла)\n",
        "\n",
        "Если вам кажется, что мы не попросили вас нарисовать какие-то очень важные зависимости, нарисуйте их и поясните."
      ],
      "metadata": {
        "id": "ru1In410pieq"
      }
    },
    {
      "cell_type": "code",
      "source": [
        "# your code here"
      ],
      "metadata": {
        "id": "HwlwJhDIp_2L"
      },
      "execution_count": null,
      "outputs": []
    },
    {
      "cell_type": "markdown",
      "source": [
        "# Часть 2 (1.25 балла) | Модель только на вещественных признаках"
      ],
      "metadata": {
        "id": "uS2CQ1LzrP_U"
      }
    },
    {
      "cell_type": "markdown",
      "source": [
        "(0.05 балла) <font color='#9933CC'>В переменные ``y_train`` и ``y_test`` запишите значения целевых переменных. Столбцы ``selling_price`` из датафреймов необходимо удалить. Категориальные (все, кроме ``seats``) столбцы тоже.</font>"
      ],
      "metadata": {
        "id": "EPDwkjMPg3Lg"
      }
    },
    {
      "cell_type": "code",
      "source": [
        "y_train = df_train['selling_price']\n",
        "X_train = df_train.select_dtypes(exclude=['object']).drop('selling_price', axis=1)"
      ],
      "metadata": {
        "id": "cGxjJSSUg2na"
      },
      "execution_count": 46,
      "outputs": []
    },
    {
      "cell_type": "code",
      "source": [
        "assert X_train.shape == (5840, 6)"
      ],
      "metadata": {
        "id": "fyMyARKem5wl"
      },
      "execution_count": 47,
      "outputs": []
    },
    {
      "cell_type": "code",
      "source": [
        "y_test = df_test['selling_price']\n",
        "X_test = df_test.select_dtypes(exclude=['object']).drop('selling_price', axis=1)"
      ],
      "metadata": {
        "id": "xKRmqiJ5rbSx"
      },
      "execution_count": 48,
      "outputs": []
    },
    {
      "cell_type": "code",
      "source": [
        "assert X_test.shape == (1000, 6)"
      ],
      "metadata": {
        "id": "-JepTZ36y-h-"
      },
      "execution_count": 49,
      "outputs": []
    },
    {
      "cell_type": "markdown",
      "source": [
        "(0.2 балла) <font color='#9933CC'>Обучите классическую линейную регрессию с дефолтными параметрами. Посчтитайте $R^2$ и MSE для трейна и для теста</font>\n",
        "\n",
        "**Замечание:** $R^2$ и MSE для трейна и для теста выводите везде, где требуется обучать модели, даже если в явном виде этого не просят. Иначе непонятно, как понять, насколько успешны наши эксперименты."
      ],
      "metadata": {
        "id": "_kvtF4gXhwoI"
      }
    },
    {
      "cell_type": "code",
      "source": [
        "from sklearn.linear_model import LinearRegression\n",
        "from sklearn.metrics import r2_score, mean_squared_error as MSE\n",
        "\n",
        "\n",
        "model = LinearRegression()\n",
        "model.fit(X_train, y_train)\n",
        "\n",
        "y_pred_train = model.predict(X_train)\n",
        "y_pred_test = model.predict(X_test)"
      ],
      "metadata": {
        "id": "hVYXaeTgrb3d"
      },
      "execution_count": 50,
      "outputs": []
    },
    {
      "cell_type": "code",
      "source": [
        "r2_score(y_train, y_pred_train)"
      ],
      "metadata": {
        "colab": {
          "base_uri": "https://localhost:8080/"
        },
        "id": "CfbxsoGeoWyp",
        "outputId": "fb473344-c25e-46b6-95bb-e158795d1a6b"
      },
      "execution_count": 51,
      "outputs": [
        {
          "output_type": "execute_result",
          "data": {
            "text/plain": [
              "0.5922591702157316"
            ]
          },
          "metadata": {},
          "execution_count": 51
        }
      ]
    },
    {
      "cell_type": "code",
      "source": [
        "MSE(y_train, y_pred_train)"
      ],
      "metadata": {
        "colab": {
          "base_uri": "https://localhost:8080/"
        },
        "id": "RjG6_9wRo0FD",
        "outputId": "75014260-5bc6-4e0a-a40e-112d17ed62e5"
      },
      "execution_count": 53,
      "outputs": [
        {
          "output_type": "execute_result",
          "data": {
            "text/plain": [
              "116874153930.02855"
            ]
          },
          "metadata": {},
          "execution_count": 53
        }
      ]
    },
    {
      "cell_type": "code",
      "source": [
        "r2_score(y_test, y_pred_test)"
      ],
      "metadata": {
        "colab": {
          "base_uri": "https://localhost:8080/"
        },
        "id": "WL80iEpxo1UR",
        "outputId": "cdb23c58-55fc-4434-8f32-317de4087119"
      },
      "execution_count": 52,
      "outputs": [
        {
          "output_type": "execute_result",
          "data": {
            "text/plain": [
              "0.5941419794788428"
            ]
          },
          "metadata": {},
          "execution_count": 52
        }
      ]
    },
    {
      "cell_type": "code",
      "source": [
        "MSE(y_test, y_pred_test)"
      ],
      "metadata": {
        "colab": {
          "base_uri": "https://localhost:8080/"
        },
        "id": "vvP7Dj18pAbw",
        "outputId": "52146e94-40dc-460f-a525-bcef9083eb52"
      },
      "execution_count": 54,
      "outputs": [
        {
          "output_type": "execute_result",
          "data": {
            "text/plain": [
              "233298779730.45486"
            ]
          },
          "metadata": {},
          "execution_count": 54
        }
      ]
    },
    {
      "cell_type": "markdown",
      "source": [
        "Запомните правило:\n",
        "\n",
        "> Использую линейную модель -- стандартизирую фичи\n",
        "\n",
        "(0.25 балла) <font color='#9933CC'>Воспользуемся им</font>\n"
      ],
      "metadata": {
        "id": "HpQ8EG2Uk_Dn"
      }
    },
    {
      "cell_type": "code",
      "source": [
        "from sklearn.preprocessing import StandardScaler\n",
        "\n",
        "scaler = StandardScaler()\n",
        "\n",
        "scaler.fit(X_train)"
      ],
      "metadata": {
        "id": "o6FB80C2rciK",
        "colab": {
          "base_uri": "https://localhost:8080/"
        },
        "outputId": "07d6ee13-b040-4eb8-9773-2da897ea4b93"
      },
      "execution_count": 75,
      "outputs": [
        {
          "output_type": "execute_result",
          "data": {
            "text/plain": [
              "StandardScaler()"
            ]
          },
          "metadata": {},
          "execution_count": 75
        }
      ]
    },
    {
      "cell_type": "code",
      "source": [
        "X_train_norm = scaler.transform(X_train)\n",
        "X_test_norm = scaler.transform(X_test)"
      ],
      "metadata": {
        "id": "GtmSgBig1Itz"
      },
      "execution_count": 76,
      "outputs": []
    },
    {
      "cell_type": "code",
      "source": [
        "model.fit(X_train_norm, y_train)\n",
        "\n",
        "y_pred_train_norm = model.predict(X_train_norm)\n",
        "y_pred_test_norm = model.predict(X_test_norm)"
      ],
      "metadata": {
        "id": "joMrtp2Pq24z"
      },
      "execution_count": 77,
      "outputs": []
    },
    {
      "cell_type": "code",
      "source": [
        "r2_score(y_train, y_pred_train_norm)"
      ],
      "metadata": {
        "colab": {
          "base_uri": "https://localhost:8080/"
        },
        "id": "4gw7QEOwq5DE",
        "outputId": "7f533b15-fe75-4c6f-defd-4ab4fca35712"
      },
      "execution_count": 78,
      "outputs": [
        {
          "output_type": "execute_result",
          "data": {
            "text/plain": [
              "0.5922591702157303"
            ]
          },
          "metadata": {},
          "execution_count": 78
        }
      ]
    },
    {
      "cell_type": "code",
      "source": [
        "MSE(y_train, y_pred_train_norm)"
      ],
      "metadata": {
        "colab": {
          "base_uri": "https://localhost:8080/"
        },
        "id": "U4EVgzRPq9yT",
        "outputId": "aa0ae891-c6ca-4d6e-f726-861021983161"
      },
      "execution_count": 79,
      "outputs": [
        {
          "output_type": "execute_result",
          "data": {
            "text/plain": [
              "116874153930.02892"
            ]
          },
          "metadata": {},
          "execution_count": 79
        }
      ]
    },
    {
      "cell_type": "code",
      "source": [
        "r2_score(y_test, y_pred_test_norm)"
      ],
      "metadata": {
        "colab": {
          "base_uri": "https://localhost:8080/"
        },
        "id": "g0ZeHy0Gradn",
        "outputId": "4629c46c-abc5-4991-cd5e-418dd62b96e6"
      },
      "execution_count": 80,
      "outputs": [
        {
          "output_type": "execute_result",
          "data": {
            "text/plain": [
              "0.594141979478852"
            ]
          },
          "metadata": {},
          "execution_count": 80
        }
      ]
    },
    {
      "cell_type": "code",
      "source": [
        "MSE(y_test, y_pred_test_norm)"
      ],
      "metadata": {
        "colab": {
          "base_uri": "https://localhost:8080/"
        },
        "id": "oipFIzBerf-a",
        "outputId": "b10fec82-a9a2-4fca-ea01-ad50a4c3fcae"
      },
      "execution_count": 81,
      "outputs": [
        {
          "output_type": "execute_result",
          "data": {
            "text/plain": [
              "233298779730.44965"
            ]
          },
          "metadata": {},
          "execution_count": 81
        }
      ]
    },
    {
      "cell_type": "markdown",
      "source": [
        "Не очень результативно.\n",
        "\n",
        "Зато уже сейчас можем интерпретировать модель. <font color='#FF6600'>\"Какой признак оказался наиболее информативным в предсказании цены?\"</font>"
      ],
      "metadata": {
        "id": "oQZi8LYVmiPv"
      }
    },
    {
      "cell_type": "code",
      "source": [
        "model.coef_"
      ],
      "metadata": {
        "id": "u9onBNrhmt1r",
        "colab": {
          "base_uri": "https://localhost:8080/"
        },
        "outputId": "9962622d-d4ef-4933-f6c4-cfffb9d1d11b"
      },
      "execution_count": 82,
      "outputs": [
        {
          "output_type": "execute_result",
          "data": {
            "text/plain": [
              "array([152772.57084581, -44158.81852005,  28833.92577752,  61178.49433685,\n",
              "       322807.35325923, -23209.132486  ])"
            ]
          },
          "metadata": {},
          "execution_count": 82
        }
      ]
    },
    {
      "cell_type": "markdown",
      "source": [
        "Наибольшее влияние оказывает признак max_power"
      ],
      "metadata": {
        "id": "WRCGgUoS3Bj2"
      }
    },
    {
      "cell_type": "markdown",
      "source": [
        "(0.25 балла) <font color='#9933CC'>Теперь попробуем Lasso-регрессию.</font> Здесь и дальше обучайте модели на нормализованных признаках"
      ],
      "metadata": {
        "id": "My5nSSASntjA"
      }
    },
    {
      "cell_type": "code",
      "source": [
        "from sklearn.linear_model import Lasso\n",
        "\n",
        "model_l1 = Lasso(alpha=1)\n",
        "\n",
        "model_l1.fit(Xtrain, ytrain)\n",
        "\n",
        "pred_l2 = model_l2.predict(Xtest)\n",
        "\n",
        "r2_score(ytest, pred_l2)"
      ],
      "metadata": {
        "id": "yhR5eajPn0kl"
      },
      "execution_count": null,
      "outputs": []
    },
    {
      "cell_type": "markdown",
      "source": [
        "<font color='#FF6600'>Занулила ли L1-регуляризация с параметрами по умолчанию какие-нибудь веса? Почему же?</font>"
      ],
      "metadata": {
        "id": "cIbnMp-So7CP"
      }
    },
    {
      "cell_type": "code",
      "source": [
        "# your code here"
      ],
      "metadata": {
        "id": "EBJKIp6FouYw"
      },
      "execution_count": null,
      "outputs": []
    },
    {
      "cell_type": "markdown",
      "source": [
        "(0.25 балла) <font color='#9933CC'>Перебором по сетке (c 10-ю фолдами) подберите оптимальные параметры для Lasso-регрессии</font>\n",
        "\n",
        "Вам пригодится класс [GridSearchCV](https://scikit-learn.org/stable/modules/generated/sklearn.model_selection.GridSearchCV.html)."
      ],
      "metadata": {
        "id": "YYWLInilqQTE"
      }
    },
    {
      "cell_type": "code",
      "source": [
        "from sklearn.model_selection import GridSearchCV\n",
        "\n",
        "# your code here"
      ],
      "metadata": {
        "id": "mdGQ6CvApr_P"
      },
      "execution_count": null,
      "outputs": []
    },
    {
      "cell_type": "markdown",
      "source": [
        "<font color='#FF6600'>Сколько грид-сёрчу пришлось обучать моделей?</font>"
      ],
      "metadata": {
        "id": "rueUl2cSvT5w"
      }
    },
    {
      "cell_type": "markdown",
      "source": [
        "<font color='#FF6600'>Какой коэффициент регуляризации у лучшей из перебранных моделей? Занулились ли какие-нибудь из весов при такой регуляризации?</font>"
      ],
      "metadata": {
        "id": "0agvlV-tvEQN"
      }
    },
    {
      "cell_type": "code",
      "source": [
        "# your code here"
      ],
      "metadata": {
        "id": "joyYE2Q5shu5"
      },
      "execution_count": null,
      "outputs": []
    },
    {
      "cell_type": "markdown",
      "source": [
        "(0.25 балла) <font color='#9933CC'>Перебором по сетке (c 10-ю фолдами) подберите оптимальные параметры для [ElasticNet](https://scikit-learn.org/stable/modules/generated/sklearn.linear_model.ElasticNet.html)-регрессии</font>"
      ],
      "metadata": {
        "id": "VdkkrDE4oeCP"
      }
    },
    {
      "cell_type": "code",
      "source": [
        "from sklearn.linear_model import ElasticNet\n",
        "\n",
        "# your code here"
      ],
      "metadata": {
        "id": "F3e5MGZMoeCR"
      },
      "execution_count": null,
      "outputs": []
    },
    {
      "cell_type": "markdown",
      "source": [
        "<font color='#FF6600'>Какие гиперпараметры соответствуют лучшей из перебранных моделей?</font>"
      ],
      "metadata": {
        "id": "zB0Nrbk6oeCS"
      }
    },
    {
      "cell_type": "code",
      "source": [
        "# your code here"
      ],
      "metadata": {
        "id": "gIzvY8bToeCS"
      },
      "execution_count": null,
      "outputs": []
    },
    {
      "cell_type": "markdown",
      "source": [
        "Предлагаем вам оставить вам попытки заметно улучшить качество модели регуляризацией и перейти к следующей части задания."
      ],
      "metadata": {
        "id": "5C3IX1-CwHO2"
      }
    },
    {
      "cell_type": "markdown",
      "source": [
        "# Часть 3 (0.75 балла) | Добавляем категориальные фичи\n",
        "\n"
      ],
      "metadata": {
        "id": "Y2y-_PCHrevF"
      }
    },
    {
      "cell_type": "markdown",
      "source": [
        "(0 баллов) <font color='#9933CC'>Из ``df_train`` удалите столбцы с целевой переменной и названием автомобиля.</font>"
      ],
      "metadata": {
        "id": "frLASc5L8Tu5"
      }
    },
    {
      "cell_type": "code",
      "source": [
        "# your code here"
      ],
      "metadata": {
        "id": "jsXiFjaFrng-"
      },
      "execution_count": null,
      "outputs": []
    },
    {
      "cell_type": "code",
      "source": [
        "assert X_train_cat.shape == (5840, 10)"
      ],
      "metadata": {
        "id": "SqDhrd6Q8k-S"
      },
      "execution_count": null,
      "outputs": []
    },
    {
      "cell_type": "code",
      "source": [
        "X_train_cat.describe(include='object')"
      ],
      "metadata": {
        "id": "JyGl7KQQx_Ax"
      },
      "execution_count": null,
      "outputs": []
    },
    {
      "cell_type": "markdown",
      "source": [
        "(0.5 балла) <font color='#9933CC'>Закодируйте категориалльные фичи и ``seats`` методом OneHot-кодирования</font>\n",
        "\n",
        "> Обратите внимание, что во избежание мультиколлинеарности следует избавиться от одного из полученных столбцов при кодировании каждого признака методом OneHot. "
      ],
      "metadata": {
        "id": "wYxtiDa_81AL"
      }
    },
    {
      "cell_type": "code",
      "source": [
        "from sklearn.preprocessing import OneHotEncoder # или можно использовать get_dummies из библиотеки pandas\n",
        "\n",
        "# your code here"
      ],
      "metadata": {
        "id": "wbN4yM2Frob7"
      },
      "execution_count": null,
      "outputs": []
    },
    {
      "cell_type": "markdown",
      "source": [
        "(0.25 балла) <font color='#9933CC'>Переберите параметр регуляризации `alpha` для гребневой (ridge) регрессии с помощью класса `GridSearchCV`.</font> В качестве параметров при объявлении GridSearchCV кроме модели укажите метрику качества $R^2$. Кроссвалидируйтесь по 10-ти фолдам.\n",
        "\n",
        "<font color='#FF6600'>Удалось ли улучшить качество предсказаний?</font>"
      ],
      "metadata": {
        "id": "b8fI5dQT-Fvx"
      }
    },
    {
      "cell_type": "code",
      "source": [
        "from sklearn.linear_model import Ridge\n",
        "from sklearn.model_selection import GridSearchCV\n",
        "\n",
        "# your code here"
      ],
      "metadata": {
        "id": "SLXCtme53Oup"
      },
      "execution_count": null,
      "outputs": []
    },
    {
      "cell_type": "markdown",
      "source": [
        "# Часть 4 - бонусная (2 балла) | Feature Engineering "
      ],
      "metadata": {
        "id": "T0OlrsmArp2I"
      }
    },
    {
      "cell_type": "markdown",
      "source": [
        "В этой части домашнего задания вам предлагается проявить свою креативность для улучшения прогноза модели. Любые другие модели, кроме различных форм линейной (или полиномиальной) регресси, использовать запрещается. А значит, придется работать с признаками\n",
        "\n",
        "**Что можно попробовать сделать?** (каждый пункт по 0.4 балла, но не больше 2-х баллов в сумме)\n",
        "\n",
        "1.   *Сгенерировать новые признаки на основе уже существующих:*\n",
        "    * посчитать произведения // частные признаков (кажется, что посчитать число \"лошадей\" на литр объема может быть полезно);\n",
        "    * имеет смысл обратить внимание на визуализации в части с EDA (к примеру, зависимость цены от года выглядит квадратичной, а не линейной; значит, квадрат года нам, скорее всего, принесет больше пользы)\n",
        "\n",
        "2.   *Добыть новые признаки:*\n",
        "    * имеем название автомобиля, которое никак не используем (можно спарсить инфу о классе автомобиля или каких-то специфических опциях)\n",
        "    * можно добавить пороговые признаки вроде \"владелец третий или больше\" и объединить признаки в некоторые осмысленные правила, например \"первый или второй владелец и продавец официальный дилер\" (подбирать пороги удобно по диаграммам рассеяния)\n",
        "\n",
        "3.   *Поработать с уже имеющимися:*\n",
        "    * далеко не факт, что заполнить пропуск медианой было лучшей идеей (как минимум, можно добавить dummy-столбец для модели, сигнализирующий, что раньше на месте медианы был пропуск -- там где он был, конечно); попробуйте другие способы филлинга;\n",
        "    * мы не анализировали, есть ли в данных выбросы => никак выбросы не обрабатывали; наиболее простым и, тем не менее, довольно полезным вариантом нахождения выбросов могут послужить boxplot'ы для каждого столбца; что делать с выбросами думайте сами :) -- вариантов довольно много\n",
        "    * мы толком не смотрели на таргет сам по себе; в нем тоже могут быть неожиданности -- стоит хотя бы проверить\n",
        "    * можно заметить, что некоторые признаки распределены совсем не нормально; возможно их стоит отлогарифмировать\n",
        "\n",
        "И так далее...\n",
        "\n",
        "Feel Free to Try!"
      ],
      "metadata": {
        "id": "NXo9jvHPEYtN"
      }
    },
    {
      "cell_type": "code",
      "source": [
        "# your code here"
      ],
      "metadata": {
        "id": "keijjrKbr3Ne"
      },
      "execution_count": null,
      "outputs": []
    },
    {
      "cell_type": "markdown",
      "source": [
        "# Часть Бизнесовая (0.5 балла)"
      ],
      "metadata": {
        "id": "mw6LOYJTL2x1"
      }
    },
    {
      "cell_type": "markdown",
      "source": [
        "Заказчик просил вас посчитать кастомную метрику -- среди всех предсказанных цен на авто посчитать долю предиктов, отличающихся от реальных цен на эти авто не более чем на 10% (в одну или другую сторону)\n",
        "\n",
        "<font color='#9933CC'>Сделайте это самостоятельно для лучшей из своих моделей</font>"
      ],
      "metadata": {
        "id": "0QpHAfbcMRfu"
      }
    },
    {
      "cell_type": "code",
      "source": [
        "def business_metrics(y_true, y_pred):\n",
        "    # your code here\n",
        "\n",
        "business_metrics(# your code here)"
      ],
      "metadata": {
        "id": "YrcaGhO7MnMR"
      },
      "execution_count": null,
      "outputs": []
    },
    {
      "cell_type": "markdown",
      "source": [
        "# Часть 5 (3 балла) | Реализация сервиса на FastAPI"
      ],
      "metadata": {
        "id": "ARi0hYPrsI4x"
      }
    },
    {
      "cell_type": "markdown",
      "source": [
        "Cделайте с помощью FastAPI сервис, который с точки зрения пользователя реализует две функции:\n",
        "\n",
        "1. на вход в формате json подаются признаки одного объекта, на выходе сервис выдает предсказанную стоимость машины\n",
        "2. на вход подается csv-файл с признаками тестовых объектов, на выходе получаем файл с +1 столбцом - предсказаниями на этих объектах\n",
        "\n",
        "С точки зрения реализации это означает следующее:\n",
        "- средствами pydantic должен быть описан класс базового объекта\n",
        "- класс с коллецией объектов\n",
        "- метод post, который получает на вход один объект описанного класса\n",
        "- метод post, который получает на вход коллекцию объектов описанного класса\n",
        "\n",
        "Шаблон для сервисной части дан ниже. Код необходимо дополнить и оформить в виде отдельного .py-файла."
      ],
      "metadata": {
        "id": "03rHiCmGKGU8"
      }
    },
    {
      "cell_type": "code",
      "source": [
        "from fastapi import FastAPI\n",
        "from pydantic import BaseModel\n",
        "from typing import List\n",
        "\n",
        "app = FastAPI()\n",
        "\n",
        "\n",
        "class Item(BaseModel):\n",
        "    name: str\n",
        "    year: int\n",
        "    selling_price: int\n",
        "    km_driven: int\n",
        "    fuel: str\n",
        "    seller_type: str\n",
        "    transmission: str\n",
        "    owner: str\n",
        "    mileage: str \n",
        "    engine: str\n",
        "    max_power: str\n",
        "    torque: str\n",
        "    seats: float\n",
        "\n",
        "\n",
        "class Items(BaseModel):\n",
        "    objects: List[Item]\n",
        "\n",
        "\n",
        "@app.post(\"/predict_item\")\n",
        "def predict_item(item: Item) -> float:\n",
        "    return ...\n",
        "\n",
        "\n",
        "@app.post(\"/predict_items\")\n",
        "def predict_items(items: List[Item]) -> List[float]:\n",
        "    return ..."
      ],
      "metadata": {
        "id": "6Qq8zyxNsYC3"
      },
      "execution_count": null,
      "outputs": []
    },
    {
      "cell_type": "markdown",
      "source": [
        "Протестируйте сервис на корректность работы и приложите скриншоты (см. ниже)."
      ],
      "metadata": {
        "id": "3U29qIjog18v"
      }
    },
    {
      "cell_type": "markdown",
      "source": [
        "# Часть 6 (1 балл) | Оформление результатов"
      ],
      "metadata": {
        "id": "V4fq_10xsaHg"
      }
    },
    {
      "cell_type": "markdown",
      "source": [
        "**Результаты вашей работы** необходимо разместить в своем Гитхабе. Под результатами понимаем следующее:\n",
        "* ``.ipynb``-ноутбук со всеми проведёнными вами экспериментами (output'ы ячеек, разумеется, сохранить)\n",
        "* ``.py``-файл с реализацией сервиса\n",
        "* ``.pickle``-файл с сохранёнными весами модели, коэффициентами скейлинга и прочими числовыми значениями, которые могут понадобиться для инференса\n",
        "* ``.md``-файл с выводами про проделанной вами работе:\n",
        "    * что было сделано\n",
        "    * с какими результатами\n",
        "    * что дало наибольший буст в качестве\n",
        "    * что сделать не вышло и почему (это нормально, даже хорошо😀)\n",
        "\n",
        "**За что могут быть сняты баллы в этом пункте:**\n",
        "* за отсутствие ``.pickle``-файла с весами использованной модели\n",
        "* за недостаточную аналитику в ``.md``-файле\n",
        "* за оформление и логику кода (в определённом смысле это тоже элемент оформления решения)\n",
        "\n",
        "**Как будет выглядет проверка всего домашнего задания?**\n",
        "1. Ассистент проходит по ссылке на (**открытый**) репозиторий из Энитаска\n",
        "2. Смотрит ``readme.md``:\n",
        "    * пожалуйста, приложите в него же скрины работы вашего сервиса -- собирать ваши проекты довольно времязатратно, но хочется убедиться, что всё работает\n",
        "    * можете прислать screencast в ТГ\n",
        "3. Просматривает ноутбук с pure-DS частью\n",
        "4. Заглядывает в код сервиса\n",
        "5. Хвалит"
      ],
      "metadata": {
        "id": "nmwf-ZrEKZy6"
      }
    },
    {
      "cell_type": "markdown",
      "source": [
        "# Часть Благодарственная"
      ],
      "metadata": {
        "id": "QSIEzw6sN8Zp"
      }
    },
    {
      "cell_type": "markdown",
      "source": [
        "Надеемся, вы честно проделали все пункты, а не просто пролистали досюда. Потому что здесь награда за старания. Пожалуйста, не стоит награждать себя до того, как закончите работать над домашкой.\n",
        "\n",
        "https://drive.google.com/file/d/1LT06nyg9QgVi3r-D5BY-_mQ9TcJQFxJN/view?usp=share_link"
      ],
      "metadata": {
        "id": "lWOSqmLWOAr-"
      }
    },
    {
      "cell_type": "code",
      "source": [],
      "metadata": {
        "id": "PJnbprP8QGLx"
      },
      "execution_count": null,
      "outputs": []
    }
  ]
}