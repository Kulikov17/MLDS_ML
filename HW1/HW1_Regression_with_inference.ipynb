{
  "nbformat": 4,
  "nbformat_minor": 0,
  "metadata": {
    "colab": {
      "provenance": []
    },
    "kernelspec": {
      "name": "python3",
      "display_name": "Python 3"
    },
    "language_info": {
      "name": "python"
    }
  },
  "cells": [
    {
      "cell_type": "markdown",
      "source": [
        "# Домашнее задание №1\n",
        "\n",
        "В этом домашнем задании вам предлагается обучить модель регрессии для предсказания стоимости автомобилей, а также реализовать веб-сервис для применения построенной модели на новых данных.\n",
        "\n",
        "> Оценка за домашку = min(ваш балл, 10)\n"
      ],
      "metadata": {
        "id": "IsPer4g5FgRB"
      }
    },
    {
      "cell_type": "markdown",
      "source": [
        "Задания, <font color='#9933CC'>выделенные фиолетовым</font>, требуют от вас написания кода.\n",
        "\n",
        "А вопросы, <font color='#FF6600'>выделенные оранжевым</font>, текстового ответа.\n",
        "\n",
        "Оцениваются как код, так и ответы на вопросы. Если нет одного и/или другого, то часть баллов за соответствующее задание без колебаний снимается."
      ],
      "metadata": {
        "id": "RBxaROjhnExd"
      }
    },
    {
      "cell_type": "code",
      "source": [
        "import pandas as pd\n",
        "import numpy as np\n",
        "import matplotlib.pyplot as plt\n",
        "import random\n",
        "import seaborn as sns\n",
        "\n",
        "random.seed(42)\n",
        "np.random.seed(42)"
      ],
      "metadata": {
        "id": "bKXD33FOsnGd"
      },
      "execution_count": null,
      "outputs": []
    },
    {
      "cell_type": "markdown",
      "source": [
        "Ниже ответьте на вопрос <font color='#FF6600'>\n",
        "\"Для чего фиксируем сиды в домашках?\"</font>"
      ],
      "metadata": {
        "id": "GAzbEw1ctU4f"
      }
    },
    {
      "cell_type": "code",
      "source": [
        "print(\"<Your answer here>\")"
      ],
      "metadata": {
        "colab": {
          "base_uri": "https://localhost:8080/"
        },
        "id": "lHsDF04utgDC",
        "outputId": "8b63192b-babe-492b-c634-6e7b0bc9b901"
      },
      "execution_count": null,
      "outputs": [
        {
          "output_type": "stream",
          "name": "stdout",
          "text": [
            "<Your answer here>\n"
          ]
        }
      ]
    },
    {
      "cell_type": "markdown",
      "source": [
        "# Часть 1 (2.5 балла + 0.75) | EDA"
      ],
      "metadata": {
        "id": "ykzSVgN7q-xZ"
      }
    },
    {
      "cell_type": "markdown",
      "source": [
        "## Простейший EDA и обработка признаков (1.5 балла + 0.25)"
      ],
      "metadata": {
        "id": "e-4bM9CKAtCj"
      }
    },
    {
      "cell_type": "code",
      "execution_count": null,
      "metadata": {
        "id": "FniH6eCGFSi_"
      },
      "outputs": [],
      "source": [
        "df_train = pd.read_csv('https://raw.githubusercontent.com/Murcha1990/MLDS_ML_2022/main/Hometasks/HT1/cars_train.csv')\n",
        "df_test = pd.read_csv('https://raw.githubusercontent.com/Murcha1990/MLDS_ML_2022/main/Hometasks/HT1/cars_test.csv')\n",
        "\n",
        "print(\"Train data shape:\", df_train.shape)\n",
        "print(\"Test data shape: \", df_test.shape)"
      ]
    },
    {
      "cell_type": "markdown",
      "source": [
        "(0.15 балла) <font color='#9933CC'>Отобразите 10 **случайных** строк тренировочного датасета</font>"
      ],
      "metadata": {
        "id": "spIXQ6zwxT9I"
      }
    },
    {
      "cell_type": "code",
      "source": [
        "# your code here"
      ],
      "metadata": {
        "id": "Zesb2SG5xf_q"
      },
      "execution_count": null,
      "outputs": []
    },
    {
      "cell_type": "markdown",
      "source": [
        "(0.1 балла) <font color='#9933CC'>Отобразите первые 5 и последние 5 объектов тестового датасета</font>"
      ],
      "metadata": {
        "id": "c5UQKCGTxogp"
      }
    },
    {
      "cell_type": "code",
      "source": [
        "# your code here"
      ],
      "metadata": {
        "id": "-MueJLE4rO1g"
      },
      "execution_count": null,
      "outputs": []
    },
    {
      "cell_type": "markdown",
      "source": [
        "(0.1 балла) <font color='#9933CC'>Посчитайте основные статистики как по числовым, так и по категориальным столбцам для трейна и теста</font>. \n",
        "> Подсказка: ``.describe()`` с нужным(и) аргументом(-ами)\n",
        "\n"
      ],
      "metadata": {
        "id": "6fAcrLkBygwE"
      }
    },
    {
      "cell_type": "code",
      "source": [
        "# your code here"
      ],
      "metadata": {
        "id": "eaiIQCvMrPUb"
      },
      "execution_count": null,
      "outputs": []
    },
    {
      "cell_type": "markdown",
      "source": [
        "(0.15 балла) <font color='#9933CC'>Посмотрите, есть ли в датасете пропуски.</font>\n",
        "\n",
        "<font color='#FF6600'>Если есть, то в каких колонках?</font>"
      ],
      "metadata": {
        "id": "1X5_FzDOhjuh"
      }
    },
    {
      "cell_type": "code",
      "source": [
        "# your code here"
      ],
      "metadata": {
        "id": "67KXN7Fj0Chz"
      },
      "execution_count": null,
      "outputs": []
    },
    {
      "cell_type": "markdown",
      "source": [
        "(0.1 балла) <font color='#9933CC'>Посмотрите, есть ли в трейне объекты с одинаковым признаковым описанием</font> (целевую переменную следует исключить). Если есть, то сколько?"
      ],
      "metadata": {
        "id": "B9KR76Uzjvqa"
      }
    },
    {
      "cell_type": "code",
      "source": [
        "# your code here"
      ],
      "metadata": {
        "id": "J3Y-5Vyijys-"
      },
      "execution_count": null,
      "outputs": []
    },
    {
      "cell_type": "markdown",
      "source": [
        "(0.15 балла) <font color='#9933CC'>Отобразите такие объекты</font>"
      ],
      "metadata": {
        "id": "UAwmwOwhlQmA"
      }
    },
    {
      "cell_type": "code",
      "source": [
        "# your code here"
      ],
      "metadata": {
        "id": "nSg0g13Ylgsh"
      },
      "execution_count": null,
      "outputs": []
    },
    {
      "cell_type": "markdown",
      "source": [
        "(0.15 балла) <font color='#9933CC'>Удалите повторяющиеся строки</font>. Если при одинаковом признаковом описании цены на автомобили отличаются, то оставьте первую строку по этому автомобилю"
      ],
      "metadata": {
        "id": "156jDf_Yj64l"
      }
    },
    {
      "cell_type": "code",
      "source": [
        "# your code here"
      ],
      "metadata": {
        "id": "sD0e3HZejmB-"
      },
      "execution_count": null,
      "outputs": []
    },
    {
      "cell_type": "code",
      "source": [
        "assert df_train.shape == (5840, 13)"
      ],
      "metadata": {
        "id": "vF0yfzMOkEn8"
      },
      "execution_count": null,
      "outputs": []
    },
    {
      "cell_type": "markdown",
      "source": [
        "(0.1 балла) Чтоб все было по красоте, <font color='#9933CC'>обновите индексы строк таким образом, чтобы они шли от 0 без пропусков</font>"
      ],
      "metadata": {
        "id": "_SglCDNUkMTa"
      }
    },
    {
      "cell_type": "code",
      "source": [
        "# your code here"
      ],
      "metadata": {
        "id": "4RxpM81kkgsX"
      },
      "execution_count": null,
      "outputs": []
    },
    {
      "cell_type": "markdown",
      "source": [
        "Вы могли заметить, что с признаками ``mileage, engine, max_power и torque`` всё не слава богу. Давайте починим.\n",
        "\n",
        "(0.25 балла) Задача такая: \n",
        "<font color='#9933CC'>\n",
        "* убрать единицы измерения для признаков ``mileage, engine, max_power``. \n",
        "* кастануть эти столбцы столбцы к ``float``.\n",
        "* удалить столбец ``torque``\n",
        "</font>\n",
        "\n",
        "> Все действия нужно производить над обоими датасетами\n",
        "\n",
        "---\n",
        "**Доп (0.25 балла):**\n",
        "* <font color='#9933CC'>Вместо удаления признак `torque` разделите на два: собственно `torque` и `max_torque_rpm`.</font> Учтите единицы измерения. Они разные ☹"
      ],
      "metadata": {
        "id": "CzYgx2wJzLxN"
      }
    },
    {
      "cell_type": "code",
      "source": [
        "# your code here"
      ],
      "metadata": {
        "id": "njamVk3A1dVM"
      },
      "execution_count": null,
      "outputs": []
    },
    {
      "cell_type": "markdown",
      "source": [
        "(0.15 балла) <font color='#9933CC'>Заполните пропуски в столбцах медианами. Убедитесь, что после заполнения пропусков не осталось</font>\n",
        "\n",
        "> Обратите внимание, что, по уму, нужно посчитать медиану по трейну и этим средним заполнять пропуски в тесте. Так же делаем, если, например, стандартизируем признаки.\n",
        "\n"
      ],
      "metadata": {
        "id": "nyEtp7jsRNms"
      }
    },
    {
      "cell_type": "code",
      "source": [
        "# your code here"
      ],
      "metadata": {
        "id": "M9H15wvXRYQF"
      },
      "execution_count": null,
      "outputs": []
    },
    {
      "cell_type": "markdown",
      "source": [
        "\n",
        "(0.1 балла) Теперь, когда не осталось пропусков, можно <font color='#9933CC'>преобразовать столбцы к более подходящим типам (``engnine`` и ``seats`` к int)\n",
        "</font>\n",
        "\n",
        "Ниже ответьте, <font color='#FF6600'>почему (хоть мы этого и не делаем) ``seats``, возможно, лучше сделать переменной категориальной, а не целочисленной.</font>"
      ],
      "metadata": {
        "id": "RuKxfXCaXeHr"
      }
    },
    {
      "cell_type": "code",
      "source": [
        "print(\"<Место для ответа на вопрос про seats>\")"
      ],
      "metadata": {
        "colab": {
          "base_uri": "https://localhost:8080/"
        },
        "id": "gVi9BPC-YLMi",
        "outputId": "aa889364-c725-4fd2-8551-4b5d2086ad4b"
      },
      "execution_count": null,
      "outputs": [
        {
          "output_type": "stream",
          "name": "stdout",
          "text": [
            "<Место для ответа на вопрос про seats>\n"
          ]
        }
      ]
    },
    {
      "cell_type": "code",
      "source": [
        "# your code here"
      ],
      "metadata": {
        "id": "kYKWyjsLYQuz"
      },
      "execution_count": null,
      "outputs": []
    },
    {
      "cell_type": "markdown",
      "source": [
        "## Визуализации (1 балл + 0.5)"
      ],
      "metadata": {
        "id": "OmV784QWZOpO"
      }
    },
    {
      "cell_type": "markdown",
      "source": [
        "Визуализировать нам надо не так уж и много. Во-первых, хотелось бы, в принципе, увидеть как распределены значения признаков. Также хотелось бы понять, насколько признаки скоррелированы между собой и с целевой переменной. А ещё неплохо бы посмотреть, не оказалось ли так, что тестовые данные распределены иначе, чем трейн.\n",
        "\n",
        "Этим всем и предлагаем вам заняться."
      ],
      "metadata": {
        "id": "6p2L60ngZueT"
      }
    },
    {
      "cell_type": "markdown",
      "source": [
        "(0.25 балла) <font color='#9933CC'>Посторойте попарные распределения всех числовых признаков для трейна.</font>\n",
        "\n",
        "> ``sns.paiplot()`` позволяет сделать это в одну строчку"
      ],
      "metadata": {
        "id": "IJpEKkFfaQoC"
      }
    },
    {
      "cell_type": "code",
      "source": [
        "# your code here"
      ],
      "metadata": {
        "id": "0car89hFaby1"
      },
      "execution_count": null,
      "outputs": []
    },
    {
      "cell_type": "markdown",
      "source": [
        "Этот график не такой информативный, как можно было бы построить, беря признаки по отдельности. Но он позволяет сделать некоторые (возможно, далеко идущие) выводы. Впрочем, со многими из них (если не со всеми) вы бы справились умозрительно. Однако всегда приятно делать выводы, основываясь на данных.\n",
        "\n",
        "\n",
        "\n",
        "* <font color='#FF6600'> Что можно сказать о связи предикторов с целевой переменной?\n",
        "* А о корреляциях признаков? </font>"
      ],
      "metadata": {
        "id": "Vf4NE1-WboFG"
      }
    },
    {
      "cell_type": "markdown",
      "source": [
        "(0.25 балла) <font color='#9933CC'>Постройте pairplot по тестовым данным</font> и ответьте на вопрос <font color='#FF6600'>\"Похожими ли оказались совокупности при разделении на трейн и тест?\"</font>"
      ],
      "metadata": {
        "id": "m0Y8VOCceH_3"
      }
    },
    {
      "cell_type": "code",
      "source": [
        "# your code here"
      ],
      "metadata": {
        "id": "NK9l6SrAeHK1"
      },
      "execution_count": null,
      "outputs": []
    },
    {
      "cell_type": "markdown",
      "source": [
        "(0.25 балла) <font color='#9933CC'>Для трейна давайте построим тепловую карту (heatmap из библиотеки seaborn) попарных корреляций числовых колонок</font>"
      ],
      "metadata": {
        "id": "Gnn7pDcrfEvN"
      }
    },
    {
      "cell_type": "code",
      "source": [
        "# your code here"
      ],
      "metadata": {
        "id": "E99LVAN2fMVH"
      },
      "execution_count": null,
      "outputs": []
    },
    {
      "cell_type": "markdown",
      "source": [
        "Ответьте, пожалуйста, на вопросы: \n",
        "* <font color='#FF6600'>Какие 2 признака наименее скоррелированы между собой?</font>\n",
        "* <font color='#FF6600'>Между какими наблюдается довольно сильная положительная линейная зависимость?</font>\n",
        "* <font color='#FF6600'>Правильно ли, опираясь на данные, утверждать, что чем меньше год, тем, скорее всего, больше километров проехала машина к дате продажи.</font>"
      ],
      "metadata": {
        "id": "w24a_oXqf12H"
      }
    },
    {
      "cell_type": "markdown",
      "source": [
        "(0.25 балла) <font color='#9933CC'> Отобразите диаграммe рассеяния для наиболее скореллированной пары **признаков** (на трейне) </font>"
      ],
      "metadata": {
        "id": "DZXV-FI9lO5V"
      }
    },
    {
      "cell_type": "code",
      "source": [
        "# your code here"
      ],
      "metadata": {
        "id": "6RtM_zkDlON9"
      },
      "execution_count": null,
      "outputs": []
    },
    {
      "cell_type": "markdown",
      "source": [
        "### Дополнительные визуализации (бонус 0.5 балла)\n",
        "\n",
        "Если вам кажется, что мы не попросили вас нарисовать какие-то очень важные зависимости, нарисуйте их и поясните."
      ],
      "metadata": {
        "id": "ru1In410pieq"
      }
    },
    {
      "cell_type": "code",
      "source": [
        "# your code here"
      ],
      "metadata": {
        "id": "HwlwJhDIp_2L"
      },
      "execution_count": null,
      "outputs": []
    },
    {
      "cell_type": "markdown",
      "source": [
        "# Часть 2 (1.25 балла) | Модель только на вещественных признаках"
      ],
      "metadata": {
        "id": "uS2CQ1LzrP_U"
      }
    },
    {
      "cell_type": "markdown",
      "source": [
        "(0.05 балла) <font color='#9933CC'>В переменные ``y_train`` и ``y_test`` запишите значения целевых переменных. Столбцы ``selling_price`` из датафреймов необходимо удалить. Категориальные (все, кроме ``seats``) столбцы тоже.</font>"
      ],
      "metadata": {
        "id": "EPDwkjMPg3Lg"
      }
    },
    {
      "cell_type": "code",
      "source": [
        "y_train = # your code here\n",
        "X_train = # your code here"
      ],
      "metadata": {
        "id": "cGxjJSSUg2na"
      },
      "execution_count": null,
      "outputs": []
    },
    {
      "cell_type": "code",
      "source": [
        "assert X_train.shape == (5840, 6)"
      ],
      "metadata": {
        "id": "fyMyARKem5wl"
      },
      "execution_count": null,
      "outputs": []
    },
    {
      "cell_type": "code",
      "source": [
        "y_test = # your code here\n",
        "X_test = # your code here"
      ],
      "metadata": {
        "id": "xKRmqiJ5rbSx"
      },
      "execution_count": null,
      "outputs": []
    },
    {
      "cell_type": "code",
      "source": [
        "assert X_test.shape == (1000, 6)"
      ],
      "metadata": {
        "id": "-JepTZ36y-h-"
      },
      "execution_count": null,
      "outputs": []
    },
    {
      "cell_type": "markdown",
      "source": [
        "(0.2 балла) <font color='#9933CC'>Обучите классическую линейную регрессию с дефолтными параметрами. Посчтитайте $R^2$ и MSE для трейна и для теста</font>\n",
        "\n",
        "**Замечание:** $R^2$ и MSE для трейна и для теста выводите везде, где требуется обучать модели, даже если в явном виде этого не просят. Иначе непонятно, как понять, насколько успешны наши эксперименты."
      ],
      "metadata": {
        "id": "_kvtF4gXhwoI"
      }
    },
    {
      "cell_type": "code",
      "source": [
        "from sklearn.linear_model import LinearRegression\n",
        "from sklearn.metrics import r2_score, mean_squared_error as MSE\n",
        "\n",
        "# your code here"
      ],
      "metadata": {
        "id": "hVYXaeTgrb3d"
      },
      "execution_count": null,
      "outputs": []
    },
    {
      "cell_type": "markdown",
      "source": [
        "Запомните правило:\n",
        "\n",
        "> Использую линейную модель -- стандартизирую фичи\n",
        "\n",
        "(0.25 балла) <font color='#9933CC'>Воспользуемся им</font>\n"
      ],
      "metadata": {
        "id": "HpQ8EG2Uk_Dn"
      }
    },
    {
      "cell_type": "code",
      "source": [
        "from sklearn.preprocessing import StandardScaler\n",
        "\n",
        "# your code here"
      ],
      "metadata": {
        "id": "o6FB80C2rciK"
      },
      "execution_count": null,
      "outputs": []
    },
    {
      "cell_type": "markdown",
      "source": [
        "Не очень результативно.\n",
        "\n",
        "Зато уже сейчас можем интерпретировать модель. <font color='#FF6600'>\"Какой признак оказался наиболее информативным в предсказании цены?\"</font>"
      ],
      "metadata": {
        "id": "oQZi8LYVmiPv"
      }
    },
    {
      "cell_type": "code",
      "source": [
        "# your code here"
      ],
      "metadata": {
        "id": "u9onBNrhmt1r"
      },
      "execution_count": null,
      "outputs": []
    },
    {
      "cell_type": "markdown",
      "source": [
        "(0.25 балла) <font color='#9933CC'>Теперь попробуем Lasso-регрессию.</font> Здесь и дальше обучайте модели на нормализованных признаках"
      ],
      "metadata": {
        "id": "My5nSSASntjA"
      }
    },
    {
      "cell_type": "code",
      "source": [
        "from sklearn.linear_model import Lasso\n",
        "\n",
        "# your code here"
      ],
      "metadata": {
        "id": "yhR5eajPn0kl"
      },
      "execution_count": null,
      "outputs": []
    },
    {
      "cell_type": "markdown",
      "source": [
        "<font color='#FF6600'>Занулила ли L1-регуляризация с параметрами по умолчанию какие-нибудь веса? Почему же?</font>"
      ],
      "metadata": {
        "id": "cIbnMp-So7CP"
      }
    },
    {
      "cell_type": "code",
      "source": [
        "# your code here"
      ],
      "metadata": {
        "id": "EBJKIp6FouYw"
      },
      "execution_count": null,
      "outputs": []
    },
    {
      "cell_type": "markdown",
      "source": [
        "(0.25 балла) <font color='#9933CC'>Перебором по сетке (c 10-ю фолдами) подберите оптимальные параметры для Lasso-регрессии</font>\n",
        "\n",
        "Вам пригодится класс [GridSearchCV](https://scikit-learn.org/stable/modules/generated/sklearn.model_selection.GridSearchCV.html)."
      ],
      "metadata": {
        "id": "YYWLInilqQTE"
      }
    },
    {
      "cell_type": "code",
      "source": [
        "from sklearn.model_selection import GridSearchCV\n",
        "\n",
        "# your code here"
      ],
      "metadata": {
        "id": "mdGQ6CvApr_P"
      },
      "execution_count": null,
      "outputs": []
    },
    {
      "cell_type": "markdown",
      "source": [
        "<font color='#FF6600'>Сколько грид-сёрчу пришлось обучать моделей?</font>"
      ],
      "metadata": {
        "id": "rueUl2cSvT5w"
      }
    },
    {
      "cell_type": "markdown",
      "source": [
        "<font color='#FF6600'>Какой коэффициент регуляризации у лучшей из перебранных моделей? Занулились ли какие-нибудь из весов при такой регуляризации?</font>"
      ],
      "metadata": {
        "id": "0agvlV-tvEQN"
      }
    },
    {
      "cell_type": "code",
      "source": [
        "# your code here"
      ],
      "metadata": {
        "id": "joyYE2Q5shu5"
      },
      "execution_count": null,
      "outputs": []
    },
    {
      "cell_type": "markdown",
      "source": [
        "(0.25 балла) <font color='#9933CC'>Перебором по сетке (c 10-ю фолдами) подберите оптимальные параметры для [ElasticNet](https://scikit-learn.org/stable/modules/generated/sklearn.linear_model.ElasticNet.html)-регрессии</font>"
      ],
      "metadata": {
        "id": "VdkkrDE4oeCP"
      }
    },
    {
      "cell_type": "code",
      "source": [
        "from sklearn.linear_model import ElasticNet\n",
        "\n",
        "# your code here"
      ],
      "metadata": {
        "id": "F3e5MGZMoeCR"
      },
      "execution_count": null,
      "outputs": []
    },
    {
      "cell_type": "markdown",
      "source": [
        "<font color='#FF6600'>Какие гиперпараметры соответствуют лучшей из перебранных моделей?</font>"
      ],
      "metadata": {
        "id": "zB0Nrbk6oeCS"
      }
    },
    {
      "cell_type": "code",
      "source": [
        "# your code here"
      ],
      "metadata": {
        "id": "gIzvY8bToeCS"
      },
      "execution_count": null,
      "outputs": []
    },
    {
      "cell_type": "markdown",
      "source": [
        "Предлагаем вам оставить вам попытки заметно улучшить качество модели регуляризацией и перейти к следующей части задания."
      ],
      "metadata": {
        "id": "5C3IX1-CwHO2"
      }
    },
    {
      "cell_type": "markdown",
      "source": [
        "# Часть 3 (0.75 балла) | Добавляем категориальные фичи\n",
        "\n"
      ],
      "metadata": {
        "id": "Y2y-_PCHrevF"
      }
    },
    {
      "cell_type": "markdown",
      "source": [
        "(0 баллов) <font color='#9933CC'>Из ``df_train`` удалите столбцы с целевой переменной и названием автомобиля.</font>"
      ],
      "metadata": {
        "id": "frLASc5L8Tu5"
      }
    },
    {
      "cell_type": "code",
      "source": [
        "# your code here"
      ],
      "metadata": {
        "id": "jsXiFjaFrng-"
      },
      "execution_count": null,
      "outputs": []
    },
    {
      "cell_type": "code",
      "source": [
        "assert X_train_cat.shape == (5840, 10)"
      ],
      "metadata": {
        "id": "SqDhrd6Q8k-S"
      },
      "execution_count": null,
      "outputs": []
    },
    {
      "cell_type": "code",
      "source": [
        "X_train_cat.describe(include='object')"
      ],
      "metadata": {
        "id": "JyGl7KQQx_Ax"
      },
      "execution_count": null,
      "outputs": []
    },
    {
      "cell_type": "markdown",
      "source": [
        "(0.5 балла) <font color='#9933CC'>Закодируйте категориалльные фичи и ``seats`` методом OneHot-кодирования</font>\n",
        "\n",
        "> Обратите внимание, что во избежание мультиколлинеарности следует избавиться от одного из полученных столбцов при кодировании каждого признака методом OneHot. "
      ],
      "metadata": {
        "id": "wYxtiDa_81AL"
      }
    },
    {
      "cell_type": "code",
      "source": [
        "from sklearn.preprocessing import OneHotEncoder # или можно использовать get_dummies из библиотеки pandas\n",
        "\n",
        "# your code here"
      ],
      "metadata": {
        "id": "wbN4yM2Frob7"
      },
      "execution_count": null,
      "outputs": []
    },
    {
      "cell_type": "markdown",
      "source": [
        "(0.25 балла) <font color='#9933CC'>Переберите параметр регуляризации `alpha` для гребневой (ridge) регрессии с помощью класса `GridSearchCV`.</font> В качестве параметров при объявлении GridSearchCV кроме модели укажите метрику качества $R^2$. Кроссвалидируйтесь по 10-ти фолдам.\n",
        "\n",
        "<font color='#FF6600'>Удалось ли улучшить качество предсказаний?</font>"
      ],
      "metadata": {
        "id": "b8fI5dQT-Fvx"
      }
    },
    {
      "cell_type": "code",
      "source": [
        "from sklearn.linear_model import Ridge\n",
        "from sklearn.model_selection import GridSearchCV\n",
        "\n",
        "# your code here"
      ],
      "metadata": {
        "id": "SLXCtme53Oup"
      },
      "execution_count": null,
      "outputs": []
    },
    {
      "cell_type": "markdown",
      "source": [
        "# Часть 4 - бонусная (2 балла) | Feature Engineering "
      ],
      "metadata": {
        "id": "T0OlrsmArp2I"
      }
    },
    {
      "cell_type": "markdown",
      "source": [
        "В этой части домашнего задания вам предлагается проявить свою креативность для улучшения прогноза модели. Любые другие модели, кроме различных форм линейной (или полиномиальной) регресси, использовать запрещается. А значит, придется работать с признаками\n",
        "\n",
        "**Что можно попробовать сделать?** (каждый пункт по 0.4 балла, но не больше 2-х баллов в сумме)\n",
        "\n",
        "1.   *Сгенерировать новые признаки на основе уже существующих:*\n",
        "    * посчитать произведения // частные признаков (кажется, что посчитать число \"лошадей\" на литр объема может быть полезно);\n",
        "    * имеет смысл обратить внимание на визуализации в части с EDA (к примеру, зависимость цены от года выглядит квадратичной, а не линейной; значит, квадрат года нам, скорее всего, принесет больше пользы)\n",
        "\n",
        "2.   *Добыть новые признаки:*\n",
        "    * имеем название автомобиля, которое никак не используем (можно спарсить инфу о классе автомобиля или каких-то специфических опциях)\n",
        "    * можно добавить пороговые признаки вроде \"владелец третий или больше\" и объединить признаки в некоторые осмысленные правила, например \"первый или второй владелец и продавец официальный дилер\" (подбирать пороги удобно по диаграммам рассеяния)\n",
        "\n",
        "3.   *Поработать с уже имеющимися:*\n",
        "    * далеко не факт, что заполнить пропуск медианой было лучшей идеей (как минимум, можно добавить dummy-столбец для модели, сигнализирующий, что раньше на месте медианы был пропуск -- там где он был, конечно); попробуйте другие способы филлинга;\n",
        "    * мы не анализировали, есть ли в данных выбросы => никак выбросы не обрабатывали; наиболее простым и, тем не менее, довольно полезным вариантом нахождения выбросов могут послужить boxplot'ы для каждого столбца; что делать с выбросами думайте сами :) -- вариантов довольно много\n",
        "    * мы толком не смотрели на таргет сам по себе; в нем тоже могут быть неожиданности -- стоит хотя бы проверить\n",
        "    * можно заметить, что некоторые признаки распределены совсем не нормально; возможно их стоит отлогарифмировать\n",
        "\n",
        "И так далее...\n",
        "\n",
        "Feel Free to Try!"
      ],
      "metadata": {
        "id": "NXo9jvHPEYtN"
      }
    },
    {
      "cell_type": "code",
      "source": [
        "# your code here"
      ],
      "metadata": {
        "id": "keijjrKbr3Ne"
      },
      "execution_count": null,
      "outputs": []
    },
    {
      "cell_type": "markdown",
      "source": [
        "# Часть Бизнесовая (0.5 балла)"
      ],
      "metadata": {
        "id": "mw6LOYJTL2x1"
      }
    },
    {
      "cell_type": "markdown",
      "source": [
        "Заказчик просил вас посчитать кастомную метрику -- среди всех предсказанных цен на авто посчитать долю предиктов, отличающихся от реальных цен на эти авто не более чем на 10% (в одну или другую сторону)\n",
        "\n",
        "<font color='#9933CC'>Сделайте это самостоятельно для лучшей из своих моделей</font>"
      ],
      "metadata": {
        "id": "0QpHAfbcMRfu"
      }
    },
    {
      "cell_type": "code",
      "source": [
        "def business_metrics(y_true, y_pred):\n",
        "    # your code here\n",
        "\n",
        "business_metrics(# your code here)"
      ],
      "metadata": {
        "id": "YrcaGhO7MnMR"
      },
      "execution_count": null,
      "outputs": []
    },
    {
      "cell_type": "markdown",
      "source": [
        "# Часть 5 (3 балла) | Реализация сервиса на FastAPI"
      ],
      "metadata": {
        "id": "ARi0hYPrsI4x"
      }
    },
    {
      "cell_type": "markdown",
      "source": [
        "Cделайте с помощью FastAPI сервис, который с точки зрения пользователя реализует две функции:\n",
        "\n",
        "1. на вход в формате json подаются признаки одного объекта, на выходе сервис выдает предсказанную стоимость машины\n",
        "2. на вход подается csv-файл с признаками тестовых объектов, на выходе получаем файл с +1 столбцом - предсказаниями на этих объектах\n",
        "\n",
        "С точки зрения реализации это означает следующее:\n",
        "- средствами pydantic должен быть описан класс базового объекта\n",
        "- класс с коллецией объектов\n",
        "- метод post, который получает на вход один объект описанного класса\n",
        "- метод post, который получает на вход коллекцию объектов описанного класса\n",
        "\n",
        "Шаблон для сервисной части дан ниже. Код необходимо дополнить и оформить в виде отдельного .py-файла."
      ],
      "metadata": {
        "id": "03rHiCmGKGU8"
      }
    },
    {
      "cell_type": "code",
      "source": [
        "from fastapi import FastAPI\n",
        "from pydantic import BaseModel\n",
        "from typing import List\n",
        "\n",
        "app = FastAPI()\n",
        "\n",
        "\n",
        "class Item(BaseModel):\n",
        "    name: str\n",
        "    year: int\n",
        "    selling_price: int\n",
        "    km_driven: int\n",
        "    fuel: str\n",
        "    seller_type: str\n",
        "    transmission: str\n",
        "    owner: str\n",
        "    mileage: str \n",
        "    engine: str\n",
        "    max_power: str\n",
        "    torque: str\n",
        "    seats: float\n",
        "\n",
        "\n",
        "class Items(BaseModel):\n",
        "    objects: List[Item]\n",
        "\n",
        "\n",
        "@app.post(\"/predict_item\")\n",
        "def predict_item(item: Item) -> float:\n",
        "    return ...\n",
        "\n",
        "\n",
        "@app.post(\"/predict_items\")\n",
        "def predict_items(items: List[Item]) -> List[float]:\n",
        "    return ..."
      ],
      "metadata": {
        "id": "6Qq8zyxNsYC3"
      },
      "execution_count": null,
      "outputs": []
    },
    {
      "cell_type": "markdown",
      "source": [
        "Протестируйте сервис на корректность работы и приложите скриншоты (см. ниже)."
      ],
      "metadata": {
        "id": "3U29qIjog18v"
      }
    },
    {
      "cell_type": "markdown",
      "source": [
        "# Часть 6 (1 балл) | Оформление результатов"
      ],
      "metadata": {
        "id": "V4fq_10xsaHg"
      }
    },
    {
      "cell_type": "markdown",
      "source": [
        "**Результаты вашей работы** необходимо разместить в своем Гитхабе. Под результатами понимаем следующее:\n",
        "* ``.ipynb``-ноутбук со всеми проведёнными вами экспериментами (output'ы ячеек, разумеется, сохранить)\n",
        "* ``.py``-файл с реализацией сервиса\n",
        "* ``.pickle``-файл с сохранёнными весами модели, коэффициентами скейлинга и прочими числовыми значениями, которые могут понадобиться для инференса\n",
        "* ``.md``-файл с выводами про проделанной вами работе:\n",
        "    * что было сделано\n",
        "    * с какими результатами\n",
        "    * что дало наибольший буст в качестве\n",
        "    * что сделать не вышло и почему (это нормально, даже хорошо😀)\n",
        "\n",
        "**За что могут быть сняты баллы в этом пункте:**\n",
        "* за отсутствие ``.pickle``-файла с весами использованной модели\n",
        "* за недостаточную аналитику в ``.md``-файле\n",
        "* за оформление и логику кода (в определённом смысле это тоже элемент оформления решения)\n",
        "\n",
        "**Как будет выглядет проверка всего домашнего задания?**\n",
        "1. Ассистент проходит по ссылке на (**открытый**) репозиторий из Энитаска\n",
        "2. Смотрит ``readme.md``:\n",
        "    * пожалуйста, приложите в него же скрины работы вашего сервиса -- собирать ваши проекты довольно времязатратно, но хочется убедиться, что всё работает\n",
        "    * можете прислать screencast в ТГ\n",
        "3. Просматривает ноутбук с pure-DS частью\n",
        "4. Заглядывает в код сервиса\n",
        "5. Хвалит"
      ],
      "metadata": {
        "id": "nmwf-ZrEKZy6"
      }
    },
    {
      "cell_type": "markdown",
      "source": [
        "# Часть Благодарственная"
      ],
      "metadata": {
        "id": "QSIEzw6sN8Zp"
      }
    },
    {
      "cell_type": "markdown",
      "source": [
        "Надеемся, вы честно проделали все пункты, а не просто пролистали досюда. Потому что здесь награда за старания. Пожалуйста, не стоит награждать себя до того, как закончите работать над домашкой.\n",
        "\n",
        "https://drive.google.com/file/d/1LT06nyg9QgVi3r-D5BY-_mQ9TcJQFxJN/view?usp=share_link"
      ],
      "metadata": {
        "id": "lWOSqmLWOAr-"
      }
    },
    {
      "cell_type": "code",
      "source": [],
      "metadata": {
        "id": "PJnbprP8QGLx"
      },
      "execution_count": null,
      "outputs": []
    }
  ]
}
