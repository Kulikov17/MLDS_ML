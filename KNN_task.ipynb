{
  "nbformat": 4,
  "nbformat_minor": 0,
  "metadata": {
    "colab": {
      "provenance": [],
      "include_colab_link": true
    },
    "kernelspec": {
      "name": "python3",
      "display_name": "Python 3"
    },
    "language_info": {
      "name": "python"
    }
  },
  "cells": [
    {
      "cell_type": "markdown",
      "metadata": {
        "id": "view-in-github",
        "colab_type": "text"
      },
      "source": [
        "<a href=\"https://colab.research.google.com/github/Kulikov17/MLDS_ML/blob/main/KNN_task.ipynb\" target=\"_parent\"><img src=\"https://colab.research.google.com/assets/colab-badge.svg\" alt=\"Open In Colab\"/></a>"
      ]
    },
    {
      "cell_type": "markdown",
      "source": [
        "# Метрические алгоритмы. Практика"
      ],
      "metadata": {
        "id": "AkS7Lxm8nTLB"
      }
    },
    {
      "cell_type": "markdown",
      "source": [
        "В этом домашнем задании вы будете решать задачу классификации бутылок вина по различным характеристикам."
      ],
      "metadata": {
        "id": "3jgxaKLXynLQ"
      }
    },
    {
      "cell_type": "markdown",
      "source": [
        "## Импорт библиотек, установка константных значений"
      ],
      "metadata": {
        "id": "ow7CdXlWyrfI"
      }
    },
    {
      "cell_type": "code",
      "source": [
        "import pandas as pd\n",
        "import numpy as np"
      ],
      "metadata": {
        "id": "shgV5ZT-oLG2"
      },
      "execution_count": 7,
      "outputs": []
    },
    {
      "cell_type": "code",
      "source": [
        "RANDOM_STATE = 42\n",
        "TRAIN_SIZE = 0.75"
      ],
      "metadata": {
        "id": "85Rgp6ivyvZq"
      },
      "execution_count": 8,
      "outputs": []
    },
    {
      "cell_type": "code",
      "source": [
        "rng = np.random.default_rng(RANDOM_STATE)"
      ],
      "metadata": {
        "id": "QGpwI1GxyySs"
      },
      "execution_count": 9,
      "outputs": []
    },
    {
      "cell_type": "markdown",
      "source": [
        "## Загрузка данных"
      ],
      "metadata": {
        "id": "uOk2Swygyxho"
      }
    },
    {
      "cell_type": "code",
      "execution_count": 10,
      "metadata": {
        "id": "_8RhxtHwwzTG"
      },
      "outputs": [],
      "source": [
        "from sklearn.datasets import load_wine\n",
        "\n",
        "data = load_wine(as_frame=True)\n",
        "\n",
        "X = data.data\n",
        "y = data.target"
      ]
    },
    {
      "cell_type": "markdown",
      "source": [
        "## Задание 1"
      ],
      "metadata": {
        "id": "KvNTy4_yzOwY"
      }
    },
    {
      "cell_type": "markdown",
      "source": [
        "Посмотрите на количество классов и количество объектов каждого класса в датасете."
      ],
      "metadata": {
        "id": "PNKeCjtEncob"
      }
    },
    {
      "cell_type": "markdown",
      "source": [
        "**Вопрос**:  \n",
        "Сколько классов в задаче?"
      ],
      "metadata": {
        "id": "1O1xV6KWzW8e"
      }
    },
    {
      "cell_type": "code",
      "source": [
        "y.value_counts()"
      ],
      "metadata": {
        "id": "RKCBNhGJeVZb",
        "outputId": "9a738039-b0dc-46ef-af5a-eadf8573588e",
        "colab": {
          "base_uri": "https://localhost:8080/"
        }
      },
      "execution_count": 11,
      "outputs": [
        {
          "output_type": "execute_result",
          "data": {
            "text/plain": [
              "1    71\n",
              "0    59\n",
              "2    48\n",
              "Name: target, dtype: int64"
            ]
          },
          "metadata": {},
          "execution_count": 11
        }
      ]
    },
    {
      "cell_type": "markdown",
      "source": [
        "## Задание 2"
      ],
      "metadata": {
        "id": "jk9RqS69z6af"
      }
    },
    {
      "cell_type": "markdown",
      "source": [
        "Мы имеем дело с многоклассовой классификацией. Кроме того, классы не очень хорошо сбалансированы, поэтому для оценки качества модели метрика *accuracy* не подойдет."
      ],
      "metadata": {
        "id": "S8dnUB81nkG0"
      }
    },
    {
      "cell_type": "markdown",
      "source": [
        "Разбейте данные на тренировочную и тестовую части:  \n",
        "тестовая часть - 25% от всех данных, зафиксируйте `random_state = RANDOM_STATE`."
      ],
      "metadata": {
        "id": "qM6ZTfphyL8W"
      }
    },
    {
      "cell_type": "code",
      "source": [
        "from sklearn.model_selection import train_test_split\n",
        "\n",
        "X_train, X_test, y_train, y_test = train_test_split(X, y, train_size=TRAIN_SIZE, random_state=RANDOM_STATE)"
      ],
      "metadata": {
        "id": "f16RkGUaxUh4"
      },
      "execution_count": 12,
      "outputs": []
    },
    {
      "cell_type": "markdown",
      "source": [
        "**Вопрос:**\n",
        "\n",
        "Все ли признаки в данных одного масштаба?  \n",
        "Проверьте это, выведя основные числовые характеристики матрицы `X_train` методом `describe` из библиотеки `pandas`.\n",
        "\n",
        "По полученной таблице числовых характеристик определите, какой признак измеряется в сотнях?  \n",
        "(если вариантов несколько, выберите признак с наибольшим средним значением). - magnesium и proline"
      ],
      "metadata": {
        "id": "bX6Vv4dryREe"
      }
    },
    {
      "cell_type": "code",
      "source": [
        "X_train.describe()"
      ],
      "metadata": {
        "id": "VTOG8ggByUSZ",
        "outputId": "a0e24f90-ca1c-45dd-93b9-df51afc97fc3",
        "colab": {
          "base_uri": "https://localhost:8080/",
          "height": 364
        }
      },
      "execution_count": 13,
      "outputs": [
        {
          "output_type": "execute_result",
          "data": {
            "text/plain": [
              "          alcohol  malic_acid         ash  alcalinity_of_ash   magnesium  \\\n",
              "count  133.000000  133.000000  133.000000         133.000000  133.000000   \n",
              "mean    12.972857    2.386842    2.362180          19.433835  100.759398   \n",
              "std      0.829993    1.098905    0.280606           3.467312   14.999571   \n",
              "min     11.030000    0.890000    1.360000          10.600000   70.000000   \n",
              "25%     12.290000    1.640000    2.210000          17.200000   88.000000   \n",
              "50%     12.990000    1.900000    2.360000          19.400000   98.000000   \n",
              "75%     13.690000    3.170000    2.540000          21.500000  108.000000   \n",
              "max     14.830000    5.800000    3.230000          30.000000  162.000000   \n",
              "\n",
              "       total_phenols  flavanoids  nonflavanoid_phenols  proanthocyanins  \\\n",
              "count     133.000000  133.000000            133.000000       133.000000   \n",
              "mean        2.277068    2.021203              0.363534         1.608647   \n",
              "std         0.645696    1.005537              0.126923         0.576964   \n",
              "min         0.980000    0.340000              0.130000         0.420000   \n",
              "25%         1.700000    1.200000              0.260000         1.250000   \n",
              "50%         2.230000    2.140000              0.340000         1.560000   \n",
              "75%         2.800000    2.880000              0.450000         1.960000   \n",
              "max         3.880000    5.080000              0.660000         3.580000   \n",
              "\n",
              "       color_intensity         hue  od280/od315_of_diluted_wines      proline  \n",
              "count       133.000000  133.000000                    133.000000   133.000000  \n",
              "mean          5.017594    0.959444                      2.610000   742.992481  \n",
              "std           2.202516    0.234545                      0.729961   306.867593  \n",
              "min           1.740000    0.480000                      1.270000   278.000000  \n",
              "25%           3.250000    0.780000                      1.830000   500.000000  \n",
              "50%           4.800000    0.970000                      2.810000   675.000000  \n",
              "75%           6.130000    1.120000                      3.200000   970.000000  \n",
              "max          10.800000    1.710000                      4.000000  1547.000000  "
            ],
            "text/html": [
              "\n",
              "  <div id=\"df-bb4e475f-63ee-4f34-bf60-a676c8cfdbee\">\n",
              "    <div class=\"colab-df-container\">\n",
              "      <div>\n",
              "<style scoped>\n",
              "    .dataframe tbody tr th:only-of-type {\n",
              "        vertical-align: middle;\n",
              "    }\n",
              "\n",
              "    .dataframe tbody tr th {\n",
              "        vertical-align: top;\n",
              "    }\n",
              "\n",
              "    .dataframe thead th {\n",
              "        text-align: right;\n",
              "    }\n",
              "</style>\n",
              "<table border=\"1\" class=\"dataframe\">\n",
              "  <thead>\n",
              "    <tr style=\"text-align: right;\">\n",
              "      <th></th>\n",
              "      <th>alcohol</th>\n",
              "      <th>malic_acid</th>\n",
              "      <th>ash</th>\n",
              "      <th>alcalinity_of_ash</th>\n",
              "      <th>magnesium</th>\n",
              "      <th>total_phenols</th>\n",
              "      <th>flavanoids</th>\n",
              "      <th>nonflavanoid_phenols</th>\n",
              "      <th>proanthocyanins</th>\n",
              "      <th>color_intensity</th>\n",
              "      <th>hue</th>\n",
              "      <th>od280/od315_of_diluted_wines</th>\n",
              "      <th>proline</th>\n",
              "    </tr>\n",
              "  </thead>\n",
              "  <tbody>\n",
              "    <tr>\n",
              "      <th>count</th>\n",
              "      <td>133.000000</td>\n",
              "      <td>133.000000</td>\n",
              "      <td>133.000000</td>\n",
              "      <td>133.000000</td>\n",
              "      <td>133.000000</td>\n",
              "      <td>133.000000</td>\n",
              "      <td>133.000000</td>\n",
              "      <td>133.000000</td>\n",
              "      <td>133.000000</td>\n",
              "      <td>133.000000</td>\n",
              "      <td>133.000000</td>\n",
              "      <td>133.000000</td>\n",
              "      <td>133.000000</td>\n",
              "    </tr>\n",
              "    <tr>\n",
              "      <th>mean</th>\n",
              "      <td>12.972857</td>\n",
              "      <td>2.386842</td>\n",
              "      <td>2.362180</td>\n",
              "      <td>19.433835</td>\n",
              "      <td>100.759398</td>\n",
              "      <td>2.277068</td>\n",
              "      <td>2.021203</td>\n",
              "      <td>0.363534</td>\n",
              "      <td>1.608647</td>\n",
              "      <td>5.017594</td>\n",
              "      <td>0.959444</td>\n",
              "      <td>2.610000</td>\n",
              "      <td>742.992481</td>\n",
              "    </tr>\n",
              "    <tr>\n",
              "      <th>std</th>\n",
              "      <td>0.829993</td>\n",
              "      <td>1.098905</td>\n",
              "      <td>0.280606</td>\n",
              "      <td>3.467312</td>\n",
              "      <td>14.999571</td>\n",
              "      <td>0.645696</td>\n",
              "      <td>1.005537</td>\n",
              "      <td>0.126923</td>\n",
              "      <td>0.576964</td>\n",
              "      <td>2.202516</td>\n",
              "      <td>0.234545</td>\n",
              "      <td>0.729961</td>\n",
              "      <td>306.867593</td>\n",
              "    </tr>\n",
              "    <tr>\n",
              "      <th>min</th>\n",
              "      <td>11.030000</td>\n",
              "      <td>0.890000</td>\n",
              "      <td>1.360000</td>\n",
              "      <td>10.600000</td>\n",
              "      <td>70.000000</td>\n",
              "      <td>0.980000</td>\n",
              "      <td>0.340000</td>\n",
              "      <td>0.130000</td>\n",
              "      <td>0.420000</td>\n",
              "      <td>1.740000</td>\n",
              "      <td>0.480000</td>\n",
              "      <td>1.270000</td>\n",
              "      <td>278.000000</td>\n",
              "    </tr>\n",
              "    <tr>\n",
              "      <th>25%</th>\n",
              "      <td>12.290000</td>\n",
              "      <td>1.640000</td>\n",
              "      <td>2.210000</td>\n",
              "      <td>17.200000</td>\n",
              "      <td>88.000000</td>\n",
              "      <td>1.700000</td>\n",
              "      <td>1.200000</td>\n",
              "      <td>0.260000</td>\n",
              "      <td>1.250000</td>\n",
              "      <td>3.250000</td>\n",
              "      <td>0.780000</td>\n",
              "      <td>1.830000</td>\n",
              "      <td>500.000000</td>\n",
              "    </tr>\n",
              "    <tr>\n",
              "      <th>50%</th>\n",
              "      <td>12.990000</td>\n",
              "      <td>1.900000</td>\n",
              "      <td>2.360000</td>\n",
              "      <td>19.400000</td>\n",
              "      <td>98.000000</td>\n",
              "      <td>2.230000</td>\n",
              "      <td>2.140000</td>\n",
              "      <td>0.340000</td>\n",
              "      <td>1.560000</td>\n",
              "      <td>4.800000</td>\n",
              "      <td>0.970000</td>\n",
              "      <td>2.810000</td>\n",
              "      <td>675.000000</td>\n",
              "    </tr>\n",
              "    <tr>\n",
              "      <th>75%</th>\n",
              "      <td>13.690000</td>\n",
              "      <td>3.170000</td>\n",
              "      <td>2.540000</td>\n",
              "      <td>21.500000</td>\n",
              "      <td>108.000000</td>\n",
              "      <td>2.800000</td>\n",
              "      <td>2.880000</td>\n",
              "      <td>0.450000</td>\n",
              "      <td>1.960000</td>\n",
              "      <td>6.130000</td>\n",
              "      <td>1.120000</td>\n",
              "      <td>3.200000</td>\n",
              "      <td>970.000000</td>\n",
              "    </tr>\n",
              "    <tr>\n",
              "      <th>max</th>\n",
              "      <td>14.830000</td>\n",
              "      <td>5.800000</td>\n",
              "      <td>3.230000</td>\n",
              "      <td>30.000000</td>\n",
              "      <td>162.000000</td>\n",
              "      <td>3.880000</td>\n",
              "      <td>5.080000</td>\n",
              "      <td>0.660000</td>\n",
              "      <td>3.580000</td>\n",
              "      <td>10.800000</td>\n",
              "      <td>1.710000</td>\n",
              "      <td>4.000000</td>\n",
              "      <td>1547.000000</td>\n",
              "    </tr>\n",
              "  </tbody>\n",
              "</table>\n",
              "</div>\n",
              "      <button class=\"colab-df-convert\" onclick=\"convertToInteractive('df-bb4e475f-63ee-4f34-bf60-a676c8cfdbee')\"\n",
              "              title=\"Convert this dataframe to an interactive table.\"\n",
              "              style=\"display:none;\">\n",
              "        \n",
              "  <svg xmlns=\"http://www.w3.org/2000/svg\" height=\"24px\"viewBox=\"0 0 24 24\"\n",
              "       width=\"24px\">\n",
              "    <path d=\"M0 0h24v24H0V0z\" fill=\"none\"/>\n",
              "    <path d=\"M18.56 5.44l.94 2.06.94-2.06 2.06-.94-2.06-.94-.94-2.06-.94 2.06-2.06.94zm-11 1L8.5 8.5l.94-2.06 2.06-.94-2.06-.94L8.5 2.5l-.94 2.06-2.06.94zm10 10l.94 2.06.94-2.06 2.06-.94-2.06-.94-.94-2.06-.94 2.06-2.06.94z\"/><path d=\"M17.41 7.96l-1.37-1.37c-.4-.4-.92-.59-1.43-.59-.52 0-1.04.2-1.43.59L10.3 9.45l-7.72 7.72c-.78.78-.78 2.05 0 2.83L4 21.41c.39.39.9.59 1.41.59.51 0 1.02-.2 1.41-.59l7.78-7.78 2.81-2.81c.8-.78.8-2.07 0-2.86zM5.41 20L4 18.59l7.72-7.72 1.47 1.35L5.41 20z\"/>\n",
              "  </svg>\n",
              "      </button>\n",
              "      \n",
              "  <style>\n",
              "    .colab-df-container {\n",
              "      display:flex;\n",
              "      flex-wrap:wrap;\n",
              "      gap: 12px;\n",
              "    }\n",
              "\n",
              "    .colab-df-convert {\n",
              "      background-color: #E8F0FE;\n",
              "      border: none;\n",
              "      border-radius: 50%;\n",
              "      cursor: pointer;\n",
              "      display: none;\n",
              "      fill: #1967D2;\n",
              "      height: 32px;\n",
              "      padding: 0 0 0 0;\n",
              "      width: 32px;\n",
              "    }\n",
              "\n",
              "    .colab-df-convert:hover {\n",
              "      background-color: #E2EBFA;\n",
              "      box-shadow: 0px 1px 2px rgba(60, 64, 67, 0.3), 0px 1px 3px 1px rgba(60, 64, 67, 0.15);\n",
              "      fill: #174EA6;\n",
              "    }\n",
              "\n",
              "    [theme=dark] .colab-df-convert {\n",
              "      background-color: #3B4455;\n",
              "      fill: #D2E3FC;\n",
              "    }\n",
              "\n",
              "    [theme=dark] .colab-df-convert:hover {\n",
              "      background-color: #434B5C;\n",
              "      box-shadow: 0px 1px 3px 1px rgba(0, 0, 0, 0.15);\n",
              "      filter: drop-shadow(0px 1px 2px rgba(0, 0, 0, 0.3));\n",
              "      fill: #FFFFFF;\n",
              "    }\n",
              "  </style>\n",
              "\n",
              "      <script>\n",
              "        const buttonEl =\n",
              "          document.querySelector('#df-bb4e475f-63ee-4f34-bf60-a676c8cfdbee button.colab-df-convert');\n",
              "        buttonEl.style.display =\n",
              "          google.colab.kernel.accessAllowed ? 'block' : 'none';\n",
              "\n",
              "        async function convertToInteractive(key) {\n",
              "          const element = document.querySelector('#df-bb4e475f-63ee-4f34-bf60-a676c8cfdbee');\n",
              "          const dataTable =\n",
              "            await google.colab.kernel.invokeFunction('convertToInteractive',\n",
              "                                                     [key], {});\n",
              "          if (!dataTable) return;\n",
              "\n",
              "          const docLinkHtml = 'Like what you see? Visit the ' +\n",
              "            '<a target=\"_blank\" href=https://colab.research.google.com/notebooks/data_table.ipynb>data table notebook</a>'\n",
              "            + ' to learn more about interactive tables.';\n",
              "          element.innerHTML = '';\n",
              "          dataTable['output_type'] = 'display_data';\n",
              "          await google.colab.output.renderOutput(dataTable, element);\n",
              "          const docLink = document.createElement('div');\n",
              "          docLink.innerHTML = docLinkHtml;\n",
              "          element.appendChild(docLink);\n",
              "        }\n",
              "      </script>\n",
              "    </div>\n",
              "  </div>\n",
              "  "
            ]
          },
          "metadata": {},
          "execution_count": 13
        }
      ]
    },
    {
      "cell_type": "markdown",
      "source": [
        "## Задание 3"
      ],
      "metadata": {
        "id": "6VANARbT0Vu5"
      }
    },
    {
      "cell_type": "markdown",
      "source": [
        "KNN требует того, чтобы все признаки были одного масштаба, поэтому масштабируйте данные при помощи `StandardScaler`.\n",
        "\n",
        "Напоминаем, что обучать метод нужно только по тренировочным данным, а применять и к трейну, и к тесту.\n",
        "\n",
        "После применения `StandardScaler` преобразуйте `X_train` и `X_test` к типу `pd.DataFrame`, названия новых объектов оставьте `X_train` и `X_test`."
      ],
      "metadata": {
        "id": "e1dfCiISo_GH"
      }
    },
    {
      "cell_type": "code",
      "source": [
        "from sklearn.preprocessing import StandardScaler\n",
        "\n",
        "scaler = StandardScaler()\n",
        "\n",
        "scaler.fit(X_train)\n",
        "\n",
        "X_train_norm = scaler.transform(X_train)\n",
        "X_train = pd.DataFrame(data=X_train_norm, columns=X_train.columns, index=X_train.index)\n",
        "\n",
        "X_test_norm = scaler.transform(X_test)\n",
        "X_test = pd.DataFrame(data=X_test_norm, columns=X_test.columns, index=X_test.index)"
      ],
      "metadata": {
        "id": "IMWxZOLMpLg_"
      },
      "execution_count": 14,
      "outputs": []
    },
    {
      "cell_type": "markdown",
      "source": [
        "Обучите KNN с параметрами по умолчанию на тренировочных данных и сделайте предсказание на тесте."
      ],
      "metadata": {
        "id": "wfjxuX1hyOpd"
      }
    },
    {
      "cell_type": "code",
      "source": [
        "from sklearn.neighbors import KNeighborsClassifier\n",
        "\n",
        "clf = KNeighborsClassifier()\n",
        "\n",
        "clf.fit(X_train, y_train)\n",
        "prediction = clf.predict(X_test)"
      ],
      "metadata": {
        "id": "VeyYEAO2yQhL"
      },
      "execution_count": 15,
      "outputs": []
    },
    {
      "cell_type": "markdown",
      "source": [
        "Будем измерять качество модели по метрике weighted $f1$-score.\n",
        "\n",
        "Чтобы выбрать тип усреднения (micro, macro, weighted) в функции `f1_score` необходимо задать этот тип в гиперпараметре `average`.\n",
        "\n",
        "Вычислите $f1$-score на тестовых данных."
      ],
      "metadata": {
        "id": "E18N3QNMrQLw"
      }
    },
    {
      "cell_type": "markdown",
      "source": [
        "**Вопрос:**\n",
        "\n",
        "Чему равен $f1$-score на тестовых данных?"
      ],
      "metadata": {
        "id": "aLaSCeCf0uPd"
      }
    },
    {
      "cell_type": "code",
      "source": [
        "from sklearn.metrics import f1_score\n",
        "\n",
        "f1_score(y_test, prediction, average='weighted')"
      ],
      "metadata": {
        "id": "TdhIWbULrnPv",
        "outputId": "333888a2-48ad-4b4e-f763-a9494ff82c9e",
        "colab": {
          "base_uri": "https://localhost:8080/"
        }
      },
      "execution_count": 16,
      "outputs": [
        {
          "output_type": "execute_result",
          "data": {
            "text/plain": [
              "0.9550512333965844"
            ]
          },
          "metadata": {},
          "execution_count": 16
        }
      ]
    },
    {
      "cell_type": "markdown",
      "source": [
        "## Задание 4"
      ],
      "metadata": {
        "id": "kco77ab200s9"
      }
    },
    {
      "cell_type": "markdown",
      "source": [
        "Попробуем улучшить модель.\n",
        "\n",
        "Подберите оптимальное количество соседей (`n_neigbors`) из диапазона *от 3 до 30 с шагом 2* и веса соседей (`weights`):  \n",
        "`uniform`, `distance` по кросс-валидации с тремя фолдами на тренировочных данных.\n",
        "\n",
        "Используйте `GridSearchCV` и метрику `f1_weighted`."
      ],
      "metadata": {
        "id": "BONbGWi1yVIQ"
      }
    },
    {
      "cell_type": "code",
      "source": [
        "from sklearn.model_selection import GridSearchCV\n",
        "\n",
        "k_range = list(range(3, 30, 2))\n",
        "weghts_param = ['uniform', 'distance']\n",
        "param_grid = dict(n_neighbors=k_range, weights=weghts_param)\n",
        "  \n",
        "# defining parameter range\n",
        "grid = GridSearchCV(clf, param_grid, cv=3, scoring='f1_weighted')\n",
        "  \n",
        "# fitting the model for grid search\n",
        "grid.fit(X_train, y_train)"
      ],
      "metadata": {
        "id": "6nM_wc6iydB-",
        "outputId": "7835251a-f058-4641-f362-1fdc11a23ee7",
        "colab": {
          "base_uri": "https://localhost:8080/"
        }
      },
      "execution_count": 17,
      "outputs": [
        {
          "output_type": "execute_result",
          "data": {
            "text/plain": [
              "GridSearchCV(cv=3, estimator=KNeighborsClassifier(),\n",
              "             param_grid={'n_neighbors': [3, 5, 7, 9, 11, 13, 15, 17, 19, 21, 23,\n",
              "                                         25, 27, 29],\n",
              "                         'weights': ['uniform', 'distance']},\n",
              "             scoring='f1_weighted')"
            ]
          },
          "metadata": {},
          "execution_count": 17
        }
      ]
    },
    {
      "cell_type": "markdown",
      "source": [
        "Заново обучите KNN с наилучшими по `GridSearch` гиперпараметрами на тренировочных данных,  \n",
        "сделайте предсказание на тесте и вычислите метрику `f1_weighted`."
      ],
      "metadata": {
        "id": "b6mM-XXps5Af"
      }
    },
    {
      "cell_type": "code",
      "source": [
        "grid.best_params_"
      ],
      "metadata": {
        "id": "6Sn00daNtGWd",
        "outputId": "436a072c-34c3-4675-f40d-3807ffd80175",
        "colab": {
          "base_uri": "https://localhost:8080/"
        }
      },
      "execution_count": 18,
      "outputs": [
        {
          "output_type": "execute_result",
          "data": {
            "text/plain": [
              "{'n_neighbors': 19, 'weights': 'distance'}"
            ]
          },
          "metadata": {},
          "execution_count": 18
        }
      ]
    },
    {
      "cell_type": "code",
      "source": [
        "clf_best = KNeighborsClassifier(n_neighbors=19, weights='distance')\n",
        "\n",
        "clf_best.fit(X_train, y_train)\n",
        "prediction = clf_best.predict(X_test)\n",
        "f1_score(y_test, prediction, average='weighted')"
      ],
      "metadata": {
        "id": "jhiu5BCvl-sy",
        "outputId": "9ab82b46-e0fd-4f1d-a8c7-d131cbddd19d",
        "colab": {
          "base_uri": "https://localhost:8080/"
        }
      },
      "execution_count": 19,
      "outputs": [
        {
          "output_type": "execute_result",
          "data": {
            "text/plain": [
              "0.9550512333965844"
            ]
          },
          "metadata": {},
          "execution_count": 19
        }
      ]
    },
    {
      "cell_type": "markdown",
      "source": [
        "**Вопрос:**\n",
        "\n",
        "Удалось ли при помощи подбора гиперпараметров улучшить качество модели на тестовых данных?"
      ],
      "metadata": {
        "id": "HzAQzK3JtT7h"
      }
    },
    {
      "cell_type": "markdown",
      "source": [
        "нет"
      ],
      "metadata": {
        "id": "O_d5iUDXmPcZ"
      }
    },
    {
      "cell_type": "markdown",
      "source": [
        "## Задание 5"
      ],
      "metadata": {
        "id": "iLzHwlkj1cjs"
      }
    },
    {
      "cell_type": "markdown",
      "source": [
        "Выведите на экран матрицу ошибок.\n",
        "\n",
        "Используйте модель с подобранными при помощи `GridSearch` гиперпараметрами.\n"
      ],
      "metadata": {
        "id": "tdm2A5SSylYQ"
      }
    },
    {
      "cell_type": "markdown",
      "source": [
        "**Вопрос:**  \n",
        "По этой матрице определите, какие классы между собой путает модель?"
      ],
      "metadata": {
        "id": "FHgD2EQG1i1V"
      }
    },
    {
      "cell_type": "code",
      "source": [
        "from sklearn.metrics import confusion_matrix\n",
        "\n",
        "confusion_matrix(y_test, prediction)"
      ],
      "metadata": {
        "id": "I5u0A5a0yqge",
        "outputId": "0d911d6f-4426-44ee-f2a7-271c193d19a3",
        "colab": {
          "base_uri": "https://localhost:8080/"
        }
      },
      "execution_count": 20,
      "outputs": [
        {
          "output_type": "execute_result",
          "data": {
            "text/plain": [
              "array([[15,  0,  0],\n",
              "       [ 1, 16,  1],\n",
              "       [ 0,  0, 12]])"
            ]
          },
          "metadata": {},
          "execution_count": 20
        }
      ]
    },
    {
      "cell_type": "markdown",
      "source": [
        "0 и 1, 1 и 2 "
      ],
      "metadata": {
        "id": "J9thrxUonXKE"
      }
    },
    {
      "cell_type": "markdown",
      "source": [
        "## Бонус (эксперименты с LSH)"
      ],
      "metadata": {
        "id": "9qKKGd2eyq6E"
      }
    },
    {
      "cell_type": "markdown",
      "source": [
        "Скопируйте все функции из [ноутбука в уроке \"Быстрый поиск соседей\"](https://colab.research.google.com/drive/181MMOcTnzdMVzJr0pWzqtEG0-BV9BIHH)."
      ],
      "metadata": {
        "id": "l-_YTZzg1qnq"
      }
    },
    {
      "cell_type": "code",
      "source": [
        "def knn_search(query, data, k=5):\n",
        "\n",
        "    dists = np.sqrt(np.sum((data - query) ** 2, axis=1))  # вычисляем расстояния от объекта query до всех точек датасета\n",
        "    inds = np.argsort(dists)  # сортируем по возрастанию расстояний\n",
        "    inds_k = inds[:k]         # берем top-k точек с наименьшими расстояниями\n",
        "    \n",
        "    return data[inds_k], dists[inds_k]"
      ],
      "metadata": {
        "id": "hxUZee3YbpVw"
      },
      "execution_count": 21,
      "outputs": []
    },
    {
      "cell_type": "code",
      "source": [
        "def generate_hyperplanes(data, bucket_size=16):\n",
        "    m = data.shape[0]            # число объектов\n",
        "    n = data.shape[1]            # число признаков\n",
        "    b = m // bucket_size         # количество корзин\n",
        "    h = int(np.log2(b))          # количество гиперплоскостей\n",
        "    H = rng.normal(size=(h, n))  # гиперплоскости, заданные своими нормалями\n",
        "    return H"
      ],
      "metadata": {
        "id": "ia2GsrwKy5co"
      },
      "execution_count": 22,
      "outputs": []
    },
    {
      "cell_type": "code",
      "source": [
        "def hamming_hash(data, hyperplanes):\n",
        "    b = len(hyperplanes)\n",
        "    hash_key = (data @ hyperplanes.T) >= 0\n",
        "    \n",
        "    dec_vals = np.array([2 ** i for i in range(b)], dtype=int)\n",
        "    hash_key = hash_key @ dec_vals\n",
        "    \n",
        "    return hash_key"
      ],
      "metadata": {
        "id": "__jk4W3rbW3u"
      },
      "execution_count": 23,
      "outputs": []
    },
    {
      "cell_type": "code",
      "source": [
        "def locality_sensitive_hash(data, hyperplanes):\n",
        "    hash_vals = hamming_hash(data, hyperplanes)\n",
        "    hash_table = {}\n",
        "    for i, v in enumerate(hash_vals):\n",
        "        if v not in hash_table:\n",
        "            hash_table[v] = set()\n",
        "        hash_table[v].add(i)\n",
        "        \n",
        "    return hash_table"
      ],
      "metadata": {
        "id": "KzqwFnubbcFU"
      },
      "execution_count": 24,
      "outputs": []
    },
    {
      "cell_type": "code",
      "source": [
        "def approx_knn_search(query, data, k=5, bucket_size=16):\n",
        "    candidates = set()\n",
        "\n",
        "    hyperplanes = generate_hyperplanes(data)\n",
        "    hash_table = locality_sensitive_hash(data, hyperplanes) # формируем хеш-таблицу по датасету\n",
        "\n",
        "    query_hash = hamming_hash(query, hyperplanes)\n",
        "    if query_hash in hash_table:\n",
        "        candidates = candidates.union(hash_table[query_hash])\n",
        "    candidates = np.stack([data[i] for i in candidates], axis=0) # находим кандидатов = объекты, попадающие с query в одну корзину\n",
        "\n",
        "    return knn_search(query, candidates, k=k) # с помощью KNN ищем ближайших соседей только из найденных кандидатов"
      ],
      "metadata": {
        "id": "qhBpwSPabkzp"
      },
      "execution_count": 25,
      "outputs": []
    },
    {
      "cell_type": "markdown",
      "source": [
        "При помощи `knn_search` найдите ближайших соседей к вину `X_test.iloc[0]` в **тренировочных** данных.\n",
        "\n",
        "Обратите внимание, что функция `knn_search` принимает на вход `np.array`, а не `pd.DataFrame`. Поэтому переведите аргументы в `np.array`, приписав к необходимому объекту $X$: `X.values`."
      ],
      "metadata": {
        "id": "nYFSYav3vzVC"
      }
    },
    {
      "cell_type": "code",
      "source": [
        "%%time\n",
        "\n",
        "neighbors, dists = knn_search(X_test.iloc[0].values, X_train.values)  \n",
        "for i, (neighbor, dist) in enumerate(zip(neighbors, dists)):\n",
        "    print(f\"top {i + 1}: dist = {dist}\")"
      ],
      "metadata": {
        "id": "NB-UNOgUunot",
        "outputId": "705ead2c-11a5-4bd2-ff55-cdb5c15246ca",
        "colab": {
          "base_uri": "https://localhost:8080/"
        }
      },
      "execution_count": 27,
      "outputs": [
        {
          "output_type": "stream",
          "name": "stdout",
          "text": [
            "top 1: dist = 1.7873320988662762\n",
            "top 2: dist = 1.9809624052592747\n",
            "top 3: dist = 2.1601016426727613\n",
            "top 4: dist = 2.270974564253457\n",
            "top 5: dist = 2.3117955237515453\n",
            "CPU times: user 2.99 ms, sys: 1.01 ms, total: 3.99 ms\n",
            "Wall time: 6.85 ms\n"
          ]
        }
      ]
    },
    {
      "cell_type": "markdown",
      "source": [
        "Выведите на экран признаки объекта `X_test.iloc[0]` и признаки ближайшего найденного соседа."
      ],
      "metadata": {
        "id": "y86BRzABvLHB"
      }
    },
    {
      "cell_type": "code",
      "source": [
        "X_test.iloc[0]"
      ],
      "metadata": {
        "id": "Mi18Sp2WvQYE",
        "outputId": "0df47f86-efc6-4849-b22e-a037612baa31",
        "colab": {
          "base_uri": "https://localhost:8080/"
        }
      },
      "execution_count": 28,
      "outputs": [
        {
          "output_type": "execute_result",
          "data": {
            "text/plain": [
              "alcohol                         0.806832\n",
              "malic_acid                      0.651425\n",
              "ash                             0.707637\n",
              "alcalinity_of_ash              -1.225688\n",
              "magnesium                       1.019911\n",
              "total_phenols                   0.657478\n",
              "flavanoids                      1.007035\n",
              "nonflavanoid_phenols           -1.530581\n",
              "proanthocyanins                 0.089343\n",
              "color_intensity                 0.037556\n",
              "hue                             0.002381\n",
              "od280/od315_of_diluted_wines    1.031337\n",
              "proline                         0.333672\n",
              "Name: 19, dtype: float64"
            ]
          },
          "metadata": {},
          "execution_count": 28
        }
      ]
    },
    {
      "cell_type": "code",
      "source": [
        "neighbors[0]"
      ],
      "metadata": {
        "id": "GLPYdspicoR3",
        "outputId": "ad9ac225-eb26-4565-e1b6-2c349c9e1be8",
        "colab": {
          "base_uri": "https://localhost:8080/"
        }
      },
      "execution_count": 29,
      "outputs": [
        {
          "output_type": "execute_result",
          "data": {
            "text/plain": [
              "array([ 1.50827494,  1.46438454,  0.52877788, -1.80468392,  1.82295821,\n",
              "        1.12384935,  1.01701759, -1.2933229 ,  0.82004316,  0.03755595,\n",
              "       -0.29719787,  1.26510707,  0.05563253])"
            ]
          },
          "metadata": {},
          "execution_count": 29
        }
      ]
    },
    {
      "cell_type": "markdown",
      "source": [
        "**Вопрос:**\n",
        "\n",
        "Можно ли сказать, что в тренировочных данных есть вино, почти такое же как `X_test.iloc[0]`? (все признаки почти одинаковые)\n",
        "\n",
        "Какое расстояние между объектом запроса и первым ближайшим соседом?"
      ],
      "metadata": {
        "id": "3aeCTiYnx2_q"
      }
    },
    {
      "cell_type": "markdown",
      "source": [
        "Теперь найдите ближайшего соседа при помощи `approx_knn_search`."
      ],
      "metadata": {
        "id": "zWEBfyAay53O"
      }
    },
    {
      "cell_type": "code",
      "source": [
        "%%time\n",
        "\n",
        "neighbors, dists = approx_knn_search(X_test.iloc[0].values, X_train.values)  \n",
        "for i, (neighbor, dist) in enumerate(zip(neighbors, dists)):\n",
        "    print(f\"top {i + 1}: dist = {dist}\")"
      ],
      "metadata": {
        "id": "ezxEITyiy-1a",
        "outputId": "94522de1-7b16-4c42-89cc-20982d0fc19e",
        "colab": {
          "base_uri": "https://localhost:8080/"
        }
      },
      "execution_count": 38,
      "outputs": [
        {
          "output_type": "stream",
          "name": "stdout",
          "text": [
            "top 1: dist = 1.787332098866276\n",
            "top 2: dist = 1.9809624052592747\n",
            "top 3: dist = 2.270974564253457\n",
            "top 4: dist = 2.3117955237515453\n",
            "top 5: dist = 2.3596474358737085\n",
            "CPU times: user 991 µs, sys: 1.03 ms, total: 2.02 ms\n",
            "Wall time: 1.73 ms\n"
          ]
        }
      ]
    },
    {
      "cell_type": "markdown",
      "source": [
        "Ближайший сосед при помощи KNN+LSH может быть найден не точно или не с первого запуска.  \n",
        "Запустите последнюю ячейку несколько раз и убедитесь, что ближайший сосед находится верно за несколько запусков."
      ],
      "metadata": {
        "id": "sCPx6pgnwRqX"
      }
    },
    {
      "cell_type": "markdown",
      "source": [
        "**Вопрос:**\n",
        "\n",
        "Запустите `knn_search` и `appox_knn_search` несколько раз и сравните время запусков. Какой из подходов в этой задаче работает быстрее?"
      ],
      "metadata": {
        "id": "Rpj5qiwi2IJq"
      }
    }
  ]
}